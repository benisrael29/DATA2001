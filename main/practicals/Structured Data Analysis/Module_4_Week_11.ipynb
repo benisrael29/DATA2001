{
 "cells": [
  {
   "cell_type": "markdown",
   "id": "eabfd27f",
   "metadata": {
    "id": "eabfd27f"
   },
   "source": [
    "# Measurement Data and Foresight - Week 11 Practical\n",
    "In this series of practicals, you'll learn how to analyse time series data using data science methodology starting from problem formulation to storytelling with data."
   ]
  },
  {
   "cell_type": "markdown",
   "id": "9ae985c4",
   "metadata": {
    "id": "9ae985c4"
   },
   "source": [
    "<b>Week 11 Objectives</b>\n",
    "At the end of this practical, you will be able to:"
   ]
  },
  {
   "cell_type": "markdown",
   "id": "31552dec",
   "metadata": {
    "id": "31552dec"
   },
   "source": [
    " - Efficiently formulate forecasting problems in time series domain using design thinking approach\n",
    " - Load and handle time series data using Python.\n",
    " - Indentify the patterns (e.g. trends, cycles and seasonality) in timeseries data."
   ]
  },
  {
   "cell_type": "markdown",
   "id": "b2da5096",
   "metadata": {
    "id": "b2da5096"
   },
   "source": [
    "<b>Table of Contents</b>"
   ]
  },
  {
   "cell_type": "markdown",
   "id": "e2c524f9",
   "metadata": {
    "id": "e2c524f9"
   },
   "source": [
    "1. Problem Formulation\n",
    "2. Data Collection and preprocessing\n",
    "3. Data preparation\n",
    "4. Visualisation and exploratory analysis"
   ]
  },
  {
   "cell_type": "markdown",
   "id": "b497e6ec",
   "metadata": {
    "id": "b497e6ec"
   },
   "source": [
    "# 1. Problem Formulation"
   ]
  },
  {
   "cell_type": "markdown",
   "id": "fa7fdad8",
   "metadata": {},
   "source": [
    "Formulating the problem, requires the carefull understanding of how the time series forecasting results will be used, who needs this forecast, and how advance it is required (several years in advance or few minutes before hand). It is a common task in many business, where it helps to make inform decisions. For example to schedule staff in a call centre next week, it requires forecasts of call volumes."
   ]
  },
  {
   "cell_type": "markdown",
   "id": "4bf8b453",
   "metadata": {
    "id": "4bf8b453"
   },
   "source": [
    "In this notebook, you'll follow the above data science process to analyse time series data.\n",
    "\n",
    "|<center>Exercise</center>|\n",
    "| ---- |\n",
    "| What is time series data? Give an example of time series data. |"
   ]
  },
  {
   "cell_type": "code",
   "execution_count": 1,
   "id": "68aa7ca4",
   "metadata": {
    "id": "68aa7ca4"
   },
   "outputs": [],
   "source": [
    "# write your answer here"
   ]
  },
  {
   "cell_type": "markdown",
   "id": "qzxUOuozIDu1",
   "metadata": {
    "id": "qzxUOuozIDu1"
   },
   "source": [
    "For this practical, we will work on the following  scenario.\n",
    "\n",
    "Monash University, in Melbourne, Australia wants to take part in fighting against climate change. They want renuable energy, generated using the wind and solar to be more reliable and affordable. But the challenge is renuable energy does not always be produced when the demand for electricity is higher. It depends mainly on the weather conditions. Monash has set up a microgrid with rooftop solar installations and a battery for energy storage. They need to implement a optimal schedule for charging and discharging these batteries. In this way, they can charge the battery with over production of solar energy, and use power from the battery instead of using from the grid, when electricity price is higher, and also schedule the demand for electricity based on the energy availability. They need to know the energy demand for the building and energy production from the solar in order to implement optimal schedule for the battery.\n",
    "\n",
    "\n",
    "|<center>Exercise</center>|\n",
    "| ---- |\n",
    "| <center> 1. What kind of time series analysis is this? </center> |\n",
    "|<center> 2. Who are my stakeholders? </center> |\n",
    "| 3. What value does this bring to the stakeholders? |"
   ]
  },
  {
   "cell_type": "code",
   "execution_count": 2,
   "id": "Rwj1N3XlMkqD",
   "metadata": {
    "id": "Rwj1N3XlMkqD"
   },
   "outputs": [],
   "source": [
    "# write your answer here"
   ]
  },
  {
   "cell_type": "markdown",
   "id": "HLJDi7YjIDOS",
   "metadata": {
    "id": "HLJDi7YjIDOS"
   },
   "source": [
    "# 2. Data Collection and preprocessing\n",
    "\n",
    "The next step in data science process is to collect the appropriate data for the analysis. It might be a challenging step, as in real life scenario, data for time series often needs the accumulated expertise of the people who manages these data and will utilize the forecasting results. \n",
    "\n",
    "## 2.1 Collection\n",
    "\n",
    "Monash University has provided the data with historical 15-minutely energy demand of 6 buildings and 15-minutely prower production of 6 solar panels. Data can be accessed from the 2021 IEEE-CIS technical chanllenge on renewable energy prediction at https://ieee-dataport.org/competitions/ieee-cis-technical-challenge-predictoptimize-renewable-energy-scheduling#files. \n",
    "\n",
    "For this Prac, we will use the Building1 timeseries of energy demand. To get this data, first go to the site and download the file phase_1_data.zip, and unpack it. Note that orginal timestamp is provided in UTC format and universal time. \n",
    "\n",
    "We will also use some weather data (same as the lectorial), which is provided for you in 'weather_combi.txt'."
   ]
  },
  {
   "cell_type": "markdown",
   "id": "0E-9mq8K_Umd",
   "metadata": {
    "id": "0E-9mq8K_Umd"
   },
   "source": [
    "## 2.2 Data preprocessing"
   ]
  },
  {
   "cell_type": "markdown",
   "id": "d2ebd0a5",
   "metadata": {},
   "source": [
    "Before we can do any analysis, we need to get the data into an appropriate form. The unzipped data file 'phase_1_data.tsf' contains building energy from the Monash University Microgrid competition.  However, it is in an unusual  '.tsf'  format, which requires some preporcessing to extract the building 1 timeseries data."
   ]
  },
  {
   "cell_type": "markdown",
   "id": "96edd522",
   "metadata": {},
   "source": [
    "### 2.2.1 Preprocessing and extracting the Building1 series\n",
    "Before we can do any analysis, we need to get the data into an appropriate form. The data file 'phase_1_data.tsf' contains building energy from the Monash University Microgrid competition, including for building 1 (which we want).  However, it is in an unusual '.tsf' format, which requires some preporcessing to extract the building 1 timeseries data.\n",
    "\n",
    "The code below is taken from https://github.com/rakshitha123/TSForecasting/blob/master/utils/data_loader.py and is part of repository associated with the following publication:\n",
    "-  Monash Time Series Forecasting Archive, Godahewa, Rakshitha and Bergmeir, Christoph and Webb, Geoffrey I. and Hyndman, Rob J. and Montero-Manso, Pablo, Neural Information Processing Systems Track on Datasets and Benchmarks, 2021."
   ]
  },
  {
   "cell_type": "code",
   "execution_count": 1,
   "id": "baabc3be",
   "metadata": {},
   "outputs": [],
   "source": [
    "from datetime import datetime\n",
    "from distutils.util import strtobool\n",
    "\n",
    "import pandas as pd\n",
    "\n",
    "# Converts the contents in a .tsf file into a dataframe and returns it along with other meta-data of the dataset: frequency, horizon, whether the dataset contains missing values and whether the series have equal lengths\n",
    "#\n",
    "# Parameters\n",
    "# full_file_path_and_name - complete .tsf file path\n",
    "# replace_missing_vals_with - a term to indicate the missing values in series in the returning dataframe\n",
    "# value_column_name - Any name that is preferred to have as the name of the column containing series values in the returning dataframe\n",
    "def convert_tsf_to_dataframe(\n",
    "    full_file_path_and_name,\n",
    "    replace_missing_vals_with=\"NaN\",\n",
    "    value_column_name=\"series_value\",\n",
    "):\n",
    "    col_names = []\n",
    "    col_types = []\n",
    "    all_data = {}\n",
    "    line_count = 0\n",
    "    frequency = None\n",
    "    forecast_horizon = None\n",
    "    contain_missing_values = None\n",
    "    contain_equal_length = None\n",
    "    found_data_tag = False\n",
    "    found_data_section = False\n",
    "    started_reading_data_section = False\n",
    "\n",
    "    with open(full_file_path_and_name, \"r\", encoding=\"cp1252\") as file:\n",
    "        for line in file:\n",
    "            # Strip white space from start/end of line\n",
    "            line = line.strip()\n",
    "\n",
    "            if line:\n",
    "                if line.startswith(\"@\"):  # Read meta-data\n",
    "                    if not line.startswith(\"@data\"):\n",
    "                        line_content = line.split(\" \")\n",
    "                        if line.startswith(\"@attribute\"):\n",
    "                            if (\n",
    "                                len(line_content) != 3\n",
    "                            ):  # Attributes have both name and type\n",
    "                                raise Exception(\"Invalid meta-data specification.\")\n",
    "\n",
    "                            col_names.append(line_content[1])\n",
    "                            col_types.append(line_content[2])\n",
    "                        else:\n",
    "                            if (\n",
    "                                len(line_content) != 2\n",
    "                            ):  # Other meta-data have only values\n",
    "                                raise Exception(\"Invalid meta-data specification.\")\n",
    "\n",
    "                            if line.startswith(\"@frequency\"):\n",
    "                                frequency = line_content[1]\n",
    "                            elif line.startswith(\"@horizon\"):\n",
    "                                forecast_horizon = int(line_content[1])\n",
    "                            elif line.startswith(\"@missing\"):\n",
    "                                contain_missing_values = bool(\n",
    "                                    strtobool(line_content[1])\n",
    "                                )\n",
    "                            elif line.startswith(\"@equallength\"):\n",
    "                                contain_equal_length = bool(strtobool(line_content[1]))\n",
    "\n",
    "                    else:\n",
    "                        if len(col_names) == 0:\n",
    "                            raise Exception(\n",
    "                                \"Missing attribute section. Attribute section must come before data.\"\n",
    "                            )\n",
    "\n",
    "                        found_data_tag = True\n",
    "                elif not line.startswith(\"#\"):\n",
    "                    if len(col_names) == 0:\n",
    "                        raise Exception(\n",
    "                            \"Missing attribute section. Attribute section must come before data.\"\n",
    "                        )\n",
    "                    elif not found_data_tag:\n",
    "                        raise Exception(\"Missing @data tag.\")\n",
    "                    else:\n",
    "                        if not started_reading_data_section:\n",
    "                            started_reading_data_section = True\n",
    "                            found_data_section = True\n",
    "                            all_series = []\n",
    "\n",
    "                            for col in col_names:\n",
    "                                all_data[col] = []\n",
    "\n",
    "                        full_info = line.split(\":\")\n",
    "\n",
    "                        if len(full_info) != (len(col_names) + 1):\n",
    "                            raise Exception(\"Missing attributes/values in series.\")\n",
    "\n",
    "                        series = full_info[len(full_info) - 1]\n",
    "                        series = series.split(\",\")\n",
    "\n",
    "                        if len(series) == 0:\n",
    "                            raise Exception(\n",
    "                                \"A given series should contains a set of comma separated numeric values. At least one numeric value should be there in a series. Missing values should be indicated with ? symbol\"\n",
    "                            )\n",
    "\n",
    "                        numeric_series = []\n",
    "\n",
    "                        for val in series:\n",
    "                            if val == \"?\":\n",
    "                                numeric_series.append(replace_missing_vals_with)\n",
    "                            else:\n",
    "                                numeric_series.append(float(val))\n",
    "\n",
    "                        if numeric_series.count(replace_missing_vals_with) == len(\n",
    "                            numeric_series\n",
    "                        ):\n",
    "                            raise Exception(\n",
    "                                \"All series values are missing. A given series should contains a set of comma separated numeric values. At least one numeric value should be there in a series.\"\n",
    "                            )\n",
    "\n",
    "                        all_series.append(pd.Series(numeric_series).array)\n",
    "\n",
    "                        for i in range(len(col_names)):\n",
    "                            att_val = None\n",
    "                            if col_types[i] == \"numeric\":\n",
    "                                att_val = int(full_info[i])\n",
    "                            elif col_types[i] == \"string\":\n",
    "                                att_val = str(full_info[i])\n",
    "                            elif col_types[i] == \"date\":\n",
    "                                att_val = datetime.strptime(\n",
    "                                    full_info[i], \"%Y-%m-%d %H-%M-%S\"\n",
    "                                )\n",
    "                            else:\n",
    "                                raise Exception(\n",
    "                                    \"Invalid attribute type.\"\n",
    "                                )  # Currently, the code supports only numeric, string and date types. Extend this as required.\n",
    "\n",
    "                            if att_val is None:\n",
    "                                raise Exception(\"Invalid attribute value.\")\n",
    "                            else:\n",
    "                                all_data[col_names[i]].append(att_val)\n",
    "\n",
    "                line_count = line_count + 1\n",
    "\n",
    "        if line_count == 0:\n",
    "            raise Exception(\"Empty file.\")\n",
    "        if len(col_names) == 0:\n",
    "            raise Exception(\"Missing attribute section.\")\n",
    "        if not found_data_section:\n",
    "            raise Exception(\"Missing series information under data section.\")\n",
    "\n",
    "        all_data[value_column_name] = all_series\n",
    "        loaded_data = pd.DataFrame(all_data)\n",
    "\n",
    "        return (\n",
    "            loaded_data,\n",
    "            frequency,\n",
    "            forecast_horizon,\n",
    "            contain_missing_values,\n",
    "            contain_equal_length,\n",
    "        )\n",
    "\n",
    "\n",
    "# Example of usage\n",
    "# loaded_data, frequency, forecast_horizon, contain_missing_values, contain_equal_length = convert_tsf_to_dataframe(\"TSForecasting/tsf_data/sample.tsf\")\n",
    "\n",
    "# print(loaded_data)\n",
    "# print(frequency)\n",
    "# print(forecast_horizon)\n",
    "# print(contain_missing_values)\n",
    "# print(contain_equal_length)"
   ]
  },
  {
   "cell_type": "code",
   "execution_count": 2,
   "id": "d8c11901",
   "metadata": {},
   "outputs": [
    {
     "data": {
      "text/html": [
       "<div>\n",
       "<style scoped>\n",
       "    .dataframe tbody tr th:only-of-type {\n",
       "        vertical-align: middle;\n",
       "    }\n",
       "\n",
       "    .dataframe tbody tr th {\n",
       "        vertical-align: top;\n",
       "    }\n",
       "\n",
       "    .dataframe thead th {\n",
       "        text-align: right;\n",
       "    }\n",
       "</style>\n",
       "<table border=\"1\" class=\"dataframe\">\n",
       "  <thead>\n",
       "    <tr style=\"text-align: right;\">\n",
       "      <th></th>\n",
       "      <th>series_name</th>\n",
       "      <th>start_timestamp</th>\n",
       "      <th>series_value</th>\n",
       "    </tr>\n",
       "  </thead>\n",
       "  <tbody>\n",
       "    <tr>\n",
       "      <th>0</th>\n",
       "      <td>Building0</td>\n",
       "      <td>2016-07-03 21:30:00</td>\n",
       "      <td>[283.8, 283.8, 283.8, 606.0, 606.0, 606.0, 606...</td>\n",
       "    </tr>\n",
       "    <tr>\n",
       "      <th>1</th>\n",
       "      <td>Building1</td>\n",
       "      <td>2019-01-09 23:15:00</td>\n",
       "      <td>[8.1, 15.7, 22.8, 32.7, 8.1, 16.5, 24.7, 34.5,...</td>\n",
       "    </tr>\n",
       "    <tr>\n",
       "      <th>2</th>\n",
       "      <td>Building3</td>\n",
       "      <td>2016-03-01 04:15:00</td>\n",
       "      <td>[1321.0, 1321.0, 1321.0, 1321.0, 1293.0, 1293....</td>\n",
       "    </tr>\n",
       "    <tr>\n",
       "      <th>3</th>\n",
       "      <td>Building4</td>\n",
       "      <td>2019-07-03 04:45:00</td>\n",
       "      <td>[2.0, NaN, 1.0, 2.0, NaN, 2.0, NaN, NaN, 2.0, ...</td>\n",
       "    </tr>\n",
       "    <tr>\n",
       "      <th>4</th>\n",
       "      <td>Building5</td>\n",
       "      <td>2019-07-25 23:00:00</td>\n",
       "      <td>[30.0, 31.0, 24.0, 34.0, 30.0, 31.0, 26.0, 33....</td>\n",
       "    </tr>\n",
       "    <tr>\n",
       "      <th>5</th>\n",
       "      <td>Building6</td>\n",
       "      <td>2019-07-25 01:45:00</td>\n",
       "      <td>[36.8, 34.6, 34.6, 36.2, 36.2, 35.2, 35.2, 35....</td>\n",
       "    </tr>\n",
       "    <tr>\n",
       "      <th>6</th>\n",
       "      <td>Solar0</td>\n",
       "      <td>2020-04-25 14:00:00</td>\n",
       "      <td>[0.0, 0.0, 0.0, 0.0, 0.0, 0.0, 0.0, 0.0, 0.0, ...</td>\n",
       "    </tr>\n",
       "    <tr>\n",
       "      <th>7</th>\n",
       "      <td>Solar1</td>\n",
       "      <td>2018-12-31 13:00:00</td>\n",
       "      <td>[0.0, 0.0, 0.0, 0.0, 0.0, 0.0, 0.0, 0.0, 0.0, ...</td>\n",
       "    </tr>\n",
       "    <tr>\n",
       "      <th>8</th>\n",
       "      <td>Solar2</td>\n",
       "      <td>2019-06-05 14:00:00</td>\n",
       "      <td>[0.0, 0.0, 0.0, 0.0, 0.0, 0.0, 0.0, 0.0, 0.0, ...</td>\n",
       "    </tr>\n",
       "    <tr>\n",
       "      <th>9</th>\n",
       "      <td>Solar3</td>\n",
       "      <td>2019-06-05 14:00:00</td>\n",
       "      <td>[0.0, 0.0, 0.0, 0.0, 0.0, 0.0, 0.0, 0.0, 0.0, ...</td>\n",
       "    </tr>\n",
       "    <tr>\n",
       "      <th>10</th>\n",
       "      <td>Solar4</td>\n",
       "      <td>2019-06-05 14:00:00</td>\n",
       "      <td>[0.0, 0.0, 0.0, 0.0, 0.0, 0.0, 0.0, 0.0, 0.0, ...</td>\n",
       "    </tr>\n",
       "    <tr>\n",
       "      <th>11</th>\n",
       "      <td>Solar5</td>\n",
       "      <td>2019-01-15 13:00:00</td>\n",
       "      <td>[0.0, 0.0, 0.0, 0.0, 0.0, 0.0, 0.0, 0.0, 0.0, ...</td>\n",
       "    </tr>\n",
       "  </tbody>\n",
       "</table>\n",
       "</div>"
      ],
      "text/plain": [
       "   series_name     start_timestamp  \\\n",
       "0    Building0 2016-07-03 21:30:00   \n",
       "1    Building1 2019-01-09 23:15:00   \n",
       "2    Building3 2016-03-01 04:15:00   \n",
       "3    Building4 2019-07-03 04:45:00   \n",
       "4    Building5 2019-07-25 23:00:00   \n",
       "5    Building6 2019-07-25 01:45:00   \n",
       "6       Solar0 2020-04-25 14:00:00   \n",
       "7       Solar1 2018-12-31 13:00:00   \n",
       "8       Solar2 2019-06-05 14:00:00   \n",
       "9       Solar3 2019-06-05 14:00:00   \n",
       "10      Solar4 2019-06-05 14:00:00   \n",
       "11      Solar5 2019-01-15 13:00:00   \n",
       "\n",
       "                                         series_value  \n",
       "0   [283.8, 283.8, 283.8, 606.0, 606.0, 606.0, 606...  \n",
       "1   [8.1, 15.7, 22.8, 32.7, 8.1, 16.5, 24.7, 34.5,...  \n",
       "2   [1321.0, 1321.0, 1321.0, 1321.0, 1293.0, 1293....  \n",
       "3   [2.0, NaN, 1.0, 2.0, NaN, 2.0, NaN, NaN, 2.0, ...  \n",
       "4   [30.0, 31.0, 24.0, 34.0, 30.0, 31.0, 26.0, 33....  \n",
       "5   [36.8, 34.6, 34.6, 36.2, 36.2, 35.2, 35.2, 35....  \n",
       "6   [0.0, 0.0, 0.0, 0.0, 0.0, 0.0, 0.0, 0.0, 0.0, ...  \n",
       "7   [0.0, 0.0, 0.0, 0.0, 0.0, 0.0, 0.0, 0.0, 0.0, ...  \n",
       "8   [0.0, 0.0, 0.0, 0.0, 0.0, 0.0, 0.0, 0.0, 0.0, ...  \n",
       "9   [0.0, 0.0, 0.0, 0.0, 0.0, 0.0, 0.0, 0.0, 0.0, ...  \n",
       "10  [0.0, 0.0, 0.0, 0.0, 0.0, 0.0, 0.0, 0.0, 0.0, ...  \n",
       "11  [0.0, 0.0, 0.0, 0.0, 0.0, 0.0, 0.0, 0.0, 0.0, ...  "
      ]
     },
     "execution_count": 2,
     "metadata": {},
     "output_type": "execute_result"
    }
   ],
   "source": [
    "loaded_data, freq, fcst_horizon, missing_values, equal_length = convert_tsf_to_dataframe(\"data/phase_1_data.tsf\")\n",
    "loaded_data"
   ]
  },
  {
   "cell_type": "markdown",
   "id": "980535a8",
   "metadata": {},
   "source": [
    "You can see that the code has nested values for many series, but we want only the Building 1 series. So lets extract that. \n",
    "\n",
    "First of all, we have the start timestmap for the series, but not a full index. Let's calculate an index for our series."
   ]
  },
  {
   "cell_type": "code",
   "execution_count": 3,
   "id": "e12ff217",
   "metadata": {},
   "outputs": [
    {
     "name": "stdout",
     "output_type": "stream",
     "text": [
      "60483\n"
     ]
    }
   ],
   "source": [
    "print(len(loaded_data['series_value'][1]))"
   ]
  },
  {
   "cell_type": "code",
   "execution_count": 4,
   "id": "a64eefb5",
   "metadata": {},
   "outputs": [],
   "source": [
    "from datetime import datetime, timedelta\n",
    "\n",
    "def datetime_range(start, end, delta):\n",
    "    current = start\n",
    "    while current < end:\n",
    "        yield current\n",
    "        current += delta\n",
    "\n",
    "dts = [dt.strftime('%Y-%m-%d %H:%M:00 ') for dt in \n",
    "       datetime_range(datetime(2019, 1, 9, 23,15), datetime(2020, 10, 1, 00,00), \n",
    "                      timedelta(minutes=15))]"
   ]
  },
  {
   "cell_type": "code",
   "execution_count": 5,
   "id": "85feac2b",
   "metadata": {},
   "outputs": [
    {
     "data": {
      "text/plain": [
       "60483"
      ]
     },
     "execution_count": 5,
     "metadata": {},
     "output_type": "execute_result"
    }
   ],
   "source": [
    "len(dts)"
   ]
  },
  {
   "cell_type": "code",
   "execution_count": 6,
   "id": "178681e7",
   "metadata": {},
   "outputs": [
    {
     "data": {
      "text/plain": [
       "'2020-09-30 23:45:00 '"
      ]
     },
     "execution_count": 6,
     "metadata": {},
     "output_type": "execute_result"
    }
   ],
   "source": [
    "dts[-1]"
   ]
  },
  {
   "cell_type": "markdown",
   "id": "37daba62",
   "metadata": {},
   "source": [
    "Next we construct a dataframe to hold our series values:"
   ]
  },
  {
   "cell_type": "code",
   "execution_count": 7,
   "id": "61faf0b4",
   "metadata": {},
   "outputs": [
    {
     "data": {
      "text/html": [
       "<div>\n",
       "<style scoped>\n",
       "    .dataframe tbody tr th:only-of-type {\n",
       "        vertical-align: middle;\n",
       "    }\n",
       "\n",
       "    .dataframe tbody tr th {\n",
       "        vertical-align: top;\n",
       "    }\n",
       "\n",
       "    .dataframe thead th {\n",
       "        text-align: right;\n",
       "    }\n",
       "</style>\n",
       "<table border=\"1\" class=\"dataframe\">\n",
       "  <thead>\n",
       "    <tr style=\"text-align: right;\">\n",
       "      <th></th>\n",
       "      <th>energy_demand</th>\n",
       "    </tr>\n",
       "  </thead>\n",
       "  <tbody>\n",
       "    <tr>\n",
       "      <th>0</th>\n",
       "      <td>8.1</td>\n",
       "    </tr>\n",
       "    <tr>\n",
       "      <th>1</th>\n",
       "      <td>15.7</td>\n",
       "    </tr>\n",
       "    <tr>\n",
       "      <th>2</th>\n",
       "      <td>22.8</td>\n",
       "    </tr>\n",
       "    <tr>\n",
       "      <th>3</th>\n",
       "      <td>32.7</td>\n",
       "    </tr>\n",
       "    <tr>\n",
       "      <th>4</th>\n",
       "      <td>8.1</td>\n",
       "    </tr>\n",
       "    <tr>\n",
       "      <th>...</th>\n",
       "      <td>...</td>\n",
       "    </tr>\n",
       "    <tr>\n",
       "      <th>60478</th>\n",
       "      <td>14.4</td>\n",
       "    </tr>\n",
       "    <tr>\n",
       "      <th>60479</th>\n",
       "      <td>18.8</td>\n",
       "    </tr>\n",
       "    <tr>\n",
       "      <th>60480</th>\n",
       "      <td>4.5</td>\n",
       "    </tr>\n",
       "    <tr>\n",
       "      <th>60481</th>\n",
       "      <td>9.6</td>\n",
       "    </tr>\n",
       "    <tr>\n",
       "      <th>60482</th>\n",
       "      <td>14.0</td>\n",
       "    </tr>\n",
       "  </tbody>\n",
       "</table>\n",
       "<p>60483 rows × 1 columns</p>\n",
       "</div>"
      ],
      "text/plain": [
       "      energy_demand\n",
       "0               8.1\n",
       "1              15.7\n",
       "2              22.8\n",
       "3              32.7\n",
       "4               8.1\n",
       "...             ...\n",
       "60478          14.4\n",
       "60479          18.8\n",
       "60480           4.5\n",
       "60481           9.6\n",
       "60482          14.0\n",
       "\n",
       "[60483 rows x 1 columns]"
      ]
     },
     "execution_count": 7,
     "metadata": {},
     "output_type": "execute_result"
    }
   ],
   "source": [
    "df = pd.DataFrame(loaded_data['series_value'][1],columns = ['energy_demand'])\n",
    "df"
   ]
  },
  {
   "cell_type": "markdown",
   "id": "999bcfe9",
   "metadata": {},
   "source": [
    "We add the time index:"
   ]
  },
  {
   "cell_type": "code",
   "execution_count": 8,
   "id": "f42bf040",
   "metadata": {},
   "outputs": [],
   "source": [
    "df['Datetime'] = dts\n",
    "df = df.set_index(['Datetime'])"
   ]
  },
  {
   "cell_type": "code",
   "execution_count": 9,
   "id": "85316c0c",
   "metadata": {},
   "outputs": [
    {
     "data": {
      "text/html": [
       "<div>\n",
       "<style scoped>\n",
       "    .dataframe tbody tr th:only-of-type {\n",
       "        vertical-align: middle;\n",
       "    }\n",
       "\n",
       "    .dataframe tbody tr th {\n",
       "        vertical-align: top;\n",
       "    }\n",
       "\n",
       "    .dataframe thead th {\n",
       "        text-align: right;\n",
       "    }\n",
       "</style>\n",
       "<table border=\"1\" class=\"dataframe\">\n",
       "  <thead>\n",
       "    <tr style=\"text-align: right;\">\n",
       "      <th></th>\n",
       "      <th>energy_demand</th>\n",
       "    </tr>\n",
       "    <tr>\n",
       "      <th>Datetime</th>\n",
       "      <th></th>\n",
       "    </tr>\n",
       "  </thead>\n",
       "  <tbody>\n",
       "    <tr>\n",
       "      <th>2019-01-09 23:15:00</th>\n",
       "      <td>8.1</td>\n",
       "    </tr>\n",
       "    <tr>\n",
       "      <th>2019-01-09 23:30:00</th>\n",
       "      <td>15.7</td>\n",
       "    </tr>\n",
       "    <tr>\n",
       "      <th>2019-01-09 23:45:00</th>\n",
       "      <td>22.8</td>\n",
       "    </tr>\n",
       "    <tr>\n",
       "      <th>2019-01-10 00:00:00</th>\n",
       "      <td>32.7</td>\n",
       "    </tr>\n",
       "    <tr>\n",
       "      <th>2019-01-10 00:15:00</th>\n",
       "      <td>8.1</td>\n",
       "    </tr>\n",
       "  </tbody>\n",
       "</table>\n",
       "</div>"
      ],
      "text/plain": [
       "                     energy_demand\n",
       "Datetime                          \n",
       "2019-01-09 23:15:00            8.1\n",
       "2019-01-09 23:30:00           15.7\n",
       "2019-01-09 23:45:00           22.8\n",
       "2019-01-10 00:00:00           32.7\n",
       "2019-01-10 00:15:00            8.1"
      ]
     },
     "execution_count": 9,
     "metadata": {},
     "output_type": "execute_result"
    }
   ],
   "source": [
    "df.head(5)"
   ]
  },
  {
   "cell_type": "markdown",
   "id": "4fae3c68",
   "metadata": {},
   "source": [
    "Export our processed data to a csv file for safe keeping:"
   ]
  },
  {
   "cell_type": "code",
   "execution_count": 10,
   "id": "97f098c9",
   "metadata": {},
   "outputs": [],
   "source": [
    "df.to_csv(\"data/Building1.csv\")"
   ]
  },
  {
   "cell_type": "markdown",
   "id": "b1edd92d",
   "metadata": {},
   "source": [
    "Check that the folder /data contains the file Building1.csv, and the clear the workspace of the dataframe"
   ]
  },
  {
   "cell_type": "code",
   "execution_count": 11,
   "id": "02124c22",
   "metadata": {},
   "outputs": [],
   "source": [
    "del df"
   ]
  },
  {
   "cell_type": "markdown",
   "id": "2j1JOVnkDO05",
   "metadata": {
    "id": "2j1JOVnkDO05"
   },
   "source": [
    "## 2.3 Load the data into dataframe \n",
    "Starting afresh, load the Building1 series into a pandas dataframe"
   ]
  },
  {
   "cell_type": "code",
   "execution_count": 10,
   "id": "sWkRpYvNIBIs",
   "metadata": {
    "colab": {
     "base_uri": "https://localhost:8080/",
     "height": 206
    },
    "id": "sWkRpYvNIBIs",
    "outputId": "9116cdd8-5eb3-4c58-d3fb-574bde7d1a08"
   },
   "outputs": [
    {
     "data": {
      "text/html": [
       "<div>\n",
       "<style scoped>\n",
       "    .dataframe tbody tr th:only-of-type {\n",
       "        vertical-align: middle;\n",
       "    }\n",
       "\n",
       "    .dataframe tbody tr th {\n",
       "        vertical-align: top;\n",
       "    }\n",
       "\n",
       "    .dataframe thead th {\n",
       "        text-align: right;\n",
       "    }\n",
       "</style>\n",
       "<table border=\"1\" class=\"dataframe\">\n",
       "  <thead>\n",
       "    <tr style=\"text-align: right;\">\n",
       "      <th></th>\n",
       "      <th>Datetime</th>\n",
       "      <th>energy_demand</th>\n",
       "    </tr>\n",
       "  </thead>\n",
       "  <tbody>\n",
       "    <tr>\n",
       "      <th>0</th>\n",
       "      <td>2019-01-09 23:15:00</td>\n",
       "      <td>8.1</td>\n",
       "    </tr>\n",
       "    <tr>\n",
       "      <th>1</th>\n",
       "      <td>2019-01-09 23:30:00</td>\n",
       "      <td>15.7</td>\n",
       "    </tr>\n",
       "    <tr>\n",
       "      <th>2</th>\n",
       "      <td>2019-01-09 23:45:00</td>\n",
       "      <td>22.8</td>\n",
       "    </tr>\n",
       "    <tr>\n",
       "      <th>3</th>\n",
       "      <td>2019-01-10 00:00:00</td>\n",
       "      <td>32.7</td>\n",
       "    </tr>\n",
       "    <tr>\n",
       "      <th>4</th>\n",
       "      <td>2019-01-10 00:15:00</td>\n",
       "      <td>8.1</td>\n",
       "    </tr>\n",
       "  </tbody>\n",
       "</table>\n",
       "</div>"
      ],
      "text/plain": [
       "               Datetime  energy_demand\n",
       "0  2019-01-09 23:15:00             8.1\n",
       "1  2019-01-09 23:30:00            15.7\n",
       "2  2019-01-09 23:45:00            22.8\n",
       "3  2019-01-10 00:00:00            32.7\n",
       "4  2019-01-10 00:15:00             8.1"
      ]
     },
     "execution_count": 10,
     "metadata": {},
     "output_type": "execute_result"
    }
   ],
   "source": [
    "# import pandas library using alias pd\n",
    "import pandas as pd\n",
    "\n",
    "#load the data\n",
    "bdf = pd.read_csv('data/Building1.csv')\n",
    "\n",
    "# Display first five rows of the data\n",
    "bdf.head(5)"
   ]
  },
  {
   "cell_type": "markdown",
   "id": "1TrYPd7IEa-t",
   "metadata": {
    "id": "1TrYPd7IEa-t"
   },
   "source": [
    "Then do the same for the weather data series"
   ]
  },
  {
   "cell_type": "code",
   "execution_count": 11,
   "id": "9dcBwuQgEqeA",
   "metadata": {
    "colab": {
     "base_uri": "https://localhost:8080/"
    },
    "id": "9dcBwuQgEqeA",
    "outputId": "6b16f3c4-21b6-4f7e-a769-e2fb7df0f9d4"
   },
   "outputs": [
    {
     "data": {
      "text/plain": [
       "Index(['datetime', 'max_temp_moorabbin', 'max_temp_olympic',\n",
       "       'min_temp_moorabbin', 'min_temp_olympic', 'rainfall_moorabbin',\n",
       "       'rainfall_oakleigh', 'rainfall_olympic', 'solar_moorabbin',\n",
       "       'solar_oakleigh', 'solar_olympic', 'temperature (degC)',\n",
       "       'dewpoint_temperature (degC)', 'wind_speed (m/s)',\n",
       "       'mean_sea_level_pressure (Pa)', 'relative_humidity ((0-1))',\n",
       "       'surface_solar_radiation (W/m^2)', 'surface_thermal_radiation (W/m^2)',\n",
       "       'total_cloud_cover (0-1)'],\n",
       "      dtype='object')"
      ]
     },
     "execution_count": 11,
     "metadata": {},
     "output_type": "execute_result"
    }
   ],
   "source": [
    "wdf = pd.read_csv('data/weather_combi.txt',delimiter=',')\n",
    "\n",
    "# view columns in the weather data\n",
    "wdf.columns"
   ]
  },
  {
   "cell_type": "markdown",
   "id": "995d1cb4",
   "metadata": {},
   "source": [
    "Keep just the temperature data, drop the rest:"
   ]
  },
  {
   "cell_type": "code",
   "execution_count": 12,
   "id": "KaFgCwx5UNLh",
   "metadata": {
    "id": "KaFgCwx5UNLh"
   },
   "outputs": [
    {
     "data": {
      "text/plain": [
       "Index(['datetime', 'temperature (degC)'], dtype='object')"
      ]
     },
     "execution_count": 12,
     "metadata": {},
     "output_type": "execute_result"
    }
   ],
   "source": [
    "wdf = wdf[['datetime','temperature (degC)']]\n",
    "wdf.columns"
   ]
  },
  {
   "cell_type": "code",
   "execution_count": 13,
   "id": "0bd36c09",
   "metadata": {},
   "outputs": [
    {
     "data": {
      "text/html": [
       "<div>\n",
       "<style scoped>\n",
       "    .dataframe tbody tr th:only-of-type {\n",
       "        vertical-align: middle;\n",
       "    }\n",
       "\n",
       "    .dataframe tbody tr th {\n",
       "        vertical-align: top;\n",
       "    }\n",
       "\n",
       "    .dataframe thead th {\n",
       "        text-align: right;\n",
       "    }\n",
       "</style>\n",
       "<table border=\"1\" class=\"dataframe\">\n",
       "  <thead>\n",
       "    <tr style=\"text-align: right;\">\n",
       "      <th></th>\n",
       "      <th>datetime</th>\n",
       "      <th>temperature (degC)</th>\n",
       "    </tr>\n",
       "  </thead>\n",
       "  <tbody>\n",
       "    <tr>\n",
       "      <th>0</th>\n",
       "      <td>2016-01-01 00:00:00</td>\n",
       "      <td>24.84</td>\n",
       "    </tr>\n",
       "    <tr>\n",
       "      <th>1</th>\n",
       "      <td>2016-01-01 00:15:00</td>\n",
       "      <td>24.84</td>\n",
       "    </tr>\n",
       "    <tr>\n",
       "      <th>2</th>\n",
       "      <td>2016-01-01 00:30:00</td>\n",
       "      <td>25.70</td>\n",
       "    </tr>\n",
       "    <tr>\n",
       "      <th>3</th>\n",
       "      <td>2016-01-01 00:45:00</td>\n",
       "      <td>25.70</td>\n",
       "    </tr>\n",
       "    <tr>\n",
       "      <th>4</th>\n",
       "      <td>2016-01-01 01:00:00</td>\n",
       "      <td>25.70</td>\n",
       "    </tr>\n",
       "    <tr>\n",
       "      <th>...</th>\n",
       "      <td>...</td>\n",
       "      <td>...</td>\n",
       "    </tr>\n",
       "    <tr>\n",
       "      <th>189884</th>\n",
       "      <td>2021-05-31 23:00:00</td>\n",
       "      <td>9.83</td>\n",
       "    </tr>\n",
       "    <tr>\n",
       "      <th>189885</th>\n",
       "      <td>2021-05-31 23:15:00</td>\n",
       "      <td>9.83</td>\n",
       "    </tr>\n",
       "    <tr>\n",
       "      <th>189886</th>\n",
       "      <td>2021-05-31 23:30:00</td>\n",
       "      <td>10.73</td>\n",
       "    </tr>\n",
       "    <tr>\n",
       "      <th>189887</th>\n",
       "      <td>2021-05-31 23:45:00</td>\n",
       "      <td>10.73</td>\n",
       "    </tr>\n",
       "    <tr>\n",
       "      <th>189888</th>\n",
       "      <td>2021-06-01 00:00:00</td>\n",
       "      <td>10.73</td>\n",
       "    </tr>\n",
       "  </tbody>\n",
       "</table>\n",
       "<p>189889 rows × 2 columns</p>\n",
       "</div>"
      ],
      "text/plain": [
       "                   datetime  temperature (degC)\n",
       "0       2016-01-01 00:00:00               24.84\n",
       "1       2016-01-01 00:15:00               24.84\n",
       "2       2016-01-01 00:30:00               25.70\n",
       "3       2016-01-01 00:45:00               25.70\n",
       "4       2016-01-01 01:00:00               25.70\n",
       "...                     ...                 ...\n",
       "189884  2021-05-31 23:00:00                9.83\n",
       "189885  2021-05-31 23:15:00                9.83\n",
       "189886  2021-05-31 23:30:00               10.73\n",
       "189887  2021-05-31 23:45:00               10.73\n",
       "189888  2021-06-01 00:00:00               10.73\n",
       "\n",
       "[189889 rows x 2 columns]"
      ]
     },
     "execution_count": 13,
     "metadata": {},
     "output_type": "execute_result"
    }
   ],
   "source": [
    "wdf"
   ]
  },
  {
   "cell_type": "markdown",
   "id": "Po380aKlCFL2",
   "metadata": {
    "id": "Po380aKlCFL2"
   },
   "source": [
    "# 3. Data Preparation\n",
    "We have two separate timeseries in different dataframes, df and wdf, and we want to merge them before undertaking any analysis. The final dataframe that we want has the following characteristics:"
   ]
  },
  {
   "cell_type": "markdown",
   "id": "0560d6b4",
   "metadata": {
    "id": "eAWoA-DNG6mY"
   },
   "source": [
    "<b>Column description</b>\n",
    "\n",
    "1. <b> Datetime </b> : Timestamp for the series\n",
    "2. <b> Building1 </b> : Energy demand for the building\n",
    "3. <b> temperature (degC)  </b> : temperature recoreded in degree celsius."
   ]
  },
  {
   "cell_type": "markdown",
   "id": "C2gyknpAIt8L",
   "metadata": {
    "id": "C2gyknpAIt8L"
   },
   "source": [
    "## 3.1 Time series Indexing\n",
    "\n",
    "In timeseries, the data is the value observed or measured at a particular time period. To properly analysing the timeseries data, it is essential that the datetime values are used as the index for the merged dataframe.\n",
    "\n",
    "Looking at the DateTimeIndex valul for the Building1 series below, the timeseries starts from \"2019-01-09 23:15:00\" and values are provided util \"2020-09-30 23:45:00\" (last day of 2020-sep)."
   ]
  },
  {
   "cell_type": "code",
   "execution_count": 14,
   "id": "67a61d6c",
   "metadata": {
    "colab": {
     "base_uri": "https://localhost:8080/"
    },
    "id": "67a61d6c",
    "outputId": "cce9b492-0022-40fb-8024-678fb84c0070"
   },
   "outputs": [
    {
     "name": "stdout",
     "output_type": "stream",
     "text": [
      "<class 'pandas.core.frame.DataFrame'>\n",
      "RangeIndex: 60483 entries, 0 to 60482\n",
      "Data columns (total 2 columns):\n",
      " #   Column         Non-Null Count  Dtype  \n",
      "---  ------         --------------  -----  \n",
      " 0   Datetime       60483 non-null  object \n",
      " 1   energy_demand  60395 non-null  float64\n",
      "dtypes: float64(1), object(1)\n",
      "memory usage: 945.2+ KB\n"
     ]
    }
   ],
   "source": [
    "# Look at dataframe information\n",
    "bdf.info()"
   ]
  },
  {
   "cell_type": "code",
   "execution_count": 15,
   "id": "h0UGH3l3MPl_",
   "metadata": {
    "colab": {
     "base_uri": "https://localhost:8080/"
    },
    "id": "h0UGH3l3MPl_",
    "outputId": "cfe02d42-652d-44f9-f433-107bef54f2c0"
   },
   "outputs": [],
   "source": [
    "# set index for the dataframe\n",
    "bdf = bdf.set_index(['Datetime'])\n",
    "wdf = wdf.set_index(['datetime'])"
   ]
  },
  {
   "cell_type": "code",
   "execution_count": 16,
   "id": "740d168e",
   "metadata": {},
   "outputs": [
    {
     "data": {
      "text/plain": [
       "DatetimeIndex(['2019-01-09 23:15:00', '2019-01-09 23:30:00',\n",
       "               '2019-01-09 23:45:00', '2019-01-10 00:00:00',\n",
       "               '2019-01-10 00:15:00', '2019-01-10 00:30:00',\n",
       "               '2019-01-10 00:45:00', '2019-01-10 01:00:00',\n",
       "               '2019-01-10 01:15:00', '2019-01-10 01:30:00',\n",
       "               ...\n",
       "               '2020-09-30 21:30:00', '2020-09-30 21:45:00',\n",
       "               '2020-09-30 22:00:00', '2020-09-30 22:15:00',\n",
       "               '2020-09-30 22:30:00', '2020-09-30 22:45:00',\n",
       "               '2020-09-30 23:00:00', '2020-09-30 23:15:00',\n",
       "               '2020-09-30 23:30:00', '2020-09-30 23:45:00'],\n",
       "              dtype='datetime64[ns]', name='Datetime', length=60483, freq=None)"
      ]
     },
     "execution_count": 16,
     "metadata": {},
     "output_type": "execute_result"
    }
   ],
   "source": [
    "# modify Datetime index datatype from 'object' to 'datatime64[ns]'\n",
    "bdf.index = bdf.index.astype('datetime64[ns]')\n",
    "wdf.index = wdf.index.astype('datetime64[ns]')\n",
    "bdf.index"
   ]
  },
  {
   "cell_type": "markdown",
   "id": "WicLaLlHQrY0",
   "metadata": {
    "id": "WicLaLlHQrY0"
   },
   "source": [
    "## 3.2 TimeZone convertion\n",
    "\n",
    "To visualise timeseries, it is nessesary to convert the datetimeindex into the right timezone format. This time series has the AEDT time zone (Australian Eastern Daylight Time). The 'pytz' package (https://pypi.org/project/pytz/) in python provides an easy way to deal with the different timezones. \n",
    "\n",
    "First, modify datetime into the local UTC (Coordinated Universal Time) format using tz_localize() function. From UTC format, Melbourne has either 10 hours or 11 hours offset from UCT based on daylight saving period (https://www.timeanddate.com/time/zone/australia/melbourne). We use the tz_convert() function to convert it into the right timezone.\n",
    "\n",
    "After conversion, DateTimeIndex series starts from '2019-01-10 10:15' and ends to '2020-10-01 09:45' (First day of 2020-oct)."
   ]
  },
  {
   "cell_type": "code",
   "execution_count": 17,
   "id": "0C0-UY9jQNca",
   "metadata": {
    "colab": {
     "base_uri": "https://localhost:8080/"
    },
    "id": "0C0-UY9jQNca",
    "outputId": "768277fd-4551-4a5e-a131-03d63c8b3a4d",
    "scrolled": true
   },
   "outputs": [
    {
     "data": {
      "text/plain": [
       "DatetimeIndex(['2019-01-10 10:15:00+11:00', '2019-01-10 10:30:00+11:00',\n",
       "               '2019-01-10 10:45:00+11:00', '2019-01-10 11:00:00+11:00',\n",
       "               '2019-01-10 11:15:00+11:00', '2019-01-10 11:30:00+11:00',\n",
       "               '2019-01-10 11:45:00+11:00', '2019-01-10 12:00:00+11:00',\n",
       "               '2019-01-10 12:15:00+11:00', '2019-01-10 12:30:00+11:00',\n",
       "               ...\n",
       "               '2020-10-01 07:30:00+10:00', '2020-10-01 07:45:00+10:00',\n",
       "               '2020-10-01 08:00:00+10:00', '2020-10-01 08:15:00+10:00',\n",
       "               '2020-10-01 08:30:00+10:00', '2020-10-01 08:45:00+10:00',\n",
       "               '2020-10-01 09:00:00+10:00', '2020-10-01 09:15:00+10:00',\n",
       "               '2020-10-01 09:30:00+10:00', '2020-10-01 09:45:00+10:00'],\n",
       "              dtype='datetime64[ns, Australia/Melbourne]', name='Datetime', length=60483, freq=None)"
      ]
     },
     "execution_count": 17,
     "metadata": {},
     "output_type": "execute_result"
    }
   ],
   "source": [
    "# import the package\n",
    "import pytz\n",
    "\n",
    "# Convert DateTimeIndex into 'Australia/Melbourne' timezone.\n",
    "bdf.index = bdf.index.tz_localize('UTC').tz_convert('Australia/Melbourne')\n",
    "wdf.index = wdf.index.tz_localize('UTC').tz_convert('Australia/Melbourne')\n",
    "\n",
    "bdf.index"
   ]
  },
  {
   "cell_type": "code",
   "execution_count": 18,
   "id": "9ad0577a",
   "metadata": {},
   "outputs": [
    {
     "data": {
      "text/plain": [
       "DatetimeIndex(['2016-01-01 11:00:00+11:00', '2016-01-01 11:15:00+11:00',\n",
       "               '2016-01-01 11:30:00+11:00', '2016-01-01 11:45:00+11:00',\n",
       "               '2016-01-01 12:00:00+11:00', '2016-01-01 12:15:00+11:00',\n",
       "               '2016-01-01 12:30:00+11:00', '2016-01-01 12:45:00+11:00',\n",
       "               '2016-01-01 13:00:00+11:00', '2016-01-01 13:15:00+11:00',\n",
       "               ...\n",
       "               '2021-06-01 07:45:00+10:00', '2021-06-01 08:00:00+10:00',\n",
       "               '2021-06-01 08:15:00+10:00', '2021-06-01 08:30:00+10:00',\n",
       "               '2021-06-01 08:45:00+10:00', '2021-06-01 09:00:00+10:00',\n",
       "               '2021-06-01 09:15:00+10:00', '2021-06-01 09:30:00+10:00',\n",
       "               '2021-06-01 09:45:00+10:00', '2021-06-01 10:00:00+10:00'],\n",
       "              dtype='datetime64[ns, Australia/Melbourne]', name='datetime', length=189889, freq=None)"
      ]
     },
     "execution_count": 18,
     "metadata": {},
     "output_type": "execute_result"
    }
   ],
   "source": [
    "wdf.index"
   ]
  },
  {
   "cell_type": "markdown",
   "id": "850bac96",
   "metadata": {},
   "source": [
    "Now that we have a consistent index for the two dataframes, we can join them:"
   ]
  },
  {
   "cell_type": "code",
   "execution_count": 19,
   "id": "m5jM1_TGnune",
   "metadata": {
    "id": "m5jM1_TGnune"
   },
   "outputs": [],
   "source": [
    "# join both df and wdf\n",
    "df = bdf.join(wdf)"
   ]
  },
  {
   "cell_type": "code",
   "execution_count": 20,
   "id": "d04fe7d6",
   "metadata": {},
   "outputs": [
    {
     "data": {
      "text/html": [
       "<div>\n",
       "<style scoped>\n",
       "    .dataframe tbody tr th:only-of-type {\n",
       "        vertical-align: middle;\n",
       "    }\n",
       "\n",
       "    .dataframe tbody tr th {\n",
       "        vertical-align: top;\n",
       "    }\n",
       "\n",
       "    .dataframe thead th {\n",
       "        text-align: right;\n",
       "    }\n",
       "</style>\n",
       "<table border=\"1\" class=\"dataframe\">\n",
       "  <thead>\n",
       "    <tr style=\"text-align: right;\">\n",
       "      <th></th>\n",
       "      <th>energy_demand</th>\n",
       "      <th>temperature (degC)</th>\n",
       "    </tr>\n",
       "    <tr>\n",
       "      <th>Datetime</th>\n",
       "      <th></th>\n",
       "      <th></th>\n",
       "    </tr>\n",
       "  </thead>\n",
       "  <tbody>\n",
       "    <tr>\n",
       "      <th>2019-01-10 10:15:00+11:00</th>\n",
       "      <td>8.1</td>\n",
       "      <td>17.44</td>\n",
       "    </tr>\n",
       "    <tr>\n",
       "      <th>2019-01-10 10:30:00+11:00</th>\n",
       "      <td>15.7</td>\n",
       "      <td>18.90</td>\n",
       "    </tr>\n",
       "    <tr>\n",
       "      <th>2019-01-10 10:45:00+11:00</th>\n",
       "      <td>22.8</td>\n",
       "      <td>18.90</td>\n",
       "    </tr>\n",
       "    <tr>\n",
       "      <th>2019-01-10 11:00:00+11:00</th>\n",
       "      <td>32.7</td>\n",
       "      <td>18.90</td>\n",
       "    </tr>\n",
       "    <tr>\n",
       "      <th>2019-01-10 11:15:00+11:00</th>\n",
       "      <td>8.1</td>\n",
       "      <td>18.90</td>\n",
       "    </tr>\n",
       "    <tr>\n",
       "      <th>...</th>\n",
       "      <td>...</td>\n",
       "      <td>...</td>\n",
       "    </tr>\n",
       "    <tr>\n",
       "      <th>2020-10-01 08:45:00+10:00</th>\n",
       "      <td>14.4</td>\n",
       "      <td>12.06</td>\n",
       "    </tr>\n",
       "    <tr>\n",
       "      <th>2020-10-01 09:00:00+10:00</th>\n",
       "      <td>18.8</td>\n",
       "      <td>12.06</td>\n",
       "    </tr>\n",
       "    <tr>\n",
       "      <th>2020-10-01 09:15:00+10:00</th>\n",
       "      <td>4.5</td>\n",
       "      <td>12.06</td>\n",
       "    </tr>\n",
       "    <tr>\n",
       "      <th>2020-10-01 09:30:00+10:00</th>\n",
       "      <td>9.6</td>\n",
       "      <td>12.92</td>\n",
       "    </tr>\n",
       "    <tr>\n",
       "      <th>2020-10-01 09:45:00+10:00</th>\n",
       "      <td>14.0</td>\n",
       "      <td>12.92</td>\n",
       "    </tr>\n",
       "  </tbody>\n",
       "</table>\n",
       "<p>60483 rows × 2 columns</p>\n",
       "</div>"
      ],
      "text/plain": [
       "                           energy_demand  temperature (degC)\n",
       "Datetime                                                    \n",
       "2019-01-10 10:15:00+11:00            8.1               17.44\n",
       "2019-01-10 10:30:00+11:00           15.7               18.90\n",
       "2019-01-10 10:45:00+11:00           22.8               18.90\n",
       "2019-01-10 11:00:00+11:00           32.7               18.90\n",
       "2019-01-10 11:15:00+11:00            8.1               18.90\n",
       "...                                  ...                 ...\n",
       "2020-10-01 08:45:00+10:00           14.4               12.06\n",
       "2020-10-01 09:00:00+10:00           18.8               12.06\n",
       "2020-10-01 09:15:00+10:00            4.5               12.06\n",
       "2020-10-01 09:30:00+10:00            9.6               12.92\n",
       "2020-10-01 09:45:00+10:00           14.0               12.92\n",
       "\n",
       "[60483 rows x 2 columns]"
      ]
     },
     "execution_count": 20,
     "metadata": {},
     "output_type": "execute_result"
    }
   ],
   "source": [
    "df"
   ]
  },
  {
   "cell_type": "markdown",
   "id": "x5PkbxtNdY1Y",
   "metadata": {
    "id": "x5PkbxtNdY1Y"
   },
   "source": [
    " ## 3.3 Slicing\n",
    "For this analysis, we use data from 2020 year and indexing help us to slice the series for a particular timeframe."
   ]
  },
  {
   "cell_type": "code",
   "execution_count": 21,
   "id": "dq3WJM_p4hzR",
   "metadata": {
    "colab": {
     "base_uri": "https://localhost:8080/",
     "height": 331
    },
    "id": "dq3WJM_p4hzR",
    "outputId": "08712bab-2128-4c17-8276-76489c0f65c7"
   },
   "outputs": [
    {
     "data": {
      "text/plain": [
       "<AxesSubplot:xlabel='Datetime'>"
      ]
     },
     "execution_count": 21,
     "metadata": {},
     "output_type": "execute_result"
    },
    {
     "data": {
      "image/png": "[encoded data removed]",
      "text/plain": [
       "<Figure size 432x288 with 1 Axes>"
      ]
     },
     "metadata": {
      "needs_background": "light"
     },
     "output_type": "display_data"
    }
   ],
   "source": [
    "# slicing to view data for a particular initerval\n",
    "df['2020-09-01':'2020-10-01']['energy_demand'].plot()"
   ]
  },
  {
   "cell_type": "markdown",
   "id": "dbPHvltL6i8c",
   "metadata": {
    "id": "dbPHvltL6i8c"
   },
   "source": [
    "<b> Missing values  </b>\n",
    "\n",
    "|<center>Exercise</center>|\n",
    "| ---- |\n",
    "| <center>By this time, you must have understood, why we should handle missinig data from the course videos. Mention some of the reason for missing valules in the time series and what are the ways to handle it.</center>|"
   ]
  },
  {
   "cell_type": "code",
   "execution_count": 22,
   "id": "9i1K4mcfcBJw",
   "metadata": {
    "colab": {
     "base_uri": "https://localhost:8080/"
    },
    "id": "9i1K4mcfcBJw",
    "outputId": "07aa371e-9110-4478-b53a-9239f414c436"
   },
   "outputs": [
    {
     "name": "stdout",
     "output_type": "stream",
     "text": [
      "Total number of null/missing values: 88\n",
      "Number of null/missing values in year 2020: 23\n"
     ]
    },
    {
     "name": "stderr",
     "output_type": "stream",
     "text": [
      "/tmp/ipykernel_706932/1360559198.py:2: FutureWarning: Indexing a DataFrame with a datetimelike index using a single string to slice the rows, like `frame[string]`, is deprecated and will be removed in a future version. Use `frame.loc[string]` instead.\n",
      "  print(\"Number of null/missing values in year 2020:\", df['2020']['energy_demand'].isna().sum())\n"
     ]
    }
   ],
   "source": [
    "print(\"Total number of null/missing values:\", df['energy_demand'].isna().sum())\n",
    "print(\"Number of null/missing values in year 2020:\", df['2020']['energy_demand'].isna().sum())"
   ]
  },
  {
   "cell_type": "code",
   "execution_count": 23,
   "id": "PYnoYG43Zl3f",
   "metadata": {
    "colab": {
     "base_uri": "https://localhost:8080/"
    },
    "id": "PYnoYG43Zl3f",
    "outputId": "cb1a2540-f929-40b4-c54c-30de6a274363"
   },
   "outputs": [
    {
     "name": "stdout",
     "output_type": "stream",
     "text": [
      "index of missinig values: [Timestamp('2020-01-10 16:15:00+1100', tz='Australia/Melbourne')\n",
      " Timestamp('2020-01-10 16:30:00+1100', tz='Australia/Melbourne')\n",
      " Timestamp('2020-03-29 08:00:00+1100', tz='Australia/Melbourne')\n",
      " Timestamp('2020-03-29 08:15:00+1100', tz='Australia/Melbourne')\n",
      " Timestamp('2020-03-29 08:30:00+1100', tz='Australia/Melbourne')\n",
      " Timestamp('2020-03-29 08:45:00+1100', tz='Australia/Melbourne')\n",
      " Timestamp('2020-03-29 09:00:00+1100', tz='Australia/Melbourne')\n",
      " Timestamp('2020-03-29 09:15:00+1100', tz='Australia/Melbourne')\n",
      " Timestamp('2020-03-29 09:30:00+1100', tz='Australia/Melbourne')\n",
      " Timestamp('2020-03-29 09:45:00+1100', tz='Australia/Melbourne')\n",
      " Timestamp('2020-03-29 10:00:00+1100', tz='Australia/Melbourne')\n",
      " Timestamp('2020-03-29 10:15:00+1100', tz='Australia/Melbourne')\n",
      " Timestamp('2020-03-29 10:30:00+1100', tz='Australia/Melbourne')\n",
      " Timestamp('2020-03-29 10:45:00+1100', tz='Australia/Melbourne')\n",
      " Timestamp('2020-03-29 11:00:00+1100', tz='Australia/Melbourne')\n",
      " Timestamp('2020-03-29 11:15:00+1100', tz='Australia/Melbourne')\n",
      " Timestamp('2020-03-29 11:30:00+1100', tz='Australia/Melbourne')\n",
      " Timestamp('2020-03-29 11:45:00+1100', tz='Australia/Melbourne')\n",
      " Timestamp('2020-03-29 12:00:00+1100', tz='Australia/Melbourne')\n",
      " Timestamp('2020-03-29 12:15:00+1100', tz='Australia/Melbourne')\n",
      " Timestamp('2020-03-29 12:30:00+1100', tz='Australia/Melbourne')\n",
      " Timestamp('2020-03-29 12:45:00+1100', tz='Australia/Melbourne')\n",
      " Timestamp('2020-07-23 07:00:00+1000', tz='Australia/Melbourne')]\n"
     ]
    },
    {
     "name": "stderr",
     "output_type": "stream",
     "text": [
      "/tmp/ipykernel_706932/1681611818.py:4: FutureWarning: Indexing a DataFrame with a datetimelike index using a single string to slice the rows, like `frame[string]`, is deprecated and will be removed in a future version. Use `frame.loc[string]` instead.\n",
      "  s = pd.isnull(df['2020']['energy_demand'])\n",
      "/tmp/ipykernel_706932/1681611818.py:5: FutureWarning: Indexing a DataFrame with a datetimelike index using a single string to slice the rows, like `frame[string]`, is deprecated and will be removed in a future version. Use `frame.loc[string]` instead.\n",
      "  missing_index = df['2020']['energy_demand'][s]\n"
     ]
    }
   ],
   "source": [
    "import numpy as np\n",
    "\n",
    "# to look at the timestamps which has missing values\n",
    "s = pd.isnull(df['2020']['energy_demand'])\n",
    "missing_index = df['2020']['energy_demand'][s]\n",
    "print(\"index of missinig values:\" ,np.array(missing_index.index) )"
   ]
  },
  {
   "cell_type": "markdown",
   "id": "lGN5Zhrf6hrS",
   "metadata": {
    "id": "lGN5Zhrf6hrS"
   },
   "source": [
    "We observe major 5 hours of missing values on date 2020-3-29. \n",
    "\n",
    "Since this energy demand time series is non-linear,we use interpolate() with method polynomial of order 2.\n"
   ]
  },
  {
   "cell_type": "markdown",
   "id": "0Oht0iX9ZLdK",
   "metadata": {
    "id": "0Oht0iX9ZLdK"
   },
   "source": [
    "|<center>Exercise</center>|\n",
    "| ---- |\n",
    "|<center> Modify belolw code for different order in polynomial method or use linear method to verify, how each method fills the missing values.</center>|"
   ]
  },
  {
   "cell_type": "code",
   "execution_count": 24,
   "id": "NOPnFuN3cAK7",
   "metadata": {
    "colab": {
     "base_uri": "https://localhost:8080/",
     "height": 375
    },
    "id": "NOPnFuN3cAK7",
    "outputId": "12562bb2-bb26-4103-d835-611842130114"
   },
   "outputs": [
    {
     "name": "stderr",
     "output_type": "stream",
     "text": [
      "/tmp/ipykernel_706932/3652228262.py:4: FutureWarning: Indexing a DataFrame with a datetimelike index using a single string to slice the rows, like `frame[string]`, is deprecated and will be removed in a future version. Use `frame.loc[string]` instead.\n",
      "  df2 = df['2020']\n"
     ]
    },
    {
     "data": {
      "text/plain": [
       "<AxesSubplot:xlabel='Datetime'>"
      ]
     },
     "execution_count": 24,
     "metadata": {},
     "output_type": "execute_result"
    },
    {
     "data": {
      "image/png": "[encoded data removed]",
      "text/plain": [
       "<Figure size 432x288 with 1 Axes>"
      ]
     },
     "metadata": {
      "needs_background": "light"
     },
     "output_type": "display_data"
    }
   ],
   "source": [
    "# df['2020-3-26':'2020-03-30']['energy_demand'].plot()\n",
    "\n",
    "# Using non-linear initerpolation to fill the missing values.\n",
    "df2 = df['2020']\n",
    "df2 = df2.interpolate(method=\"polynomial\", order =3)\n",
    "df2['2020-3-26':'2020-03-30']['energy_demand'].plot()\n"
   ]
  },
  {
   "cell_type": "code",
   "execution_count": 25,
   "id": "LNCGCHdvEUjq",
   "metadata": {
    "colab": {
     "base_uri": "https://localhost:8080/"
    },
    "id": "LNCGCHdvEUjq",
    "outputId": "cc879726-baf3-48c3-d8ea-d17aaa552416"
   },
   "outputs": [
    {
     "data": {
      "text/plain": [
       "energy_demand         0\n",
       "temperature (degC)    0\n",
       "dtype: int64"
      ]
     },
     "execution_count": 25,
     "metadata": {},
     "output_type": "execute_result"
    }
   ],
   "source": [
    "df2.isna().sum()"
   ]
  },
  {
   "cell_type": "markdown",
   "id": "SaL9wR3ECEY3",
   "metadata": {
    "id": "SaL9wR3ECEY3"
   },
   "source": [
    "# 4 Visualisation and exploratory analysis\n",
    "\n",
    "Looking at the time series plot, help us in understanding the overall nature  of the data and to indentify outliers or any abnormal points. To look at month,weekly, daily patterns DateTimeIndex provides easier functionality.\n",
    "\n"
   ]
  },
  {
   "cell_type": "code",
   "execution_count": 26,
   "id": "ejTJ3gNOmY39",
   "metadata": {
    "id": "ejTJ3gNOmY39"
   },
   "outputs": [],
   "source": [
    "# Using Datetime index to get the month,hour and day of the week\n",
    "# assigning it to the new column in the dataframe df2, so that we can use it to visualise different trend cycle or seasonality\n",
    "df2['month']=df2.index.month_name()\n",
    "df2['hour'] = df2.index.hour\n",
    "df2['day_of_week']  = df2.index.day_name()"
   ]
  },
  {
   "cell_type": "code",
   "execution_count": 27,
   "id": "mF3KBYNiCqlq",
   "metadata": {
    "colab": {
     "base_uri": "https://localhost:8080/",
     "height": 868
    },
    "id": "mF3KBYNiCqlq",
    "outputId": "01428b12-8628-45fd-805c-3529368aa306"
   },
   "outputs": [
    {
     "data": {
      "text/plain": [
       "Text(0.5, 0, 'Date')"
      ]
     },
     "execution_count": 27,
     "metadata": {},
     "output_type": "execute_result"
    },
    {
     "data": {
      "image/png": "[encoded data removed]",
      "text/plain": [
       "<Figure size 1152x288 with 1 Axes>"
      ]
     },
     "metadata": {
      "needs_background": "light"
     },
     "output_type": "display_data"
    }
   ],
   "source": [
    "# import matplotlib and seaborn packages for using different plot and aligning them.\n",
    "from matplotlib.pyplot import figure\n",
    "import matplotlib.pyplot as plt\n",
    "import seaborn as sns\n",
    "\n",
    "# Plotting all the data for year 2020. plot() uses line as a default\n",
    "plt.figure(figsize=(16,4))\n",
    "plt.plot(df2['energy_demand'])\n",
    "plt.title('Plot 1 - Building 1')\n",
    "plt.ylabel('Energy Demand')\n",
    "plt.xlabel('Date')"
   ]
  },
  {
   "cell_type": "markdown",
   "id": "d15ae9f3",
   "metadata": {},
   "source": [
    "|<center>Exercise</center>|\n",
    "| ---- |\n",
    "|<center>What patterns can you see in this plot?</center>|"
   ]
  },
  {
   "cell_type": "code",
   "execution_count": 30,
   "id": "1de76c7e",
   "metadata": {},
   "outputs": [],
   "source": [
    "# write your answers here"
   ]
  },
  {
   "cell_type": "code",
   "execution_count": 28,
   "id": "8682182b",
   "metadata": {},
   "outputs": [
    {
     "data": {
      "text/plain": [
       "Text(0, 0.5, 'Energy Demand')"
      ]
     },
     "execution_count": 28,
     "metadata": {},
     "output_type": "execute_result"
    },
    {
     "data": {
      "image/png": "[encoded data removed]",
      "text/plain": [
       "<Figure size 1152x288 with 1 Axes>"
      ]
     },
     "metadata": {
      "needs_background": "light"
     },
     "output_type": "display_data"
    }
   ],
   "source": [
    "# lineplot from  seaborn package shows the trend-line along with the confidence intervals (i.e. variation of data at each time point)\n",
    "fig, axes = plt.subplots(1,1,squeeze=False)\n",
    "fig.set_size_inches(16,4)\n",
    "sns.lineplot(data=df2, x='hour', y=df2['energy_demand'], ax=axes[0,0])\n",
    "axes[0,0].set_title(\"Plot 2-Hour wise - Lineplot\")\n",
    "axes[0,0].set_xlabel('Hour')\n",
    "axes[0,0].set_ylabel('Energy Demand')"
   ]
  },
  {
   "cell_type": "code",
   "execution_count": 29,
   "id": "1fd2182b",
   "metadata": {},
   "outputs": [
    {
     "data": {
      "text/plain": [
       "Text(0, 0.5, 'Energy Demand')"
      ]
     },
     "execution_count": 29,
     "metadata": {},
     "output_type": "execute_result"
    },
    {
     "data": {
      "image/png": "[encoded data removed]",
      "text/plain": [
       "<Figure size 1152x288 with 1 Axes>"
      ]
     },
     "metadata": {
      "needs_background": "light"
     },
     "output_type": "display_data"
    }
   ],
   "source": [
    "# Barplot to view 2020 weekly energy demand \n",
    "fig, axes = plt.subplots(1,1,squeeze=False)\n",
    "fig.set_size_inches(16,4)\n",
    "sns.barplot(data=df2, x='day_of_week', y=df2['energy_demand'],ax=axes[0,0])\n",
    "axes[0,0].set_title(\"Plot 3-Week Day wise - Barplot\")\n",
    "axes[0,0].set_xlabel('Week Day')\n",
    "axes[0,0].set_ylabel('Energy Demand')"
   ]
  },
  {
   "cell_type": "code",
   "execution_count": 30,
   "id": "df94b397",
   "metadata": {},
   "outputs": [
    {
     "data": {
      "text/plain": [
       "Text(0, 0.5, 'Energy Demand')"
      ]
     },
     "execution_count": 30,
     "metadata": {},
     "output_type": "execute_result"
    },
    {
     "data": {
      "image/png": "[encoded data removed]",
      "text/plain": [
       "<Figure size 1152x288 with 1 Axes>"
      ]
     },
     "metadata": {
      "needs_background": "light"
     },
     "output_type": "display_data"
    }
   ],
   "source": [
    "# Boxplot to view 2020 monthly energy demand \n",
    "fig, ax = plt.subplots(figsize=(16,4))\n",
    "sns.boxplot(data=df2, x='month', y=df2['energy_demand'], ax = ax)\n",
    "ax.set_title(\"Plot 4-Month wise - Boxplot\")\n",
    "ax.set_xlabel('Month')\n",
    "ax.set_ylabel('Energy Demand')"
   ]
  },
  {
   "cell_type": "markdown",
   "id": "iPloiarRWKOv",
   "metadata": {
    "id": "iPloiarRWKOv"
   },
   "source": [
    "<b>Observation from Time series plot: </b>\n",
    "\n",
    "1. Plot 1 - Shows the entier energy demand timeseries for the whole year 2020, from Jan to Sep and for the Oct month we have until '2020-10-01 09:45' due to daylight saving timezone conversion.\n",
    "2. Plot 2 - Hour-wise plot, shows the daily trend-cycle, energy demand has increasing trend from 4 (early morning), reaches peak at 15 (3PM afternoon) and then follows the decreasing trend (off-working hours).\n",
    "3. Plot 3 - Week wise plot,  durring working days energy demand increasing from monday, reaches peak on thursday and reduces on friday. On weekend,  energy demand is very less.\n",
    "4. Plot 4 - Since we have used only 2020 year data, month-wise plot shows the trend similar to overall data. Energy demand has reduced from feb, due to lockdown and covid restrictions.\n",
    "\n",
    "<b> Outliers: </b>\n",
    "\n",
    "We do observe some outliers in the plot 4-boxplot. If we observe any particular outlier very far extreme or unusual energy demand with no proper reasons (or due to some malfunctioning), we drop these observation and treat them as missing value. \n",
    "\n",
    "Here outliers seen in the boxplot are all below 70 and possible reason are energy demand reaching peak durring summer (heavy in Jan and Feb month)."
   ]
  },
  {
   "cell_type": "markdown",
   "id": "62f97381",
   "metadata": {},
   "source": [
    "|<center>Exercise</center>|\n",
    "| ---- |\n",
    "|<center>What other plots could you use to explore the data?</center>|"
   ]
  }
 ],
 "metadata": {
  "colab": {
   "collapsed_sections": [
    "eabfd27f",
    "eAWoA-DNG6mY"
   ],
   "name": "Module-4_Final.ipynb",
   "provenance": []
  },
  "kernelspec": {
   "display_name": "Python 3 (ipykernel)",
   "language": "python",
   "name": "python3"
  },
  "language_info": {
   "codemirror_mode": {
    "name": "ipython",
    "version": 3
   },
   "file_extension": ".py",
   "mimetype": "text/x-python",
   "name": "python",
   "nbconvert_exporter": "python",
   "pygments_lexer": "ipython3",
   "version": "3.9.13"
  }
 },
 "nbformat": 4,
 "nbformat_minor": 5
}

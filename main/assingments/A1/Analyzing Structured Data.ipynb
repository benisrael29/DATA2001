{
 "cells": [
  {
   "cell_type": "markdown",
   "metadata": {},
   "source": [
    "# Analyzing Structured Data"
   ]
  },
  {
   "cell_type": "markdown",
   "metadata": {},
   "source": [
    "In this practical, you'll learn how to analyze structured data using data science methodology starting from problem formulation to storytelling with data."
   ]
  },
  {
   "cell_type": "markdown",
   "metadata": {},
   "source": [
    "# Objectives"
   ]
  },
  {
   "cell_type": "markdown",
   "metadata": {},
   "source": [
    "At the end of this practical, you will be able to:\n",
    "* Efficiently formulate data science problems using design thinking approach\n",
    "* Load data using Python and join multiple tables\n",
    "* Perform univariate and bivariate Exploratory Data Analysis (EDA)\n",
    "* Use cluestering algorithm such as K-Means\n",
    "* Perform structured data analytics using data aggregation\n",
    "* Convey insights from data using visualisations"
   ]
  },
  {
   "cell_type": "markdown",
   "metadata": {},
   "source": [
    "<h1>Table of Contents</h1>\n",
    "\n",
    "<div class=\"alert alert-block alert-info\" style=\"margin-top: 20px\">\n",
    "<ol>\n",
    "    <li><a href=\"#1.-Problem-Formulation\">Problem Formulation</a></li>\n",
    "    <li><a href=\"#2.-Data-Collection\">Data Collection</a></li>\n",
    "    <li><a href=\"#3.-Data-Preparation\">Data Preparation</a></li>\n",
    "    <li><a href=\"#4.-Data-Analysis\">Data Analysis</a></li>\n",
    "    <li><a href=\"#5.-Storytelling-with-Data\">Storytelling with Data</a></li>    \n",
    "    \n",
    "</ol>\n",
    "\n",
    "</div>\n",
    "\n"
   ]
  },
  {
   "cell_type": "markdown",
   "metadata": {},
   "source": [
    "# Data Science Process"
   ]
  },
  {
   "cell_type": "markdown",
   "metadata": {},
   "source": [
    "![Data Science Process Infographic](data_science_process_image.png)\n",
    "<br>\n",
    "<i><center><font size=2> Figure 1. Data Science Process Infographic </font></center></i>"
   ]
  },
  {
   "cell_type": "markdown",
   "metadata": {},
   "source": [
    "In this notebook, you'll follow the above data science process to analyze structured data."
   ]
  },
  {
   "cell_type": "markdown",
   "metadata": {},
   "source": [
    "|Exercise|\n",
    "|:---:|\n",
    "|What is structured data? Give an example of structured data.|\n"
   ]
  },
  {
   "cell_type": "code",
   "execution_count": 1,
   "metadata": {},
   "outputs": [],
   "source": [
    "# write your answer here\n"
   ]
  },
  {
   "cell_type": "markdown",
   "metadata": {},
   "source": [
    "# 1. Problem Formulation"
   ]
  },
  {
   "cell_type": "markdown",
   "metadata": {},
   "source": [
    "With the help of data science methodology, we can derive useful insights from data. But what if these insights are not useful or relevant to our users and we could not fulfill their requirements. In other words, we should understand our users' expectations and needs for data analysis. So the first step of data science methodology is formulating the problem as accurately as possible.\n",
    "\n",
    "Design thinking can help us in formulating data science problems. The core principle of design thinking is to treat humans (users) at the center of any product design process. In data science, humans are main beneficiaries of data derived insights. In design thinking, you ask certain questions to understand users and their reqirements for any data science project. For the practical, we’ll consider following scenario.\n",
    "\n",
    "**Scenario**\n",
    "\n",
    "Consider a large organization which has many divisions such as Sales & Marketing, Analytics, HR, Finance, etc. Across the divisions, the company promotes relevant employees to a higher role based on their performance. Company HR might be interested in knowing promotion trends among the company such as overall promotion rate, gender wise promotion, department wise promotion, etc. This can help company in improving promotion policy.\n",
    "\n",
    "Consider yourself working as a data scientist for the project. Now answer the following questions:\n",
    "\n",
    "|Exercise|\n",
    "|:---:|\n",
    "|1. Why is this analysis carried out?|\n",
    "|2. Who are my stakeholders?|\n",
    "|3. What value does this analysis bring to stakeholders?|"
   ]
  },
  {
   "cell_type": "markdown",
   "metadata": {},
   "source": [
    "# 2. Data Collection"
   ]
  },
  {
   "cell_type": "markdown",
   "metadata": {},
   "source": [
    "Once the problem is defined, next step is to collect data for analysis. Here we'll use employee promotion dataset from Kaggle. Though the dataset has been modified for this practical, you can access original dataset from <a href=\"https://www.kaggle.com/arashnic/hr-ana\">here</a>.\n",
    "\n",
    "In this prac, the data collection process is simplified by providing data. However, in reality this process can be messy and complex. \n",
    "\n",
    "## 2.1 Load data\n",
    "\n",
    "The dataset has two tables.\n",
    "* employee_personal_information.csv\n",
    "* employee_work_information.csv\n",
    "\n",
    "Let's load the data using Pandas as dataframe. Dataframes are 2D data structure that resembles to a table with rows and columns. Dataframes allow to perform useful data manipulation and analysis operations."
   ]
  },
  {
   "cell_type": "markdown",
   "metadata": {},
   "source": [
    "### 2.1.1 Load employee_personal_information.csv"
   ]
  },
  {
   "cell_type": "code",
   "execution_count": 1,
   "metadata": {},
   "outputs": [
    {
     "data": {
      "text/html": [
       "<div>\n",
       "<style scoped>\n",
       "    .dataframe tbody tr th:only-of-type {\n",
       "        vertical-align: middle;\n",
       "    }\n",
       "\n",
       "    .dataframe tbody tr th {\n",
       "        vertical-align: top;\n",
       "    }\n",
       "\n",
       "    .dataframe thead th {\n",
       "        text-align: right;\n",
       "    }\n",
       "</style>\n",
       "<table border=\"1\" class=\"dataframe\">\n",
       "  <thead>\n",
       "    <tr style=\"text-align: right;\">\n",
       "      <th></th>\n",
       "      <th>employee_id</th>\n",
       "      <th>region</th>\n",
       "      <th>education</th>\n",
       "      <th>gender</th>\n",
       "      <th>age</th>\n",
       "    </tr>\n",
       "  </thead>\n",
       "  <tbody>\n",
       "    <tr>\n",
       "      <th>0</th>\n",
       "      <td>E21133</td>\n",
       "      <td>region_13</td>\n",
       "      <td>Master's &amp; above</td>\n",
       "      <td>m</td>\n",
       "      <td>36</td>\n",
       "    </tr>\n",
       "    <tr>\n",
       "      <th>1</th>\n",
       "      <td>E39322</td>\n",
       "      <td>region_31</td>\n",
       "      <td>Bachelor's</td>\n",
       "      <td>m</td>\n",
       "      <td>37</td>\n",
       "    </tr>\n",
       "    <tr>\n",
       "      <th>2</th>\n",
       "      <td>E26399</td>\n",
       "      <td>region_7</td>\n",
       "      <td>Bachelor's</td>\n",
       "      <td>m</td>\n",
       "      <td>30</td>\n",
       "    </tr>\n",
       "    <tr>\n",
       "      <th>3</th>\n",
       "      <td>E18243</td>\n",
       "      <td>region_2</td>\n",
       "      <td>Bachelor's</td>\n",
       "      <td>m</td>\n",
       "      <td>43</td>\n",
       "    </tr>\n",
       "    <tr>\n",
       "      <th>4</th>\n",
       "      <td>E35678</td>\n",
       "      <td>region_26</td>\n",
       "      <td>Master's &amp; above</td>\n",
       "      <td>m</td>\n",
       "      <td>45</td>\n",
       "    </tr>\n",
       "  </tbody>\n",
       "</table>\n",
       "</div>"
      ],
      "text/plain": [
       "  employee_id     region         education gender  age\n",
       "0      E21133  region_13  Master's & above      m   36\n",
       "1      E39322  region_31        Bachelor's      m   37\n",
       "2      E26399   region_7        Bachelor's      m   30\n",
       "3      E18243   region_2        Bachelor's      m   43\n",
       "4      E35678  region_26  Master's & above      m   45"
      ]
     },
     "execution_count": 1,
     "metadata": {},
     "output_type": "execute_result"
    }
   ],
   "source": [
    "# import pandas library using alias pd\n",
    "import pandas as pd\n",
    "#pd.set_option('precision', 2)\n",
    "\n",
    "# load the data\n",
    "personal_information = pd.read_csv(filepath_or_buffer='employee_personal_information.csv')\n",
    "\n",
    "# view first few rows of the data\n",
    "personal_information.head(5)"
   ]
  },
  {
   "cell_type": "markdown",
   "metadata": {},
   "source": [
    "**Column Descriptions**"
   ]
  },
  {
   "cell_type": "markdown",
   "metadata": {},
   "source": [
    "1. **employee_id** : Unique identifier of each employee\n",
    "2. **region** :  Regions of employment (anonymized)\n",
    "3. **education** : Employee's highest education level (possible values - `Below Secondary`, `Bachelor's`, `Master's & above` and missing values)  \n",
    "4. **gender** : Employee's gender (can take two values - `M`(male) and `F`(female))\n",
    "5. **age** : Employee's age in years"
   ]
  },
  {
   "cell_type": "markdown",
   "metadata": {},
   "source": [
    "### 2.1.2 Load employee_work_information.csv"
   ]
  },
  {
   "cell_type": "code",
   "execution_count": 2,
   "metadata": {},
   "outputs": [
    {
     "data": {
      "text/html": [
       "<div>\n",
       "<style scoped>\n",
       "    .dataframe tbody tr th:only-of-type {\n",
       "        vertical-align: middle;\n",
       "    }\n",
       "\n",
       "    .dataframe tbody tr th {\n",
       "        vertical-align: top;\n",
       "    }\n",
       "\n",
       "    .dataframe thead th {\n",
       "        text-align: right;\n",
       "    }\n",
       "</style>\n",
       "<table border=\"1\" class=\"dataframe\">\n",
       "  <thead>\n",
       "    <tr style=\"text-align: right;\">\n",
       "      <th></th>\n",
       "      <th>employee_id</th>\n",
       "      <th>department</th>\n",
       "      <th>recruitment_channel</th>\n",
       "      <th>no_of_trainings</th>\n",
       "      <th>previous_year_rating</th>\n",
       "      <th>length_of_service</th>\n",
       "      <th>awards_won?</th>\n",
       "      <th>avg_training_score</th>\n",
       "      <th>is_promoted</th>\n",
       "    </tr>\n",
       "  </thead>\n",
       "  <tbody>\n",
       "    <tr>\n",
       "      <th>0</th>\n",
       "      <td>E21133</td>\n",
       "      <td>Procurement</td>\n",
       "      <td>other</td>\n",
       "      <td>1</td>\n",
       "      <td>1.0</td>\n",
       "      <td>5</td>\n",
       "      <td>0</td>\n",
       "      <td>73</td>\n",
       "      <td>0</td>\n",
       "    </tr>\n",
       "    <tr>\n",
       "      <th>1</th>\n",
       "      <td>E39322</td>\n",
       "      <td>Sales &amp; Marketing</td>\n",
       "      <td>sourcing</td>\n",
       "      <td>2</td>\n",
       "      <td>2.0</td>\n",
       "      <td>2</td>\n",
       "      <td>0</td>\n",
       "      <td>48</td>\n",
       "      <td>0</td>\n",
       "    </tr>\n",
       "    <tr>\n",
       "      <th>2</th>\n",
       "      <td>E26399</td>\n",
       "      <td>Technology</td>\n",
       "      <td>other</td>\n",
       "      <td>3</td>\n",
       "      <td>4.0</td>\n",
       "      <td>3</td>\n",
       "      <td>0</td>\n",
       "      <td>75</td>\n",
       "      <td>0</td>\n",
       "    </tr>\n",
       "    <tr>\n",
       "      <th>3</th>\n",
       "      <td>E18243</td>\n",
       "      <td>Operations</td>\n",
       "      <td>other</td>\n",
       "      <td>1</td>\n",
       "      <td>5.0</td>\n",
       "      <td>5</td>\n",
       "      <td>0</td>\n",
       "      <td>58</td>\n",
       "      <td>0</td>\n",
       "    </tr>\n",
       "    <tr>\n",
       "      <th>4</th>\n",
       "      <td>E35678</td>\n",
       "      <td>Procurement</td>\n",
       "      <td>sourcing</td>\n",
       "      <td>2</td>\n",
       "      <td>3.0</td>\n",
       "      <td>19</td>\n",
       "      <td>0</td>\n",
       "      <td>68</td>\n",
       "      <td>0</td>\n",
       "    </tr>\n",
       "  </tbody>\n",
       "</table>\n",
       "</div>"
      ],
      "text/plain": [
       "  employee_id         department recruitment_channel  no_of_trainings  \\\n",
       "0      E21133        Procurement               other                1   \n",
       "1      E39322  Sales & Marketing            sourcing                2   \n",
       "2      E26399         Technology               other                3   \n",
       "3      E18243         Operations               other                1   \n",
       "4      E35678        Procurement            sourcing                2   \n",
       "\n",
       "   previous_year_rating  length_of_service  awards_won?  avg_training_score  \\\n",
       "0                   1.0                  5            0                  73   \n",
       "1                   2.0                  2            0                  48   \n",
       "2                   4.0                  3            0                  75   \n",
       "3                   5.0                  5            0                  58   \n",
       "4                   3.0                 19            0                  68   \n",
       "\n",
       "   is_promoted  \n",
       "0            0  \n",
       "1            0  \n",
       "2            0  \n",
       "3            0  \n",
       "4            0  "
      ]
     },
     "execution_count": 2,
     "metadata": {},
     "output_type": "execute_result"
    }
   ],
   "source": [
    "# load the data\n",
    "work_information = pd.read_csv(filepath_or_buffer='employee_work_information.csv')\n",
    "\n",
    "# view first few rows of the data\n",
    "work_information.head(5)"
   ]
  },
  {
   "cell_type": "markdown",
   "metadata": {},
   "source": [
    "**Column Descriptions**"
   ]
  },
  {
   "cell_type": "markdown",
   "metadata": {},
   "source": [
    "1. **employee_id** : Unique identifier of each employee\n",
    "2. **department** :  Department of employee\n",
    "3. **recruitment_channel** : Channel of recruitment of employee\n",
    "4. **no_of_trainings** : Number of trainings employee completed in the previous year such as software training, short courses, etc.\n",
    "5. **previous_year_rating** : Employee's performance rating for the previous year (min possible value is 1 and max possible value is 5)\n",
    "6. **length_of_service** : Number of years the employee has spent working with the organization\n",
    "7. **awards_won?** : Binary variable showing whether the employee won any award(s) in the previous year. It can take two values - 0 and 1. Here 1 indicates the employee won award(s) in the previous year and  0 indicates otherwise.\n",
    "8. **avg_training_score** : Average score in current training evaluations (min possible value is 0 and max possible value is 100)\n",
    "9. **is_promoted** : Binary variable showing whether or not employee got promoted in last year. It can take two values - 0 and 1. Here 1 means employee is promoted and 0 means otherwise."
   ]
  },
  {
   "cell_type": "markdown",
   "metadata": {},
   "source": [
    "## 2.2 Data Integration"
   ]
  },
  {
   "cell_type": "markdown",
   "metadata": {},
   "source": [
    "Sometimes the data we need for analysis is scattered across multiple tables. We can join these tables based on a common column to enrich the data. In our dataset, the common column is `employee_id`. Let's join the table based on `employee_id` and name the joined table as `employee_data`."
   ]
  },
  {
   "cell_type": "code",
   "execution_count": 3,
   "metadata": {},
   "outputs": [
    {
     "data": {
      "text/html": [
       "<div>\n",
       "<style scoped>\n",
       "    .dataframe tbody tr th:only-of-type {\n",
       "        vertical-align: middle;\n",
       "    }\n",
       "\n",
       "    .dataframe tbody tr th {\n",
       "        vertical-align: top;\n",
       "    }\n",
       "\n",
       "    .dataframe thead th {\n",
       "        text-align: right;\n",
       "    }\n",
       "</style>\n",
       "<table border=\"1\" class=\"dataframe\">\n",
       "  <thead>\n",
       "    <tr style=\"text-align: right;\">\n",
       "      <th></th>\n",
       "      <th>employee_id</th>\n",
       "      <th>region</th>\n",
       "      <th>education</th>\n",
       "      <th>gender</th>\n",
       "      <th>age</th>\n",
       "      <th>department</th>\n",
       "      <th>recruitment_channel</th>\n",
       "      <th>no_of_trainings</th>\n",
       "      <th>previous_year_rating</th>\n",
       "      <th>length_of_service</th>\n",
       "      <th>awards_won?</th>\n",
       "      <th>avg_training_score</th>\n",
       "      <th>is_promoted</th>\n",
       "    </tr>\n",
       "  </thead>\n",
       "  <tbody>\n",
       "    <tr>\n",
       "      <th>0</th>\n",
       "      <td>E21133</td>\n",
       "      <td>region_13</td>\n",
       "      <td>Master's &amp; above</td>\n",
       "      <td>m</td>\n",
       "      <td>36</td>\n",
       "      <td>Procurement</td>\n",
       "      <td>other</td>\n",
       "      <td>1</td>\n",
       "      <td>1.0</td>\n",
       "      <td>5</td>\n",
       "      <td>0</td>\n",
       "      <td>73</td>\n",
       "      <td>0</td>\n",
       "    </tr>\n",
       "    <tr>\n",
       "      <th>1</th>\n",
       "      <td>E39322</td>\n",
       "      <td>region_31</td>\n",
       "      <td>Bachelor's</td>\n",
       "      <td>m</td>\n",
       "      <td>37</td>\n",
       "      <td>Sales &amp; Marketing</td>\n",
       "      <td>sourcing</td>\n",
       "      <td>2</td>\n",
       "      <td>2.0</td>\n",
       "      <td>2</td>\n",
       "      <td>0</td>\n",
       "      <td>48</td>\n",
       "      <td>0</td>\n",
       "    </tr>\n",
       "    <tr>\n",
       "      <th>2</th>\n",
       "      <td>E26399</td>\n",
       "      <td>region_7</td>\n",
       "      <td>Bachelor's</td>\n",
       "      <td>m</td>\n",
       "      <td>30</td>\n",
       "      <td>Technology</td>\n",
       "      <td>other</td>\n",
       "      <td>3</td>\n",
       "      <td>4.0</td>\n",
       "      <td>3</td>\n",
       "      <td>0</td>\n",
       "      <td>75</td>\n",
       "      <td>0</td>\n",
       "    </tr>\n",
       "    <tr>\n",
       "      <th>3</th>\n",
       "      <td>E18243</td>\n",
       "      <td>region_2</td>\n",
       "      <td>Bachelor's</td>\n",
       "      <td>m</td>\n",
       "      <td>43</td>\n",
       "      <td>Operations</td>\n",
       "      <td>other</td>\n",
       "      <td>1</td>\n",
       "      <td>5.0</td>\n",
       "      <td>5</td>\n",
       "      <td>0</td>\n",
       "      <td>58</td>\n",
       "      <td>0</td>\n",
       "    </tr>\n",
       "    <tr>\n",
       "      <th>4</th>\n",
       "      <td>E35678</td>\n",
       "      <td>region_26</td>\n",
       "      <td>Master's &amp; above</td>\n",
       "      <td>m</td>\n",
       "      <td>45</td>\n",
       "      <td>Procurement</td>\n",
       "      <td>sourcing</td>\n",
       "      <td>2</td>\n",
       "      <td>3.0</td>\n",
       "      <td>19</td>\n",
       "      <td>0</td>\n",
       "      <td>68</td>\n",
       "      <td>0</td>\n",
       "    </tr>\n",
       "  </tbody>\n",
       "</table>\n",
       "</div>"
      ],
      "text/plain": [
       "  employee_id     region         education gender  age         department  \\\n",
       "0      E21133  region_13  Master's & above      m   36        Procurement   \n",
       "1      E39322  region_31        Bachelor's      m   37  Sales & Marketing   \n",
       "2      E26399   region_7        Bachelor's      m   30         Technology   \n",
       "3      E18243   region_2        Bachelor's      m   43         Operations   \n",
       "4      E35678  region_26  Master's & above      m   45        Procurement   \n",
       "\n",
       "  recruitment_channel  no_of_trainings  previous_year_rating  \\\n",
       "0               other                1                   1.0   \n",
       "1            sourcing                2                   2.0   \n",
       "2               other                3                   4.0   \n",
       "3               other                1                   5.0   \n",
       "4            sourcing                2                   3.0   \n",
       "\n",
       "   length_of_service  awards_won?  avg_training_score  is_promoted  \n",
       "0                  5            0                  73            0  \n",
       "1                  2            0                  48            0  \n",
       "2                  3            0                  75            0  \n",
       "3                  5            0                  58            0  \n",
       "4                 19            0                  68            0  "
      ]
     },
     "execution_count": 3,
     "metadata": {},
     "output_type": "execute_result"
    }
   ],
   "source": [
    "# perform inner join between personal_information and work_information tables\n",
    "employee_data = pd.merge(left=personal_information, right=work_information,\n",
    "                        how='inner', on='employee_id')\n",
    "\n",
    "# print first few rows of joined table\n",
    "employee_data.head()"
   ]
  },
  {
   "cell_type": "markdown",
   "metadata": {},
   "source": [
    "If you observe the arguements in the function `pd.merge()`, there are four arguments. Here `left` and `right` indicate the tables that will be left or right in the join. The arguement `how` indicate the type of join. For this dataset, we used `inner` join. It means only intersecting `employee_id` from both the tables will be preserved in the joined table.\n",
    "\n",
    "#### Read more about joining in Pandas\n",
    "\n",
    "* <a href=\"https://ebookcentral-proquest-com.ezproxy.library.uq.edu.au/lib/uql/reader.action?docID=4746657&ppg=164\">UQ Library - Python Data Science Handbook : Essential Tools for Working with Data</a>\n",
    "* <a href=\"https://pandas.pydata.org/pandas-docs/stable/user_guide/merging.html\">Pandas Article - Merge, join, concatenate and compare</a>\n",
    "* <a href=\"https://medium.com/swlh/merging-dataframes-with-pandas-pd-merge-7764c7e2d46d\">Medium Article - Merging DataFrames with pandas</a>"
   ]
  },
  {
   "cell_type": "markdown",
   "metadata": {},
   "source": [
    "# 3. Data Preparation"
   ]
  },
  {
   "cell_type": "markdown",
   "metadata": {},
   "source": [
    "The collected data can be messy and full of data quality issues. The data needs to be examined thoroughly and cleaned before performing analysis. In this step, you'll learn to perform Exploratory Data Analysis (EDA), Data Enrichment, Clustering, and Data Reshaping techniques."
   ]
  },
  {
   "cell_type": "markdown",
   "metadata": {},
   "source": [
    "\n",
    "## 3.1 Exploratory Data Analysis (EDA)"
   ]
  },
  {
   "cell_type": "markdown",
   "metadata": {},
   "source": [
    "In Exploratory Data Analysis or EDA, you'll explore data to understand its main characteristics using descriptive statistics and data visualisation. During EDA, you'll come across some data quality issues and learn to fix them."
   ]
  },
  {
   "cell_type": "markdown",
   "metadata": {},
   "source": [
    "### 3.1.1 Shape and Info of columns"
   ]
  },
  {
   "cell_type": "code",
   "execution_count": 4,
   "metadata": {},
   "outputs": [
    {
     "data": {
      "text/plain": [
       "(54838, 13)"
      ]
     },
     "execution_count": 4,
     "metadata": {},
     "output_type": "execute_result"
    }
   ],
   "source": [
    "# shape of data\n",
    "employee_data.shape"
   ]
  },
  {
   "cell_type": "markdown",
   "metadata": {},
   "source": [
    "It can be observed that the dataset has 54388 rows and 13 columns."
   ]
  },
  {
   "cell_type": "code",
   "execution_count": 5,
   "metadata": {},
   "outputs": [
    {
     "name": "stdout",
     "output_type": "stream",
     "text": [
      "<class 'pandas.core.frame.DataFrame'>\n",
      "Int64Index: 54838 entries, 0 to 54837\n",
      "Data columns (total 13 columns):\n",
      " #   Column                Non-Null Count  Dtype  \n",
      "---  ------                --------------  -----  \n",
      " 0   employee_id           54838 non-null  object \n",
      " 1   region                54838 non-null  object \n",
      " 2   education             52426 non-null  object \n",
      " 3   gender                54838 non-null  object \n",
      " 4   age                   54838 non-null  int64  \n",
      " 5   department            54838 non-null  object \n",
      " 6   recruitment_channel   54838 non-null  object \n",
      " 7   no_of_trainings       54838 non-null  int64  \n",
      " 8   previous_year_rating  50712 non-null  float64\n",
      " 9   length_of_service     54838 non-null  int64  \n",
      " 10  awards_won?           54838 non-null  int64  \n",
      " 11  avg_training_score    54838 non-null  int64  \n",
      " 12  is_promoted           54838 non-null  int64  \n",
      "dtypes: float64(1), int64(6), object(6)\n",
      "memory usage: 5.9+ MB\n"
     ]
    }
   ],
   "source": [
    "# concise summary of the dataset\n",
    "employee_data.info()"
   ]
  },
  {
   "cell_type": "markdown",
   "metadata": {},
   "source": [
    "|Exercise|\n",
    "|:---:|\n",
    "|The above summary shows number of non-missing values and data-type of each column. What are your observations?|\n"
   ]
  },
  {
   "cell_type": "code",
   "execution_count": 114,
   "metadata": {},
   "outputs": [],
   "source": [
    "# write your answer here\n",
    "\n"
   ]
  },
  {
   "cell_type": "markdown",
   "metadata": {},
   "source": [
    "**Identify number of missing values**"
   ]
  },
  {
   "cell_type": "code",
   "execution_count": 6,
   "metadata": {},
   "outputs": [
    {
     "data": {
      "text/plain": [
       "employee_id                0\n",
       "region                     0\n",
       "education               2412\n",
       "gender                     0\n",
       "age                        0\n",
       "department                 0\n",
       "recruitment_channel        0\n",
       "no_of_trainings            0\n",
       "previous_year_rating    4126\n",
       "length_of_service          0\n",
       "awards_won?                0\n",
       "avg_training_score         0\n",
       "is_promoted                0\n",
       "dtype: int64"
      ]
     },
     "execution_count": 6,
     "metadata": {},
     "output_type": "execute_result"
    }
   ],
   "source": [
    "employee_data.isna().sum()"
   ]
  },
  {
   "cell_type": "markdown",
   "metadata": {},
   "source": [
    "Currently, the data has missing values in `education` and `previous_year_rating` columns. The missing data can be handled in the following ways:\n",
    "* Remove rows containing missing data (not usually recommended as it leads to loss of data)\n",
    "* Find the replacement values for the missing values from the original source of data (recommended)\n",
    "* Impute the missing data using the best estimate of the missing values based on non-missing values (recommended) "
   ]
  },
  {
   "cell_type": "markdown",
   "metadata": {},
   "source": [
    "After finishing EDA, you'll learn to perform imputation of missing values."
   ]
  },
  {
   "cell_type": "markdown",
   "metadata": {},
   "source": [
    "### 3.1.2 Univariate EDA"
   ]
  },
  {
   "cell_type": "markdown",
   "metadata": {},
   "source": [
    "In univariate EDA, you'll explore each column in isolation to identify its distribution and/or data quality issues."
   ]
  },
  {
   "cell_type": "markdown",
   "metadata": {},
   "source": [
    "### Column 'employee_id'"
   ]
  },
  {
   "cell_type": "code",
   "execution_count": 7,
   "metadata": {},
   "outputs": [
    {
     "data": {
      "text/plain": [
       "count      54838\n",
       "unique     54808\n",
       "top       E55200\n",
       "freq           4\n",
       "Name: employee_id, dtype: object"
      ]
     },
     "execution_count": 7,
     "metadata": {},
     "output_type": "execute_result"
    }
   ],
   "source": [
    "# summarize employee_id\n",
    "employee_data[\"employee_id\"].describe()"
   ]
  },
  {
   "cell_type": "markdown",
   "metadata": {},
   "source": [
    "**Unique count of employee_id and total count is not same. It indicates potential duplicates in the data.**"
   ]
  },
  {
   "cell_type": "code",
   "execution_count": 8,
   "metadata": {},
   "outputs": [
    {
     "data": {
      "text/plain": [
       "30"
      ]
     },
     "execution_count": 8,
     "metadata": {},
     "output_type": "execute_result"
    }
   ],
   "source": [
    "# count number of duplicates in the data\n",
    "employee_data.duplicated().sum()"
   ]
  },
  {
   "cell_type": "markdown",
   "metadata": {},
   "source": [
    "It can be observed that the data contains total 30 duplicate rows. You can keep one orginial copy and discard the other copies. To de-duplicate the data, you can use `.drop_duplicates(keep='first)` method on dataframe. Here `keep='first'` will retain first occurrence as original and discard others. You can change `keep` to `last` to mark last occurrence as original and discard others. Read more about it <a href=\"https://pandas.pydata.org/docs/reference/api/pandas.DataFrame.drop_duplicates.html\"> here</a>."
   ]
  },
  {
   "cell_type": "code",
   "execution_count": 9,
   "metadata": {},
   "outputs": [
    {
     "data": {
      "text/plain": [
       "0"
      ]
     },
     "execution_count": 9,
     "metadata": {},
     "output_type": "execute_result"
    }
   ],
   "source": [
    "# remove duplicates\n",
    "employee_data = employee_data.drop_duplicates(keep='first')\n",
    "\n",
    "# verify that duplicates have been removed by counting duplicates\n",
    "employee_data.duplicated(keep=False).sum()"
   ]
  },
  {
   "cell_type": "markdown",
   "metadata": {},
   "source": [
    "### Column 'region'"
   ]
  },
  {
   "cell_type": "code",
   "execution_count": 10,
   "metadata": {},
   "outputs": [
    {
     "data": {
      "text/plain": [
       "count        54808\n",
       "unique          34\n",
       "top       region_2\n",
       "freq         12343\n",
       "Name: region, dtype: object"
      ]
     },
     "execution_count": 10,
     "metadata": {},
     "output_type": "execute_result"
    }
   ],
   "source": [
    "# summarize region\n",
    "employee_data[\"region\"].describe()"
   ]
  },
  {
   "cell_type": "code",
   "execution_count": 11,
   "metadata": {},
   "outputs": [
    {
     "data": {
      "text/plain": [
       "array(['region_13', 'region_31', 'region_7', 'region_2', 'region_26',\n",
       "       'region_23', 'region_15', 'region_27', 'region_11', 'region_12',\n",
       "       'region_16', 'region_22', 'region_20', 'region_28', 'region_34',\n",
       "       'region_17', 'region_1', 'region_14', 'region_3', 'region_30',\n",
       "       'region_10', 'region_4', 'region_32', 'region_6', 'region_25',\n",
       "       'region_9', 'region_19', 'region_8', 'region_29', 'region_5',\n",
       "       'region_21', 'region_24', 'region_33', 'region_18'], dtype=object)"
      ]
     },
     "execution_count": 11,
     "metadata": {},
     "output_type": "execute_result"
    }
   ],
   "source": [
    "# view unique values\n",
    "employee_data[\"region\"].unique()"
   ]
  },
  {
   "cell_type": "code",
   "execution_count": 12,
   "metadata": {},
   "outputs": [
    {
     "data": {
      "text/plain": [
       "region_2     12343\n",
       "region_22     6428\n",
       "region_7      4843\n",
       "region_15     2808\n",
       "region_13     2648\n",
       "region_26     2260\n",
       "region_31     1935\n",
       "region_4      1703\n",
       "region_27     1659\n",
       "region_16     1465\n",
       "Name: region, dtype: int64"
      ]
     },
     "execution_count": 12,
     "metadata": {},
     "output_type": "execute_result"
    }
   ],
   "source": [
    "# distribution of the 'region' column\n",
    "# nalrgest(10) prints top 10 values in desceding order of their frequency\n",
    "region_distribution = employee_data[\"region\"].value_counts().nlargest(10)\n",
    "region_distribution"
   ]
  },
  {
   "cell_type": "code",
   "execution_count": 13,
   "metadata": {},
   "outputs": [
    {
     "data": {
      "image/png": "[encoded data removed]",
      "text/plain": [
       "<Figure size 432x288 with 1 Axes>"
      ]
     },
     "metadata": {
      "needs_background": "light"
     },
     "output_type": "display_data"
    }
   ],
   "source": [
    "# plot distribution of the 'region' column\n",
    "region_distribution.plot.bar(xlabel=\"Region\", ylabel=\"Count of Region\", grid=False, title=\"Distribution of Region\");"
   ]
  },
  {
   "cell_type": "markdown",
   "metadata": {},
   "source": [
    "It can be observed that `region_2` has highest number of employees, followed by `region_22`."
   ]
  },
  {
   "cell_type": "markdown",
   "metadata": {},
   "source": [
    "### Column 'education'"
   ]
  },
  {
   "cell_type": "code",
   "execution_count": 14,
   "metadata": {},
   "outputs": [
    {
     "data": {
      "text/plain": [
       "array([\"Master's & above\", \"Bachelor's\", nan, 'Undergraduate',\n",
       "       'Postgraduate & higher', 'Masters', 'Below Secondary', 'Bachelors'],\n",
       "      dtype=object)"
      ]
     },
     "execution_count": 14,
     "metadata": {},
     "output_type": "execute_result"
    }
   ],
   "source": [
    "# view unique values\n",
    "employee_data['education'].unique()"
   ]
  },
  {
   "cell_type": "markdown",
   "metadata": {},
   "source": [
    "**Referring to the description of the column `education`, it seems there is inconsistency in column values along with missing values 'nan'. Let's fix the inconsistency.**"
   ]
  },
  {
   "cell_type": "code",
   "execution_count": 15,
   "metadata": {},
   "outputs": [
    {
     "data": {
      "text/plain": [
       "array([\"Master's & above\", \"Bachelor's\", nan, 'Below Secondary'],\n",
       "      dtype=object)"
      ]
     },
     "execution_count": 15,
     "metadata": {},
     "output_type": "execute_result"
    }
   ],
   "source": [
    "# define replacement dictionary\n",
    "education_replacement = {'Bachelors':\"Bachelor's\", \n",
    "                         'Undergraduate':\"Bachelor's\",\n",
    "                         'Postgraduate & higher':\"Master's & above\", \n",
    "                         'Masters':\"Master's & above\"}\n",
    "\n",
    "# perform replacement\n",
    "employee_data[\"education\"] = employee_data[\"education\"].replace(education_replacement)\n",
    "\n",
    "# verify that gender values are now consistent\n",
    "employee_data[\"education\"].unique()"
   ]
  },
  {
   "cell_type": "code",
   "execution_count": 16,
   "metadata": {},
   "outputs": [
    {
     "data": {
      "image/png": "[encoded data removed]",
      "text/plain": [
       "<Figure size 432x288 with 1 Axes>"
      ]
     },
     "metadata": {},
     "output_type": "display_data"
    }
   ],
   "source": [
    "# distribution of the 'education' column values\n",
    "education_distribution = employee_data[\"education\"].value_counts(dropna=False, normalize=True)\n",
    "\n",
    "# make a pie chart\n",
    "education_distribution.plot.pie(autopct='%1.0f%%', pctdistance=0.8, radius=1, title=\"Distribution of Education\");"
   ]
  },
  {
   "cell_type": "markdown",
   "metadata": {},
   "source": [
    "It can be observed that majority of employees have Bachelor's degree and 4% of employees' education information is missing."
   ]
  },
  {
   "cell_type": "markdown",
   "metadata": {},
   "source": [
    "### Column 'gender'"
   ]
  },
  {
   "cell_type": "code",
   "execution_count": 17,
   "metadata": {},
   "outputs": [
    {
     "data": {
      "text/plain": [
       "array(['m', 'f', 'M', 'male', 'Female', 'female', 'Male', 'F'],\n",
       "      dtype=object)"
      ]
     },
     "execution_count": 17,
     "metadata": {},
     "output_type": "execute_result"
    }
   ],
   "source": [
    "# view unique values\n",
    "employee_data['gender'].unique()"
   ]
  },
  {
   "cell_type": "markdown",
   "metadata": {},
   "source": [
    "|Exercise|\n",
    "|:---:|\n",
    "|It can be observed that `gender` column has inconsistencies in values. You need to fix those values and then analyze using appropriate chart. Hint : Refer to the 'gender' column description to know valid values.|\n"
   ]
  },
  {
   "cell_type": "code",
   "execution_count": 128,
   "metadata": {},
   "outputs": [],
   "source": [
    "# fix gender inconsistencies\n",
    "\n"
   ]
  },
  {
   "cell_type": "code",
   "execution_count": 129,
   "metadata": {},
   "outputs": [],
   "source": [
    "# analyze gender column\n",
    "\n",
    "\n"
   ]
  },
  {
   "cell_type": "markdown",
   "metadata": {},
   "source": [
    "### Column 'age'"
   ]
  },
  {
   "cell_type": "code",
   "execution_count": 18,
   "metadata": {},
   "outputs": [
    {
     "data": {
      "text/plain": [
       "count    54808.000000\n",
       "mean        34.889870\n",
       "std         10.018824\n",
       "min         20.000000\n",
       "25%         29.000000\n",
       "50%         33.000000\n",
       "75%         39.000000\n",
       "max        621.000000\n",
       "Name: age, dtype: float64"
      ]
     },
     "execution_count": 18,
     "metadata": {},
     "output_type": "execute_result"
    }
   ],
   "source": [
    "# summarize age\n",
    "employee_data['age'].describe()"
   ]
  },
  {
   "cell_type": "markdown",
   "metadata": {},
   "source": [
    "#### The max value of `age` is 621! Let's explore it further."
   ]
  },
  {
   "cell_type": "code",
   "execution_count": 19,
   "metadata": {},
   "outputs": [
    {
     "data": {
      "image/png": "[encoded data removed]",
      "text/plain": [
       "<Figure size 432x288 with 1 Axes>"
      ]
     },
     "metadata": {
      "needs_background": "light"
     },
     "output_type": "display_data"
    }
   ],
   "source": [
    "# boxplot of age\n",
    "employee_data[\"age\"].plot.box(vert=False, title=\"Distribution of Age\");"
   ]
  },
  {
   "cell_type": "markdown",
   "metadata": {},
   "source": [
    "Lots of outliers can be observed. You can either remove the rows with outlier or mark them as missing, which can later be imputed. Here, we'll mark age above 100 as missing."
   ]
  },
  {
   "cell_type": "code",
   "execution_count": 20,
   "metadata": {},
   "outputs": [
    {
     "data": {
      "text/plain": [
       "10"
      ]
     },
     "execution_count": 20,
     "metadata": {},
     "output_type": "execute_result"
    }
   ],
   "source": [
    "# identify out of bound values in age\n",
    "# following will return true for out of bound values and false otherwise\n",
    "boolean_mask = employee_data[\"age\"] > 100\n",
    "\n",
    "# count out of bound values\n",
    "boolean_mask.sum()"
   ]
  },
  {
   "cell_type": "code",
   "execution_count": 21,
   "metadata": {},
   "outputs": [
    {
     "data": {
      "text/plain": [
       "count    54798.000000\n",
       "mean        34.803880\n",
       "std          7.660358\n",
       "min         20.000000\n",
       "25%         29.000000\n",
       "50%         33.000000\n",
       "75%         39.000000\n",
       "max         60.000000\n",
       "Name: age, dtype: float64"
      ]
     },
     "execution_count": 21,
     "metadata": {},
     "output_type": "execute_result"
    }
   ],
   "source": [
    "# import numpy with alias np\n",
    "import numpy as np\n",
    "\n",
    "# mark out of bounds as missing values (np.nan)\n",
    "employee_data.loc[boolean_mask, \"age\"] = np.nan\n",
    "\n",
    "# verify that out of bounds are now removed \n",
    "employee_data[\"age\"].describe()"
   ]
  },
  {
   "cell_type": "code",
   "execution_count": 22,
   "metadata": {},
   "outputs": [
    {
     "data": {
      "image/png": "[encoded data removed]",
      "text/plain": [
       "<Figure size 432x288 with 1 Axes>"
      ]
     },
     "metadata": {
      "needs_background": "light"
     },
     "output_type": "display_data"
    }
   ],
   "source": [
    "# histogram of age\n",
    "employee_data[\"age\"].plot.hist(grid=False, bins=10, title=\"Distribution of Age\");"
   ]
  },
  {
   "cell_type": "markdown",
   "metadata": {},
   "source": [
    "It can be observed that majority of the employees are aged between 27 to 35 years."
   ]
  },
  {
   "cell_type": "markdown",
   "metadata": {},
   "source": [
    "### Column 'department'"
   ]
  },
  {
   "cell_type": "code",
   "execution_count": 23,
   "metadata": {},
   "outputs": [
    {
     "data": {
      "text/plain": [
       "count                 54808\n",
       "unique                    9\n",
       "top       Sales & Marketing\n",
       "freq                  16840\n",
       "Name: department, dtype: object"
      ]
     },
     "execution_count": 23,
     "metadata": {},
     "output_type": "execute_result"
    }
   ],
   "source": [
    "# summarize department column\n",
    "employee_data[\"department\"].describe()"
   ]
  },
  {
   "cell_type": "code",
   "execution_count": 24,
   "metadata": {},
   "outputs": [
    {
     "data": {
      "text/plain": [
       "array(['Procurement', 'Sales & Marketing', 'Technology', 'Operations',\n",
       "       'Finance', 'Analytics', 'Legal', 'R&D', 'HR'], dtype=object)"
      ]
     },
     "execution_count": 24,
     "metadata": {},
     "output_type": "execute_result"
    }
   ],
   "source": [
    "# view unique department values\n",
    "employee_data[\"department\"].unique()"
   ]
  },
  {
   "cell_type": "code",
   "execution_count": 26,
   "metadata": {},
   "outputs": [
    {
     "name": "stdout",
     "output_type": "stream",
     "text": [
      "Defaulting to user installation because normal site-packages is not writeable\n",
      "Collecting squarify\n",
      "  Downloading squarify-0.4.3-py3-none-any.whl (4.3 kB)\n",
      "Installing collected packages: squarify\n",
      "Successfully installed squarify-0.4.3\n",
      "--- Logging error ---\n",
      "Traceback (most recent call last):\n",
      "  File \"/usr/local/lib/python3.9/dist-packages/pip/_internal/utils/logging.py\", line 177, in emit\n",
      "    self.console.print(renderable, overflow=\"ignore\", crop=False, style=style)\n",
      "  File \"/usr/local/lib/python3.9/dist-packages/pip/_vendor/rich/console.py\", line 1752, in print\n",
      "    extend(render(renderable, render_options))\n",
      "  File \"/usr/local/lib/python3.9/dist-packages/pip/_vendor/rich/console.py\", line 1390, in render\n",
      "    for render_output in iter_render:\n",
      "  File \"/usr/local/lib/python3.9/dist-packages/pip/_internal/utils/logging.py\", line 134, in __rich_console__\n",
      "    for line in lines:\n",
      "  File \"/usr/local/lib/python3.9/dist-packages/pip/_vendor/rich/segment.py\", line 245, in split_lines\n",
      "    for segment in segments:\n",
      "  File \"/usr/local/lib/python3.9/dist-packages/pip/_vendor/rich/console.py\", line 1368, in render\n",
      "    renderable = rich_cast(renderable)\n",
      "  File \"/usr/local/lib/python3.9/dist-packages/pip/_vendor/rich/protocol.py\", line 36, in rich_cast\n",
      "    renderable = cast_method()\n",
      "  File \"/usr/local/lib/python3.9/dist-packages/pip/_internal/self_outdated_check.py\", line 130, in __rich__\n",
      "    pip_cmd = get_best_invocation_for_this_pip()\n",
      "  File \"/usr/local/lib/python3.9/dist-packages/pip/_internal/utils/entrypoints.py\", line 58, in get_best_invocation_for_this_pip\n",
      "    if found_executable and os.path.samefile(\n",
      "  File \"/usr/lib/python3.9/genericpath.py\", line 101, in samefile\n",
      "    s2 = os.stat(f2)\n",
      "FileNotFoundError: [Errno 2] No such file or directory: '/usr/bin/pip'\n",
      "Call stack:\n",
      "  File \"/usr/local/bin/pip\", line 8, in <module>\n",
      "    sys.exit(main())\n",
      "  File \"/usr/local/lib/python3.9/dist-packages/pip/_internal/cli/main.py\", line 70, in main\n",
      "    return command.main(cmd_args)\n",
      "  File \"/usr/local/lib/python3.9/dist-packages/pip/_internal/cli/base_command.py\", line 101, in main\n",
      "    return self._main(args)\n",
      "  File \"/usr/local/lib/python3.9/dist-packages/pip/_internal/cli/base_command.py\", line 223, in _main\n",
      "    self.handle_pip_version_check(options)\n",
      "  File \"/usr/local/lib/python3.9/dist-packages/pip/_internal/cli/req_command.py\", line 148, in handle_pip_version_check\n",
      "    pip_self_version_check(session, options)\n",
      "  File \"/usr/local/lib/python3.9/dist-packages/pip/_internal/self_outdated_check.py\", line 237, in pip_self_version_check\n",
      "    logger.info(\"[present-rich] %s\", upgrade_prompt)\n",
      "  File \"/usr/lib/python3.9/logging/__init__.py\", line 1446, in info\n",
      "    self._log(INFO, msg, args, **kwargs)\n",
      "  File \"/usr/lib/python3.9/logging/__init__.py\", line 1589, in _log\n",
      "    self.handle(record)\n",
      "  File \"/usr/lib/python3.9/logging/__init__.py\", line 1599, in handle\n",
      "    self.callHandlers(record)\n",
      "  File \"/usr/lib/python3.9/logging/__init__.py\", line 1661, in callHandlers\n",
      "    hdlr.handle(record)\n",
      "  File \"/usr/lib/python3.9/logging/__init__.py\", line 952, in handle\n",
      "    self.emit(record)\n",
      "  File \"/usr/local/lib/python3.9/dist-packages/pip/_internal/utils/logging.py\", line 179, in emit\n",
      "    self.handleError(record)\n",
      "Message: '[present-rich] %s'\n",
      "Arguments: (UpgradePrompt(old='22.1.2', new='22.2.2'),)\n"
     ]
    },
    {
     "data": {
      "image/png": "[encoded data removed]",
      "text/plain": [
       "<Figure size 432x288 with 1 Axes>"
      ]
     },
     "metadata": {
      "needs_background": "light"
     },
     "output_type": "display_data"
    }
   ],
   "source": [
    "# distribution of the 'department' column\n",
    "department_distribution = employee_data[\"department\"].value_counts()\n",
    "\n",
    "# uncomment following line if you get error 'module not found'\n",
    "# !pip install squarify\n",
    "\n",
    "import squarify \n",
    "from matplotlib import pyplot as plt\n",
    "\n",
    "# plot treemap of the 'department' column \n",
    "ax=squarify.plot(sizes=department_distribution, label=department_distribution.index, alpha=0.9, pad=True)\n",
    "plt.title(\"Treemap showing distribution of Department\");"
   ]
  },
  {
   "cell_type": "markdown",
   "metadata": {},
   "source": [
    "Treemaps are useful for part-to-whole comaprisons. The size of the rectangle indicates distribution of the value in the column. It can be seen that majority of the employees belong to `Sales and Marketing` department, followed by `Operations`."
   ]
  },
  {
   "cell_type": "markdown",
   "metadata": {},
   "source": [
    "### Column 'previous_year_rating'"
   ]
  },
  {
   "cell_type": "code",
   "execution_count": 27,
   "metadata": {},
   "outputs": [
    {
     "data": {
      "text/plain": [
       "count    50685.000000\n",
       "mean         3.330453\n",
       "std          1.261849\n",
       "min          1.000000\n",
       "25%          3.000000\n",
       "50%          3.000000\n",
       "75%          4.000000\n",
       "max          9.000000\n",
       "Name: previous_year_rating, dtype: float64"
      ]
     },
     "execution_count": 27,
     "metadata": {},
     "output_type": "execute_result"
    }
   ],
   "source": [
    "# summarize previous_year_rating column\n",
    "employee_data[\"previous_year_rating\"].describe()"
   ]
  },
  {
   "cell_type": "markdown",
   "metadata": {},
   "source": [
    "#### Max rating is 9, which is out of the bound as maximum possible rating is 5."
   ]
  },
  {
   "cell_type": "code",
   "execution_count": 28,
   "metadata": {},
   "outputs": [
    {
     "data": {
      "text/plain": [
       "array([ 1.,  2.,  4.,  5.,  3., nan,  9.,  7.,  8.,  6.])"
      ]
     },
     "execution_count": 28,
     "metadata": {},
     "output_type": "execute_result"
    }
   ],
   "source": [
    "# view unique previous_year_rating values\n",
    "employee_data[\"previous_year_rating\"].unique()"
   ]
  },
  {
   "cell_type": "code",
   "execution_count": 29,
   "metadata": {},
   "outputs": [
    {
     "data": {
      "image/png": "[encoded data removed]",
      "text/plain": [
       "<Figure size 432x288 with 1 Axes>"
      ]
     },
     "metadata": {
      "needs_background": "light"
     },
     "output_type": "display_data"
    }
   ],
   "source": [
    "# box plot of previous_year_rating\n",
    "employee_data[\"previous_year_rating\"].plot.box(title=\"Distribution of Previous Year Rating\");"
   ]
  },
  {
   "cell_type": "markdown",
   "metadata": {},
   "source": [
    "|Exercise|\n",
    "|:---:|\n",
    "|Fix the invalid outlier (out of bound) values and then analyze using appropriate chart(s). Hint : Refer to the 'previous_year_rating' column description to know valid values.|\n"
   ]
  },
  {
   "cell_type": "code",
   "execution_count": 150,
   "metadata": {},
   "outputs": [],
   "source": [
    "# fix out of bound values in previous_year_rating\n",
    "\n"
   ]
  },
  {
   "cell_type": "code",
   "execution_count": 151,
   "metadata": {},
   "outputs": [],
   "source": [
    "# analyze previous_year_rating column\n",
    "\n",
    "\n"
   ]
  },
  {
   "cell_type": "markdown",
   "metadata": {},
   "source": [
    "<font size=3><b>Column 'avg_training_score'</b></font>"
   ]
  },
  {
   "cell_type": "code",
   "execution_count": 30,
   "metadata": {},
   "outputs": [
    {
     "data": {
      "text/plain": [
       "count    54808.000000\n",
       "mean        63.386750\n",
       "std         13.371559\n",
       "min         39.000000\n",
       "25%         51.000000\n",
       "50%         60.000000\n",
       "75%         76.000000\n",
       "max         99.000000\n",
       "Name: avg_training_score, dtype: float64"
      ]
     },
     "execution_count": 30,
     "metadata": {},
     "output_type": "execute_result"
    }
   ],
   "source": [
    "# summarize avg_training_score column\n",
    "employee_data[\"avg_training_score\"].describe()"
   ]
  },
  {
   "cell_type": "code",
   "execution_count": 31,
   "metadata": {},
   "outputs": [
    {
     "data": {
      "text/plain": [
       "array([73, 48, 75, 58, 68, 78, 56, 70, 43, 82, 62, 61, 49, 47, 55, 60, 53,\n",
       "       51, 83, 66, 50, 88, 59, 45, 76, 57, 71, 79, 46, 81, 77, 69, 65, 63,\n",
       "       64, 94, 87, 72, 85, 54, 67, 99, 52, 80, 84, 95, 89, 44, 86, 92, 93,\n",
       "       74, 96, 91, 90, 41, 98, 97, 42, 40, 39])"
      ]
     },
     "execution_count": 31,
     "metadata": {},
     "output_type": "execute_result"
    }
   ],
   "source": [
    "# view unique awards_won? values\n",
    "employee_data[\"avg_training_score\"].unique()"
   ]
  },
  {
   "cell_type": "code",
   "execution_count": 32,
   "metadata": {},
   "outputs": [
    {
     "data": {
      "image/png": "[encoded data removed]",
      "text/plain": [
       "<Figure size 432x288 with 1 Axes>"
      ]
     },
     "metadata": {
      "needs_background": "light"
     },
     "output_type": "display_data"
    }
   ],
   "source": [
    "# box plot of avg_training_score\n",
    "employee_data[\"avg_training_score\"].plot.box(vert=False, title=\"Distribution of Average Training Score\");"
   ]
  },
  {
   "cell_type": "markdown",
   "metadata": {},
   "source": [
    "The column does not have any outlier as evident from the box-plot."
   ]
  },
  {
   "cell_type": "markdown",
   "metadata": {},
   "source": [
    "### Column 'is_promoted'"
   ]
  },
  {
   "cell_type": "code",
   "execution_count": 33,
   "metadata": {},
   "outputs": [
    {
     "data": {
      "text/plain": [
       "count    54808.000000\n",
       "mean         0.085170\n",
       "std          0.279137\n",
       "min          0.000000\n",
       "25%          0.000000\n",
       "50%          0.000000\n",
       "75%          0.000000\n",
       "max          1.000000\n",
       "Name: is_promoted, dtype: float64"
      ]
     },
     "execution_count": 33,
     "metadata": {},
     "output_type": "execute_result"
    }
   ],
   "source": [
    "# summarize is_promoted column\n",
    "employee_data[\"is_promoted\"].describe()"
   ]
  },
  {
   "cell_type": "code",
   "execution_count": 34,
   "metadata": {},
   "outputs": [
    {
     "data": {
      "image/png": "[encoded data removed]",
      "text/plain": [
       "<Figure size 432x288 with 1 Axes>"
      ]
     },
     "metadata": {},
     "output_type": "display_data"
    }
   ],
   "source": [
    "# distribution of the 'is_promoted' column values\n",
    "is_promoted_distribution = employee_data[\"is_promoted\"].value_counts()\n",
    "is_promoted_distribution\n",
    "\n",
    "# make a pie chart\n",
    "is_promoted_distribution.plot.pie(autopct='%1.2f%%', pctdistance=0.7, radius=1, title=\"Proprotion of Promoted and Unpromoted Employees\");"
   ]
  },
  {
   "cell_type": "markdown",
   "metadata": {},
   "source": [
    "It can be observed that approximately companywide 9% of employees have been promoted."
   ]
  },
  {
   "cell_type": "markdown",
   "metadata": {},
   "source": [
    "### 3.1.3 Bivariate EDA"
   ]
  },
  {
   "cell_type": "code",
   "execution_count": 35,
   "metadata": {},
   "outputs": [],
   "source": [
    "# import partially cleaned data\n",
    "# comment the following line if you want to use your cleaned version\n",
    "employee_data = pd.read_csv(\"employee_data_partially_cleaned.csv\")"
   ]
  },
  {
   "cell_type": "markdown",
   "metadata": {},
   "source": [
    "### Correlation among numeric data"
   ]
  },
  {
   "cell_type": "code",
   "execution_count": 36,
   "metadata": {},
   "outputs": [
    {
     "data": {
      "text/plain": [
       "Index(['employee_id', 'region', 'education', 'gender', 'age', 'department',\n",
       "       'recruitment_channel', 'no_of_trainings', 'previous_year_rating',\n",
       "       'length_of_service', 'awards_won?', 'avg_training_score',\n",
       "       'is_promoted'],\n",
       "      dtype='object')"
      ]
     },
     "execution_count": 36,
     "metadata": {},
     "output_type": "execute_result"
    }
   ],
   "source": [
    "employee_data.columns"
   ]
  },
  {
   "cell_type": "code",
   "execution_count": 37,
   "metadata": {},
   "outputs": [
    {
     "data": {
      "text/html": [
       "<style type=\"text/css\">\n",
       "#T_1e3e2_row0_col0, #T_1e3e2_row1_col1, #T_1e3e2_row2_col2, #T_1e3e2_row3_col3, #T_1e3e2_row4_col4 {\n",
       "  background-color: #800026;\n",
       "  color: #f1f1f1;\n",
       "}\n",
       "#T_1e3e2_row0_col1, #T_1e3e2_row0_col4, #T_1e3e2_row1_col0, #T_1e3e2_row1_col2, #T_1e3e2_row1_col3 {\n",
       "  background-color: #ffffcc;\n",
       "  color: #000000;\n",
       "}\n",
       "#T_1e3e2_row0_col2 {\n",
       "  background-color: #fff6b6;\n",
       "  color: #000000;\n",
       "}\n",
       "#T_1e3e2_row0_col3 {\n",
       "  background-color: #f23924;\n",
       "  color: #f1f1f1;\n",
       "}\n",
       "#T_1e3e2_row1_col4 {\n",
       "  background-color: #fff3ae;\n",
       "  color: #000000;\n",
       "}\n",
       "#T_1e3e2_row2_col0 {\n",
       "  background-color: #fff4b0;\n",
       "  color: #000000;\n",
       "}\n",
       "#T_1e3e2_row2_col1, #T_1e3e2_row4_col3 {\n",
       "  background-color: #fffdc6;\n",
       "  color: #000000;\n",
       "}\n",
       "#T_1e3e2_row2_col3 {\n",
       "  background-color: #fff8ba;\n",
       "  color: #000000;\n",
       "}\n",
       "#T_1e3e2_row2_col4 {\n",
       "  background-color: #ffeea3;\n",
       "  color: #000000;\n",
       "}\n",
       "#T_1e3e2_row3_col0 {\n",
       "  background-color: #f13624;\n",
       "  color: #f1f1f1;\n",
       "}\n",
       "#T_1e3e2_row3_col1 {\n",
       "  background-color: #fffcc5;\n",
       "  color: #000000;\n",
       "}\n",
       "#T_1e3e2_row3_col2 {\n",
       "  background-color: #fff7b7;\n",
       "  color: #000000;\n",
       "}\n",
       "#T_1e3e2_row3_col4 {\n",
       "  background-color: #fffec9;\n",
       "  color: #000000;\n",
       "}\n",
       "#T_1e3e2_row4_col0 {\n",
       "  background-color: #fffbc2;\n",
       "  color: #000000;\n",
       "}\n",
       "#T_1e3e2_row4_col1 {\n",
       "  background-color: #ffefa4;\n",
       "  color: #000000;\n",
       "}\n",
       "#T_1e3e2_row4_col2 {\n",
       "  background-color: #ffec9f;\n",
       "  color: #000000;\n",
       "}\n",
       "</style>\n",
       "<table id=\"T_1e3e2\">\n",
       "  <thead>\n",
       "    <tr>\n",
       "      <th class=\"blank level0\" >&nbsp;</th>\n",
       "      <th id=\"T_1e3e2_level0_col0\" class=\"col_heading level0 col0\" >age</th>\n",
       "      <th id=\"T_1e3e2_level0_col1\" class=\"col_heading level0 col1\" >no_of_trainings</th>\n",
       "      <th id=\"T_1e3e2_level0_col2\" class=\"col_heading level0 col2\" >previous_year_rating</th>\n",
       "      <th id=\"T_1e3e2_level0_col3\" class=\"col_heading level0 col3\" >length_of_service</th>\n",
       "      <th id=\"T_1e3e2_level0_col4\" class=\"col_heading level0 col4\" >avg_training_score</th>\n",
       "    </tr>\n",
       "  </thead>\n",
       "  <tbody>\n",
       "    <tr>\n",
       "      <th id=\"T_1e3e2_level0_row0\" class=\"row_heading level0 row0\" >age</th>\n",
       "      <td id=\"T_1e3e2_row0_col0\" class=\"data row0 col0\" >1.000000</td>\n",
       "      <td id=\"T_1e3e2_row0_col1\" class=\"data row0 col1\" >-0.081283</td>\n",
       "      <td id=\"T_1e3e2_row0_col2\" class=\"data row0 col2\" >0.005927</td>\n",
       "      <td id=\"T_1e3e2_row0_col3\" class=\"data row0 col3\" >0.657093</td>\n",
       "      <td id=\"T_1e3e2_row0_col4\" class=\"data row0 col4\" >-0.048389</td>\n",
       "    </tr>\n",
       "    <tr>\n",
       "      <th id=\"T_1e3e2_level0_row1\" class=\"row_heading level0 row1\" >no_of_trainings</th>\n",
       "      <td id=\"T_1e3e2_row1_col0\" class=\"data row1 col0\" >-0.081283</td>\n",
       "      <td id=\"T_1e3e2_row1_col1\" class=\"data row1 col1\" >1.000000</td>\n",
       "      <td id=\"T_1e3e2_row1_col2\" class=\"data row1 col2\" >-0.063224</td>\n",
       "      <td id=\"T_1e3e2_row1_col3\" class=\"data row1 col3\" >-0.057275</td>\n",
       "      <td id=\"T_1e3e2_row1_col4\" class=\"data row1 col4\" >0.042517</td>\n",
       "    </tr>\n",
       "    <tr>\n",
       "      <th id=\"T_1e3e2_level0_row2\" class=\"row_heading level0 row2\" >previous_year_rating</th>\n",
       "      <td id=\"T_1e3e2_row2_col0\" class=\"data row2 col0\" >0.005927</td>\n",
       "      <td id=\"T_1e3e2_row2_col1\" class=\"data row2 col1\" >-0.063224</td>\n",
       "      <td id=\"T_1e3e2_row2_col2\" class=\"data row2 col2\" >1.000000</td>\n",
       "      <td id=\"T_1e3e2_row2_col3\" class=\"data row2 col3\" >0.000189</td>\n",
       "      <td id=\"T_1e3e2_row2_col4\" class=\"data row2 col4\" >0.075189</td>\n",
       "    </tr>\n",
       "    <tr>\n",
       "      <th id=\"T_1e3e2_level0_row3\" class=\"row_heading level0 row3\" >length_of_service</th>\n",
       "      <td id=\"T_1e3e2_row3_col0\" class=\"data row3 col0\" >0.657093</td>\n",
       "      <td id=\"T_1e3e2_row3_col1\" class=\"data row3 col1\" >-0.057275</td>\n",
       "      <td id=\"T_1e3e2_row3_col2\" class=\"data row3 col2\" >0.000189</td>\n",
       "      <td id=\"T_1e3e2_row3_col3\" class=\"data row3 col3\" >1.000000</td>\n",
       "      <td id=\"T_1e3e2_row3_col4\" class=\"data row3 col4\" >-0.038122</td>\n",
       "    </tr>\n",
       "    <tr>\n",
       "      <th id=\"T_1e3e2_level0_row4\" class=\"row_heading level0 row4\" >avg_training_score</th>\n",
       "      <td id=\"T_1e3e2_row4_col0\" class=\"data row4 col0\" >-0.048389</td>\n",
       "      <td id=\"T_1e3e2_row4_col1\" class=\"data row4 col1\" >0.042517</td>\n",
       "      <td id=\"T_1e3e2_row4_col2\" class=\"data row4 col2\" >0.075189</td>\n",
       "      <td id=\"T_1e3e2_row4_col3\" class=\"data row4 col3\" >-0.038122</td>\n",
       "      <td id=\"T_1e3e2_row4_col4\" class=\"data row4 col4\" >1.000000</td>\n",
       "    </tr>\n",
       "  </tbody>\n",
       "</table>\n"
      ],
      "text/plain": [
       "<pandas.io.formats.style.Styler at 0x7fffcbfb0430>"
      ]
     },
     "execution_count": 37,
     "metadata": {},
     "output_type": "execute_result"
    }
   ],
   "source": [
    "# correlation heatmap\n",
    "numeric_data = employee_data[[\"age\", \"no_of_trainings\", \"previous_year_rating\", \n",
    "                              \"length_of_service\", \"avg_training_score\"]]\n",
    "\n",
    "numeric_data.corr().style.background_gradient(cmap='YlOrRd')"
   ]
  },
  {
   "cell_type": "markdown",
   "metadata": {},
   "source": [
    "It can be observed that there is a strong positive correlation between age and length_of_service. In other words, higher age indicates higher work experience, which is not informative for our analysis. "
   ]
  },
  {
   "cell_type": "markdown",
   "metadata": {},
   "source": [
    "### Age and Promotion"
   ]
  },
  {
   "cell_type": "code",
   "execution_count": 39,
   "metadata": {},
   "outputs": [
    {
     "name": "stdout",
     "output_type": "stream",
     "text": [
      "Defaulting to user installation because normal site-packages is not writeable\n",
      "Collecting seaborn\n",
      "  Downloading seaborn-0.11.2-py3-none-any.whl (292 kB)\n",
      "\u001b[2K     \u001b[90m━━━━━━━━━━━━━━━━━━━━━━━━━━━━━━━━━━━━━━\u001b[0m \u001b[32m292.8/292.8 kB\u001b[0m \u001b[31m63.8 MB/s\u001b[0m eta \u001b[36m0:00:00\u001b[0m\n",
      "\u001b[?25hRequirement already satisfied: scipy>=1.0 in /usr/local/lib/python3.9/dist-packages (from seaborn) (1.8.1)\n",
      "Requirement already satisfied: numpy>=1.15 in /usr/local/lib/python3.9/dist-packages (from seaborn) (1.23.1)\n",
      "Requirement already satisfied: matplotlib>=2.2 in /usr/local/lib/python3.9/dist-packages (from seaborn) (3.5.2)\n",
      "Requirement already satisfied: pandas>=0.23 in /usr/local/lib/python3.9/dist-packages (from seaborn) (1.4.3)\n",
      "Requirement already satisfied: kiwisolver>=1.0.1 in /usr/local/lib/python3.9/dist-packages (from matplotlib>=2.2->seaborn) (1.4.3)\n",
      "Requirement already satisfied: fonttools>=4.22.0 in /usr/local/lib/python3.9/dist-packages (from matplotlib>=2.2->seaborn) (4.34.4)\n",
      "Requirement already satisfied: pyparsing>=2.2.1 in /usr/local/lib/python3.9/dist-packages (from matplotlib>=2.2->seaborn) (3.0.9)\n",
      "Requirement already satisfied: packaging>=20.0 in /usr/local/lib/python3.9/dist-packages (from matplotlib>=2.2->seaborn) (21.3)\n",
      "Requirement already satisfied: python-dateutil>=2.7 in /usr/local/lib/python3.9/dist-packages (from matplotlib>=2.2->seaborn) (2.8.2)\n",
      "Requirement already satisfied: cycler>=0.10 in /usr/local/lib/python3.9/dist-packages (from matplotlib>=2.2->seaborn) (0.11.0)\n",
      "Requirement already satisfied: pillow>=6.2.0 in /usr/local/lib/python3.9/dist-packages (from matplotlib>=2.2->seaborn) (9.2.0)\n",
      "Requirement already satisfied: pytz>=2020.1 in /usr/local/lib/python3.9/dist-packages (from pandas>=0.23->seaborn) (2022.1)\n",
      "Requirement already satisfied: six>=1.5 in /usr/local/lib/python3.9/dist-packages (from python-dateutil>=2.7->matplotlib>=2.2->seaborn) (1.16.0)\n",
      "Installing collected packages: seaborn\n",
      "Successfully installed seaborn-0.11.2\n",
      "--- Logging error ---\n",
      "Traceback (most recent call last):\n",
      "  File \"/usr/local/lib/python3.9/dist-packages/pip/_internal/utils/logging.py\", line 177, in emit\n",
      "    self.console.print(renderable, overflow=\"ignore\", crop=False, style=style)\n",
      "  File \"/usr/local/lib/python3.9/dist-packages/pip/_vendor/rich/console.py\", line 1752, in print\n",
      "    extend(render(renderable, render_options))\n",
      "  File \"/usr/local/lib/python3.9/dist-packages/pip/_vendor/rich/console.py\", line 1390, in render\n",
      "    for render_output in iter_render:\n",
      "  File \"/usr/local/lib/python3.9/dist-packages/pip/_internal/utils/logging.py\", line 134, in __rich_console__\n",
      "    for line in lines:\n",
      "  File \"/usr/local/lib/python3.9/dist-packages/pip/_vendor/rich/segment.py\", line 245, in split_lines\n",
      "    for segment in segments:\n",
      "  File \"/usr/local/lib/python3.9/dist-packages/pip/_vendor/rich/console.py\", line 1368, in render\n",
      "    renderable = rich_cast(renderable)\n",
      "  File \"/usr/local/lib/python3.9/dist-packages/pip/_vendor/rich/protocol.py\", line 36, in rich_cast\n",
      "    renderable = cast_method()\n",
      "  File \"/usr/local/lib/python3.9/dist-packages/pip/_internal/self_outdated_check.py\", line 130, in __rich__\n",
      "    pip_cmd = get_best_invocation_for_this_pip()\n",
      "  File \"/usr/local/lib/python3.9/dist-packages/pip/_internal/utils/entrypoints.py\", line 58, in get_best_invocation_for_this_pip\n",
      "    if found_executable and os.path.samefile(\n",
      "  File \"/usr/lib/python3.9/genericpath.py\", line 101, in samefile\n",
      "    s2 = os.stat(f2)\n",
      "FileNotFoundError: [Errno 2] No such file or directory: '/usr/bin/pip'\n",
      "Call stack:\n",
      "  File \"/usr/local/bin/pip\", line 8, in <module>\n",
      "    sys.exit(main())\n",
      "  File \"/usr/local/lib/python3.9/dist-packages/pip/_internal/cli/main.py\", line 70, in main\n",
      "    return command.main(cmd_args)\n",
      "  File \"/usr/local/lib/python3.9/dist-packages/pip/_internal/cli/base_command.py\", line 101, in main\n",
      "    return self._main(args)\n",
      "  File \"/usr/local/lib/python3.9/dist-packages/pip/_internal/cli/base_command.py\", line 223, in _main\n",
      "    self.handle_pip_version_check(options)\n",
      "  File \"/usr/local/lib/python3.9/dist-packages/pip/_internal/cli/req_command.py\", line 148, in handle_pip_version_check\n",
      "    pip_self_version_check(session, options)\n",
      "  File \"/usr/local/lib/python3.9/dist-packages/pip/_internal/self_outdated_check.py\", line 237, in pip_self_version_check\n",
      "    logger.info(\"[present-rich] %s\", upgrade_prompt)\n",
      "  File \"/usr/lib/python3.9/logging/__init__.py\", line 1446, in info\n",
      "    self._log(INFO, msg, args, **kwargs)\n",
      "  File \"/usr/lib/python3.9/logging/__init__.py\", line 1589, in _log\n",
      "    self.handle(record)\n",
      "  File \"/usr/lib/python3.9/logging/__init__.py\", line 1599, in handle\n",
      "    self.callHandlers(record)\n",
      "  File \"/usr/lib/python3.9/logging/__init__.py\", line 1661, in callHandlers\n",
      "    hdlr.handle(record)\n",
      "  File \"/usr/lib/python3.9/logging/__init__.py\", line 952, in handle\n",
      "    self.emit(record)\n",
      "  File \"/usr/local/lib/python3.9/dist-packages/pip/_internal/utils/logging.py\", line 179, in emit\n",
      "    self.handleError(record)\n",
      "Message: '[present-rich] %s'\n",
      "Arguments: (UpgradePrompt(old='22.1.2', new='22.2.2'),)\n"
     ]
    }
   ],
   "source": [
    "# !pip install seaborn\n",
    "import seaborn as sns"
   ]
  },
  {
   "cell_type": "code",
   "execution_count": 40,
   "metadata": {},
   "outputs": [
    {
     "data": {
      "image/png": "[encoded data removed]",
      "text/plain": [
       "<Figure size 432x288 with 1 Axes>"
      ]
     },
     "metadata": {
      "needs_background": "light"
     },
     "output_type": "display_data"
    }
   ],
   "source": [
    "# boxplot of age against is_promoted\n",
    "#employee_data[[\"age\", \"is_promoted\"]].boxplot(by=\"is_promoted\", vert=True, figsize=(6,5), grid=False);\n",
    "sns.boxplot(data=employee_data, x=\"age\", y=\"is_promoted\", orient=\"h\")\n",
    "plt.title(\"Boxplot of Age w.r.t is_promoted\");"
   ]
  },
  {
   "cell_type": "markdown",
   "metadata": {},
   "source": [
    "It can be observed that the age distribution for promoted and non-promoted is similar. So age is not an distingushing factor for promotion."
   ]
  },
  {
   "cell_type": "markdown",
   "metadata": {},
   "source": [
    "### Number of Trainings and Promotion"
   ]
  },
  {
   "cell_type": "code",
   "execution_count": 41,
   "metadata": {},
   "outputs": [
    {
     "data": {
      "image/png": "[encoded data removed]",
      "text/plain": [
       "<Figure size 432x288 with 1 Axes>"
      ]
     },
     "metadata": {
      "needs_background": "light"
     },
     "output_type": "display_data"
    }
   ],
   "source": [
    "# boxplot of age against is_promoted\n",
    "#df = employee_data.astype({\"no_of_trainings\":\"category\"})\n",
    "sns.violinplot(data=employee_data, x=\"no_of_trainings\", y=\"is_promoted\", orient=\"h\");\n",
    "plt.title(\"Violinplot of No of Trainings w.r.t is_promoted\")\n",
    "plt.xticks(np.arange(1,11));"
   ]
  },
  {
   "cell_type": "markdown",
   "metadata": {},
   "source": [
    "Violin plot plays similar role to box plot, except that violin plot shows density estimation for the underlying distribution rather actual corresponding to actual data points as in box plot.\n",
    "\n",
    "Prior to seeing this plot, you might hypothesize that large number of trainings might be useful for promotion. However, it is evident from the plot that promoted employees have actually less training than those not promoted."
   ]
  },
  {
   "cell_type": "markdown",
   "metadata": {},
   "source": [
    "#### Read more about violin plots\n",
    "\n",
    "<a href=\"https://towardsdatascience.com/violin-plots-explained-fb1d115e023d\">Towards Data Science Article - Violin Plots Explained </a>\n"
   ]
  },
  {
   "cell_type": "markdown",
   "metadata": {},
   "source": [
    "### Previous Year Rating and Promotion"
   ]
  },
  {
   "cell_type": "code",
   "execution_count": 42,
   "metadata": {},
   "outputs": [
    {
     "data": {
      "image/png": "[encoded data removed]",
      "text/plain": [
       "<Figure size 432x288 with 1 Axes>"
      ]
     },
     "metadata": {
      "needs_background": "light"
     },
     "output_type": "display_data"
    }
   ],
   "source": [
    "sns.boxplot(data=employee_data, x=\"previous_year_rating\", y=\"is_promoted\", orient=\"h\")\n",
    "plt.title(\"Boxplot of Previous Year Ratings w.r.t is_promoted\");"
   ]
  },
  {
   "cell_type": "markdown",
   "metadata": {},
   "source": [
    "The plot indicates that promoted employees have higher median previous_year_rating than non promoted. So previous_year_rating can be distinguishing feature for promotion, which is also evident from the following point plot."
   ]
  },
  {
   "cell_type": "code",
   "execution_count": 43,
   "metadata": {
    "scrolled": true
   },
   "outputs": [
    {
     "data": {
      "image/png": "[encoded data removed]",
      "text/plain": [
       "<Figure size 432x288 with 1 Axes>"
      ]
     },
     "metadata": {
      "needs_background": "light"
     },
     "output_type": "display_data"
    }
   ],
   "source": [
    "sns.pointplot(data=employee_data, y=\"previous_year_rating\", x=\"is_promoted\", orient=\"v\")\n",
    "plt.title(\"Pointplot of Previous Year Rating against is_promoted\");"
   ]
  },
  {
   "cell_type": "markdown",
   "metadata": {},
   "source": [
    "### Length of Service and Promotion"
   ]
  },
  {
   "cell_type": "markdown",
   "metadata": {},
   "source": [
    "|Exercise|\n",
    "|:---:|\n",
    "|Using appropriate plot between length_of_service and is_promoted, comment whether length_of_service can be informative feature for promotion.|\n"
   ]
  },
  {
   "cell_type": "code",
   "execution_count": 170,
   "metadata": {},
   "outputs": [],
   "source": [
    "# write your code here\n"
   ]
  },
  {
   "cell_type": "code",
   "execution_count": null,
   "metadata": {
    "scrolled": true
   },
   "outputs": [],
   "source": []
  },
  {
   "cell_type": "markdown",
   "metadata": {},
   "source": [
    "### Average Training Score and Promotion"
   ]
  },
  {
   "cell_type": "code",
   "execution_count": 44,
   "metadata": {},
   "outputs": [
    {
     "data": {
      "image/png": "[encoded data removed]",
      "text/plain": [
       "<Figure size 432x288 with 1 Axes>"
      ]
     },
     "metadata": {
      "needs_background": "light"
     },
     "output_type": "display_data"
    }
   ],
   "source": [
    "sns.boxplot(data=employee_data, x=\"avg_training_score\", y=\"is_promoted\", orient=\"h\")\n",
    "plt.title(\"Boxplot of Average Training Score w.r.t is_promoted\");"
   ]
  },
  {
   "cell_type": "markdown",
   "metadata": {},
   "source": [
    "From the box plot, it can be observed that higher training score is needed for promotion, which is also apparent from the following point plot."
   ]
  },
  {
   "cell_type": "code",
   "execution_count": 45,
   "metadata": {},
   "outputs": [
    {
     "data": {
      "image/png": "[encoded data removed]",
      "text/plain": [
       "<Figure size 432x288 with 1 Axes>"
      ]
     },
     "metadata": {
      "needs_background": "light"
     },
     "output_type": "display_data"
    }
   ],
   "source": [
    "sns.pointplot(data=employee_data, y=\"avg_training_score\", x=\"is_promoted\", ci=False)\n",
    "plt.title(\"Pointplot of Average Training Score against is_promoted\");"
   ]
  },
  {
   "cell_type": "markdown",
   "metadata": {},
   "source": [
    "## 3.2 Data Enrichment"
   ]
  },
  {
   "cell_type": "markdown",
   "metadata": {},
   "source": [
    "Missing values are a common data quality problem. It could arise due to human error, sensors fail to transmit data, etc. As discussed earlier, one of the ways to handle missing values is to impute them using best estimate (guess) based on non-missing values. You'll learn to impute missing values using different methods."
   ]
  },
  {
   "cell_type": "markdown",
   "metadata": {},
   "source": [
    "Since you also converted out of bound values to missing values during EDA, the count of missing values is now different."
   ]
  },
  {
   "cell_type": "code",
   "execution_count": 46,
   "metadata": {},
   "outputs": [
    {
     "data": {
      "text/plain": [
       "employee_id                0\n",
       "region                     0\n",
       "education               2409\n",
       "gender                     0\n",
       "age                       10\n",
       "department                 0\n",
       "recruitment_channel        0\n",
       "no_of_trainings            0\n",
       "previous_year_rating    4138\n",
       "length_of_service          0\n",
       "awards_won?                0\n",
       "avg_training_score         0\n",
       "is_promoted                0\n",
       "dtype: int64"
      ]
     },
     "execution_count": 46,
     "metadata": {},
     "output_type": "execute_result"
    }
   ],
   "source": [
    "# Identify number of missing values in the dataset\n",
    "employee_data.isna().sum()"
   ]
  },
  {
   "cell_type": "markdown",
   "metadata": {},
   "source": [
    "It can be observaed that columns `education` and `previous_year_rating` have some missing values. You can impute them using any of mean, median, mode, random, or regression imputation. Let's impute previous year rating using random imputation."
   ]
  },
  {
   "cell_type": "markdown",
   "metadata": {},
   "source": [
    "**Random Imputation**"
   ]
  },
  {
   "cell_type": "code",
   "execution_count": 47,
   "metadata": {},
   "outputs": [
    {
     "data": {
      "text/plain": [
       "0"
      ]
     },
     "execution_count": 47,
     "metadata": {},
     "output_type": "execute_result"
    }
   ],
   "source": [
    "# set random seed for reproducibility of the results\n",
    "# you can choose any number instead of 15\n",
    "np.random.seed(15)\n",
    "\n",
    "# extract non-missing values from the ratings column\n",
    "non_missing_ratings = employee_data.loc[employee_data[\"previous_year_rating\"].notna(), \"previous_year_rating\"]\n",
    "\n",
    "# extract indices of missing rows from the ratings column\n",
    "missing_ratings_indices = employee_data.loc[employee_data[\"previous_year_rating\"].isna(), \"previous_year_rating\"].index\n",
    "\n",
    "# impute missing values\n",
    "employee_data.loc[missing_ratings_indices, \"previous_year_rating\"] = np.random.choice(a=non_missing_ratings, \n",
    "                                                                                      size=missing_ratings_indices.size)\n",
    "\n",
    "# verify that there no missing values in the column\n",
    "employee_data[\"previous_year_rating\"].isna().sum()"
   ]
  },
  {
   "cell_type": "markdown",
   "metadata": {},
   "source": [
    "**Mean Imputation**"
   ]
  },
  {
   "cell_type": "markdown",
   "metadata": {},
   "source": [
    "Let's impute `age` using mena imputation. Here you'll first calculate mean of the non-missing values, round it to nearest integer, and then fill missing values with the mean."
   ]
  },
  {
   "cell_type": "code",
   "execution_count": 48,
   "metadata": {},
   "outputs": [],
   "source": [
    "# mean of non-missing age values\n",
    "non_missing_age_mean = np.round(employee_data[employee_data.notna()][\"age\"].mean())\n",
    "\n",
    "# fill missing age values with the above mean\n",
    "employee_data[\"age\"].fillna(non_missing_age_mean, inplace=True)"
   ]
  },
  {
   "cell_type": "code",
   "execution_count": 49,
   "metadata": {},
   "outputs": [
    {
     "data": {
      "text/plain": [
       "employee_id                0\n",
       "region                     0\n",
       "education               2409\n",
       "gender                     0\n",
       "age                        0\n",
       "department                 0\n",
       "recruitment_channel        0\n",
       "no_of_trainings            0\n",
       "previous_year_rating       0\n",
       "length_of_service          0\n",
       "awards_won?                0\n",
       "avg_training_score         0\n",
       "is_promoted                0\n",
       "dtype: int64"
      ]
     },
     "execution_count": 49,
     "metadata": {},
     "output_type": "execute_result"
    }
   ],
   "source": [
    "# verify that missing values are imputed in age\n",
    "employee_data.isna().sum()"
   ]
  },
  {
   "cell_type": "markdown",
   "metadata": {},
   "source": [
    "|Exercise|\n",
    "|:---:|\n",
    "|Now it's your turn to handle missing values in the remaining column(s).|\n"
   ]
  },
  {
   "cell_type": "code",
   "execution_count": 178,
   "metadata": {},
   "outputs": [],
   "source": [
    "# write your code here\n",
    "\n"
   ]
  },
  {
   "cell_type": "code",
   "execution_count": 50,
   "metadata": {},
   "outputs": [
    {
     "data": {
      "text/plain": [
       "employee_id                0\n",
       "region                     0\n",
       "education               2409\n",
       "gender                     0\n",
       "age                        0\n",
       "department                 0\n",
       "recruitment_channel        0\n",
       "no_of_trainings            0\n",
       "previous_year_rating       0\n",
       "length_of_service          0\n",
       "awards_won?                0\n",
       "avg_training_score         0\n",
       "is_promoted                0\n",
       "dtype: int64"
      ]
     },
     "execution_count": 50,
     "metadata": {},
     "output_type": "execute_result"
    }
   ],
   "source": [
    "# verify that missing values are imputed in the data\n",
    "employee_data.isna().sum()"
   ]
  },
  {
   "cell_type": "markdown",
   "metadata": {},
   "source": [
    "## 3.3 Clustering"
   ]
  },
  {
   "cell_type": "markdown",
   "metadata": {},
   "source": [
    "Clustering is an approach to create groups among data based on some similarity measure. K-Means is a popular clustering algorithm. Once you define how many clusters(groups) you need, the algorithm tries to minimize the distance of the points in a cluster with their center (mean). The following figure illustrates what clustering does."
   ]
  },
  {
   "cell_type": "markdown",
   "metadata": {},
   "source": [
    "![Clustering illustration](Clustering.png)\n",
    "<i><center><font size=2> Figure 2. Clustering Illustration </font></center></i>"
   ]
  },
  {
   "cell_type": "markdown",
   "metadata": {},
   "source": [
    "### 3.3.1 Implement K-Means"
   ]
  },
  {
   "cell_type": "code",
   "execution_count": 51,
   "metadata": {},
   "outputs": [],
   "source": [
    "# comment the following line if you want to use your cleaned version\n",
    "employee_data = pd.read_csv(\"employee_data_cleaned.csv\")\n",
    "\n",
    "# subset data for promoted employees and extract \"age\", and \"avg_training_score\" columns\n",
    "data_to_cluster = employee_data.loc[employee_data[\"is_promoted\"] == 1, [\"age\", \"avg_training_score\"]]"
   ]
  },
  {
   "cell_type": "code",
   "execution_count": 52,
   "metadata": {},
   "outputs": [
    {
     "data": {
      "image/png": "[encoded data removed]",
      "text/plain": [
       "<Figure size 360x360 with 6 Axes>"
      ]
     },
     "metadata": {
      "needs_background": "light"
     },
     "output_type": "display_data"
    }
   ],
   "source": [
    "# visualize relationship between columns\n",
    "sns.pairplot(data_to_cluster);"
   ]
  },
  {
   "cell_type": "markdown",
   "metadata": {},
   "source": [
    "It can be observed that there are no visible clusters in the data. So K-Means might not work but let's try it."
   ]
  },
  {
   "cell_type": "code",
   "execution_count": 53,
   "metadata": {},
   "outputs": [],
   "source": [
    "#!pip install sklearn\n",
    "from sklearn.cluster import KMeans\n",
    "from sklearn.preprocessing import minmax_scale"
   ]
  },
  {
   "cell_type": "code",
   "execution_count": 54,
   "metadata": {},
   "outputs": [],
   "source": [
    "# scale the data using minmax scale\n",
    "scaled_data = minmax_scale(data_to_cluster)\n",
    "\n",
    "# initialize KMeans object with number of desired clusters\n",
    "k_means = KMeans(n_clusters=2)\n",
    "\n",
    "# fit and transform k_means object to scaled data\n",
    "k_means.fit_transform(scaled_data)\n",
    "\n",
    "# extract cluster labels\n",
    "data_to_cluster[\"cluster_labels\"] = k_means.labels_"
   ]
  },
  {
   "cell_type": "code",
   "execution_count": 55,
   "metadata": {},
   "outputs": [
    {
     "data": {
      "image/png": "[encoded data removed]",
      "text/plain": [
       "<Figure size 432x288 with 1 Axes>"
      ]
     },
     "metadata": {
      "needs_background": "light"
     },
     "output_type": "display_data"
    }
   ],
   "source": [
    "# plot the clusters\n",
    "sns.scatterplot(data=data_to_cluster, x=\"age\", y=\"avg_training_score\", hue=\"cluster_labels\")\n",
    "plt.title(\"Average Training Score against Age\");"
   ]
  },
  {
   "cell_type": "markdown",
   "metadata": {},
   "source": [
    "It can be observed that the data have been clustered but the clusters are not meaningful."
   ]
  },
  {
   "cell_type": "markdown",
   "metadata": {},
   "source": [
    "## 3.4 Structured Data Analytics"
   ]
  },
  {
   "cell_type": "markdown",
   "metadata": {},
   "source": [
    "### 3.4.1 Reshaping"
   ]
  },
  {
   "cell_type": "markdown",
   "metadata": {},
   "source": [
    "Shape of the data indicates how the data is organized into rows and columns. Sometimes, data is more human readble format but not analytics friendly and vice versa. You'll learn two shapes of data and how to convert them from one to another."
   ]
  },
  {
   "cell_type": "markdown",
   "metadata": {},
   "source": [
    "### Wide Format"
   ]
  },
  {
   "cell_type": "markdown",
   "metadata": {},
   "source": [
    "Data is called in wide format when each row contains measurement of different attributes of the same subject. The 'employee_data' is in the wide format as each row contains measurements of different employee attributes such as age, gender, education, avg_training_score, etc."
   ]
  },
  {
   "cell_type": "code",
   "execution_count": 56,
   "metadata": {},
   "outputs": [
    {
     "data": {
      "text/html": [
       "<div>\n",
       "<style scoped>\n",
       "    .dataframe tbody tr th:only-of-type {\n",
       "        vertical-align: middle;\n",
       "    }\n",
       "\n",
       "    .dataframe tbody tr th {\n",
       "        vertical-align: top;\n",
       "    }\n",
       "\n",
       "    .dataframe thead th {\n",
       "        text-align: right;\n",
       "    }\n",
       "</style>\n",
       "<table border=\"1\" class=\"dataframe\">\n",
       "  <thead>\n",
       "    <tr style=\"text-align: right;\">\n",
       "      <th></th>\n",
       "      <th>employee_id</th>\n",
       "      <th>region</th>\n",
       "      <th>education</th>\n",
       "      <th>gender</th>\n",
       "      <th>age</th>\n",
       "      <th>department</th>\n",
       "      <th>recruitment_channel</th>\n",
       "      <th>no_of_trainings</th>\n",
       "      <th>previous_year_rating</th>\n",
       "      <th>length_of_service</th>\n",
       "      <th>awards_won?</th>\n",
       "      <th>avg_training_score</th>\n",
       "      <th>is_promoted</th>\n",
       "    </tr>\n",
       "  </thead>\n",
       "  <tbody>\n",
       "    <tr>\n",
       "      <th>0</th>\n",
       "      <td>E21133</td>\n",
       "      <td>region_13</td>\n",
       "      <td>Master's &amp; above</td>\n",
       "      <td>M</td>\n",
       "      <td>36.0</td>\n",
       "      <td>Procurement</td>\n",
       "      <td>other</td>\n",
       "      <td>1</td>\n",
       "      <td>1.0</td>\n",
       "      <td>5</td>\n",
       "      <td>0</td>\n",
       "      <td>73</td>\n",
       "      <td>0</td>\n",
       "    </tr>\n",
       "    <tr>\n",
       "      <th>1</th>\n",
       "      <td>E39322</td>\n",
       "      <td>region_31</td>\n",
       "      <td>Bachelor's</td>\n",
       "      <td>M</td>\n",
       "      <td>37.0</td>\n",
       "      <td>Sales &amp; Marketing</td>\n",
       "      <td>sourcing</td>\n",
       "      <td>2</td>\n",
       "      <td>2.0</td>\n",
       "      <td>2</td>\n",
       "      <td>0</td>\n",
       "      <td>48</td>\n",
       "      <td>0</td>\n",
       "    </tr>\n",
       "    <tr>\n",
       "      <th>2</th>\n",
       "      <td>E26399</td>\n",
       "      <td>region_7</td>\n",
       "      <td>Bachelor's</td>\n",
       "      <td>M</td>\n",
       "      <td>30.0</td>\n",
       "      <td>Technology</td>\n",
       "      <td>other</td>\n",
       "      <td>3</td>\n",
       "      <td>4.0</td>\n",
       "      <td>3</td>\n",
       "      <td>0</td>\n",
       "      <td>75</td>\n",
       "      <td>0</td>\n",
       "    </tr>\n",
       "    <tr>\n",
       "      <th>3</th>\n",
       "      <td>E18243</td>\n",
       "      <td>region_2</td>\n",
       "      <td>Bachelor's</td>\n",
       "      <td>M</td>\n",
       "      <td>43.0</td>\n",
       "      <td>Operations</td>\n",
       "      <td>other</td>\n",
       "      <td>1</td>\n",
       "      <td>5.0</td>\n",
       "      <td>5</td>\n",
       "      <td>0</td>\n",
       "      <td>58</td>\n",
       "      <td>0</td>\n",
       "    </tr>\n",
       "    <tr>\n",
       "      <th>4</th>\n",
       "      <td>E35678</td>\n",
       "      <td>region_26</td>\n",
       "      <td>Master's &amp; above</td>\n",
       "      <td>M</td>\n",
       "      <td>45.0</td>\n",
       "      <td>Procurement</td>\n",
       "      <td>sourcing</td>\n",
       "      <td>2</td>\n",
       "      <td>3.0</td>\n",
       "      <td>19</td>\n",
       "      <td>0</td>\n",
       "      <td>68</td>\n",
       "      <td>0</td>\n",
       "    </tr>\n",
       "  </tbody>\n",
       "</table>\n",
       "</div>"
      ],
      "text/plain": [
       "  employee_id     region         education gender   age         department  \\\n",
       "0      E21133  region_13  Master's & above      M  36.0        Procurement   \n",
       "1      E39322  region_31        Bachelor's      M  37.0  Sales & Marketing   \n",
       "2      E26399   region_7        Bachelor's      M  30.0         Technology   \n",
       "3      E18243   region_2        Bachelor's      M  43.0         Operations   \n",
       "4      E35678  region_26  Master's & above      M  45.0        Procurement   \n",
       "\n",
       "  recruitment_channel  no_of_trainings  previous_year_rating  \\\n",
       "0               other                1                   1.0   \n",
       "1            sourcing                2                   2.0   \n",
       "2               other                3                   4.0   \n",
       "3               other                1                   5.0   \n",
       "4            sourcing                2                   3.0   \n",
       "\n",
       "   length_of_service  awards_won?  avg_training_score  is_promoted  \n",
       "0                  5            0                  73            0  \n",
       "1                  2            0                  48            0  \n",
       "2                  3            0                  75            0  \n",
       "3                  5            0                  58            0  \n",
       "4                 19            0                  68            0  "
      ]
     },
     "execution_count": 56,
     "metadata": {},
     "output_type": "execute_result"
    }
   ],
   "source": [
    "employee_data.head()"
   ]
  },
  {
   "cell_type": "markdown",
   "metadata": {},
   "source": [
    "Wide format is more human readble the long format. So while reporting, wide format is used. And it is useful for simple statistics and imputation."
   ]
  },
  {
   "cell_type": "markdown",
   "metadata": {},
   "source": [
    "### Long Format"
   ]
  },
  {
   "cell_type": "markdown",
   "metadata": {},
   "source": [
    "Data is called in long format when each row contains measurement of exactly one attribute. For example, following data is in long format."
   ]
  },
  {
   "cell_type": "markdown",
   "metadata": {},
   "source": [
    "|employee_id|employee_attribute|value|\n",
    "|---|---|---|\n",
    "|E21133|region|region_13|\n",
    "|E21133|education|Master's and above|\n",
    "|E21133|gender|M|\n",
    "|...|...|...|\n"
   ]
  },
  {
   "cell_type": "markdown",
   "metadata": {},
   "source": [
    "Data in long format is considered as a 'tidy' data. Read more tidy data <a href=\"https://vita.had.co.nz/papers/tidy-data.pdf\">here</a>. Long format is more analytics friendly and certain programming languages require data in long format."
   ]
  },
  {
   "cell_type": "markdown",
   "metadata": {},
   "source": [
    "### Convert Wide Data to Long Format"
   ]
  },
  {
   "cell_type": "markdown",
   "metadata": {},
   "source": [
    "Let's take a subset of data that only includes gender and region of first 10 employees."
   ]
  },
  {
   "cell_type": "code",
   "execution_count": 57,
   "metadata": {},
   "outputs": [
    {
     "data": {
      "text/html": [
       "<div>\n",
       "<style scoped>\n",
       "    .dataframe tbody tr th:only-of-type {\n",
       "        vertical-align: middle;\n",
       "    }\n",
       "\n",
       "    .dataframe tbody tr th {\n",
       "        vertical-align: top;\n",
       "    }\n",
       "\n",
       "    .dataframe thead th {\n",
       "        text-align: right;\n",
       "    }\n",
       "</style>\n",
       "<table border=\"1\" class=\"dataframe\">\n",
       "  <thead>\n",
       "    <tr style=\"text-align: right;\">\n",
       "      <th></th>\n",
       "      <th>employee_id</th>\n",
       "      <th>gender</th>\n",
       "      <th>region</th>\n",
       "    </tr>\n",
       "  </thead>\n",
       "  <tbody>\n",
       "    <tr>\n",
       "      <th>0</th>\n",
       "      <td>E21133</td>\n",
       "      <td>M</td>\n",
       "      <td>region_13</td>\n",
       "    </tr>\n",
       "    <tr>\n",
       "      <th>1</th>\n",
       "      <td>E39322</td>\n",
       "      <td>M</td>\n",
       "      <td>region_31</td>\n",
       "    </tr>\n",
       "    <tr>\n",
       "      <th>2</th>\n",
       "      <td>E26399</td>\n",
       "      <td>M</td>\n",
       "      <td>region_7</td>\n",
       "    </tr>\n",
       "    <tr>\n",
       "      <th>3</th>\n",
       "      <td>E18243</td>\n",
       "      <td>M</td>\n",
       "      <td>region_2</td>\n",
       "    </tr>\n",
       "    <tr>\n",
       "      <th>4</th>\n",
       "      <td>E35678</td>\n",
       "      <td>M</td>\n",
       "      <td>region_26</td>\n",
       "    </tr>\n",
       "    <tr>\n",
       "      <th>5</th>\n",
       "      <td>E67404</td>\n",
       "      <td>M</td>\n",
       "      <td>region_23</td>\n",
       "    </tr>\n",
       "    <tr>\n",
       "      <th>6</th>\n",
       "      <td>E67240</td>\n",
       "      <td>M</td>\n",
       "      <td>region_23</td>\n",
       "    </tr>\n",
       "    <tr>\n",
       "      <th>7</th>\n",
       "      <td>E13711</td>\n",
       "      <td>M</td>\n",
       "      <td>region_15</td>\n",
       "    </tr>\n",
       "    <tr>\n",
       "      <th>8</th>\n",
       "      <td>E7277</td>\n",
       "      <td>M</td>\n",
       "      <td>region_27</td>\n",
       "    </tr>\n",
       "    <tr>\n",
       "      <th>9</th>\n",
       "      <td>E65150</td>\n",
       "      <td>F</td>\n",
       "      <td>region_2</td>\n",
       "    </tr>\n",
       "  </tbody>\n",
       "</table>\n",
       "</div>"
      ],
      "text/plain": [
       "  employee_id gender     region\n",
       "0      E21133      M  region_13\n",
       "1      E39322      M  region_31\n",
       "2      E26399      M   region_7\n",
       "3      E18243      M   region_2\n",
       "4      E35678      M  region_26\n",
       "5      E67404      M  region_23\n",
       "6      E67240      M  region_23\n",
       "7      E13711      M  region_15\n",
       "8       E7277      M  region_27\n",
       "9      E65150      F   region_2"
      ]
     },
     "execution_count": 57,
     "metadata": {},
     "output_type": "execute_result"
    }
   ],
   "source": [
    "employee_gender_region = employee_data.loc[:9, [\"employee_id\", \"gender\", \"region\"]]\n",
    "employee_gender_region"
   ]
  },
  {
   "cell_type": "code",
   "execution_count": 58,
   "metadata": {},
   "outputs": [
    {
     "data": {
      "text/html": [
       "<div>\n",
       "<style scoped>\n",
       "    .dataframe tbody tr th:only-of-type {\n",
       "        vertical-align: middle;\n",
       "    }\n",
       "\n",
       "    .dataframe tbody tr th {\n",
       "        vertical-align: top;\n",
       "    }\n",
       "\n",
       "    .dataframe thead th {\n",
       "        text-align: right;\n",
       "    }\n",
       "</style>\n",
       "<table border=\"1\" class=\"dataframe\">\n",
       "  <thead>\n",
       "    <tr style=\"text-align: right;\">\n",
       "      <th></th>\n",
       "      <th>employee_id</th>\n",
       "      <th>employee_attributes</th>\n",
       "      <th>value</th>\n",
       "    </tr>\n",
       "  </thead>\n",
       "  <tbody>\n",
       "    <tr>\n",
       "      <th>0</th>\n",
       "      <td>E21133</td>\n",
       "      <td>gender</td>\n",
       "      <td>M</td>\n",
       "    </tr>\n",
       "    <tr>\n",
       "      <th>1</th>\n",
       "      <td>E39322</td>\n",
       "      <td>gender</td>\n",
       "      <td>M</td>\n",
       "    </tr>\n",
       "    <tr>\n",
       "      <th>2</th>\n",
       "      <td>E26399</td>\n",
       "      <td>gender</td>\n",
       "      <td>M</td>\n",
       "    </tr>\n",
       "    <tr>\n",
       "      <th>3</th>\n",
       "      <td>E18243</td>\n",
       "      <td>gender</td>\n",
       "      <td>M</td>\n",
       "    </tr>\n",
       "    <tr>\n",
       "      <th>4</th>\n",
       "      <td>E35678</td>\n",
       "      <td>gender</td>\n",
       "      <td>M</td>\n",
       "    </tr>\n",
       "    <tr>\n",
       "      <th>5</th>\n",
       "      <td>E67404</td>\n",
       "      <td>gender</td>\n",
       "      <td>M</td>\n",
       "    </tr>\n",
       "    <tr>\n",
       "      <th>6</th>\n",
       "      <td>E67240</td>\n",
       "      <td>gender</td>\n",
       "      <td>M</td>\n",
       "    </tr>\n",
       "    <tr>\n",
       "      <th>7</th>\n",
       "      <td>E13711</td>\n",
       "      <td>gender</td>\n",
       "      <td>M</td>\n",
       "    </tr>\n",
       "    <tr>\n",
       "      <th>8</th>\n",
       "      <td>E7277</td>\n",
       "      <td>gender</td>\n",
       "      <td>M</td>\n",
       "    </tr>\n",
       "    <tr>\n",
       "      <th>9</th>\n",
       "      <td>E65150</td>\n",
       "      <td>gender</td>\n",
       "      <td>F</td>\n",
       "    </tr>\n",
       "    <tr>\n",
       "      <th>10</th>\n",
       "      <td>E21133</td>\n",
       "      <td>region</td>\n",
       "      <td>region_13</td>\n",
       "    </tr>\n",
       "    <tr>\n",
       "      <th>11</th>\n",
       "      <td>E39322</td>\n",
       "      <td>region</td>\n",
       "      <td>region_31</td>\n",
       "    </tr>\n",
       "    <tr>\n",
       "      <th>12</th>\n",
       "      <td>E26399</td>\n",
       "      <td>region</td>\n",
       "      <td>region_7</td>\n",
       "    </tr>\n",
       "    <tr>\n",
       "      <th>13</th>\n",
       "      <td>E18243</td>\n",
       "      <td>region</td>\n",
       "      <td>region_2</td>\n",
       "    </tr>\n",
       "    <tr>\n",
       "      <th>14</th>\n",
       "      <td>E35678</td>\n",
       "      <td>region</td>\n",
       "      <td>region_26</td>\n",
       "    </tr>\n",
       "    <tr>\n",
       "      <th>15</th>\n",
       "      <td>E67404</td>\n",
       "      <td>region</td>\n",
       "      <td>region_23</td>\n",
       "    </tr>\n",
       "    <tr>\n",
       "      <th>16</th>\n",
       "      <td>E67240</td>\n",
       "      <td>region</td>\n",
       "      <td>region_23</td>\n",
       "    </tr>\n",
       "    <tr>\n",
       "      <th>17</th>\n",
       "      <td>E13711</td>\n",
       "      <td>region</td>\n",
       "      <td>region_15</td>\n",
       "    </tr>\n",
       "    <tr>\n",
       "      <th>18</th>\n",
       "      <td>E7277</td>\n",
       "      <td>region</td>\n",
       "      <td>region_27</td>\n",
       "    </tr>\n",
       "    <tr>\n",
       "      <th>19</th>\n",
       "      <td>E65150</td>\n",
       "      <td>region</td>\n",
       "      <td>region_2</td>\n",
       "    </tr>\n",
       "  </tbody>\n",
       "</table>\n",
       "</div>"
      ],
      "text/plain": [
       "   employee_id employee_attributes      value\n",
       "0       E21133              gender          M\n",
       "1       E39322              gender          M\n",
       "2       E26399              gender          M\n",
       "3       E18243              gender          M\n",
       "4       E35678              gender          M\n",
       "5       E67404              gender          M\n",
       "6       E67240              gender          M\n",
       "7       E13711              gender          M\n",
       "8        E7277              gender          M\n",
       "9       E65150              gender          F\n",
       "10      E21133              region  region_13\n",
       "11      E39322              region  region_31\n",
       "12      E26399              region   region_7\n",
       "13      E18243              region   region_2\n",
       "14      E35678              region  region_26\n",
       "15      E67404              region  region_23\n",
       "16      E67240              region  region_23\n",
       "17      E13711              region  region_15\n",
       "18       E7277              region  region_27\n",
       "19      E65150              region   region_2"
      ]
     },
     "execution_count": 58,
     "metadata": {},
     "output_type": "execute_result"
    }
   ],
   "source": [
    "# convert employee_data_subset to long format\n",
    "melted_data = employee_gender_region.melt(id_vars=\"employee_id\", value_vars=[\"gender\", \"region\"],\n",
    "                                         var_name=\"employee_attributes\", value_name=\"value\")\n",
    "\n",
    "melted_data"
   ]
  },
  {
   "cell_type": "markdown",
   "metadata": {},
   "source": [
    "### Convert Long Data to Wide Format"
   ]
  },
  {
   "cell_type": "code",
   "execution_count": 59,
   "metadata": {},
   "outputs": [
    {
     "data": {
      "text/html": [
       "<div>\n",
       "<style scoped>\n",
       "    .dataframe tbody tr th:only-of-type {\n",
       "        vertical-align: middle;\n",
       "    }\n",
       "\n",
       "    .dataframe tbody tr th {\n",
       "        vertical-align: top;\n",
       "    }\n",
       "\n",
       "    .dataframe thead th {\n",
       "        text-align: right;\n",
       "    }\n",
       "</style>\n",
       "<table border=\"1\" class=\"dataframe\">\n",
       "  <thead>\n",
       "    <tr style=\"text-align: right;\">\n",
       "      <th>employee_attributes</th>\n",
       "      <th>gender</th>\n",
       "      <th>region</th>\n",
       "    </tr>\n",
       "    <tr>\n",
       "      <th>employee_id</th>\n",
       "      <th></th>\n",
       "      <th></th>\n",
       "    </tr>\n",
       "  </thead>\n",
       "  <tbody>\n",
       "    <tr>\n",
       "      <th>E13711</th>\n",
       "      <td>M</td>\n",
       "      <td>region_15</td>\n",
       "    </tr>\n",
       "    <tr>\n",
       "      <th>E18243</th>\n",
       "      <td>M</td>\n",
       "      <td>region_2</td>\n",
       "    </tr>\n",
       "    <tr>\n",
       "      <th>E21133</th>\n",
       "      <td>M</td>\n",
       "      <td>region_13</td>\n",
       "    </tr>\n",
       "    <tr>\n",
       "      <th>E26399</th>\n",
       "      <td>M</td>\n",
       "      <td>region_7</td>\n",
       "    </tr>\n",
       "    <tr>\n",
       "      <th>E35678</th>\n",
       "      <td>M</td>\n",
       "      <td>region_26</td>\n",
       "    </tr>\n",
       "    <tr>\n",
       "      <th>E39322</th>\n",
       "      <td>M</td>\n",
       "      <td>region_31</td>\n",
       "    </tr>\n",
       "    <tr>\n",
       "      <th>E65150</th>\n",
       "      <td>F</td>\n",
       "      <td>region_2</td>\n",
       "    </tr>\n",
       "    <tr>\n",
       "      <th>E67240</th>\n",
       "      <td>M</td>\n",
       "      <td>region_23</td>\n",
       "    </tr>\n",
       "    <tr>\n",
       "      <th>E67404</th>\n",
       "      <td>M</td>\n",
       "      <td>region_23</td>\n",
       "    </tr>\n",
       "    <tr>\n",
       "      <th>E7277</th>\n",
       "      <td>M</td>\n",
       "      <td>region_27</td>\n",
       "    </tr>\n",
       "  </tbody>\n",
       "</table>\n",
       "</div>"
      ],
      "text/plain": [
       "employee_attributes gender     region\n",
       "employee_id                          \n",
       "E13711                   M  region_15\n",
       "E18243                   M   region_2\n",
       "E21133                   M  region_13\n",
       "E26399                   M   region_7\n",
       "E35678                   M  region_26\n",
       "E39322                   M  region_31\n",
       "E65150                   F   region_2\n",
       "E67240                   M  region_23\n",
       "E67404                   M  region_23\n",
       "E7277                    M  region_27"
      ]
     },
     "execution_count": 59,
     "metadata": {},
     "output_type": "execute_result"
    }
   ],
   "source": [
    "# convert melted_data to wide format\n",
    "pivoted_data = melted_data.pivot(index=\"employee_id\", columns=\"employee_attributes\", values=\"value\")\n",
    "                                                       \n",
    "pivoted_data"
   ]
  },
  {
   "cell_type": "markdown",
   "metadata": {},
   "source": [
    "Though the data doesn't look as expected. Following code will make it look more familiar."
   ]
  },
  {
   "cell_type": "code",
   "execution_count": 60,
   "metadata": {},
   "outputs": [
    {
     "data": {
      "text/html": [
       "<div>\n",
       "<style scoped>\n",
       "    .dataframe tbody tr th:only-of-type {\n",
       "        vertical-align: middle;\n",
       "    }\n",
       "\n",
       "    .dataframe tbody tr th {\n",
       "        vertical-align: top;\n",
       "    }\n",
       "\n",
       "    .dataframe thead th {\n",
       "        text-align: right;\n",
       "    }\n",
       "</style>\n",
       "<table border=\"1\" class=\"dataframe\">\n",
       "  <thead>\n",
       "    <tr style=\"text-align: right;\">\n",
       "      <th></th>\n",
       "      <th>employee_id</th>\n",
       "      <th>gender</th>\n",
       "      <th>region</th>\n",
       "    </tr>\n",
       "  </thead>\n",
       "  <tbody>\n",
       "    <tr>\n",
       "      <th>0</th>\n",
       "      <td>E13711</td>\n",
       "      <td>M</td>\n",
       "      <td>region_15</td>\n",
       "    </tr>\n",
       "    <tr>\n",
       "      <th>1</th>\n",
       "      <td>E18243</td>\n",
       "      <td>M</td>\n",
       "      <td>region_2</td>\n",
       "    </tr>\n",
       "    <tr>\n",
       "      <th>2</th>\n",
       "      <td>E21133</td>\n",
       "      <td>M</td>\n",
       "      <td>region_13</td>\n",
       "    </tr>\n",
       "    <tr>\n",
       "      <th>3</th>\n",
       "      <td>E26399</td>\n",
       "      <td>M</td>\n",
       "      <td>region_7</td>\n",
       "    </tr>\n",
       "    <tr>\n",
       "      <th>4</th>\n",
       "      <td>E35678</td>\n",
       "      <td>M</td>\n",
       "      <td>region_26</td>\n",
       "    </tr>\n",
       "    <tr>\n",
       "      <th>5</th>\n",
       "      <td>E39322</td>\n",
       "      <td>M</td>\n",
       "      <td>region_31</td>\n",
       "    </tr>\n",
       "    <tr>\n",
       "      <th>6</th>\n",
       "      <td>E65150</td>\n",
       "      <td>F</td>\n",
       "      <td>region_2</td>\n",
       "    </tr>\n",
       "    <tr>\n",
       "      <th>7</th>\n",
       "      <td>E67240</td>\n",
       "      <td>M</td>\n",
       "      <td>region_23</td>\n",
       "    </tr>\n",
       "    <tr>\n",
       "      <th>8</th>\n",
       "      <td>E67404</td>\n",
       "      <td>M</td>\n",
       "      <td>region_23</td>\n",
       "    </tr>\n",
       "    <tr>\n",
       "      <th>9</th>\n",
       "      <td>E7277</td>\n",
       "      <td>M</td>\n",
       "      <td>region_27</td>\n",
       "    </tr>\n",
       "  </tbody>\n",
       "</table>\n",
       "</div>"
      ],
      "text/plain": [
       "  employee_id gender     region\n",
       "0      E13711      M  region_15\n",
       "1      E18243      M   region_2\n",
       "2      E21133      M  region_13\n",
       "3      E26399      M   region_7\n",
       "4      E35678      M  region_26\n",
       "5      E39322      M  region_31\n",
       "6      E65150      F   region_2\n",
       "7      E67240      M  region_23\n",
       "8      E67404      M  region_23\n",
       "9       E7277      M  region_27"
      ]
     },
     "execution_count": 60,
     "metadata": {},
     "output_type": "execute_result"
    }
   ],
   "source": [
    "# remove name 'employee_attributes'\n",
    "pivoted_data.columns.name = None\n",
    "\n",
    "# change index column to numbers from existing index column 'employee_id'\n",
    "pivoted_data = pivoted_data.reset_index()\n",
    "\n",
    "pivoted_data"
   ]
  },
  {
   "cell_type": "markdown",
   "metadata": {},
   "source": [
    "# 4. Data Analysis"
   ]
  },
  {
   "cell_type": "markdown",
   "metadata": {},
   "source": [
    "In the last section, you learnt to reshape data. In this section, you'll learn important techniques such as group_by, pivot_table, etc. to aggregate and summarize data which can reveal useful insights. You'll continue with the wide shape of the employee_data."
   ]
  },
  {
   "cell_type": "markdown",
   "metadata": {},
   "source": [
    "#### Question : How many employees have been promoted in the organization?"
   ]
  },
  {
   "cell_type": "code",
   "execution_count": 61,
   "metadata": {},
   "outputs": [
    {
     "data": {
      "text/plain": [
       "is_promoted\n",
       "0    50140\n",
       "1     4668\n",
       "Name: is_promoted, dtype: int64"
      ]
     },
     "execution_count": 61,
     "metadata": {},
     "output_type": "execute_result"
    }
   ],
   "source": [
    "promotion_count = employee_data.groupby(\"is_promoted\")[\"is_promoted\"].count()\n",
    "promotion_count"
   ]
  },
  {
   "cell_type": "markdown",
   "metadata": {},
   "source": [
    "It can be observed that 4668 employees are promoted and 50140 employees are not yet promoted."
   ]
  },
  {
   "cell_type": "markdown",
   "metadata": {},
   "source": [
    "#### Question : What's the overall promotion rate across the organization?"
   ]
  },
  {
   "cell_type": "code",
   "execution_count": 62,
   "metadata": {},
   "outputs": [
    {
     "data": {
      "text/plain": [
       "is_promoted\n",
       "0    91.48\n",
       "1     8.52\n",
       "Name: is_promoted, dtype: float64"
      ]
     },
     "execution_count": 62,
     "metadata": {},
     "output_type": "execute_result"
    }
   ],
   "source": [
    "# set precision\n",
    "pd.set_option(\"display.precision\", 2)\n",
    "\n",
    "promotion_percentage = employee_data.groupby(\"is_promoted\")[\"is_promoted\"].count() * 100 / employee_data.shape[0]\n",
    "promotion_percentage"
   ]
  },
  {
   "cell_type": "markdown",
   "metadata": {},
   "source": [
    "It can be observed that about 8.52% employees have been promoted out of total employees."
   ]
  },
  {
   "cell_type": "code",
   "execution_count": 63,
   "metadata": {},
   "outputs": [],
   "source": [
    "# define promotion rate\n",
    "promotion_rate = 0.0852"
   ]
  },
  {
   "cell_type": "markdown",
   "metadata": {},
   "source": [
    "#### Question : Identify departments with above average promotion rate."
   ]
  },
  {
   "cell_type": "code",
   "execution_count": 64,
   "metadata": {},
   "outputs": [
    {
     "data": {
      "text/plain": [
       "department\n",
       "Analytics            0.10\n",
       "Finance              0.08\n",
       "HR                   0.06\n",
       "Legal                0.05\n",
       "Operations           0.09\n",
       "Procurement          0.10\n",
       "R&D                  0.07\n",
       "Sales & Marketing    0.07\n",
       "Technology           0.11\n",
       "Name: is_promoted, dtype: float64"
      ]
     },
     "execution_count": 64,
     "metadata": {},
     "output_type": "execute_result"
    }
   ],
   "source": [
    "department_wise_promotion_rate = employee_data.groupby(\"department\")[\"is_promoted\"].mean()\n",
    "department_wise_promotion_rate"
   ]
  },
  {
   "cell_type": "code",
   "execution_count": 65,
   "metadata": {},
   "outputs": [
    {
     "data": {
      "text/plain": [
       "department\n",
       "Analytics      0.10\n",
       "Operations     0.09\n",
       "Procurement    0.10\n",
       "Technology     0.11\n",
       "Name: is_promoted, dtype: float64"
      ]
     },
     "execution_count": 65,
     "metadata": {},
     "output_type": "execute_result"
    }
   ],
   "source": [
    "# deaprtment with above average promotion\n",
    "department_wise_promotion_rate[department_wise_promotion_rate > promotion_rate]"
   ]
  },
  {
   "cell_type": "markdown",
   "metadata": {},
   "source": [
    "It can be observed that 'Analytics', 'Operations', 'Procurement', and 'Technology' departments have higher promotion rate than organizational average."
   ]
  },
  {
   "cell_type": "markdown",
   "metadata": {},
   "source": [
    "#### Question : Identify which gender has above average promotion rate."
   ]
  },
  {
   "cell_type": "markdown",
   "metadata": {},
   "source": [
    "|Exercise|\n",
    "|:---:|\n",
    "|Identify which gender has above average promotion rate.|\n"
   ]
  },
  {
   "cell_type": "code",
   "execution_count": 197,
   "metadata": {},
   "outputs": [],
   "source": [
    "# write your code here\n",
    "\n"
   ]
  },
  {
   "cell_type": "markdown",
   "metadata": {},
   "source": [
    "#### Question : Identify education wise promotion rate in departments."
   ]
  },
  {
   "cell_type": "code",
   "execution_count": 66,
   "metadata": {},
   "outputs": [
    {
     "data": {
      "text/plain": [
       "department         education       \n",
       "Analytics          Bachelor's           9.30\n",
       "                   Below Secondary     20.00\n",
       "                   Master's & above    10.50\n",
       "Finance            Bachelor's           8.16\n",
       "                   Below Secondary      5.66\n",
       "                   Master's & above     8.48\n",
       "HR                 Bachelor's           4.72\n",
       "                   Below Secondary      7.03\n",
       "                   Master's & above     7.28\n",
       "Legal              Bachelor's           5.28\n",
       "                   Below Secondary      6.15\n",
       "                   Master's & above     3.77\n",
       "Operations         Bachelor's           8.21\n",
       "                   Below Secondary      6.15\n",
       "                   Master's & above    11.15\n",
       "Procurement        Bachelor's           8.75\n",
       "                   Below Secondary      4.62\n",
       "                   Master's & above    11.44\n",
       "R&D                Bachelor's           6.80\n",
       "                   Below Secondary      0.00\n",
       "                   Master's & above     7.06\n",
       "Sales & Marketing  Bachelor's           7.02\n",
       "                   Below Secondary      4.00\n",
       "                   Master's & above     7.71\n",
       "Technology         Bachelor's          10.67\n",
       "                   Below Secondary     15.42\n",
       "                   Master's & above    10.53\n",
       "Name: is_promoted, dtype: float64"
      ]
     },
     "execution_count": 66,
     "metadata": {},
     "output_type": "execute_result"
    }
   ],
   "source": [
    "# multiply by 100 to get percentage\n",
    "employee_data.groupby([\"department\", \"education\"])[\"is_promoted\"].mean() * 100"
   ]
  },
  {
   "cell_type": "markdown",
   "metadata": {},
   "source": [
    "However, above result is hard to read. Let's make pivot table which is readable."
   ]
  },
  {
   "cell_type": "code",
   "execution_count": 67,
   "metadata": {},
   "outputs": [
    {
     "data": {
      "text/html": [
       "<div>\n",
       "<style scoped>\n",
       "    .dataframe tbody tr th:only-of-type {\n",
       "        vertical-align: middle;\n",
       "    }\n",
       "\n",
       "    .dataframe tbody tr th {\n",
       "        vertical-align: top;\n",
       "    }\n",
       "\n",
       "    .dataframe thead th {\n",
       "        text-align: right;\n",
       "    }\n",
       "</style>\n",
       "<table border=\"1\" class=\"dataframe\">\n",
       "  <thead>\n",
       "    <tr style=\"text-align: right;\">\n",
       "      <th>education</th>\n",
       "      <th>Bachelor's</th>\n",
       "      <th>Below Secondary</th>\n",
       "      <th>Master's &amp; above</th>\n",
       "    </tr>\n",
       "    <tr>\n",
       "      <th>department</th>\n",
       "      <th></th>\n",
       "      <th></th>\n",
       "      <th></th>\n",
       "    </tr>\n",
       "  </thead>\n",
       "  <tbody>\n",
       "    <tr>\n",
       "      <th>Analytics</th>\n",
       "      <td>9.30</td>\n",
       "      <td>20.00</td>\n",
       "      <td>10.50</td>\n",
       "    </tr>\n",
       "    <tr>\n",
       "      <th>Finance</th>\n",
       "      <td>8.16</td>\n",
       "      <td>5.66</td>\n",
       "      <td>8.48</td>\n",
       "    </tr>\n",
       "    <tr>\n",
       "      <th>HR</th>\n",
       "      <td>4.72</td>\n",
       "      <td>7.03</td>\n",
       "      <td>7.28</td>\n",
       "    </tr>\n",
       "    <tr>\n",
       "      <th>Legal</th>\n",
       "      <td>5.28</td>\n",
       "      <td>6.15</td>\n",
       "      <td>3.77</td>\n",
       "    </tr>\n",
       "    <tr>\n",
       "      <th>Operations</th>\n",
       "      <td>8.21</td>\n",
       "      <td>6.15</td>\n",
       "      <td>11.15</td>\n",
       "    </tr>\n",
       "    <tr>\n",
       "      <th>Procurement</th>\n",
       "      <td>8.75</td>\n",
       "      <td>4.62</td>\n",
       "      <td>11.44</td>\n",
       "    </tr>\n",
       "    <tr>\n",
       "      <th>R&amp;D</th>\n",
       "      <td>6.80</td>\n",
       "      <td>0.00</td>\n",
       "      <td>7.06</td>\n",
       "    </tr>\n",
       "    <tr>\n",
       "      <th>Sales &amp; Marketing</th>\n",
       "      <td>7.02</td>\n",
       "      <td>4.00</td>\n",
       "      <td>7.71</td>\n",
       "    </tr>\n",
       "    <tr>\n",
       "      <th>Technology</th>\n",
       "      <td>10.67</td>\n",
       "      <td>15.42</td>\n",
       "      <td>10.53</td>\n",
       "    </tr>\n",
       "  </tbody>\n",
       "</table>\n",
       "</div>"
      ],
      "text/plain": [
       "education          Bachelor's  Below Secondary  Master's & above\n",
       "department                                                      \n",
       "Analytics                9.30            20.00             10.50\n",
       "Finance                  8.16             5.66              8.48\n",
       "HR                       4.72             7.03              7.28\n",
       "Legal                    5.28             6.15              3.77\n",
       "Operations               8.21             6.15             11.15\n",
       "Procurement              8.75             4.62             11.44\n",
       "R&D                      6.80             0.00              7.06\n",
       "Sales & Marketing        7.02             4.00              7.71\n",
       "Technology              10.67            15.42             10.53"
      ]
     },
     "execution_count": 67,
     "metadata": {},
     "output_type": "execute_result"
    }
   ],
   "source": [
    "# multiply by 100 to get percentage\n",
    "education_department_promotion = employee_data.pivot_table(index=\"department\", columns=\"education\" ,values=\"is_promoted\", aggfunc=\"mean\")*100\n",
    "education_department_promotion"
   ]
  },
  {
   "cell_type": "markdown",
   "metadata": {},
   "source": [
    "Interestingly, employees with education level below secondary are more promoted than others in Analytics, Legal, and Technology."
   ]
  },
  {
   "cell_type": "markdown",
   "metadata": {},
   "source": [
    "#### Question : Identify gender wise promotion rate in departments. "
   ]
  },
  {
   "cell_type": "markdown",
   "metadata": {},
   "source": [
    "|Exercise|\n",
    "|:---:|\n",
    "|Identify gender wise promotion rate in departments. And comment your insights.|\n"
   ]
  },
  {
   "cell_type": "code",
   "execution_count": 200,
   "metadata": {},
   "outputs": [],
   "source": [
    "# write your code here\n",
    "\n",
    "\n"
   ]
  },
  {
   "cell_type": "markdown",
   "metadata": {},
   "source": [
    "# 5. Storytelling with Data"
   ]
  },
  {
   "cell_type": "markdown",
   "metadata": {},
   "source": [
    "In the storytelling part, you will communicate your insights pertaining to data using visualizations. You can use different methods for storytelling such as drill-down, contrast, etc. Read more about the storytelling methods <a href=\"https://help.tableau.com/current/pro/desktop/en-us/story_best_practices.htm\">here</a>."
   ]
  },
  {
   "cell_type": "code",
   "execution_count": 68,
   "metadata": {},
   "outputs": [
    {
     "data": {
      "image/png": "[encoded data removed]",
      "text/plain": [
       "<Figure size 432x288 with 1 Axes>"
      ]
     },
     "metadata": {},
     "output_type": "display_data"
    }
   ],
   "source": [
    "ax1 = is_promoted_distribution.plot.pie(autopct='%1.2f%%', pctdistance=0.7, radius=1,\n",
    "                                       labels=[\"Not Promoted\", \"Promoted\"], explode=[0, 0.1])\n",
    "ax1.set_title(\"Promotion Rate acorss the Organization\")\n",
    "ax1.axis('off');"
   ]
  },
  {
   "cell_type": "markdown",
   "metadata": {},
   "source": [
    "In the organization, about 9% of employees have been promoted. Let's find out which department(s) have promotion rate above this rate."
   ]
  },
  {
   "cell_type": "code",
   "execution_count": 69,
   "metadata": {},
   "outputs": [
    {
     "data": {
      "image/png": "[encoded data removed]",
      "text/plain": [
       "<Figure size 432x288 with 1 Axes>"
      ]
     },
     "metadata": {
      "needs_background": "light"
     },
     "output_type": "display_data"
    }
   ],
   "source": [
    "ax2 = department_wise_promotion_rate.sort_values().plot(kind=\"barh\")\n",
    "ax2.axvline(promotion_rate, c=\"red\", label=\"Oraganization Promotion Rate\")\n",
    "ax2.yaxis.label.set_visible(False)\n",
    "ax2.set_xlabel(\"Promotion Rate\")\n",
    "ax2.set_title(\"Department wise Promotion Rate\");"
   ]
  },
  {
   "cell_type": "markdown",
   "metadata": {},
   "source": [
    "Four departments 'Analytics', 'Operations', 'Procurement', and 'Technology' departments have higher promotion rate than organizational average."
   ]
  },
  {
   "cell_type": "markdown",
   "metadata": {},
   "source": [
    "|Exercise|\n",
    "|:---:|\n",
    "|Make plot of gender wise promotion and comment your observation.|\n"
   ]
  },
  {
   "cell_type": "code",
   "execution_count": 203,
   "metadata": {},
   "outputs": [],
   "source": [
    "# write your code here\n",
    "\n",
    "\n"
   ]
  },
  {
   "cell_type": "code",
   "execution_count": 70,
   "metadata": {},
   "outputs": [
    {
     "data": {
      "image/png": "[encoded data removed]",
      "text/plain": [
       "<Figure size 432x288 with 1 Axes>"
      ]
     },
     "metadata": {
      "needs_background": "light"
     },
     "output_type": "display_data"
    }
   ],
   "source": [
    "ax3 = education_department_promotion.sort_values(by=\"department\").plot(kind=\"bar\")\n",
    "ax3.legend(bbox_to_anchor=(1.5, 1))\n",
    "ax3.set_ylabel(\"Promotion Rate\")\n",
    "ax3.xaxis.label.set_visible(False)\n",
    "ax3.set_title(\"Department wise Promotion Rate for Different Education Level\");"
   ]
  },
  {
   "cell_type": "markdown",
   "metadata": {},
   "source": [
    "|Exercise|\n",
    "|:---:|\n",
    "|Comment your observation from the above plot.|\n"
   ]
  },
  {
   "cell_type": "code",
   "execution_count": 1,
   "metadata": {},
   "outputs": [],
   "source": [
    "# write your obervation\n"
   ]
  },
  {
   "cell_type": "markdown",
   "metadata": {},
   "source": [
    "Furthermore, it would be curious to see if promoted employees have higher previous ratings than other employees."
   ]
  },
  {
   "cell_type": "code",
   "execution_count": 71,
   "metadata": {},
   "outputs": [
    {
     "data": {
      "image/png": "[encoded data removed]",
      "text/plain": [
       "<Figure size 432x288 with 1 Axes>"
      ]
     },
     "metadata": {
      "needs_background": "light"
     },
     "output_type": "display_data"
    }
   ],
   "source": [
    "sns.boxplot(data=employee_data, x=\"previous_year_rating\", y=\"is_promoted\", orient=\"h\")\n",
    "plt.yticks(ticks=[0, 1], labels=[\"Not Promoted\", \"Promoted\"])\n",
    "plt.xlabel(\"Previous Year Rating\")\n",
    "plt.ylabel(\"\")\n",
    "plt.xticks(np.arange(1,6))\n",
    "plt.title(\"How Previous Year Ratings relate to promotion?\");"
   ]
  },
  {
   "cell_type": "markdown",
   "metadata": {},
   "source": [
    "Storytelling can be continued further with insights from other columns such as 'avg_training_score', etc. using appropriate visualizations."
   ]
  }
 ],
 "metadata": {
  "kernelspec": {
   "display_name": "Python 3.10.4 64-bit",
   "language": "python",
   "name": "python3"
  },
  "language_info": {
   "codemirror_mode": {
    "name": "ipython",
    "version": 3
   },
   "file_extension": ".py",
   "mimetype": "text/x-python",
   "name": "python",
   "nbconvert_exporter": "python",
   "pygments_lexer": "ipython3",
   "version": "3.10.4"
  },
  "vscode": {
   "interpreter": {
    "hash": "916dbcbb3f70747c44a77c7bcd40155683ae19c65e1c03b4aa3499c5328201f1"
   }
  }
 },
 "nbformat": 4,
 "nbformat_minor": 4
}

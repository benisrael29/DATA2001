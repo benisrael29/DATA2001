{
 "cells": [
  {
   "cell_type": "markdown",
   "metadata": {},
   "source": [
    "# DATA2001 Assingment 1\n",
    "\n",
    "## Objectives \n",
    "1. Identify Missing Data and Handle\n",
    "2. Visualise Data\n",
    "3. Investigate Differences between Species \n",
    "4. Forcast using k-Means and PCA\n",
    "\n",
    "## Table of Contents\n",
    "\n",
    "Todo\n",
    "\n",
    "# 1. Problem Formation\n",
    "\n",
    "# 2. Data Collection\n",
    "\n",
    "Data were collected and made available by Dr. Kristen Gorman and the Palmer Station, Antarctica LTER, a member of the Long Term Ecological Research Network.There are 3 different species of penguins in this dataset, collected from 3 islands in the Palmer Archipelago, Antarctica.\n",
    "\n",
    "\n",
    "1. **studyName**- Sampling expedition from which data were collected, generated, etc.\n",
    "\n",
    "2. **Sample Number** - an integer denoting the continuous numbering sequence for each sample\n",
    "\n",
    "3. **Species**- a character string denoting the penguin species\n",
    "\n",
    "4. **Region** - a character string denoting the region of Palmer LTER sampling grid\n",
    "\n",
    "5. **Island** - a character string denoting the island near Palmer Station where samples were collected\n",
    "\n",
    "6. **Stage** - a character string denoting reproductive stage at sampling\n",
    "\n",
    "7. **Individual ID** - a character string denoting the unique ID for each individual in dataset\n",
    "\n",
    "8. **Clutch Completion** - a character string denoting if the study nest observed with a full clutch, i.e., 2 eggs\n",
    "\n",
    "9. **Date Egg**- a date denoting the date study nest observed with 1 egg (sampled)\n",
    "\n",
    "10. **Culmen Length**- a number denoting the length of the dorsal ridge of a bird's bill (millimetres)\n",
    "\n",
    "11. **Culmen Depth** - a number denoting the depth of the dorsal ridge of a bird's bill (millimetres)\n",
    "\n",
    "12. **Flipper Length**- an integer denoting the length penguin flipper (millimetres)\n",
    "\n",
    "13. **Body Mass**- an integer denoting the penguin body mass (grams)\n",
    "\n",
    "14. **Sex** - a character string denoting the sex of an animal\n",
    "\n",
    "15. **Delta 15 N**- a number denoting the measure of the ratio of stable isotopes 15N:14N\n",
    "\n",
    "16. **Delta 13 C** - a number denoting the measure of the ratio of stable isotopes 13C:12C\n",
    "\n",
    "17. **Comments** - a character string with text providing additional relevant information for data\n",
    "\n",
    "## 2.1 Load penguins_iter.csv\n",
    "\n"
   ]
  },
  {
   "cell_type": "code",
   "execution_count": 56,
   "metadata": {},
   "outputs": [
    {
     "data": {
      "text/html": [
       "<div>\n",
       "<style scoped>\n",
       "    .dataframe tbody tr th:only-of-type {\n",
       "        vertical-align: middle;\n",
       "    }\n",
       "\n",
       "    .dataframe tbody tr th {\n",
       "        vertical-align: top;\n",
       "    }\n",
       "\n",
       "    .dataframe thead th {\n",
       "        text-align: right;\n",
       "    }\n",
       "</style>\n",
       "<table border=\"1\" class=\"dataframe\">\n",
       "  <thead>\n",
       "    <tr style=\"text-align: right;\">\n",
       "      <th></th>\n",
       "      <th>studyName</th>\n",
       "      <th>Sample Number</th>\n",
       "      <th>Species</th>\n",
       "      <th>Region</th>\n",
       "      <th>Island</th>\n",
       "      <th>Stage</th>\n",
       "      <th>Individual ID</th>\n",
       "      <th>Clutch Completion</th>\n",
       "      <th>Date Egg</th>\n",
       "      <th>Culmen Length (mm)</th>\n",
       "      <th>Culmen Depth (mm)</th>\n",
       "      <th>Flipper Length (mm)</th>\n",
       "      <th>Body Mass (g)</th>\n",
       "      <th>Sex</th>\n",
       "      <th>Delta 15 N (o/oo)</th>\n",
       "      <th>Delta 13 C (o/oo)</th>\n",
       "      <th>Comments</th>\n",
       "    </tr>\n",
       "  </thead>\n",
       "  <tbody>\n",
       "    <tr>\n",
       "      <th>0</th>\n",
       "      <td>PAL0708</td>\n",
       "      <td>1</td>\n",
       "      <td>Adelie Penguin (Pygoscelis adeliae)</td>\n",
       "      <td>Anvers</td>\n",
       "      <td>Torgersen</td>\n",
       "      <td>Adult, 1 Egg Stage</td>\n",
       "      <td>N1A1</td>\n",
       "      <td>Yes</td>\n",
       "      <td>11/11/07</td>\n",
       "      <td>39.1</td>\n",
       "      <td>18.7</td>\n",
       "      <td>181.0</td>\n",
       "      <td>3750.0</td>\n",
       "      <td>MALE</td>\n",
       "      <td>NaN</td>\n",
       "      <td>NaN</td>\n",
       "      <td>Not enough blood for isotopes.</td>\n",
       "    </tr>\n",
       "    <tr>\n",
       "      <th>1</th>\n",
       "      <td>PAL0708</td>\n",
       "      <td>2</td>\n",
       "      <td>Adelie Penguin (Pygoscelis adeliae)</td>\n",
       "      <td>Anvers</td>\n",
       "      <td>Torgersen</td>\n",
       "      <td>Adult, 1 Egg Stage</td>\n",
       "      <td>N1A2</td>\n",
       "      <td>Yes</td>\n",
       "      <td>11/11/07</td>\n",
       "      <td>39.5</td>\n",
       "      <td>17.4</td>\n",
       "      <td>186.0</td>\n",
       "      <td>3800.0</td>\n",
       "      <td>FEMALE</td>\n",
       "      <td>8.94956</td>\n",
       "      <td>-24.69454</td>\n",
       "      <td>NaN</td>\n",
       "    </tr>\n",
       "    <tr>\n",
       "      <th>2</th>\n",
       "      <td>PAL0708</td>\n",
       "      <td>3</td>\n",
       "      <td>Adelie Penguin (Pygoscelis adeliae)</td>\n",
       "      <td>Anvers</td>\n",
       "      <td>Torgersen</td>\n",
       "      <td>Adult, 1 Egg Stage</td>\n",
       "      <td>N2A1</td>\n",
       "      <td>Yes</td>\n",
       "      <td>11/16/07</td>\n",
       "      <td>40.3</td>\n",
       "      <td>18.0</td>\n",
       "      <td>195.0</td>\n",
       "      <td>3250.0</td>\n",
       "      <td>FEMALE</td>\n",
       "      <td>8.36821</td>\n",
       "      <td>-25.33302</td>\n",
       "      <td>NaN</td>\n",
       "    </tr>\n",
       "    <tr>\n",
       "      <th>3</th>\n",
       "      <td>PAL0708</td>\n",
       "      <td>4</td>\n",
       "      <td>Adelie Penguin (Pygoscelis adeliae)</td>\n",
       "      <td>Anvers</td>\n",
       "      <td>Torgersen</td>\n",
       "      <td>Adult, 1 Egg Stage</td>\n",
       "      <td>N2A2</td>\n",
       "      <td>Yes</td>\n",
       "      <td>11/16/07</td>\n",
       "      <td>NaN</td>\n",
       "      <td>NaN</td>\n",
       "      <td>NaN</td>\n",
       "      <td>NaN</td>\n",
       "      <td>NaN</td>\n",
       "      <td>NaN</td>\n",
       "      <td>NaN</td>\n",
       "      <td>Adult not sampled.</td>\n",
       "    </tr>\n",
       "    <tr>\n",
       "      <th>4</th>\n",
       "      <td>PAL0708</td>\n",
       "      <td>5</td>\n",
       "      <td>Adelie Penguin (Pygoscelis adeliae)</td>\n",
       "      <td>Anvers</td>\n",
       "      <td>Torgersen</td>\n",
       "      <td>Adult, 1 Egg Stage</td>\n",
       "      <td>N3A1</td>\n",
       "      <td>Yes</td>\n",
       "      <td>11/16/07</td>\n",
       "      <td>36.7</td>\n",
       "      <td>19.3</td>\n",
       "      <td>193.0</td>\n",
       "      <td>3450.0</td>\n",
       "      <td>FEMALE</td>\n",
       "      <td>8.76651</td>\n",
       "      <td>-25.32426</td>\n",
       "      <td>NaN</td>\n",
       "    </tr>\n",
       "  </tbody>\n",
       "</table>\n",
       "</div>"
      ],
      "text/plain": [
       "  studyName  Sample Number                              Species  Region  \\\n",
       "0   PAL0708              1  Adelie Penguin (Pygoscelis adeliae)  Anvers   \n",
       "1   PAL0708              2  Adelie Penguin (Pygoscelis adeliae)  Anvers   \n",
       "2   PAL0708              3  Adelie Penguin (Pygoscelis adeliae)  Anvers   \n",
       "3   PAL0708              4  Adelie Penguin (Pygoscelis adeliae)  Anvers   \n",
       "4   PAL0708              5  Adelie Penguin (Pygoscelis adeliae)  Anvers   \n",
       "\n",
       "      Island               Stage Individual ID Clutch Completion  Date Egg  \\\n",
       "0  Torgersen  Adult, 1 Egg Stage          N1A1               Yes  11/11/07   \n",
       "1  Torgersen  Adult, 1 Egg Stage          N1A2               Yes  11/11/07   \n",
       "2  Torgersen  Adult, 1 Egg Stage          N2A1               Yes  11/16/07   \n",
       "3  Torgersen  Adult, 1 Egg Stage          N2A2               Yes  11/16/07   \n",
       "4  Torgersen  Adult, 1 Egg Stage          N3A1               Yes  11/16/07   \n",
       "\n",
       "   Culmen Length (mm)  Culmen Depth (mm)  Flipper Length (mm)  Body Mass (g)  \\\n",
       "0                39.1               18.7                181.0         3750.0   \n",
       "1                39.5               17.4                186.0         3800.0   \n",
       "2                40.3               18.0                195.0         3250.0   \n",
       "3                 NaN                NaN                  NaN            NaN   \n",
       "4                36.7               19.3                193.0         3450.0   \n",
       "\n",
       "      Sex  Delta 15 N (o/oo)  Delta 13 C (o/oo)  \\\n",
       "0    MALE                NaN                NaN   \n",
       "1  FEMALE            8.94956          -24.69454   \n",
       "2  FEMALE            8.36821          -25.33302   \n",
       "3     NaN                NaN                NaN   \n",
       "4  FEMALE            8.76651          -25.32426   \n",
       "\n",
       "                         Comments  \n",
       "0  Not enough blood for isotopes.  \n",
       "1                             NaN  \n",
       "2                             NaN  \n",
       "3              Adult not sampled.  \n",
       "4                             NaN  "
      ]
     },
     "execution_count": 56,
     "metadata": {},
     "output_type": "execute_result"
    }
   ],
   "source": [
    "# import pandas\n",
    "import pandas as pd\n",
    "\n",
    "#Supresss warnings for neatness\n",
    "import warnings\n",
    "warnings.filterwarnings(\"ignore\")\n",
    "\n",
    "#load data\n",
    "df = pd.read_csv('penguins_lter.csv')\n",
    "\n",
    "#view head\n",
    "df.head(5)"
   ]
  },
  {
   "cell_type": "markdown",
   "metadata": {},
   "source": [
    "### Missing Values"
   ]
  },
  {
   "cell_type": "code",
   "execution_count": 57,
   "metadata": {},
   "outputs": [
    {
     "data": {
      "text/html": [
       "<div>\n",
       "<style scoped>\n",
       "    .dataframe tbody tr th:only-of-type {\n",
       "        vertical-align: middle;\n",
       "    }\n",
       "\n",
       "    .dataframe tbody tr th {\n",
       "        vertical-align: top;\n",
       "    }\n",
       "\n",
       "    .dataframe thead th {\n",
       "        text-align: right;\n",
       "    }\n",
       "</style>\n",
       "<table border=\"1\" class=\"dataframe\">\n",
       "  <thead>\n",
       "    <tr style=\"text-align: right;\">\n",
       "      <th></th>\n",
       "      <th>Sample Number</th>\n",
       "      <th>Culmen Length (mm)</th>\n",
       "      <th>Culmen Depth (mm)</th>\n",
       "      <th>Flipper Length (mm)</th>\n",
       "      <th>Body Mass (g)</th>\n",
       "      <th>Delta 15 N (o/oo)</th>\n",
       "      <th>Delta 13 C (o/oo)</th>\n",
       "    </tr>\n",
       "  </thead>\n",
       "  <tbody>\n",
       "    <tr>\n",
       "      <th>count</th>\n",
       "      <td>344.000000</td>\n",
       "      <td>342.000000</td>\n",
       "      <td>342.000000</td>\n",
       "      <td>342.000000</td>\n",
       "      <td>342.000000</td>\n",
       "      <td>330.000000</td>\n",
       "      <td>331.000000</td>\n",
       "    </tr>\n",
       "    <tr>\n",
       "      <th>mean</th>\n",
       "      <td>63.151163</td>\n",
       "      <td>43.921930</td>\n",
       "      <td>17.151170</td>\n",
       "      <td>200.915205</td>\n",
       "      <td>4201.754386</td>\n",
       "      <td>8.733382</td>\n",
       "      <td>-25.686292</td>\n",
       "    </tr>\n",
       "    <tr>\n",
       "      <th>std</th>\n",
       "      <td>40.430199</td>\n",
       "      <td>5.459584</td>\n",
       "      <td>1.974793</td>\n",
       "      <td>14.061714</td>\n",
       "      <td>801.954536</td>\n",
       "      <td>0.551770</td>\n",
       "      <td>0.793961</td>\n",
       "    </tr>\n",
       "    <tr>\n",
       "      <th>min</th>\n",
       "      <td>1.000000</td>\n",
       "      <td>32.100000</td>\n",
       "      <td>13.100000</td>\n",
       "      <td>172.000000</td>\n",
       "      <td>2700.000000</td>\n",
       "      <td>7.632200</td>\n",
       "      <td>-27.018540</td>\n",
       "    </tr>\n",
       "    <tr>\n",
       "      <th>25%</th>\n",
       "      <td>29.000000</td>\n",
       "      <td>39.225000</td>\n",
       "      <td>15.600000</td>\n",
       "      <td>190.000000</td>\n",
       "      <td>3550.000000</td>\n",
       "      <td>8.299890</td>\n",
       "      <td>-26.320305</td>\n",
       "    </tr>\n",
       "    <tr>\n",
       "      <th>50%</th>\n",
       "      <td>58.000000</td>\n",
       "      <td>44.450000</td>\n",
       "      <td>17.300000</td>\n",
       "      <td>197.000000</td>\n",
       "      <td>4050.000000</td>\n",
       "      <td>8.652405</td>\n",
       "      <td>-25.833520</td>\n",
       "    </tr>\n",
       "    <tr>\n",
       "      <th>75%</th>\n",
       "      <td>95.250000</td>\n",
       "      <td>48.500000</td>\n",
       "      <td>18.700000</td>\n",
       "      <td>213.000000</td>\n",
       "      <td>4750.000000</td>\n",
       "      <td>9.172123</td>\n",
       "      <td>-25.062050</td>\n",
       "    </tr>\n",
       "    <tr>\n",
       "      <th>max</th>\n",
       "      <td>152.000000</td>\n",
       "      <td>59.600000</td>\n",
       "      <td>21.500000</td>\n",
       "      <td>231.000000</td>\n",
       "      <td>6300.000000</td>\n",
       "      <td>10.025440</td>\n",
       "      <td>-23.787670</td>\n",
       "    </tr>\n",
       "  </tbody>\n",
       "</table>\n",
       "</div>"
      ],
      "text/plain": [
       "       Sample Number  Culmen Length (mm)  Culmen Depth (mm)  \\\n",
       "count     344.000000          342.000000         342.000000   \n",
       "mean       63.151163           43.921930          17.151170   \n",
       "std        40.430199            5.459584           1.974793   \n",
       "min         1.000000           32.100000          13.100000   \n",
       "25%        29.000000           39.225000          15.600000   \n",
       "50%        58.000000           44.450000          17.300000   \n",
       "75%        95.250000           48.500000          18.700000   \n",
       "max       152.000000           59.600000          21.500000   \n",
       "\n",
       "       Flipper Length (mm)  Body Mass (g)  Delta 15 N (o/oo)  \\\n",
       "count           342.000000     342.000000         330.000000   \n",
       "mean            200.915205    4201.754386           8.733382   \n",
       "std              14.061714     801.954536           0.551770   \n",
       "min             172.000000    2700.000000           7.632200   \n",
       "25%             190.000000    3550.000000           8.299890   \n",
       "50%             197.000000    4050.000000           8.652405   \n",
       "75%             213.000000    4750.000000           9.172123   \n",
       "max             231.000000    6300.000000          10.025440   \n",
       "\n",
       "       Delta 13 C (o/oo)  \n",
       "count         331.000000  \n",
       "mean          -25.686292  \n",
       "std             0.793961  \n",
       "min           -27.018540  \n",
       "25%           -26.320305  \n",
       "50%           -25.833520  \n",
       "75%           -25.062050  \n",
       "max           -23.787670  "
      ]
     },
     "execution_count": 57,
     "metadata": {},
     "output_type": "execute_result"
    }
   ],
   "source": [
    "df.describe()"
   ]
  },
  {
   "cell_type": "code",
   "execution_count": 58,
   "metadata": {},
   "outputs": [
    {
     "name": "stdout",
     "output_type": "stream",
     "text": [
      "Percentage of missing values by column:\n"
     ]
    },
    {
     "data": {
      "text/plain": [
       "studyName               0.000000\n",
       "Sample Number           0.000000\n",
       "Species                 0.000000\n",
       "Region                  0.000000\n",
       "Island                  0.000000\n",
       "Stage                   0.000000\n",
       "Individual ID           0.000000\n",
       "Clutch Completion       0.000000\n",
       "Date Egg                0.000000\n",
       "Culmen Length (mm)      0.581395\n",
       "Culmen Depth (mm)       0.581395\n",
       "Flipper Length (mm)     0.581395\n",
       "Body Mass (g)           0.581395\n",
       "Sex                     2.906977\n",
       "Delta 15 N (o/oo)       4.069767\n",
       "Delta 13 C (o/oo)       3.779070\n",
       "Comments               92.441860\n",
       "dtype: float64"
      ]
     },
     "execution_count": 58,
     "metadata": {},
     "output_type": "execute_result"
    }
   ],
   "source": [
    "print(\"Percentage of missing values by column:\")\n",
    "#Percentage missing values by column\n",
    "df.isnull().sum()/len(df)*100"
   ]
  },
  {
   "cell_type": "code",
   "execution_count": 59,
   "metadata": {},
   "outputs": [
    {
     "name": "stdout",
     "output_type": "stream",
     "text": [
      "Rows missing values (excluding comments): 19\n"
     ]
    }
   ],
   "source": [
    "rows = df.shape[0]\n",
    "__ = df.drop('Comments', axis=1)\n",
    "print('Rows missing values (excluding comments):', rows-__.dropna().shape[0])"
   ]
  },
  {
   "cell_type": "code",
   "execution_count": 60,
   "metadata": {},
   "outputs": [],
   "source": [
    "#save comment row and sex\n",
    "comments = df['Comments']\n",
    "sex = df['Sex']\n",
    "df = df.drop('Comments', axis=1)\n",
    "df = df.drop('Sex', axis=1)\n",
    "\n",
    "\n",
    "#replace all other missing values with the mean of the column \n",
    "df = df.fillna(df.median())\n",
    "\n",
    "#fill missing comments with place holder\n",
    "comments = comments.fillna('No comment')\n",
    "\n",
    "#fill missing sex's with Unknown\n",
    "sex = sex.fillna('Unknown')\n",
    "\n",
    "#replace\n",
    "df['Comments'] = comments\n",
    "df['Sex'] = sex"
   ]
  },
  {
   "cell_type": "markdown",
   "metadata": {},
   "source": [
    "### Missing values and imputation \n",
    "\n",
    "92% of the rows are missing comments. I am going to assume that we can keep these rows and replace the missing comments with a place holder as comments appear to be optional. There are 19 rows that are missing values exluding comments. These are all continuous data types. Replacing these with the median appears to be appropriate given the nature of the distribution of the missing values. In this case imputing with the median as opposed to the mean was done in hopes that the use of the median mitigates the effect of outliers on the analysis. However, median or mean would probably both be suitable in the context of k-means and PCA. "
   ]
  },
  {
   "cell_type": "markdown",
   "metadata": {},
   "source": [
    "# 3. Exploratory Data Analysis (EDA)\n",
    "\n",
    "Including univariate and bivariate EDA for all relevant columns.  \n",
    "\n"
   ]
  },
  {
   "cell_type": "markdown",
   "metadata": {},
   "source": [
    "## 3.1 Univariate"
   ]
  },
  {
   "cell_type": "code",
   "execution_count": 61,
   "metadata": {},
   "outputs": [
    {
     "data": {
      "text/plain": [
       "0"
      ]
     },
     "execution_count": 61,
     "metadata": {},
     "output_type": "execute_result"
    }
   ],
   "source": [
    "df.duplicated().sum()"
   ]
  },
  {
   "cell_type": "markdown",
   "metadata": {},
   "source": [
    "Nice! No duplicates. "
   ]
  },
  {
   "cell_type": "markdown",
   "metadata": {},
   "source": [
    "### studyName \n",
    "Sampling expedition from which data were collected, generated, etc."
   ]
  },
  {
   "cell_type": "code",
   "execution_count": 62,
   "metadata": {},
   "outputs": [
    {
     "data": {
      "text/plain": [
       "array(['PAL0708', 'PAL0809', 'PAL0910'], dtype=object)"
      ]
     },
     "execution_count": 62,
     "metadata": {},
     "output_type": "execute_result"
    }
   ],
   "source": [
    "df['studyName'].unique()"
   ]
  },
  {
   "cell_type": "markdown",
   "metadata": {},
   "source": [
    "Data appears to be a combination of three seperate studies.  "
   ]
  },
  {
   "cell_type": "code",
   "execution_count": 63,
   "metadata": {},
   "outputs": [],
   "source": [
    "#import graphing tool\n",
    "import matplotlib as plt"
   ]
  },
  {
   "cell_type": "code",
   "execution_count": 64,
   "metadata": {},
   "outputs": [
    {
     "data": {
      "text/plain": [
       "<AxesSubplot:>"
      ]
     },
     "execution_count": 64,
     "metadata": {},
     "output_type": "execute_result"
    },
    {
     "data": {
      "image/png": "[encoded data removed]",
      "text/plain": [
       "<Figure size 640x480 with 1 Axes>"
      ]
     },
     "metadata": {},
     "output_type": "display_data"
    }
   ],
   "source": [
    "df['studyName'].value_counts(sort=False).plot.bar()"
   ]
  },
  {
   "cell_type": "markdown",
   "metadata": {},
   "source": [
    "The distribution of instances between the studies appears fairly similar. All of between 100-120 data points. "
   ]
  },
  {
   "cell_type": "markdown",
   "metadata": {},
   "source": [
    "### Sample Number\n",
    "An integer denoting the continuous numbering sequence for each sample"
   ]
  },
  {
   "cell_type": "code",
   "execution_count": 65,
   "metadata": {},
   "outputs": [
    {
     "data": {
      "text/plain": [
       "array([  1,   2,   3,   4,   5,   6,   7,   8,   9,  10,  11,  12,  13,\n",
       "        14,  15,  16,  17,  18,  19,  20,  21,  22,  23,  24,  25,  26,\n",
       "        27,  28,  29,  30,  31,  32,  33,  34,  35,  36,  37,  38,  39,\n",
       "        40,  41,  42,  43,  44,  45,  46,  47,  48,  49,  50,  51,  52,\n",
       "        53,  54,  55,  56,  57,  58,  59,  60,  61,  62,  63,  64,  65,\n",
       "        66,  67,  68,  69,  70,  71,  72,  73,  74,  75,  76,  77,  78,\n",
       "        79,  80,  81,  82,  83,  84,  85,  86,  87,  88,  89,  90,  91,\n",
       "        92,  93,  94,  95,  96,  97,  98,  99, 100, 101, 102, 103, 104,\n",
       "       105, 106, 107, 108, 109, 110, 111, 112, 113, 114, 115, 116, 117,\n",
       "       118, 119, 120, 121, 122, 123, 124, 125, 126, 127, 128, 129, 130,\n",
       "       131, 132, 133, 134, 135, 136, 137, 138, 139, 140, 141, 142, 143,\n",
       "       144, 145, 146, 147, 148, 149, 150, 151, 152])"
      ]
     },
     "execution_count": 65,
     "metadata": {},
     "output_type": "execute_result"
    }
   ],
   "source": [
    "df['Sample Number'].unique()\n"
   ]
  },
  {
   "cell_type": "markdown",
   "metadata": {},
   "source": [
    "sampleNumber is not unique. "
   ]
  },
  {
   "cell_type": "markdown",
   "metadata": {},
   "source": [
    "### Species\n",
    "A character string denoting the penguin species."
   ]
  },
  {
   "cell_type": "code",
   "execution_count": 66,
   "metadata": {},
   "outputs": [
    {
     "data": {
      "text/plain": [
       "array(['Adelie Penguin (Pygoscelis adeliae)',\n",
       "       'Chinstrap penguin (Pygoscelis antarctica)',\n",
       "       'Gentoo penguin (Pygoscelis papua)'], dtype=object)"
      ]
     },
     "execution_count": 66,
     "metadata": {},
     "output_type": "execute_result"
    }
   ],
   "source": [
    "df['Species'].unique()"
   ]
  },
  {
   "cell_type": "code",
   "execution_count": 67,
   "metadata": {},
   "outputs": [
    {
     "data": {
      "text/plain": [
       "<AxesSubplot:>"
      ]
     },
     "execution_count": 67,
     "metadata": {},
     "output_type": "execute_result"
    },
    {
     "data": {
      "image/png": "[encoded data removed]",
      "text/plain": [
       "<Figure size 640x480 with 1 Axes>"
      ]
     },
     "metadata": {},
     "output_type": "display_data"
    }
   ],
   "source": [
    "df['Species'].value_counts(sort=False).plot.bar()"
   ]
  },
  {
   "cell_type": "markdown",
   "metadata": {},
   "source": [
    "### Region\n",
    "A character string denoting the region of Palmer LTER sampling grid"
   ]
  },
  {
   "cell_type": "code",
   "execution_count": 68,
   "metadata": {},
   "outputs": [
    {
     "data": {
      "text/plain": [
       "array(['Anvers'], dtype=object)"
      ]
     },
     "execution_count": 68,
     "metadata": {},
     "output_type": "execute_result"
    }
   ],
   "source": [
    "df['Region'].unique()"
   ]
  },
  {
   "cell_type": "markdown",
   "metadata": {},
   "source": [
    "Only one region. "
   ]
  },
  {
   "cell_type": "markdown",
   "metadata": {},
   "source": [
    "### Island\n",
    "A character string denoting the island near Palmer Station where samples were collected."
   ]
  },
  {
   "cell_type": "code",
   "execution_count": 69,
   "metadata": {},
   "outputs": [
    {
     "data": {
      "text/plain": [
       "array(['Torgersen', 'Biscoe', 'Dream'], dtype=object)"
      ]
     },
     "execution_count": 69,
     "metadata": {},
     "output_type": "execute_result"
    }
   ],
   "source": [
    "df['Island'].unique()"
   ]
  },
  {
   "cell_type": "code",
   "execution_count": 70,
   "metadata": {},
   "outputs": [
    {
     "data": {
      "text/plain": [
       "<AxesSubplot:ylabel='# of Instances'>"
      ]
     },
     "execution_count": 70,
     "metadata": {},
     "output_type": "execute_result"
    },
    {
     "data": {
      "image/png": "[encoded data removed]",
      "text/plain": [
       "<Figure size 640x480 with 1 Axes>"
      ]
     },
     "metadata": {},
     "output_type": "display_data"
    }
   ],
   "source": [
    "df['Island'].value_counts(sort=False).plot.bar(ylabel='# of Instances')"
   ]
  },
  {
   "cell_type": "markdown",
   "metadata": {},
   "source": [
    "### Stage\n",
    " A character string denoting reproductive stage at sampling"
   ]
  },
  {
   "cell_type": "code",
   "execution_count": 71,
   "metadata": {},
   "outputs": [
    {
     "data": {
      "text/plain": [
       "array(['Adult, 1 Egg Stage'], dtype=object)"
      ]
     },
     "execution_count": 71,
     "metadata": {},
     "output_type": "execute_result"
    }
   ],
   "source": [
    "df['Stage'].unique()"
   ]
  },
  {
   "cell_type": "code",
   "execution_count": 72,
   "metadata": {},
   "outputs": [
    {
     "data": {
      "text/plain": [
       "<AxesSubplot:ylabel='# of Instances'>"
      ]
     },
     "execution_count": 72,
     "metadata": {},
     "output_type": "execute_result"
    },
    {
     "data": {
      "image/png": "[encoded data removed]",
      "text/plain": [
       "<Figure size 640x480 with 1 Axes>"
      ]
     },
     "metadata": {},
     "output_type": "display_data"
    }
   ],
   "source": [
    "df['Stage'].value_counts(sort=False).plot.bar(ylabel='# of Instances')"
   ]
  },
  {
   "cell_type": "markdown",
   "metadata": {},
   "source": [
    "### Individual ID\n",
    "A character string denoting the unique ID for each individual in dataset"
   ]
  },
  {
   "cell_type": "code",
   "execution_count": 73,
   "metadata": {},
   "outputs": [
    {
     "data": {
      "text/plain": [
       "array(['N1A1', 'N1A2', 'N2A1', 'N2A2', 'N3A1', 'N3A2', 'N4A1', 'N4A2',\n",
       "       'N5A1', 'N5A2', 'N6A1', 'N6A2', 'N7A1', 'N7A2', 'N8A1', 'N8A2',\n",
       "       'N9A1', 'N9A2', 'N10A1', 'N10A2', 'N11A1', 'N11A2', 'N12A1',\n",
       "       'N12A2', 'N13A1', 'N13A2', 'N17A1', 'N17A2', 'N18A1', 'N18A2',\n",
       "       'N21A1', 'N21A2', 'N22A1', 'N22A2', 'N23A1', 'N23A2', 'N24A1',\n",
       "       'N24A2', 'N25A1', 'N25A2', 'N26A1', 'N26A2', 'N27A1', 'N27A2',\n",
       "       'N28A1', 'N28A2', 'N29A1', 'N29A2', 'N30A1', 'N30A2', 'N32A1',\n",
       "       'N32A2', 'N34A1', 'N34A2', 'N35A1', 'N35A2', 'N36A1', 'N36A2',\n",
       "       'N37A1', 'N37A2', 'N38A1', 'N38A2', 'N39A1', 'N39A2', 'N40A1',\n",
       "       'N40A2', 'N41A1', 'N41A2', 'N42A1', 'N42A2', 'N44A1', 'N44A2',\n",
       "       'N45A1', 'N45A2', 'N46A1', 'N46A2', 'N48A1', 'N48A2', 'N49A1',\n",
       "       'N49A2', 'N50A1', 'N50A2', 'N47A1', 'N47A2', 'N51A1', 'N51A2',\n",
       "       'N53A1', 'N53A2', 'N55A1', 'N55A2', 'N58A1', 'N58A2', 'N60A1',\n",
       "       'N60A2', 'N61A1', 'N61A2', 'N63A1', 'N63A2', 'N64A1', 'N64A2',\n",
       "       'N66A1', 'N66A2', 'N67A1', 'N67A2', 'N69A1', 'N69A2', 'N71A1',\n",
       "       'N71A2', 'N72A1', 'N72A2', 'N73A1', 'N73A2', 'N76A1', 'N76A2',\n",
       "       'N77A1', 'N77A2', 'N78A1', 'N78A2', 'N79A1', 'N79A2', 'N80A1',\n",
       "       'N80A2', 'N81A1', 'N81A2', 'N82A1', 'N82A2', 'N83A1', 'N83A2',\n",
       "       'N84A1', 'N84A2', 'N85A1', 'N85A2', 'N62A1', 'N62A2', 'N68A1',\n",
       "       'N68A2', 'N70A1', 'N70A2', 'N89A1', 'N89A2', 'N65A1', 'N65A2',\n",
       "       'N74A1', 'N74A2', 'N75A1', 'N75A2', 'N86A1', 'N86A2', 'N87A1',\n",
       "       'N87A2', 'N88A1', 'N88A2', 'N90A1', 'N90A2', 'N92A1', 'N92A2',\n",
       "       'N93A1', 'N93A2', 'N94A1', 'N94A2', 'N95A1', 'N95A2', 'N96A1',\n",
       "       'N96A2', 'N98A1', 'N98A2', 'N99A1', 'N99A2', 'N100A1', 'N100A2',\n",
       "       'N31A1', 'N31A2', 'N33A1', 'N33A2', 'N56A1', 'N56A2', 'N14A1',\n",
       "       'N14A2', 'N15A1', 'N15A2', 'N16A1', 'N16A2', 'N19A1', 'N19A2',\n",
       "       'N20A1', 'N20A2', 'N54A1', 'N54A2', 'N43A1', 'N43A2'], dtype=object)"
      ]
     },
     "execution_count": 73,
     "metadata": {},
     "output_type": "execute_result"
    }
   ],
   "source": [
    "df['Individual ID'].unique()"
   ]
  },
  {
   "cell_type": "markdown",
   "metadata": {},
   "source": [
    "### Clutch Completion\n",
    "A character string denoting if the study nest observed with a full clutch, i.e., 2 eggs"
   ]
  },
  {
   "cell_type": "code",
   "execution_count": 74,
   "metadata": {},
   "outputs": [
    {
     "data": {
      "text/plain": [
       "array(['Yes', 'No'], dtype=object)"
      ]
     },
     "execution_count": 74,
     "metadata": {},
     "output_type": "execute_result"
    }
   ],
   "source": [
    "df['Clutch Completion'].unique()"
   ]
  },
  {
   "cell_type": "code",
   "execution_count": 75,
   "metadata": {},
   "outputs": [
    {
     "data": {
      "text/plain": [
       "<AxesSubplot:>"
      ]
     },
     "execution_count": 75,
     "metadata": {},
     "output_type": "execute_result"
    },
    {
     "data": {
      "image/png": "[encoded data removed]",
      "text/plain": [
       "<Figure size 640x480 with 1 Axes>"
      ]
     },
     "metadata": {},
     "output_type": "display_data"
    }
   ],
   "source": [
    "df['Clutch Completion'].value_counts(sort=False).plot.bar()"
   ]
  },
  {
   "cell_type": "markdown",
   "metadata": {},
   "source": [
    "### Date Egg \n",
    "A date denoting the date study nest observed with 1 egg (sampled)"
   ]
  },
  {
   "cell_type": "code",
   "execution_count": 76,
   "metadata": {},
   "outputs": [
    {
     "data": {
      "text/plain": [
       "array(['11/11/07', '11/16/07', '11/15/07', '11/9/07', '11/12/07',\n",
       "       '11/10/07', '11/13/07', '11/19/07', '11/6/08', '11/9/08',\n",
       "       '11/15/08', '11/13/08', '11/11/08', '11/14/08', '11/8/08',\n",
       "       '11/2/08', '11/7/08', '11/17/08', '11/5/08', '11/10/08', '11/9/09',\n",
       "       '11/15/09', '11/20/09', '11/12/09', '11/17/09', '11/18/09',\n",
       "       '11/22/09', '11/16/09', '11/21/09', '11/23/09', '11/10/09',\n",
       "       '11/13/09', '11/14/09', '11/26/07', '11/21/07', '11/28/07',\n",
       "       '11/22/07', '11/30/07', '12/3/07', '11/25/08', '11/24/08',\n",
       "       '11/27/09', '11/19/09', '11/27/07', '11/18/07', '11/29/07',\n",
       "       '11/4/08', '11/3/08', '11/25/09', '12/1/09'], dtype=object)"
      ]
     },
     "execution_count": 76,
     "metadata": {},
     "output_type": "execute_result"
    }
   ],
   "source": [
    "df['Date Egg'].unique()"
   ]
  },
  {
   "cell_type": "code",
   "execution_count": 77,
   "metadata": {},
   "outputs": [
    {
     "data": {
      "text/plain": [
       "<AxesSubplot:>"
      ]
     },
     "execution_count": 77,
     "metadata": {},
     "output_type": "execute_result"
    },
    {
     "data": {
      "image/png": "[encoded data removed]",
      "text/plain": [
       "<Figure size 640x480 with 1 Axes>"
      ]
     },
     "metadata": {},
     "output_type": "display_data"
    }
   ],
   "source": [
    "df['Date Egg'].value_counts(sort=False).plot.bar()"
   ]
  },
  {
   "cell_type": "markdown",
   "metadata": {},
   "source": [
    "### Culmen Length \n",
    "A number denoting the length of the dorsal ridge of a bird's bill (millimetres)"
   ]
  },
  {
   "cell_type": "code",
   "execution_count": 78,
   "metadata": {},
   "outputs": [
    {
     "data": {
      "text/plain": [
       "<AxesSubplot:>"
      ]
     },
     "execution_count": 78,
     "metadata": {},
     "output_type": "execute_result"
    },
    {
     "data": {
      "image/png": "[encoded data removed]",
      "text/plain": [
       "<Figure size 640x480 with 1 Axes>"
      ]
     },
     "metadata": {},
     "output_type": "display_data"
    }
   ],
   "source": [
    "import scipy\n",
    "df['Culmen Length (mm)'].plot(y='Culmen Length (mm)', kind = 'box')"
   ]
  },
  {
   "cell_type": "code",
   "execution_count": 79,
   "metadata": {},
   "outputs": [
    {
     "data": {
      "text/plain": [
       "<AxesSubplot:ylabel='Density'>"
      ]
     },
     "execution_count": 79,
     "metadata": {},
     "output_type": "execute_result"
    },
    {
     "data": {
      "image/png": "[encoded data removed]",
      "text/plain": [
       "<Figure size 640x480 with 1 Axes>"
      ]
     },
     "metadata": {},
     "output_type": "display_data"
    }
   ],
   "source": [
    "df['Culmen Length (mm)'].plot(y='Culmen Length (mm)', kind = 'kde')"
   ]
  },
  {
   "cell_type": "markdown",
   "metadata": {},
   "source": [
    "### Culmen Depth \n",
    "A number denoting the depth of the dorsal ridge of a bird's bill (millimetres)"
   ]
  },
  {
   "cell_type": "code",
   "execution_count": 80,
   "metadata": {},
   "outputs": [
    {
     "data": {
      "text/plain": [
       "<AxesSubplot:>"
      ]
     },
     "execution_count": 80,
     "metadata": {},
     "output_type": "execute_result"
    },
    {
     "data": {
      "image/png": "[encoded data removed]",
      "text/plain": [
       "<Figure size 640x480 with 1 Axes>"
      ]
     },
     "metadata": {},
     "output_type": "display_data"
    }
   ],
   "source": [
    "import scipy\n",
    "df['Culmen Depth (mm)'].plot(y='Culmen Depth (mm)', kind = 'box')"
   ]
  },
  {
   "cell_type": "code",
   "execution_count": 81,
   "metadata": {},
   "outputs": [
    {
     "data": {
      "text/plain": [
       "<AxesSubplot:ylabel='Density'>"
      ]
     },
     "execution_count": 81,
     "metadata": {},
     "output_type": "execute_result"
    },
    {
     "data": {
      "image/png": "[encoded data removed]",
      "text/plain": [
       "<Figure size 640x480 with 1 Axes>"
      ]
     },
     "metadata": {},
     "output_type": "display_data"
    }
   ],
   "source": [
    "df['Culmen Depth (mm)'].plot(y='Culmen Depth (mm)', kind = 'kde')"
   ]
  },
  {
   "cell_type": "markdown",
   "metadata": {},
   "source": [
    "### Flipper Length \n",
    "An integer denoting the length penguin flipper (millimetres)"
   ]
  },
  {
   "cell_type": "code",
   "execution_count": 82,
   "metadata": {},
   "outputs": [
    {
     "data": {
      "text/plain": [
       "<AxesSubplot:>"
      ]
     },
     "execution_count": 82,
     "metadata": {},
     "output_type": "execute_result"
    },
    {
     "data": {
      "image/png": "[encoded data removed]",
      "text/plain": [
       "<Figure size 640x480 with 1 Axes>"
      ]
     },
     "metadata": {},
     "output_type": "display_data"
    }
   ],
   "source": [
    "df['Flipper Length (mm)'].plot(kind = 'box')"
   ]
  },
  {
   "cell_type": "code",
   "execution_count": 83,
   "metadata": {},
   "outputs": [
    {
     "data": {
      "text/plain": [
       "<AxesSubplot:ylabel='Density'>"
      ]
     },
     "execution_count": 83,
     "metadata": {},
     "output_type": "execute_result"
    },
    {
     "data": {
      "image/png": "[encoded data removed]",
      "text/plain": [
       "<Figure size 640x480 with 1 Axes>"
      ]
     },
     "metadata": {},
     "output_type": "display_data"
    }
   ],
   "source": [
    "df['Flipper Length (mm)'].plot(kind = 'kde')"
   ]
  },
  {
   "cell_type": "markdown",
   "metadata": {},
   "source": [
    "### Body Mass \n",
    "An integer denoting the penguin body mass (grams)"
   ]
  },
  {
   "cell_type": "code",
   "execution_count": 84,
   "metadata": {},
   "outputs": [
    {
     "data": {
      "text/plain": [
       "<AxesSubplot:>"
      ]
     },
     "execution_count": 84,
     "metadata": {},
     "output_type": "execute_result"
    },
    {
     "data": {
      "image/png": "[encoded data removed]",
      "text/plain": [
       "<Figure size 640x480 with 1 Axes>"
      ]
     },
     "metadata": {},
     "output_type": "display_data"
    }
   ],
   "source": [
    "df['Body Mass (g)'].plot(kind = 'box')"
   ]
  },
  {
   "cell_type": "code",
   "execution_count": 85,
   "metadata": {},
   "outputs": [
    {
     "data": {
      "text/plain": [
       "<AxesSubplot:ylabel='Density'>"
      ]
     },
     "execution_count": 85,
     "metadata": {},
     "output_type": "execute_result"
    },
    {
     "data": {
      "image/png": "[encoded data removed]",
      "text/plain": [
       "<Figure size 640x480 with 1 Axes>"
      ]
     },
     "metadata": {},
     "output_type": "display_data"
    }
   ],
   "source": [
    "df['Body Mass (g)'].plot(kind = 'kde')"
   ]
  },
  {
   "cell_type": "markdown",
   "metadata": {},
   "source": [
    "### Sex\n",
    "A character string denoting the sex of an animal"
   ]
  },
  {
   "cell_type": "code",
   "execution_count": 86,
   "metadata": {},
   "outputs": [
    {
     "data": {
      "text/plain": [
       "array(['MALE', 'FEMALE', 'Unknown', '.'], dtype=object)"
      ]
     },
     "execution_count": 86,
     "metadata": {},
     "output_type": "execute_result"
    }
   ],
   "source": [
    "df['Sex'].unique()"
   ]
  },
  {
   "cell_type": "markdown",
   "metadata": {},
   "source": [
    "Going to assume that '.' is a typo and I am going to replace it with unkown."
   ]
  },
  {
   "cell_type": "code",
   "execution_count": 87,
   "metadata": {},
   "outputs": [],
   "source": [
    "df=df.replace('.', 'Unknown')"
   ]
  },
  {
   "cell_type": "code",
   "execution_count": 88,
   "metadata": {},
   "outputs": [
    {
     "data": {
      "text/plain": [
       "<AxesSubplot:>"
      ]
     },
     "execution_count": 88,
     "metadata": {},
     "output_type": "execute_result"
    },
    {
     "data": {
      "image/png": "[encoded data removed]",
      "text/plain": [
       "<Figure size 640x480 with 1 Axes>"
      ]
     },
     "metadata": {},
     "output_type": "display_data"
    }
   ],
   "source": [
    "df['Sex'].value_counts(sort=False).plot.bar()"
   ]
  },
  {
   "cell_type": "markdown",
   "metadata": {},
   "source": [
    "### Delta 15 N \n",
    "A number denoting the measure of the ratio of stable isotopes 15N:14N"
   ]
  },
  {
   "cell_type": "code",
   "execution_count": 89,
   "metadata": {},
   "outputs": [
    {
     "data": {
      "text/plain": [
       "<AxesSubplot:>"
      ]
     },
     "execution_count": 89,
     "metadata": {},
     "output_type": "execute_result"
    },
    {
     "data": {
      "image/png": "[encoded data removed]",
      "text/plain": [
       "<Figure size 640x480 with 1 Axes>"
      ]
     },
     "metadata": {},
     "output_type": "display_data"
    }
   ],
   "source": [
    "df['Delta 15 N (o/oo)'].plot(kind='box')"
   ]
  },
  {
   "cell_type": "code",
   "execution_count": 90,
   "metadata": {},
   "outputs": [
    {
     "data": {
      "text/plain": [
       "<AxesSubplot:ylabel='Density'>"
      ]
     },
     "execution_count": 90,
     "metadata": {},
     "output_type": "execute_result"
    },
    {
     "data": {
      "image/png": "[encoded data removed]",
      "text/plain": [
       "<Figure size 640x480 with 1 Axes>"
      ]
     },
     "metadata": {},
     "output_type": "display_data"
    }
   ],
   "source": [
    "df['Delta 15 N (o/oo)'].plot(kind='kde')"
   ]
  },
  {
   "cell_type": "markdown",
   "metadata": {},
   "source": [
    "### Delta 13 C\n",
    "A number denoting the measure of the ratio of stable isotopes 13C:12C"
   ]
  },
  {
   "cell_type": "code",
   "execution_count": 91,
   "metadata": {},
   "outputs": [
    {
     "data": {
      "text/plain": [
       "<AxesSubplot:>"
      ]
     },
     "execution_count": 91,
     "metadata": {},
     "output_type": "execute_result"
    },
    {
     "data": {
      "image/png": "[encoded data removed]",
      "text/plain": [
       "<Figure size 640x480 with 1 Axes>"
      ]
     },
     "metadata": {},
     "output_type": "display_data"
    }
   ],
   "source": [
    "df['Delta 13 C (o/oo)'].plot(kind='box')"
   ]
  },
  {
   "cell_type": "code",
   "execution_count": 92,
   "metadata": {},
   "outputs": [
    {
     "data": {
      "text/plain": [
       "<AxesSubplot:ylabel='Density'>"
      ]
     },
     "execution_count": 92,
     "metadata": {},
     "output_type": "execute_result"
    },
    {
     "data": {
      "image/png": "[encoded data removed]",
      "text/plain": [
       "<Figure size 640x480 with 1 Axes>"
      ]
     },
     "metadata": {},
     "output_type": "display_data"
    }
   ],
   "source": [
    "df['Delta 13 C (o/oo)'].plot(kind='kde')"
   ]
  },
  {
   "cell_type": "code",
   "execution_count": 93,
   "metadata": {},
   "outputs": [
    {
     "ename": "AttributeError",
     "evalue": "module 'matplotlib' has no attribute 'subplots'",
     "output_type": "error",
     "traceback": [
      "\u001b[0;31m---------------------------------------------------------------------------\u001b[0m",
      "\u001b[0;31mAttributeError\u001b[0m                            Traceback (most recent call last)",
      "\u001b[1;32m/home/ben/Documents/d/University/DATA2001/DATA2001/main/assingments/A1/A1.ipynb Cell 65\u001b[0m in \u001b[0;36m<cell line: 1>\u001b[0;34m()\u001b[0m\n\u001b[0;32m----> <a href='vscode-notebook-cell:/home/ben/Documents/d/University/DATA2001/DATA2001/main/assingments/A1/A1.ipynb#Y143sZmlsZQ%3D%3D?line=0'>1</a>\u001b[0m fig, axes \u001b[39m=\u001b[39m plt\u001b[39m.\u001b[39;49msubplots(nrows\u001b[39m=\u001b[39m\u001b[39m2\u001b[39m, ncols\u001b[39m=\u001b[39m\u001b[39m3\u001b[39m) \u001b[39m# create 2x2 array of subplots\u001b[39;00m\n\u001b[1;32m      <a href='vscode-notebook-cell:/home/ben/Documents/d/University/DATA2001/DATA2001/main/assingments/A1/A1.ipynb#Y143sZmlsZQ%3D%3D?line=2'>3</a>\u001b[0m df\u001b[39m.\u001b[39mboxplot(column\u001b[39m=\u001b[39m\u001b[39m'\u001b[39m\u001b[39mCulmen Length (mm)\u001b[39m\u001b[39m'\u001b[39m, ax\u001b[39m=\u001b[39maxes[\u001b[39m0\u001b[39m,\u001b[39m0\u001b[39m])\n\u001b[1;32m      <a href='vscode-notebook-cell:/home/ben/Documents/d/University/DATA2001/DATA2001/main/assingments/A1/A1.ipynb#Y143sZmlsZQ%3D%3D?line=3'>4</a>\u001b[0m df\u001b[39m.\u001b[39mboxplot(column\u001b[39m=\u001b[39m\u001b[39m'\u001b[39m\u001b[39mCulmen Depth (mm)\u001b[39m\u001b[39m'\u001b[39m, ax\u001b[39m=\u001b[39maxes[\u001b[39m0\u001b[39m,\u001b[39m1\u001b[39m])\n",
      "File \u001b[0;32m~/.local/lib/python3.10/site-packages/matplotlib/_api/__init__.py:222\u001b[0m, in \u001b[0;36mcaching_module_getattr.<locals>.__getattr__\u001b[0;34m(name)\u001b[0m\n\u001b[1;32m    220\u001b[0m \u001b[39mif\u001b[39;00m name \u001b[39min\u001b[39;00m props:\n\u001b[1;32m    221\u001b[0m     \u001b[39mreturn\u001b[39;00m props[name]\u001b[39m.\u001b[39m\u001b[39m__get__\u001b[39m(instance)\n\u001b[0;32m--> 222\u001b[0m \u001b[39mraise\u001b[39;00m \u001b[39mAttributeError\u001b[39;00m(\n\u001b[1;32m    223\u001b[0m     \u001b[39mf\u001b[39m\u001b[39m\"\u001b[39m\u001b[39mmodule \u001b[39m\u001b[39m{\u001b[39;00m\u001b[39mcls\u001b[39m\u001b[39m.\u001b[39m\u001b[39m__module__\u001b[39m\u001b[39m!r}\u001b[39;00m\u001b[39m has no attribute \u001b[39m\u001b[39m{\u001b[39;00mname\u001b[39m!r}\u001b[39;00m\u001b[39m\"\u001b[39m)\n",
      "\u001b[0;31mAttributeError\u001b[0m: module 'matplotlib' has no attribute 'subplots'"
     ]
    }
   ],
   "source": [
    "fig, axes = plt.subplots(nrows=2, ncols=3) # create 2x2 array of subplots\n",
    "\n",
    "df.boxplot(column='Culmen Length (mm)', ax=axes[0,0])\n",
    "df.boxplot(column='Culmen Depth (mm)', ax=axes[0,1])\n",
    "df.boxplot(column='Flipper Length (mm)', ax=axes[0,2])\n",
    "df.boxplot(column='Body Mass (g)', ax=axes[1,0])\n",
    "df.boxplot(column='Delta 15 N (o/oo)', ax=axes[1,1])\n",
    "df.boxplot(column='Delta 13 C (o/oo)', ax=axes[1,2])\n",
    "\n",
    "plt.subplots_adjust(left=0.1,\n",
    "                    bottom=0.1, \n",
    "                    right=0.9, \n",
    "                    top=0.9, \n",
    "                    wspace=0.4, \n",
    "                    hspace=0.4)\n",
    "\n",
    "plt.show()"
   ]
  },
  {
   "cell_type": "markdown",
   "metadata": {},
   "source": [
    "### Comments \n",
    "A character string with text providing additional relevant information for data"
   ]
  },
  {
   "cell_type": "code",
   "execution_count": null,
   "metadata": {},
   "outputs": [
    {
     "data": {
      "text/plain": [
       "<AxesSubplot:>"
      ]
     },
     "execution_count": 586,
     "metadata": {},
     "output_type": "execute_result"
    },
    {
     "data": {
      "image/png": "[encoded data removed]",
      "text/plain": [
       "<Figure size 640x480 with 1 Axes>"
      ]
     },
     "metadata": {},
     "output_type": "display_data"
    }
   ],
   "source": [
    "df['Comments'].value_counts(sort=False).plot.bar()"
   ]
  },
  {
   "cell_type": "markdown",
   "metadata": {},
   "source": [
    "## 3.2 Bivariate "
   ]
  },
  {
   "cell_type": "markdown",
   "metadata": {},
   "source": [
    "### Species vs Island\n"
   ]
  },
  {
   "cell_type": "code",
   "execution_count": null,
   "metadata": {},
   "outputs": [
    {
     "data": {
      "application/vnd.plotly.v1+json": {
       "config": {
        "plotlyServerURL": "https://plot.ly"
       },
       "data": [
        {
         "alignmentgroup": "True",
         "hovertemplate": "Species=Adelie Penguin (Pygoscelis adeliae)<br>count=%{x}<br>Island=%{y}<extra></extra>",
         "legendgroup": "Adelie Penguin (Pygoscelis adeliae)",
         "marker": {
          "color": "rgb(251,117,4)",
          "pattern": {
           "shape": ""
          }
         },
         "name": "Adelie Penguin (Pygoscelis adeliae)",
         "offsetgroup": "Adelie Penguin (Pygoscelis adeliae)",
         "orientation": "h",
         "showlegend": true,
         "textposition": "auto",
         "type": "bar",
         "x": [
          1,
          1,
          1,
          1,
          1,
          1,
          1,
          1,
          1,
          1,
          1,
          1,
          1,
          1,
          1,
          1,
          1,
          1,
          1,
          1,
          1,
          1,
          1,
          1,
          1,
          1,
          1,
          1,
          1,
          1,
          1,
          1,
          1,
          1,
          1,
          1,
          1,
          1,
          1,
          1,
          1,
          1,
          1,
          1,
          1,
          1,
          1,
          1,
          1,
          1,
          1,
          1,
          1,
          1,
          1,
          1,
          1,
          1,
          1,
          1,
          1,
          1,
          1,
          1,
          1,
          1,
          1,
          1,
          1,
          1,
          1,
          1,
          1,
          1,
          1,
          1,
          1,
          1,
          1,
          1,
          1,
          1,
          1,
          1,
          1,
          1,
          1,
          1,
          1,
          1,
          1,
          1,
          1,
          1,
          1,
          1,
          1,
          1,
          1,
          1,
          1,
          1,
          1,
          1,
          1,
          1,
          1,
          1,
          1,
          1,
          1,
          1,
          1,
          1,
          1,
          1,
          1,
          1,
          1,
          1,
          1,
          1,
          1,
          1,
          1,
          1,
          1,
          1,
          1,
          1,
          1,
          1,
          1,
          1,
          1,
          1,
          1,
          1,
          1,
          1,
          1,
          1,
          1,
          1,
          1,
          1,
          1,
          1,
          1,
          1,
          1,
          1
         ],
         "xaxis": "x3",
         "y": [
          "Torgersen",
          "Torgersen",
          "Torgersen",
          "Torgersen",
          "Torgersen",
          "Torgersen",
          "Torgersen",
          "Torgersen",
          "Torgersen",
          "Torgersen",
          "Torgersen",
          "Torgersen",
          "Torgersen",
          "Torgersen",
          "Torgersen",
          "Torgersen",
          "Torgersen",
          "Torgersen",
          "Torgersen",
          "Torgersen",
          "Biscoe",
          "Biscoe",
          "Biscoe",
          "Biscoe",
          "Biscoe",
          "Biscoe",
          "Biscoe",
          "Biscoe",
          "Biscoe",
          "Biscoe",
          "Dream",
          "Dream",
          "Dream",
          "Dream",
          "Dream",
          "Dream",
          "Dream",
          "Dream",
          "Dream",
          "Dream",
          "Dream",
          "Dream",
          "Dream",
          "Dream",
          "Dream",
          "Dream",
          "Dream",
          "Dream",
          "Dream",
          "Dream",
          "Biscoe",
          "Biscoe",
          "Biscoe",
          "Biscoe",
          "Biscoe",
          "Biscoe",
          "Biscoe",
          "Biscoe",
          "Biscoe",
          "Biscoe",
          "Biscoe",
          "Biscoe",
          "Biscoe",
          "Biscoe",
          "Biscoe",
          "Biscoe",
          "Biscoe",
          "Biscoe",
          "Torgersen",
          "Torgersen",
          "Torgersen",
          "Torgersen",
          "Torgersen",
          "Torgersen",
          "Torgersen",
          "Torgersen",
          "Torgersen",
          "Torgersen",
          "Torgersen",
          "Torgersen",
          "Torgersen",
          "Torgersen",
          "Torgersen",
          "Torgersen",
          "Dream",
          "Dream",
          "Dream",
          "Dream",
          "Dream",
          "Dream",
          "Dream",
          "Dream",
          "Dream",
          "Dream",
          "Dream",
          "Dream",
          "Dream",
          "Dream",
          "Dream",
          "Dream",
          "Biscoe",
          "Biscoe",
          "Biscoe",
          "Biscoe",
          "Biscoe",
          "Biscoe",
          "Biscoe",
          "Biscoe",
          "Biscoe",
          "Biscoe",
          "Biscoe",
          "Biscoe",
          "Biscoe",
          "Biscoe",
          "Biscoe",
          "Biscoe",
          "Torgersen",
          "Torgersen",
          "Torgersen",
          "Torgersen",
          "Torgersen",
          "Torgersen",
          "Torgersen",
          "Torgersen",
          "Torgersen",
          "Torgersen",
          "Torgersen",
          "Torgersen",
          "Torgersen",
          "Torgersen",
          "Torgersen",
          "Torgersen",
          "Dream",
          "Dream",
          "Dream",
          "Dream",
          "Dream",
          "Dream",
          "Dream",
          "Dream",
          "Dream",
          "Dream",
          "Dream",
          "Dream",
          "Dream",
          "Dream",
          "Dream",
          "Dream",
          "Dream",
          "Dream",
          "Dream",
          "Dream"
         ],
         "yaxis": "y3"
        },
        {
         "alignmentgroup": "True",
         "hovertemplate": "Species=Chinstrap penguin (Pygoscelis antarctica)<br>count=%{x}<br>Island=%{y}<extra></extra>",
         "legendgroup": "Chinstrap penguin (Pygoscelis antarctica)",
         "marker": {
          "color": "rgb(167,98,188)",
          "pattern": {
           "shape": "/"
          }
         },
         "name": "Chinstrap penguin (Pygoscelis antarctica)",
         "offsetgroup": "Chinstrap penguin (Pygoscelis antarctica)",
         "orientation": "h",
         "showlegend": true,
         "textposition": "auto",
         "type": "bar",
         "x": [
          1,
          1,
          1,
          1,
          1,
          1,
          1,
          1,
          1,
          1,
          1,
          1,
          1,
          1,
          1,
          1,
          1,
          1,
          1,
          1,
          1,
          1,
          1,
          1,
          1,
          1,
          1,
          1,
          1,
          1,
          1,
          1,
          1,
          1,
          1,
          1,
          1,
          1,
          1,
          1,
          1,
          1,
          1,
          1,
          1,
          1,
          1,
          1,
          1,
          1,
          1,
          1,
          1,
          1,
          1,
          1,
          1,
          1,
          1,
          1,
          1,
          1,
          1,
          1,
          1,
          1,
          1,
          1
         ],
         "xaxis": "x2",
         "y": [
          "Dream",
          "Dream",
          "Dream",
          "Dream",
          "Dream",
          "Dream",
          "Dream",
          "Dream",
          "Dream",
          "Dream",
          "Dream",
          "Dream",
          "Dream",
          "Dream",
          "Dream",
          "Dream",
          "Dream",
          "Dream",
          "Dream",
          "Dream",
          "Dream",
          "Dream",
          "Dream",
          "Dream",
          "Dream",
          "Dream",
          "Dream",
          "Dream",
          "Dream",
          "Dream",
          "Dream",
          "Dream",
          "Dream",
          "Dream",
          "Dream",
          "Dream",
          "Dream",
          "Dream",
          "Dream",
          "Dream",
          "Dream",
          "Dream",
          "Dream",
          "Dream",
          "Dream",
          "Dream",
          "Dream",
          "Dream",
          "Dream",
          "Dream",
          "Dream",
          "Dream",
          "Dream",
          "Dream",
          "Dream",
          "Dream",
          "Dream",
          "Dream",
          "Dream",
          "Dream",
          "Dream",
          "Dream",
          "Dream",
          "Dream",
          "Dream",
          "Dream",
          "Dream",
          "Dream"
         ],
         "yaxis": "y2"
        },
        {
         "alignmentgroup": "True",
         "hovertemplate": "Species=Gentoo penguin (Pygoscelis papua)<br>count=%{x}<br>Island=%{y}<extra></extra>",
         "legendgroup": "Gentoo penguin (Pygoscelis papua)",
         "marker": {
          "color": "rgb(4,115,116)",
          "pattern": {
           "shape": "\\"
          }
         },
         "name": "Gentoo penguin (Pygoscelis papua)",
         "offsetgroup": "Gentoo penguin (Pygoscelis papua)",
         "orientation": "h",
         "showlegend": true,
         "textposition": "auto",
         "type": "bar",
         "x": [
          1,
          1,
          1,
          1,
          1,
          1,
          1,
          1,
          1,
          1,
          1,
          1,
          1,
          1,
          1,
          1,
          1,
          1,
          1,
          1,
          1,
          1,
          1,
          1,
          1,
          1,
          1,
          1,
          1,
          1,
          1,
          1,
          1,
          1,
          1,
          1,
          1,
          1,
          1,
          1,
          1,
          1,
          1,
          1,
          1,
          1,
          1,
          1,
          1,
          1,
          1,
          1,
          1,
          1,
          1,
          1,
          1,
          1,
          1,
          1,
          1,
          1,
          1,
          1,
          1,
          1,
          1,
          1,
          1,
          1,
          1,
          1,
          1,
          1,
          1,
          1,
          1,
          1,
          1,
          1,
          1,
          1,
          1,
          1,
          1,
          1,
          1,
          1,
          1,
          1,
          1,
          1,
          1,
          1,
          1,
          1,
          1,
          1,
          1,
          1,
          1,
          1,
          1,
          1,
          1,
          1,
          1,
          1,
          1,
          1,
          1,
          1,
          1,
          1,
          1,
          1,
          1,
          1,
          1,
          1,
          1,
          1,
          1,
          1
         ],
         "xaxis": "x",
         "y": [
          "Biscoe",
          "Biscoe",
          "Biscoe",
          "Biscoe",
          "Biscoe",
          "Biscoe",
          "Biscoe",
          "Biscoe",
          "Biscoe",
          "Biscoe",
          "Biscoe",
          "Biscoe",
          "Biscoe",
          "Biscoe",
          "Biscoe",
          "Biscoe",
          "Biscoe",
          "Biscoe",
          "Biscoe",
          "Biscoe",
          "Biscoe",
          "Biscoe",
          "Biscoe",
          "Biscoe",
          "Biscoe",
          "Biscoe",
          "Biscoe",
          "Biscoe",
          "Biscoe",
          "Biscoe",
          "Biscoe",
          "Biscoe",
          "Biscoe",
          "Biscoe",
          "Biscoe",
          "Biscoe",
          "Biscoe",
          "Biscoe",
          "Biscoe",
          "Biscoe",
          "Biscoe",
          "Biscoe",
          "Biscoe",
          "Biscoe",
          "Biscoe",
          "Biscoe",
          "Biscoe",
          "Biscoe",
          "Biscoe",
          "Biscoe",
          "Biscoe",
          "Biscoe",
          "Biscoe",
          "Biscoe",
          "Biscoe",
          "Biscoe",
          "Biscoe",
          "Biscoe",
          "Biscoe",
          "Biscoe",
          "Biscoe",
          "Biscoe",
          "Biscoe",
          "Biscoe",
          "Biscoe",
          "Biscoe",
          "Biscoe",
          "Biscoe",
          "Biscoe",
          "Biscoe",
          "Biscoe",
          "Biscoe",
          "Biscoe",
          "Biscoe",
          "Biscoe",
          "Biscoe",
          "Biscoe",
          "Biscoe",
          "Biscoe",
          "Biscoe",
          "Biscoe",
          "Biscoe",
          "Biscoe",
          "Biscoe",
          "Biscoe",
          "Biscoe",
          "Biscoe",
          "Biscoe",
          "Biscoe",
          "Biscoe",
          "Biscoe",
          "Biscoe",
          "Biscoe",
          "Biscoe",
          "Biscoe",
          "Biscoe",
          "Biscoe",
          "Biscoe",
          "Biscoe",
          "Biscoe",
          "Biscoe",
          "Biscoe",
          "Biscoe",
          "Biscoe",
          "Biscoe",
          "Biscoe",
          "Biscoe",
          "Biscoe",
          "Biscoe",
          "Biscoe",
          "Biscoe",
          "Biscoe",
          "Biscoe",
          "Biscoe",
          "Biscoe",
          "Biscoe",
          "Biscoe",
          "Biscoe",
          "Biscoe",
          "Biscoe",
          "Biscoe",
          "Biscoe",
          "Biscoe",
          "Biscoe"
         ],
         "yaxis": "y"
        }
       ],
       "layout": {
        "annotations": [
         {
          "font": {},
          "showarrow": false,
          "text": "Species=Gentoo penguin (Pygoscelis papua)",
          "textangle": 90,
          "x": 0.98,
          "xanchor": "left",
          "xref": "paper",
          "y": 0.13333333333333333,
          "yanchor": "middle",
          "yref": "paper"
         },
         {
          "font": {},
          "showarrow": false,
          "text": "Species=Chinstrap penguin (Pygoscelis antarctica)",
          "textangle": 90,
          "x": 0.98,
          "xanchor": "left",
          "xref": "paper",
          "y": 0.5,
          "yanchor": "middle",
          "yref": "paper"
         },
         {
          "font": {},
          "showarrow": false,
          "text": "Species=Adelie Penguin (Pygoscelis adeliae)",
          "textangle": 90,
          "x": 0.98,
          "xanchor": "left",
          "xref": "paper",
          "y": 0.8666666666666667,
          "yanchor": "middle",
          "yref": "paper"
         }
        ],
        "barmode": "relative",
        "height": 900,
        "legend": {
         "title": {
          "text": "Species"
         },
         "tracegroupgap": 0
        },
        "margin": {
         "t": 60
        },
        "template": {
         "data": {
          "bar": [
           {
            "error_x": {
             "color": "#2a3f5f"
            },
            "error_y": {
             "color": "#2a3f5f"
            },
            "marker": {
             "line": {
              "color": "#E5ECF6",
              "width": 0.5
             },
             "pattern": {
              "fillmode": "overlay",
              "size": 10,
              "solidity": 0.2
             }
            },
            "type": "bar"
           }
          ],
          "barpolar": [
           {
            "marker": {
             "line": {
              "color": "#E5ECF6",
              "width": 0.5
             },
             "pattern": {
              "fillmode": "overlay",
              "size": 10,
              "solidity": 0.2
             }
            },
            "type": "barpolar"
           }
          ],
          "carpet": [
           {
            "aaxis": {
             "endlinecolor": "#2a3f5f",
             "gridcolor": "white",
             "linecolor": "white",
             "minorgridcolor": "white",
             "startlinecolor": "#2a3f5f"
            },
            "baxis": {
             "endlinecolor": "#2a3f5f",
             "gridcolor": "white",
             "linecolor": "white",
             "minorgridcolor": "white",
             "startlinecolor": "#2a3f5f"
            },
            "type": "carpet"
           }
          ],
          "choropleth": [
           {
            "colorbar": {
             "outlinewidth": 0,
             "ticks": ""
            },
            "type": "choropleth"
           }
          ],
          "contour": [
           {
            "colorbar": {
             "outlinewidth": 0,
             "ticks": ""
            },
            "colorscale": [
             [
              0,
              "#0d0887"
             ],
             [
              0.1111111111111111,
              "#46039f"
             ],
             [
              0.2222222222222222,
              "#7201a8"
             ],
             [
              0.3333333333333333,
              "#9c179e"
             ],
             [
              0.4444444444444444,
              "#bd3786"
             ],
             [
              0.5555555555555556,
              "#d8576b"
             ],
             [
              0.6666666666666666,
              "#ed7953"
             ],
             [
              0.7777777777777778,
              "#fb9f3a"
             ],
             [
              0.8888888888888888,
              "#fdca26"
             ],
             [
              1,
              "#f0f921"
             ]
            ],
            "type": "contour"
           }
          ],
          "contourcarpet": [
           {
            "colorbar": {
             "outlinewidth": 0,
             "ticks": ""
            },
            "type": "contourcarpet"
           }
          ],
          "heatmap": [
           {
            "colorbar": {
             "outlinewidth": 0,
             "ticks": ""
            },
            "colorscale": [
             [
              0,
              "#0d0887"
             ],
             [
              0.1111111111111111,
              "#46039f"
             ],
             [
              0.2222222222222222,
              "#7201a8"
             ],
             [
              0.3333333333333333,
              "#9c179e"
             ],
             [
              0.4444444444444444,
              "#bd3786"
             ],
             [
              0.5555555555555556,
              "#d8576b"
             ],
             [
              0.6666666666666666,
              "#ed7953"
             ],
             [
              0.7777777777777778,
              "#fb9f3a"
             ],
             [
              0.8888888888888888,
              "#fdca26"
             ],
             [
              1,
              "#f0f921"
             ]
            ],
            "type": "heatmap"
           }
          ],
          "heatmapgl": [
           {
            "colorbar": {
             "outlinewidth": 0,
             "ticks": ""
            },
            "colorscale": [
             [
              0,
              "#0d0887"
             ],
             [
              0.1111111111111111,
              "#46039f"
             ],
             [
              0.2222222222222222,
              "#7201a8"
             ],
             [
              0.3333333333333333,
              "#9c179e"
             ],
             [
              0.4444444444444444,
              "#bd3786"
             ],
             [
              0.5555555555555556,
              "#d8576b"
             ],
             [
              0.6666666666666666,
              "#ed7953"
             ],
             [
              0.7777777777777778,
              "#fb9f3a"
             ],
             [
              0.8888888888888888,
              "#fdca26"
             ],
             [
              1,
              "#f0f921"
             ]
            ],
            "type": "heatmapgl"
           }
          ],
          "histogram": [
           {
            "marker": {
             "pattern": {
              "fillmode": "overlay",
              "size": 10,
              "solidity": 0.2
             }
            },
            "type": "histogram"
           }
          ],
          "histogram2d": [
           {
            "colorbar": {
             "outlinewidth": 0,
             "ticks": ""
            },
            "colorscale": [
             [
              0,
              "#0d0887"
             ],
             [
              0.1111111111111111,
              "#46039f"
             ],
             [
              0.2222222222222222,
              "#7201a8"
             ],
             [
              0.3333333333333333,
              "#9c179e"
             ],
             [
              0.4444444444444444,
              "#bd3786"
             ],
             [
              0.5555555555555556,
              "#d8576b"
             ],
             [
              0.6666666666666666,
              "#ed7953"
             ],
             [
              0.7777777777777778,
              "#fb9f3a"
             ],
             [
              0.8888888888888888,
              "#fdca26"
             ],
             [
              1,
              "#f0f921"
             ]
            ],
            "type": "histogram2d"
           }
          ],
          "histogram2dcontour": [
           {
            "colorbar": {
             "outlinewidth": 0,
             "ticks": ""
            },
            "colorscale": [
             [
              0,
              "#0d0887"
             ],
             [
              0.1111111111111111,
              "#46039f"
             ],
             [
              0.2222222222222222,
              "#7201a8"
             ],
             [
              0.3333333333333333,
              "#9c179e"
             ],
             [
              0.4444444444444444,
              "#bd3786"
             ],
             [
              0.5555555555555556,
              "#d8576b"
             ],
             [
              0.6666666666666666,
              "#ed7953"
             ],
             [
              0.7777777777777778,
              "#fb9f3a"
             ],
             [
              0.8888888888888888,
              "#fdca26"
             ],
             [
              1,
              "#f0f921"
             ]
            ],
            "type": "histogram2dcontour"
           }
          ],
          "mesh3d": [
           {
            "colorbar": {
             "outlinewidth": 0,
             "ticks": ""
            },
            "type": "mesh3d"
           }
          ],
          "parcoords": [
           {
            "line": {
             "colorbar": {
              "outlinewidth": 0,
              "ticks": ""
             }
            },
            "type": "parcoords"
           }
          ],
          "pie": [
           {
            "automargin": true,
            "type": "pie"
           }
          ],
          "scatter": [
           {
            "fillpattern": {
             "fillmode": "overlay",
             "size": 10,
             "solidity": 0.2
            },
            "type": "scatter"
           }
          ],
          "scatter3d": [
           {
            "line": {
             "colorbar": {
              "outlinewidth": 0,
              "ticks": ""
             }
            },
            "marker": {
             "colorbar": {
              "outlinewidth": 0,
              "ticks": ""
             }
            },
            "type": "scatter3d"
           }
          ],
          "scattercarpet": [
           {
            "marker": {
             "colorbar": {
              "outlinewidth": 0,
              "ticks": ""
             }
            },
            "type": "scattercarpet"
           }
          ],
          "scattergeo": [
           {
            "marker": {
             "colorbar": {
              "outlinewidth": 0,
              "ticks": ""
             }
            },
            "type": "scattergeo"
           }
          ],
          "scattergl": [
           {
            "marker": {
             "colorbar": {
              "outlinewidth": 0,
              "ticks": ""
             }
            },
            "type": "scattergl"
           }
          ],
          "scattermapbox": [
           {
            "marker": {
             "colorbar": {
              "outlinewidth": 0,
              "ticks": ""
             }
            },
            "type": "scattermapbox"
           }
          ],
          "scatterpolar": [
           {
            "marker": {
             "colorbar": {
              "outlinewidth": 0,
              "ticks": ""
             }
            },
            "type": "scatterpolar"
           }
          ],
          "scatterpolargl": [
           {
            "marker": {
             "colorbar": {
              "outlinewidth": 0,
              "ticks": ""
             }
            },
            "type": "scatterpolargl"
           }
          ],
          "scatterternary": [
           {
            "marker": {
             "colorbar": {
              "outlinewidth": 0,
              "ticks": ""
             }
            },
            "type": "scatterternary"
           }
          ],
          "surface": [
           {
            "colorbar": {
             "outlinewidth": 0,
             "ticks": ""
            },
            "colorscale": [
             [
              0,
              "#0d0887"
             ],
             [
              0.1111111111111111,
              "#46039f"
             ],
             [
              0.2222222222222222,
              "#7201a8"
             ],
             [
              0.3333333333333333,
              "#9c179e"
             ],
             [
              0.4444444444444444,
              "#bd3786"
             ],
             [
              0.5555555555555556,
              "#d8576b"
             ],
             [
              0.6666666666666666,
              "#ed7953"
             ],
             [
              0.7777777777777778,
              "#fb9f3a"
             ],
             [
              0.8888888888888888,
              "#fdca26"
             ],
             [
              1,
              "#f0f921"
             ]
            ],
            "type": "surface"
           }
          ],
          "table": [
           {
            "cells": {
             "fill": {
              "color": "#EBF0F8"
             },
             "line": {
              "color": "white"
             }
            },
            "header": {
             "fill": {
              "color": "#C8D4E3"
             },
             "line": {
              "color": "white"
             }
            },
            "type": "table"
           }
          ]
         },
         "layout": {
          "annotationdefaults": {
           "arrowcolor": "#2a3f5f",
           "arrowhead": 0,
           "arrowwidth": 1
          },
          "autotypenumbers": "strict",
          "coloraxis": {
           "colorbar": {
            "outlinewidth": 0,
            "ticks": ""
           }
          },
          "colorscale": {
           "diverging": [
            [
             0,
             "#8e0152"
            ],
            [
             0.1,
             "#c51b7d"
            ],
            [
             0.2,
             "#de77ae"
            ],
            [
             0.3,
             "#f1b6da"
            ],
            [
             0.4,
             "#fde0ef"
            ],
            [
             0.5,
             "#f7f7f7"
            ],
            [
             0.6,
             "#e6f5d0"
            ],
            [
             0.7,
             "#b8e186"
            ],
            [
             0.8,
             "#7fbc41"
            ],
            [
             0.9,
             "#4d9221"
            ],
            [
             1,
             "#276419"
            ]
           ],
           "sequential": [
            [
             0,
             "#0d0887"
            ],
            [
             0.1111111111111111,
             "#46039f"
            ],
            [
             0.2222222222222222,
             "#7201a8"
            ],
            [
             0.3333333333333333,
             "#9c179e"
            ],
            [
             0.4444444444444444,
             "#bd3786"
            ],
            [
             0.5555555555555556,
             "#d8576b"
            ],
            [
             0.6666666666666666,
             "#ed7953"
            ],
            [
             0.7777777777777778,
             "#fb9f3a"
            ],
            [
             0.8888888888888888,
             "#fdca26"
            ],
            [
             1,
             "#f0f921"
            ]
           ],
           "sequentialminus": [
            [
             0,
             "#0d0887"
            ],
            [
             0.1111111111111111,
             "#46039f"
            ],
            [
             0.2222222222222222,
             "#7201a8"
            ],
            [
             0.3333333333333333,
             "#9c179e"
            ],
            [
             0.4444444444444444,
             "#bd3786"
            ],
            [
             0.5555555555555556,
             "#d8576b"
            ],
            [
             0.6666666666666666,
             "#ed7953"
            ],
            [
             0.7777777777777778,
             "#fb9f3a"
            ],
            [
             0.8888888888888888,
             "#fdca26"
            ],
            [
             1,
             "#f0f921"
            ]
           ]
          },
          "colorway": [
           "#636efa",
           "#EF553B",
           "#00cc96",
           "#ab63fa",
           "#FFA15A",
           "#19d3f3",
           "#FF6692",
           "#B6E880",
           "#FF97FF",
           "#FECB52"
          ],
          "font": {
           "color": "#2a3f5f"
          },
          "geo": {
           "bgcolor": "white",
           "lakecolor": "white",
           "landcolor": "#E5ECF6",
           "showlakes": true,
           "showland": true,
           "subunitcolor": "white"
          },
          "hoverlabel": {
           "align": "left"
          },
          "hovermode": "closest",
          "mapbox": {
           "style": "light"
          },
          "paper_bgcolor": "white",
          "plot_bgcolor": "#E5ECF6",
          "polar": {
           "angularaxis": {
            "gridcolor": "white",
            "linecolor": "white",
            "ticks": ""
           },
           "bgcolor": "#E5ECF6",
           "radialaxis": {
            "gridcolor": "white",
            "linecolor": "white",
            "ticks": ""
           }
          },
          "scene": {
           "xaxis": {
            "backgroundcolor": "#E5ECF6",
            "gridcolor": "white",
            "gridwidth": 2,
            "linecolor": "white",
            "showbackground": true,
            "ticks": "",
            "zerolinecolor": "white"
           },
           "yaxis": {
            "backgroundcolor": "#E5ECF6",
            "gridcolor": "white",
            "gridwidth": 2,
            "linecolor": "white",
            "showbackground": true,
            "ticks": "",
            "zerolinecolor": "white"
           },
           "zaxis": {
            "backgroundcolor": "#E5ECF6",
            "gridcolor": "white",
            "gridwidth": 2,
            "linecolor": "white",
            "showbackground": true,
            "ticks": "",
            "zerolinecolor": "white"
           }
          },
          "shapedefaults": {
           "line": {
            "color": "#2a3f5f"
           }
          },
          "ternary": {
           "aaxis": {
            "gridcolor": "white",
            "linecolor": "white",
            "ticks": ""
           },
           "baxis": {
            "gridcolor": "white",
            "linecolor": "white",
            "ticks": ""
           },
           "bgcolor": "#E5ECF6",
           "caxis": {
            "gridcolor": "white",
            "linecolor": "white",
            "ticks": ""
           }
          },
          "title": {
           "x": 0.05
          },
          "xaxis": {
           "automargin": true,
           "gridcolor": "white",
           "linecolor": "white",
           "ticks": "",
           "title": {
            "standoff": 15
           },
           "zerolinecolor": "white",
           "zerolinewidth": 2
          },
          "yaxis": {
           "automargin": true,
           "gridcolor": "white",
           "linecolor": "white",
           "ticks": "",
           "title": {
            "standoff": 15
           },
           "zerolinecolor": "white",
           "zerolinewidth": 2
          }
         }
        },
        "width": 800,
        "xaxis": {
         "anchor": "y",
         "domain": [
          0,
          0.98
         ],
         "title": {
          "text": "count"
         }
        },
        "xaxis2": {
         "anchor": "y2",
         "domain": [
          0,
          0.98
         ],
         "matches": "x",
         "showticklabels": false
        },
        "xaxis3": {
         "anchor": "y3",
         "domain": [
          0,
          0.98
         ],
         "matches": "x",
         "showticklabels": false
        },
        "yaxis": {
         "anchor": "x",
         "domain": [
          0,
          0.26666666666666666
         ],
         "title": {
          "text": "Island"
         }
        },
        "yaxis2": {
         "anchor": "x2",
         "domain": [
          0.3666666666666667,
          0.6333333333333333
         ],
         "matches": "y",
         "title": {
          "text": "Island"
         }
        },
        "yaxis3": {
         "anchor": "x3",
         "domain": [
          0.7333333333333334,
          1
         ],
         "matches": "y",
         "title": {
          "text": "Island"
         }
        }
       }
      }
     },
     "metadata": {},
     "output_type": "display_data"
    }
   ],
   "source": [
    "import plotly.express as px\n",
    "\n",
    "px.bar( data_frame=df, y = 'Island', \n",
    "        facet_row='Species',facet_row_spacing=0.10, \n",
    "        pattern_shape='Species',\n",
    "        color='Species', \n",
    "        color_discrete_map={'Adelie Penguin (Pygoscelis adeliae)':'rgb(251,117,4)', 'Chinstrap penguin (Pygoscelis antarctica)':'rgb(167,98,188)', 'Gentoo penguin (Pygoscelis papua)':'rgb(4,115,116)'},\n",
    "        width=800,height=900 )"
   ]
  },
  {
   "cell_type": "markdown",
   "metadata": {},
   "source": [
    "### Species vs Sex"
   ]
  },
  {
   "cell_type": "code",
   "execution_count": null,
   "metadata": {},
   "outputs": [
    {
     "data": {
      "application/vnd.plotly.v1+json": {
       "config": {
        "plotlyServerURL": "https://plot.ly"
       },
       "data": [
        {
         "alignmentgroup": "True",
         "hovertemplate": "Species=Adelie Penguin (Pygoscelis adeliae)<br>count=%{x}<br>Sex=%{y}<extra></extra>",
         "legendgroup": "Adelie Penguin (Pygoscelis adeliae)",
         "marker": {
          "color": "rgb(251,117,4)",
          "pattern": {
           "shape": ""
          }
         },
         "name": "Adelie Penguin (Pygoscelis adeliae)",
         "offsetgroup": "Adelie Penguin (Pygoscelis adeliae)",
         "orientation": "h",
         "showlegend": true,
         "textposition": "auto",
         "type": "bar",
         "x": [
          1,
          1,
          1,
          1,
          1,
          1,
          1,
          1,
          1,
          1,
          1,
          1,
          1,
          1,
          1,
          1,
          1,
          1,
          1,
          1,
          1,
          1,
          1,
          1,
          1,
          1,
          1,
          1,
          1,
          1,
          1,
          1,
          1,
          1,
          1,
          1,
          1,
          1,
          1,
          1,
          1,
          1,
          1,
          1,
          1,
          1,
          1,
          1,
          1,
          1,
          1,
          1,
          1,
          1,
          1,
          1,
          1,
          1,
          1,
          1,
          1,
          1,
          1,
          1,
          1,
          1,
          1,
          1,
          1,
          1,
          1,
          1,
          1,
          1,
          1,
          1,
          1,
          1,
          1,
          1,
          1,
          1,
          1,
          1,
          1,
          1,
          1,
          1,
          1,
          1,
          1,
          1,
          1,
          1,
          1,
          1,
          1,
          1,
          1,
          1,
          1,
          1,
          1,
          1,
          1,
          1,
          1,
          1,
          1,
          1,
          1,
          1,
          1,
          1,
          1,
          1,
          1,
          1,
          1,
          1,
          1,
          1,
          1,
          1,
          1,
          1,
          1,
          1,
          1,
          1,
          1,
          1,
          1,
          1,
          1,
          1,
          1,
          1,
          1,
          1,
          1,
          1,
          1,
          1,
          1,
          1,
          1,
          1,
          1,
          1,
          1,
          1
         ],
         "xaxis": "x3",
         "y": [
          "MALE",
          "FEMALE",
          "FEMALE",
          "Unknown",
          "FEMALE",
          "MALE",
          "FEMALE",
          "MALE",
          "Unknown",
          "Unknown",
          "Unknown",
          "Unknown",
          "FEMALE",
          "MALE",
          "MALE",
          "FEMALE",
          "FEMALE",
          "MALE",
          "FEMALE",
          "MALE",
          "FEMALE",
          "MALE",
          "FEMALE",
          "MALE",
          "MALE",
          "FEMALE",
          "MALE",
          "FEMALE",
          "FEMALE",
          "MALE",
          "FEMALE",
          "MALE",
          "FEMALE",
          "MALE",
          "FEMALE",
          "MALE",
          "MALE",
          "FEMALE",
          "FEMALE",
          "MALE",
          "FEMALE",
          "MALE",
          "FEMALE",
          "MALE",
          "FEMALE",
          "MALE",
          "MALE",
          "Unknown",
          "FEMALE",
          "MALE",
          "FEMALE",
          "MALE",
          "FEMALE",
          "MALE",
          "FEMALE",
          "MALE",
          "FEMALE",
          "MALE",
          "FEMALE",
          "MALE",
          "FEMALE",
          "MALE",
          "FEMALE",
          "MALE",
          "FEMALE",
          "MALE",
          "FEMALE",
          "MALE",
          "FEMALE",
          "MALE",
          "FEMALE",
          "MALE",
          "FEMALE",
          "MALE",
          "FEMALE",
          "MALE",
          "FEMALE",
          "MALE",
          "FEMALE",
          "MALE",
          "FEMALE",
          "MALE",
          "FEMALE",
          "MALE",
          "FEMALE",
          "MALE",
          "MALE",
          "FEMALE",
          "MALE",
          "FEMALE",
          "FEMALE",
          "MALE",
          "FEMALE",
          "MALE",
          "FEMALE",
          "MALE",
          "FEMALE",
          "MALE",
          "FEMALE",
          "MALE",
          "FEMALE",
          "MALE",
          "FEMALE",
          "MALE",
          "FEMALE",
          "MALE",
          "FEMALE",
          "MALE",
          "FEMALE",
          "MALE",
          "FEMALE",
          "MALE",
          "FEMALE",
          "MALE",
          "FEMALE",
          "MALE",
          "FEMALE",
          "MALE",
          "FEMALE",
          "MALE",
          "FEMALE",
          "MALE",
          "FEMALE",
          "MALE",
          "FEMALE",
          "MALE",
          "FEMALE",
          "MALE",
          "FEMALE",
          "MALE",
          "FEMALE",
          "MALE",
          "FEMALE",
          "MALE",
          "FEMALE",
          "MALE",
          "FEMALE",
          "MALE",
          "FEMALE",
          "MALE",
          "FEMALE",
          "MALE",
          "FEMALE",
          "MALE",
          "FEMALE",
          "MALE",
          "MALE",
          "FEMALE",
          "FEMALE",
          "MALE",
          "FEMALE",
          "MALE"
         ],
         "yaxis": "y3"
        },
        {
         "alignmentgroup": "True",
         "hovertemplate": "Species=Chinstrap penguin (Pygoscelis antarctica)<br>count=%{x}<br>Sex=%{y}<extra></extra>",
         "legendgroup": "Chinstrap penguin (Pygoscelis antarctica)",
         "marker": {
          "color": "rgb(167,98,188)",
          "pattern": {
           "shape": "/"
          }
         },
         "name": "Chinstrap penguin (Pygoscelis antarctica)",
         "offsetgroup": "Chinstrap penguin (Pygoscelis antarctica)",
         "orientation": "h",
         "showlegend": true,
         "textposition": "auto",
         "type": "bar",
         "x": [
          1,
          1,
          1,
          1,
          1,
          1,
          1,
          1,
          1,
          1,
          1,
          1,
          1,
          1,
          1,
          1,
          1,
          1,
          1,
          1,
          1,
          1,
          1,
          1,
          1,
          1,
          1,
          1,
          1,
          1,
          1,
          1,
          1,
          1,
          1,
          1,
          1,
          1,
          1,
          1,
          1,
          1,
          1,
          1,
          1,
          1,
          1,
          1,
          1,
          1,
          1,
          1,
          1,
          1,
          1,
          1,
          1,
          1,
          1,
          1,
          1,
          1,
          1,
          1,
          1,
          1,
          1,
          1
         ],
         "xaxis": "x2",
         "y": [
          "FEMALE",
          "MALE",
          "MALE",
          "FEMALE",
          "MALE",
          "FEMALE",
          "FEMALE",
          "MALE",
          "FEMALE",
          "MALE",
          "FEMALE",
          "MALE",
          "FEMALE",
          "MALE",
          "FEMALE",
          "MALE",
          "MALE",
          "FEMALE",
          "FEMALE",
          "MALE",
          "FEMALE",
          "MALE",
          "FEMALE",
          "MALE",
          "FEMALE",
          "MALE",
          "FEMALE",
          "MALE",
          "FEMALE",
          "MALE",
          "FEMALE",
          "MALE",
          "FEMALE",
          "MALE",
          "MALE",
          "FEMALE",
          "FEMALE",
          "MALE",
          "FEMALE",
          "MALE",
          "MALE",
          "FEMALE",
          "MALE",
          "FEMALE",
          "FEMALE",
          "MALE",
          "FEMALE",
          "MALE",
          "MALE",
          "FEMALE",
          "FEMALE",
          "MALE",
          "FEMALE",
          "MALE",
          "FEMALE",
          "MALE",
          "FEMALE",
          "MALE",
          "MALE",
          "FEMALE",
          "MALE",
          "FEMALE",
          "FEMALE",
          "MALE",
          "FEMALE",
          "MALE",
          "MALE",
          "FEMALE"
         ],
         "yaxis": "y2"
        },
        {
         "alignmentgroup": "True",
         "hovertemplate": "Species=Gentoo penguin (Pygoscelis papua)<br>count=%{x}<br>Sex=%{y}<extra></extra>",
         "legendgroup": "Gentoo penguin (Pygoscelis papua)",
         "marker": {
          "color": "rgb(4,115,116)",
          "pattern": {
           "shape": "\\"
          }
         },
         "name": "Gentoo penguin (Pygoscelis papua)",
         "offsetgroup": "Gentoo penguin (Pygoscelis papua)",
         "orientation": "h",
         "showlegend": true,
         "textposition": "auto",
         "type": "bar",
         "x": [
          1,
          1,
          1,
          1,
          1,
          1,
          1,
          1,
          1,
          1,
          1,
          1,
          1,
          1,
          1,
          1,
          1,
          1,
          1,
          1,
          1,
          1,
          1,
          1,
          1,
          1,
          1,
          1,
          1,
          1,
          1,
          1,
          1,
          1,
          1,
          1,
          1,
          1,
          1,
          1,
          1,
          1,
          1,
          1,
          1,
          1,
          1,
          1,
          1,
          1,
          1,
          1,
          1,
          1,
          1,
          1,
          1,
          1,
          1,
          1,
          1,
          1,
          1,
          1,
          1,
          1,
          1,
          1,
          1,
          1,
          1,
          1,
          1,
          1,
          1,
          1,
          1,
          1,
          1,
          1,
          1,
          1,
          1,
          1,
          1,
          1,
          1,
          1,
          1,
          1,
          1,
          1,
          1,
          1,
          1,
          1,
          1,
          1,
          1,
          1,
          1,
          1,
          1,
          1,
          1,
          1,
          1,
          1,
          1,
          1,
          1,
          1,
          1,
          1,
          1,
          1,
          1,
          1,
          1,
          1,
          1,
          1,
          1,
          1
         ],
         "xaxis": "x",
         "y": [
          "FEMALE",
          "MALE",
          "FEMALE",
          "MALE",
          "MALE",
          "FEMALE",
          "FEMALE",
          "MALE",
          "FEMALE",
          "MALE",
          "FEMALE",
          "MALE",
          "FEMALE",
          "MALE",
          "FEMALE",
          "MALE",
          "FEMALE",
          "MALE",
          "FEMALE",
          "MALE",
          "MALE",
          "FEMALE",
          "FEMALE",
          "MALE",
          "FEMALE",
          "MALE",
          "Unknown",
          "MALE",
          "FEMALE",
          "MALE",
          "MALE",
          "FEMALE",
          "FEMALE",
          "MALE",
          "FEMALE",
          "MALE",
          "FEMALE",
          "MALE",
          "FEMALE",
          "MALE",
          "FEMALE",
          "MALE",
          "FEMALE",
          "MALE",
          "MALE",
          "FEMALE",
          "FEMALE",
          "MALE",
          "FEMALE",
          "MALE",
          "FEMALE",
          "MALE",
          "FEMALE",
          "MALE",
          "FEMALE",
          "MALE",
          "FEMALE",
          "MALE",
          "FEMALE",
          "MALE",
          "FEMALE",
          "MALE",
          "FEMALE",
          "MALE",
          "FEMALE",
          "MALE",
          "Unknown",
          "MALE",
          "FEMALE",
          "MALE",
          "FEMALE",
          "MALE",
          "MALE",
          "FEMALE",
          "FEMALE",
          "MALE",
          "FEMALE",
          "MALE",
          "FEMALE",
          "MALE",
          "FEMALE",
          "MALE",
          "FEMALE",
          "MALE",
          "FEMALE",
          "MALE",
          "FEMALE",
          "MALE",
          "FEMALE",
          "MALE",
          "FEMALE",
          "MALE",
          "FEMALE",
          "MALE",
          "FEMALE",
          "MALE",
          "MALE",
          "FEMALE",
          "FEMALE",
          "MALE",
          "FEMALE",
          "MALE",
          "FEMALE",
          "MALE",
          "Unknown",
          "MALE",
          "FEMALE",
          "MALE",
          "FEMALE",
          "MALE",
          "FEMALE",
          "MALE",
          "FEMALE",
          "MALE",
          "FEMALE",
          "MALE",
          "Unknown",
          "MALE",
          "FEMALE",
          "Unknown",
          "FEMALE",
          "MALE",
          "FEMALE",
          "MALE"
         ],
         "yaxis": "y"
        }
       ],
       "layout": {
        "annotations": [
         {
          "font": {},
          "showarrow": false,
          "text": "Species=Gentoo penguin (Pygoscelis papua)",
          "textangle": 90,
          "x": 0.98,
          "xanchor": "left",
          "xref": "paper",
          "y": 0.13333333333333333,
          "yanchor": "middle",
          "yref": "paper"
         },
         {
          "font": {},
          "showarrow": false,
          "text": "Species=Chinstrap penguin (Pygoscelis antarctica)",
          "textangle": 90,
          "x": 0.98,
          "xanchor": "left",
          "xref": "paper",
          "y": 0.5,
          "yanchor": "middle",
          "yref": "paper"
         },
         {
          "font": {},
          "showarrow": false,
          "text": "Species=Adelie Penguin (Pygoscelis adeliae)",
          "textangle": 90,
          "x": 0.98,
          "xanchor": "left",
          "xref": "paper",
          "y": 0.8666666666666667,
          "yanchor": "middle",
          "yref": "paper"
         }
        ],
        "barmode": "relative",
        "height": 900,
        "legend": {
         "title": {
          "text": "Species"
         },
         "tracegroupgap": 0
        },
        "margin": {
         "t": 60
        },
        "template": {
         "data": {
          "bar": [
           {
            "error_x": {
             "color": "#2a3f5f"
            },
            "error_y": {
             "color": "#2a3f5f"
            },
            "marker": {
             "line": {
              "color": "#E5ECF6",
              "width": 0.5
             },
             "pattern": {
              "fillmode": "overlay",
              "size": 10,
              "solidity": 0.2
             }
            },
            "type": "bar"
           }
          ],
          "barpolar": [
           {
            "marker": {
             "line": {
              "color": "#E5ECF6",
              "width": 0.5
             },
             "pattern": {
              "fillmode": "overlay",
              "size": 10,
              "solidity": 0.2
             }
            },
            "type": "barpolar"
           }
          ],
          "carpet": [
           {
            "aaxis": {
             "endlinecolor": "#2a3f5f",
             "gridcolor": "white",
             "linecolor": "white",
             "minorgridcolor": "white",
             "startlinecolor": "#2a3f5f"
            },
            "baxis": {
             "endlinecolor": "#2a3f5f",
             "gridcolor": "white",
             "linecolor": "white",
             "minorgridcolor": "white",
             "startlinecolor": "#2a3f5f"
            },
            "type": "carpet"
           }
          ],
          "choropleth": [
           {
            "colorbar": {
             "outlinewidth": 0,
             "ticks": ""
            },
            "type": "choropleth"
           }
          ],
          "contour": [
           {
            "colorbar": {
             "outlinewidth": 0,
             "ticks": ""
            },
            "colorscale": [
             [
              0,
              "#0d0887"
             ],
             [
              0.1111111111111111,
              "#46039f"
             ],
             [
              0.2222222222222222,
              "#7201a8"
             ],
             [
              0.3333333333333333,
              "#9c179e"
             ],
             [
              0.4444444444444444,
              "#bd3786"
             ],
             [
              0.5555555555555556,
              "#d8576b"
             ],
             [
              0.6666666666666666,
              "#ed7953"
             ],
             [
              0.7777777777777778,
              "#fb9f3a"
             ],
             [
              0.8888888888888888,
              "#fdca26"
             ],
             [
              1,
              "#f0f921"
             ]
            ],
            "type": "contour"
           }
          ],
          "contourcarpet": [
           {
            "colorbar": {
             "outlinewidth": 0,
             "ticks": ""
            },
            "type": "contourcarpet"
           }
          ],
          "heatmap": [
           {
            "colorbar": {
             "outlinewidth": 0,
             "ticks": ""
            },
            "colorscale": [
             [
              0,
              "#0d0887"
             ],
             [
              0.1111111111111111,
              "#46039f"
             ],
             [
              0.2222222222222222,
              "#7201a8"
             ],
             [
              0.3333333333333333,
              "#9c179e"
             ],
             [
              0.4444444444444444,
              "#bd3786"
             ],
             [
              0.5555555555555556,
              "#d8576b"
             ],
             [
              0.6666666666666666,
              "#ed7953"
             ],
             [
              0.7777777777777778,
              "#fb9f3a"
             ],
             [
              0.8888888888888888,
              "#fdca26"
             ],
             [
              1,
              "#f0f921"
             ]
            ],
            "type": "heatmap"
           }
          ],
          "heatmapgl": [
           {
            "colorbar": {
             "outlinewidth": 0,
             "ticks": ""
            },
            "colorscale": [
             [
              0,
              "#0d0887"
             ],
             [
              0.1111111111111111,
              "#46039f"
             ],
             [
              0.2222222222222222,
              "#7201a8"
             ],
             [
              0.3333333333333333,
              "#9c179e"
             ],
             [
              0.4444444444444444,
              "#bd3786"
             ],
             [
              0.5555555555555556,
              "#d8576b"
             ],
             [
              0.6666666666666666,
              "#ed7953"
             ],
             [
              0.7777777777777778,
              "#fb9f3a"
             ],
             [
              0.8888888888888888,
              "#fdca26"
             ],
             [
              1,
              "#f0f921"
             ]
            ],
            "type": "heatmapgl"
           }
          ],
          "histogram": [
           {
            "marker": {
             "pattern": {
              "fillmode": "overlay",
              "size": 10,
              "solidity": 0.2
             }
            },
            "type": "histogram"
           }
          ],
          "histogram2d": [
           {
            "colorbar": {
             "outlinewidth": 0,
             "ticks": ""
            },
            "colorscale": [
             [
              0,
              "#0d0887"
             ],
             [
              0.1111111111111111,
              "#46039f"
             ],
             [
              0.2222222222222222,
              "#7201a8"
             ],
             [
              0.3333333333333333,
              "#9c179e"
             ],
             [
              0.4444444444444444,
              "#bd3786"
             ],
             [
              0.5555555555555556,
              "#d8576b"
             ],
             [
              0.6666666666666666,
              "#ed7953"
             ],
             [
              0.7777777777777778,
              "#fb9f3a"
             ],
             [
              0.8888888888888888,
              "#fdca26"
             ],
             [
              1,
              "#f0f921"
             ]
            ],
            "type": "histogram2d"
           }
          ],
          "histogram2dcontour": [
           {
            "colorbar": {
             "outlinewidth": 0,
             "ticks": ""
            },
            "colorscale": [
             [
              0,
              "#0d0887"
             ],
             [
              0.1111111111111111,
              "#46039f"
             ],
             [
              0.2222222222222222,
              "#7201a8"
             ],
             [
              0.3333333333333333,
              "#9c179e"
             ],
             [
              0.4444444444444444,
              "#bd3786"
             ],
             [
              0.5555555555555556,
              "#d8576b"
             ],
             [
              0.6666666666666666,
              "#ed7953"
             ],
             [
              0.7777777777777778,
              "#fb9f3a"
             ],
             [
              0.8888888888888888,
              "#fdca26"
             ],
             [
              1,
              "#f0f921"
             ]
            ],
            "type": "histogram2dcontour"
           }
          ],
          "mesh3d": [
           {
            "colorbar": {
             "outlinewidth": 0,
             "ticks": ""
            },
            "type": "mesh3d"
           }
          ],
          "parcoords": [
           {
            "line": {
             "colorbar": {
              "outlinewidth": 0,
              "ticks": ""
             }
            },
            "type": "parcoords"
           }
          ],
          "pie": [
           {
            "automargin": true,
            "type": "pie"
           }
          ],
          "scatter": [
           {
            "fillpattern": {
             "fillmode": "overlay",
             "size": 10,
             "solidity": 0.2
            },
            "type": "scatter"
           }
          ],
          "scatter3d": [
           {
            "line": {
             "colorbar": {
              "outlinewidth": 0,
              "ticks": ""
             }
            },
            "marker": {
             "colorbar": {
              "outlinewidth": 0,
              "ticks": ""
             }
            },
            "type": "scatter3d"
           }
          ],
          "scattercarpet": [
           {
            "marker": {
             "colorbar": {
              "outlinewidth": 0,
              "ticks": ""
             }
            },
            "type": "scattercarpet"
           }
          ],
          "scattergeo": [
           {
            "marker": {
             "colorbar": {
              "outlinewidth": 0,
              "ticks": ""
             }
            },
            "type": "scattergeo"
           }
          ],
          "scattergl": [
           {
            "marker": {
             "colorbar": {
              "outlinewidth": 0,
              "ticks": ""
             }
            },
            "type": "scattergl"
           }
          ],
          "scattermapbox": [
           {
            "marker": {
             "colorbar": {
              "outlinewidth": 0,
              "ticks": ""
             }
            },
            "type": "scattermapbox"
           }
          ],
          "scatterpolar": [
           {
            "marker": {
             "colorbar": {
              "outlinewidth": 0,
              "ticks": ""
             }
            },
            "type": "scatterpolar"
           }
          ],
          "scatterpolargl": [
           {
            "marker": {
             "colorbar": {
              "outlinewidth": 0,
              "ticks": ""
             }
            },
            "type": "scatterpolargl"
           }
          ],
          "scatterternary": [
           {
            "marker": {
             "colorbar": {
              "outlinewidth": 0,
              "ticks": ""
             }
            },
            "type": "scatterternary"
           }
          ],
          "surface": [
           {
            "colorbar": {
             "outlinewidth": 0,
             "ticks": ""
            },
            "colorscale": [
             [
              0,
              "#0d0887"
             ],
             [
              0.1111111111111111,
              "#46039f"
             ],
             [
              0.2222222222222222,
              "#7201a8"
             ],
             [
              0.3333333333333333,
              "#9c179e"
             ],
             [
              0.4444444444444444,
              "#bd3786"
             ],
             [
              0.5555555555555556,
              "#d8576b"
             ],
             [
              0.6666666666666666,
              "#ed7953"
             ],
             [
              0.7777777777777778,
              "#fb9f3a"
             ],
             [
              0.8888888888888888,
              "#fdca26"
             ],
             [
              1,
              "#f0f921"
             ]
            ],
            "type": "surface"
           }
          ],
          "table": [
           {
            "cells": {
             "fill": {
              "color": "#EBF0F8"
             },
             "line": {
              "color": "white"
             }
            },
            "header": {
             "fill": {
              "color": "#C8D4E3"
             },
             "line": {
              "color": "white"
             }
            },
            "type": "table"
           }
          ]
         },
         "layout": {
          "annotationdefaults": {
           "arrowcolor": "#2a3f5f",
           "arrowhead": 0,
           "arrowwidth": 1
          },
          "autotypenumbers": "strict",
          "coloraxis": {
           "colorbar": {
            "outlinewidth": 0,
            "ticks": ""
           }
          },
          "colorscale": {
           "diverging": [
            [
             0,
             "#8e0152"
            ],
            [
             0.1,
             "#c51b7d"
            ],
            [
             0.2,
             "#de77ae"
            ],
            [
             0.3,
             "#f1b6da"
            ],
            [
             0.4,
             "#fde0ef"
            ],
            [
             0.5,
             "#f7f7f7"
            ],
            [
             0.6,
             "#e6f5d0"
            ],
            [
             0.7,
             "#b8e186"
            ],
            [
             0.8,
             "#7fbc41"
            ],
            [
             0.9,
             "#4d9221"
            ],
            [
             1,
             "#276419"
            ]
           ],
           "sequential": [
            [
             0,
             "#0d0887"
            ],
            [
             0.1111111111111111,
             "#46039f"
            ],
            [
             0.2222222222222222,
             "#7201a8"
            ],
            [
             0.3333333333333333,
             "#9c179e"
            ],
            [
             0.4444444444444444,
             "#bd3786"
            ],
            [
             0.5555555555555556,
             "#d8576b"
            ],
            [
             0.6666666666666666,
             "#ed7953"
            ],
            [
             0.7777777777777778,
             "#fb9f3a"
            ],
            [
             0.8888888888888888,
             "#fdca26"
            ],
            [
             1,
             "#f0f921"
            ]
           ],
           "sequentialminus": [
            [
             0,
             "#0d0887"
            ],
            [
             0.1111111111111111,
             "#46039f"
            ],
            [
             0.2222222222222222,
             "#7201a8"
            ],
            [
             0.3333333333333333,
             "#9c179e"
            ],
            [
             0.4444444444444444,
             "#bd3786"
            ],
            [
             0.5555555555555556,
             "#d8576b"
            ],
            [
             0.6666666666666666,
             "#ed7953"
            ],
            [
             0.7777777777777778,
             "#fb9f3a"
            ],
            [
             0.8888888888888888,
             "#fdca26"
            ],
            [
             1,
             "#f0f921"
            ]
           ]
          },
          "colorway": [
           "#636efa",
           "#EF553B",
           "#00cc96",
           "#ab63fa",
           "#FFA15A",
           "#19d3f3",
           "#FF6692",
           "#B6E880",
           "#FF97FF",
           "#FECB52"
          ],
          "font": {
           "color": "#2a3f5f"
          },
          "geo": {
           "bgcolor": "white",
           "lakecolor": "white",
           "landcolor": "#E5ECF6",
           "showlakes": true,
           "showland": true,
           "subunitcolor": "white"
          },
          "hoverlabel": {
           "align": "left"
          },
          "hovermode": "closest",
          "mapbox": {
           "style": "light"
          },
          "paper_bgcolor": "white",
          "plot_bgcolor": "#E5ECF6",
          "polar": {
           "angularaxis": {
            "gridcolor": "white",
            "linecolor": "white",
            "ticks": ""
           },
           "bgcolor": "#E5ECF6",
           "radialaxis": {
            "gridcolor": "white",
            "linecolor": "white",
            "ticks": ""
           }
          },
          "scene": {
           "xaxis": {
            "backgroundcolor": "#E5ECF6",
            "gridcolor": "white",
            "gridwidth": 2,
            "linecolor": "white",
            "showbackground": true,
            "ticks": "",
            "zerolinecolor": "white"
           },
           "yaxis": {
            "backgroundcolor": "#E5ECF6",
            "gridcolor": "white",
            "gridwidth": 2,
            "linecolor": "white",
            "showbackground": true,
            "ticks": "",
            "zerolinecolor": "white"
           },
           "zaxis": {
            "backgroundcolor": "#E5ECF6",
            "gridcolor": "white",
            "gridwidth": 2,
            "linecolor": "white",
            "showbackground": true,
            "ticks": "",
            "zerolinecolor": "white"
           }
          },
          "shapedefaults": {
           "line": {
            "color": "#2a3f5f"
           }
          },
          "ternary": {
           "aaxis": {
            "gridcolor": "white",
            "linecolor": "white",
            "ticks": ""
           },
           "baxis": {
            "gridcolor": "white",
            "linecolor": "white",
            "ticks": ""
           },
           "bgcolor": "#E5ECF6",
           "caxis": {
            "gridcolor": "white",
            "linecolor": "white",
            "ticks": ""
           }
          },
          "title": {
           "x": 0.05
          },
          "xaxis": {
           "automargin": true,
           "gridcolor": "white",
           "linecolor": "white",
           "ticks": "",
           "title": {
            "standoff": 15
           },
           "zerolinecolor": "white",
           "zerolinewidth": 2
          },
          "yaxis": {
           "automargin": true,
           "gridcolor": "white",
           "linecolor": "white",
           "ticks": "",
           "title": {
            "standoff": 15
           },
           "zerolinecolor": "white",
           "zerolinewidth": 2
          }
         }
        },
        "width": 800,
        "xaxis": {
         "anchor": "y",
         "domain": [
          0,
          0.98
         ],
         "title": {
          "text": "count"
         }
        },
        "xaxis2": {
         "anchor": "y2",
         "domain": [
          0,
          0.98
         ],
         "matches": "x",
         "showticklabels": false
        },
        "xaxis3": {
         "anchor": "y3",
         "domain": [
          0,
          0.98
         ],
         "matches": "x",
         "showticklabels": false
        },
        "yaxis": {
         "anchor": "x",
         "domain": [
          0,
          0.26666666666666666
         ],
         "title": {
          "text": "Sex"
         }
        },
        "yaxis2": {
         "anchor": "x2",
         "domain": [
          0.3666666666666667,
          0.6333333333333333
         ],
         "matches": "y",
         "title": {
          "text": "Sex"
         }
        },
        "yaxis3": {
         "anchor": "x3",
         "domain": [
          0.7333333333333334,
          1
         ],
         "matches": "y",
         "title": {
          "text": "Sex"
         }
        }
       }
      }
     },
     "metadata": {},
     "output_type": "display_data"
    }
   ],
   "source": [
    "fig =px.bar( data_frame=df, y = 'Sex',\n",
    "facet_row='Species',facet_row_spacing=0.10,\n",
    "pattern_shape='Species',\n",
    "color='Species',\n",
    "color_discrete_map={'Adelie Penguin (Pygoscelis adeliae)':'rgb(251,117,4)', 'Chinstrap penguin (Pygoscelis antarctica)':'rgb(167,98,188)', 'Gentoo penguin (Pygoscelis papua)':'rgb(4,115,116)'},\n",
    "width=800,height=900 )\n",
    "\n",
    "fig.show()\n"
   ]
  },
  {
   "cell_type": "markdown",
   "metadata": {},
   "source": [
    "### Body Mass vs Flipper Length"
   ]
  },
  {
   "cell_type": "code",
   "execution_count": 107,
   "metadata": {},
   "outputs": [
    {
     "data": {
      "text/plain": [
       "<AxesSubplot:xlabel='Body Mass (g)', ylabel='Flipper Length (mm)'>"
      ]
     },
     "execution_count": 107,
     "metadata": {},
     "output_type": "execute_result"
    },
    {
     "data": {
      "image/png": "[encoded data removed]",
      "text/plain": [
       "<Figure size 640x480 with 1 Axes>"
      ]
     },
     "metadata": {},
     "output_type": "display_data"
    }
   ],
   "source": [
    "sns.scatterplot(data=df, x='Body Mass (g)', y='Flipper Length (mm)')"
   ]
  },
  {
   "cell_type": "markdown",
   "metadata": {},
   "source": [
    "### Culmen Length vs Culmen Depth"
   ]
  },
  {
   "cell_type": "code",
   "execution_count": 99,
   "metadata": {},
   "outputs": [
    {
     "data": {
      "text/plain": [
       "<AxesSubplot:xlabel='Culmen Length (mm)', ylabel='Culmen Depth (mm)'>"
      ]
     },
     "execution_count": 99,
     "metadata": {},
     "output_type": "execute_result"
    },
    {
     "data": {
      "image/png": "[encoded data removed]",
      "text/plain": [
       "<Figure size 640x480 with 1 Axes>"
      ]
     },
     "metadata": {},
     "output_type": "display_data"
    }
   ],
   "source": [
    "sns.scatterplot(data=df, x='Culmen Length (mm)', y='Culmen Depth (mm)')"
   ]
  },
  {
   "cell_type": "code",
   "execution_count": 104,
   "metadata": {},
   "outputs": [
    {
     "data": {
      "text/plain": [
       "<AxesSubplot:xlabel='Culmen Length (mm)', ylabel='Culmen Depth (mm)'>"
      ]
     },
     "execution_count": 104,
     "metadata": {},
     "output_type": "execute_result"
    },
    {
     "data": {
      "image/png": "[encoded data removed]",
      "text/plain": [
       "<Figure size 640x480 with 1 Axes>"
      ]
     },
     "metadata": {},
     "output_type": "display_data"
    }
   ],
   "source": [
    "sns.scatterplot(data=df, x='Culmen Length (mm)', y='Culmen Depth (mm)', hue='Species')"
   ]
  },
  {
   "cell_type": "markdown",
   "metadata": {},
   "source": [
    "### Body Mass vs Species"
   ]
  },
  {
   "cell_type": "code",
   "execution_count": 45,
   "metadata": {},
   "outputs": [
    {
     "data": {
      "application/vnd.plotly.v1+json": {
       "config": {
        "plotlyServerURL": "https://plot.ly"
       },
       "data": [
        {
         "box": {
          "visible": true
         },
         "line": {
          "color": "darkorange"
         },
         "meanline": {
          "visible": true
         },
         "name": "Adelie Penguin (Pygoscelis adeliae)",
         "points": "all",
         "type": "violin",
         "x": [
          "Adelie Penguin (Pygoscelis adeliae)",
          "Adelie Penguin (Pygoscelis adeliae)",
          "Adelie Penguin (Pygoscelis adeliae)",
          "Adelie Penguin (Pygoscelis adeliae)",
          "Adelie Penguin (Pygoscelis adeliae)",
          "Adelie Penguin (Pygoscelis adeliae)",
          "Adelie Penguin (Pygoscelis adeliae)",
          "Adelie Penguin (Pygoscelis adeliae)",
          "Adelie Penguin (Pygoscelis adeliae)",
          "Adelie Penguin (Pygoscelis adeliae)",
          "Adelie Penguin (Pygoscelis adeliae)",
          "Adelie Penguin (Pygoscelis adeliae)",
          "Adelie Penguin (Pygoscelis adeliae)",
          "Adelie Penguin (Pygoscelis adeliae)",
          "Adelie Penguin (Pygoscelis adeliae)",
          "Adelie Penguin (Pygoscelis adeliae)",
          "Adelie Penguin (Pygoscelis adeliae)",
          "Adelie Penguin (Pygoscelis adeliae)",
          "Adelie Penguin (Pygoscelis adeliae)",
          "Adelie Penguin (Pygoscelis adeliae)",
          "Adelie Penguin (Pygoscelis adeliae)",
          "Adelie Penguin (Pygoscelis adeliae)",
          "Adelie Penguin (Pygoscelis adeliae)",
          "Adelie Penguin (Pygoscelis adeliae)",
          "Adelie Penguin (Pygoscelis adeliae)",
          "Adelie Penguin (Pygoscelis adeliae)",
          "Adelie Penguin (Pygoscelis adeliae)",
          "Adelie Penguin (Pygoscelis adeliae)",
          "Adelie Penguin (Pygoscelis adeliae)",
          "Adelie Penguin (Pygoscelis adeliae)",
          "Adelie Penguin (Pygoscelis adeliae)",
          "Adelie Penguin (Pygoscelis adeliae)",
          "Adelie Penguin (Pygoscelis adeliae)",
          "Adelie Penguin (Pygoscelis adeliae)",
          "Adelie Penguin (Pygoscelis adeliae)",
          "Adelie Penguin (Pygoscelis adeliae)",
          "Adelie Penguin (Pygoscelis adeliae)",
          "Adelie Penguin (Pygoscelis adeliae)",
          "Adelie Penguin (Pygoscelis adeliae)",
          "Adelie Penguin (Pygoscelis adeliae)",
          "Adelie Penguin (Pygoscelis adeliae)",
          "Adelie Penguin (Pygoscelis adeliae)",
          "Adelie Penguin (Pygoscelis adeliae)",
          "Adelie Penguin (Pygoscelis adeliae)",
          "Adelie Penguin (Pygoscelis adeliae)",
          "Adelie Penguin (Pygoscelis adeliae)",
          "Adelie Penguin (Pygoscelis adeliae)",
          "Adelie Penguin (Pygoscelis adeliae)",
          "Adelie Penguin (Pygoscelis adeliae)",
          "Adelie Penguin (Pygoscelis adeliae)",
          "Adelie Penguin (Pygoscelis adeliae)",
          "Adelie Penguin (Pygoscelis adeliae)",
          "Adelie Penguin (Pygoscelis adeliae)",
          "Adelie Penguin (Pygoscelis adeliae)",
          "Adelie Penguin (Pygoscelis adeliae)",
          "Adelie Penguin (Pygoscelis adeliae)",
          "Adelie Penguin (Pygoscelis adeliae)",
          "Adelie Penguin (Pygoscelis adeliae)",
          "Adelie Penguin (Pygoscelis adeliae)",
          "Adelie Penguin (Pygoscelis adeliae)",
          "Adelie Penguin (Pygoscelis adeliae)",
          "Adelie Penguin (Pygoscelis adeliae)",
          "Adelie Penguin (Pygoscelis adeliae)",
          "Adelie Penguin (Pygoscelis adeliae)",
          "Adelie Penguin (Pygoscelis adeliae)",
          "Adelie Penguin (Pygoscelis adeliae)",
          "Adelie Penguin (Pygoscelis adeliae)",
          "Adelie Penguin (Pygoscelis adeliae)",
          "Adelie Penguin (Pygoscelis adeliae)",
          "Adelie Penguin (Pygoscelis adeliae)",
          "Adelie Penguin (Pygoscelis adeliae)",
          "Adelie Penguin (Pygoscelis adeliae)",
          "Adelie Penguin (Pygoscelis adeliae)",
          "Adelie Penguin (Pygoscelis adeliae)",
          "Adelie Penguin (Pygoscelis adeliae)",
          "Adelie Penguin (Pygoscelis adeliae)",
          "Adelie Penguin (Pygoscelis adeliae)",
          "Adelie Penguin (Pygoscelis adeliae)",
          "Adelie Penguin (Pygoscelis adeliae)",
          "Adelie Penguin (Pygoscelis adeliae)",
          "Adelie Penguin (Pygoscelis adeliae)",
          "Adelie Penguin (Pygoscelis adeliae)",
          "Adelie Penguin (Pygoscelis adeliae)",
          "Adelie Penguin (Pygoscelis adeliae)",
          "Adelie Penguin (Pygoscelis adeliae)",
          "Adelie Penguin (Pygoscelis adeliae)",
          "Adelie Penguin (Pygoscelis adeliae)",
          "Adelie Penguin (Pygoscelis adeliae)",
          "Adelie Penguin (Pygoscelis adeliae)",
          "Adelie Penguin (Pygoscelis adeliae)",
          "Adelie Penguin (Pygoscelis adeliae)",
          "Adelie Penguin (Pygoscelis adeliae)",
          "Adelie Penguin (Pygoscelis adeliae)",
          "Adelie Penguin (Pygoscelis adeliae)",
          "Adelie Penguin (Pygoscelis adeliae)",
          "Adelie Penguin (Pygoscelis adeliae)",
          "Adelie Penguin (Pygoscelis adeliae)",
          "Adelie Penguin (Pygoscelis adeliae)",
          "Adelie Penguin (Pygoscelis adeliae)",
          "Adelie Penguin (Pygoscelis adeliae)",
          "Adelie Penguin (Pygoscelis adeliae)",
          "Adelie Penguin (Pygoscelis adeliae)",
          "Adelie Penguin (Pygoscelis adeliae)",
          "Adelie Penguin (Pygoscelis adeliae)",
          "Adelie Penguin (Pygoscelis adeliae)",
          "Adelie Penguin (Pygoscelis adeliae)",
          "Adelie Penguin (Pygoscelis adeliae)",
          "Adelie Penguin (Pygoscelis adeliae)",
          "Adelie Penguin (Pygoscelis adeliae)",
          "Adelie Penguin (Pygoscelis adeliae)",
          "Adelie Penguin (Pygoscelis adeliae)",
          "Adelie Penguin (Pygoscelis adeliae)",
          "Adelie Penguin (Pygoscelis adeliae)",
          "Adelie Penguin (Pygoscelis adeliae)",
          "Adelie Penguin (Pygoscelis adeliae)",
          "Adelie Penguin (Pygoscelis adeliae)",
          "Adelie Penguin (Pygoscelis adeliae)",
          "Adelie Penguin (Pygoscelis adeliae)",
          "Adelie Penguin (Pygoscelis adeliae)",
          "Adelie Penguin (Pygoscelis adeliae)",
          "Adelie Penguin (Pygoscelis adeliae)",
          "Adelie Penguin (Pygoscelis adeliae)",
          "Adelie Penguin (Pygoscelis adeliae)",
          "Adelie Penguin (Pygoscelis adeliae)",
          "Adelie Penguin (Pygoscelis adeliae)",
          "Adelie Penguin (Pygoscelis adeliae)",
          "Adelie Penguin (Pygoscelis adeliae)",
          "Adelie Penguin (Pygoscelis adeliae)",
          "Adelie Penguin (Pygoscelis adeliae)",
          "Adelie Penguin (Pygoscelis adeliae)",
          "Adelie Penguin (Pygoscelis adeliae)",
          "Adelie Penguin (Pygoscelis adeliae)",
          "Adelie Penguin (Pygoscelis adeliae)",
          "Adelie Penguin (Pygoscelis adeliae)",
          "Adelie Penguin (Pygoscelis adeliae)",
          "Adelie Penguin (Pygoscelis adeliae)",
          "Adelie Penguin (Pygoscelis adeliae)",
          "Adelie Penguin (Pygoscelis adeliae)",
          "Adelie Penguin (Pygoscelis adeliae)",
          "Adelie Penguin (Pygoscelis adeliae)",
          "Adelie Penguin (Pygoscelis adeliae)",
          "Adelie Penguin (Pygoscelis adeliae)",
          "Adelie Penguin (Pygoscelis adeliae)",
          "Adelie Penguin (Pygoscelis adeliae)",
          "Adelie Penguin (Pygoscelis adeliae)",
          "Adelie Penguin (Pygoscelis adeliae)",
          "Adelie Penguin (Pygoscelis adeliae)",
          "Adelie Penguin (Pygoscelis adeliae)",
          "Adelie Penguin (Pygoscelis adeliae)",
          "Adelie Penguin (Pygoscelis adeliae)",
          "Adelie Penguin (Pygoscelis adeliae)",
          "Adelie Penguin (Pygoscelis adeliae)"
         ],
         "xaxis": "x",
         "y": [
          3750,
          3800,
          3250,
          4050,
          3450,
          3650,
          3625,
          4675,
          3475,
          4250,
          3300,
          3700,
          3200,
          3800,
          4400,
          3700,
          3450,
          4500,
          3325,
          4200,
          3400,
          3600,
          3800,
          3950,
          3800,
          3800,
          3550,
          3200,
          3150,
          3950,
          3250,
          3900,
          3300,
          3900,
          3325,
          4150,
          3950,
          3550,
          3300,
          4650,
          3150,
          3900,
          3100,
          4400,
          3000,
          4600,
          3425,
          2975,
          3450,
          4150,
          3500,
          4300,
          3450,
          4050,
          2900,
          3700,
          3550,
          3800,
          2850,
          3750,
          3150,
          4400,
          3600,
          4050,
          2850,
          3950,
          3350,
          4100,
          3050,
          4450,
          3600,
          3900,
          3550,
          4150,
          3700,
          4250,
          3700,
          3900,
          3550,
          4000,
          3200,
          4700,
          3800,
          4200,
          3350,
          3550,
          3800,
          3500,
          3950,
          3600,
          3550,
          4300,
          3400,
          4450,
          3300,
          4300,
          3700,
          4350,
          2900,
          4100,
          3725,
          4725,
          3075,
          4250,
          2925,
          3550,
          3750,
          3900,
          3175,
          4775,
          3825,
          4600,
          3200,
          4275,
          3900,
          4075,
          2900,
          3775,
          3350,
          3325,
          3150,
          3500,
          3450,
          3875,
          3050,
          4000,
          3275,
          4300,
          3050,
          4000,
          3325,
          3500,
          3500,
          4475,
          3425,
          3900,
          3175,
          3975,
          3400,
          4250,
          3400,
          3475,
          3050,
          3725,
          3000,
          3650,
          4250,
          3475,
          3450,
          3750,
          3700,
          4000
         ],
         "yaxis": "y"
        },
        {
         "box": {
          "visible": true
         },
         "line": {
          "color": "mediumorchid"
         },
         "meanline": {
          "visible": true
         },
         "name": "Chinstrap penguin (Pygoscelis antarctica)",
         "points": "all",
         "type": "violin",
         "x": [
          "Chinstrap penguin (Pygoscelis antarctica)",
          "Chinstrap penguin (Pygoscelis antarctica)",
          "Chinstrap penguin (Pygoscelis antarctica)",
          "Chinstrap penguin (Pygoscelis antarctica)",
          "Chinstrap penguin (Pygoscelis antarctica)",
          "Chinstrap penguin (Pygoscelis antarctica)",
          "Chinstrap penguin (Pygoscelis antarctica)",
          "Chinstrap penguin (Pygoscelis antarctica)",
          "Chinstrap penguin (Pygoscelis antarctica)",
          "Chinstrap penguin (Pygoscelis antarctica)",
          "Chinstrap penguin (Pygoscelis antarctica)",
          "Chinstrap penguin (Pygoscelis antarctica)",
          "Chinstrap penguin (Pygoscelis antarctica)",
          "Chinstrap penguin (Pygoscelis antarctica)",
          "Chinstrap penguin (Pygoscelis antarctica)",
          "Chinstrap penguin (Pygoscelis antarctica)",
          "Chinstrap penguin (Pygoscelis antarctica)",
          "Chinstrap penguin (Pygoscelis antarctica)",
          "Chinstrap penguin (Pygoscelis antarctica)",
          "Chinstrap penguin (Pygoscelis antarctica)",
          "Chinstrap penguin (Pygoscelis antarctica)",
          "Chinstrap penguin (Pygoscelis antarctica)",
          "Chinstrap penguin (Pygoscelis antarctica)",
          "Chinstrap penguin (Pygoscelis antarctica)",
          "Chinstrap penguin (Pygoscelis antarctica)",
          "Chinstrap penguin (Pygoscelis antarctica)",
          "Chinstrap penguin (Pygoscelis antarctica)",
          "Chinstrap penguin (Pygoscelis antarctica)",
          "Chinstrap penguin (Pygoscelis antarctica)",
          "Chinstrap penguin (Pygoscelis antarctica)",
          "Chinstrap penguin (Pygoscelis antarctica)",
          "Chinstrap penguin (Pygoscelis antarctica)",
          "Chinstrap penguin (Pygoscelis antarctica)",
          "Chinstrap penguin (Pygoscelis antarctica)",
          "Chinstrap penguin (Pygoscelis antarctica)",
          "Chinstrap penguin (Pygoscelis antarctica)",
          "Chinstrap penguin (Pygoscelis antarctica)",
          "Chinstrap penguin (Pygoscelis antarctica)",
          "Chinstrap penguin (Pygoscelis antarctica)",
          "Chinstrap penguin (Pygoscelis antarctica)",
          "Chinstrap penguin (Pygoscelis antarctica)",
          "Chinstrap penguin (Pygoscelis antarctica)",
          "Chinstrap penguin (Pygoscelis antarctica)",
          "Chinstrap penguin (Pygoscelis antarctica)",
          "Chinstrap penguin (Pygoscelis antarctica)",
          "Chinstrap penguin (Pygoscelis antarctica)",
          "Chinstrap penguin (Pygoscelis antarctica)",
          "Chinstrap penguin (Pygoscelis antarctica)",
          "Chinstrap penguin (Pygoscelis antarctica)",
          "Chinstrap penguin (Pygoscelis antarctica)",
          "Chinstrap penguin (Pygoscelis antarctica)",
          "Chinstrap penguin (Pygoscelis antarctica)",
          "Chinstrap penguin (Pygoscelis antarctica)",
          "Chinstrap penguin (Pygoscelis antarctica)",
          "Chinstrap penguin (Pygoscelis antarctica)",
          "Chinstrap penguin (Pygoscelis antarctica)",
          "Chinstrap penguin (Pygoscelis antarctica)",
          "Chinstrap penguin (Pygoscelis antarctica)",
          "Chinstrap penguin (Pygoscelis antarctica)",
          "Chinstrap penguin (Pygoscelis antarctica)",
          "Chinstrap penguin (Pygoscelis antarctica)",
          "Chinstrap penguin (Pygoscelis antarctica)",
          "Chinstrap penguin (Pygoscelis antarctica)",
          "Chinstrap penguin (Pygoscelis antarctica)",
          "Chinstrap penguin (Pygoscelis antarctica)",
          "Chinstrap penguin (Pygoscelis antarctica)",
          "Chinstrap penguin (Pygoscelis antarctica)",
          "Chinstrap penguin (Pygoscelis antarctica)"
         ],
         "xaxis": "x",
         "y": [
          3500,
          3900,
          3650,
          3525,
          3725,
          3950,
          3250,
          3750,
          4150,
          3700,
          3800,
          3775,
          3700,
          4050,
          3575,
          4050,
          3300,
          3700,
          3450,
          4400,
          3600,
          3400,
          2900,
          3800,
          3300,
          4150,
          3400,
          3800,
          3700,
          4550,
          3200,
          4300,
          3350,
          4100,
          3600,
          3900,
          3850,
          4800,
          2700,
          4500,
          3950,
          3650,
          3550,
          3500,
          3675,
          4450,
          3400,
          4300,
          3250,
          3675,
          3325,
          3950,
          3600,
          4050,
          3350,
          3450,
          3250,
          4050,
          3800,
          3525,
          3950,
          3650,
          3650,
          4000,
          3400,
          3775,
          4100,
          3775
         ],
         "yaxis": "y"
        },
        {
         "box": {
          "visible": true
         },
         "line": {
          "color": "teal"
         },
         "meanline": {
          "visible": true
         },
         "name": "Gentoo penguin (Pygoscelis papua)",
         "points": "all",
         "type": "violin",
         "x": [
          "Gentoo penguin (Pygoscelis papua)",
          "Gentoo penguin (Pygoscelis papua)",
          "Gentoo penguin (Pygoscelis papua)",
          "Gentoo penguin (Pygoscelis papua)",
          "Gentoo penguin (Pygoscelis papua)",
          "Gentoo penguin (Pygoscelis papua)",
          "Gentoo penguin (Pygoscelis papua)",
          "Gentoo penguin (Pygoscelis papua)",
          "Gentoo penguin (Pygoscelis papua)",
          "Gentoo penguin (Pygoscelis papua)",
          "Gentoo penguin (Pygoscelis papua)",
          "Gentoo penguin (Pygoscelis papua)",
          "Gentoo penguin (Pygoscelis papua)",
          "Gentoo penguin (Pygoscelis papua)",
          "Gentoo penguin (Pygoscelis papua)",
          "Gentoo penguin (Pygoscelis papua)",
          "Gentoo penguin (Pygoscelis papua)",
          "Gentoo penguin (Pygoscelis papua)",
          "Gentoo penguin (Pygoscelis papua)",
          "Gentoo penguin (Pygoscelis papua)",
          "Gentoo penguin (Pygoscelis papua)",
          "Gentoo penguin (Pygoscelis papua)",
          "Gentoo penguin (Pygoscelis papua)",
          "Gentoo penguin (Pygoscelis papua)",
          "Gentoo penguin (Pygoscelis papua)",
          "Gentoo penguin (Pygoscelis papua)",
          "Gentoo penguin (Pygoscelis papua)",
          "Gentoo penguin (Pygoscelis papua)",
          "Gentoo penguin (Pygoscelis papua)",
          "Gentoo penguin (Pygoscelis papua)",
          "Gentoo penguin (Pygoscelis papua)",
          "Gentoo penguin (Pygoscelis papua)",
          "Gentoo penguin (Pygoscelis papua)",
          "Gentoo penguin (Pygoscelis papua)",
          "Gentoo penguin (Pygoscelis papua)",
          "Gentoo penguin (Pygoscelis papua)",
          "Gentoo penguin (Pygoscelis papua)",
          "Gentoo penguin (Pygoscelis papua)",
          "Gentoo penguin (Pygoscelis papua)",
          "Gentoo penguin (Pygoscelis papua)",
          "Gentoo penguin (Pygoscelis papua)",
          "Gentoo penguin (Pygoscelis papua)",
          "Gentoo penguin (Pygoscelis papua)",
          "Gentoo penguin (Pygoscelis papua)",
          "Gentoo penguin (Pygoscelis papua)",
          "Gentoo penguin (Pygoscelis papua)",
          "Gentoo penguin (Pygoscelis papua)",
          "Gentoo penguin (Pygoscelis papua)",
          "Gentoo penguin (Pygoscelis papua)",
          "Gentoo penguin (Pygoscelis papua)",
          "Gentoo penguin (Pygoscelis papua)",
          "Gentoo penguin (Pygoscelis papua)",
          "Gentoo penguin (Pygoscelis papua)",
          "Gentoo penguin (Pygoscelis papua)",
          "Gentoo penguin (Pygoscelis papua)",
          "Gentoo penguin (Pygoscelis papua)",
          "Gentoo penguin (Pygoscelis papua)",
          "Gentoo penguin (Pygoscelis papua)",
          "Gentoo penguin (Pygoscelis papua)",
          "Gentoo penguin (Pygoscelis papua)",
          "Gentoo penguin (Pygoscelis papua)",
          "Gentoo penguin (Pygoscelis papua)",
          "Gentoo penguin (Pygoscelis papua)",
          "Gentoo penguin (Pygoscelis papua)",
          "Gentoo penguin (Pygoscelis papua)",
          "Gentoo penguin (Pygoscelis papua)",
          "Gentoo penguin (Pygoscelis papua)",
          "Gentoo penguin (Pygoscelis papua)",
          "Gentoo penguin (Pygoscelis papua)",
          "Gentoo penguin (Pygoscelis papua)",
          "Gentoo penguin (Pygoscelis papua)",
          "Gentoo penguin (Pygoscelis papua)",
          "Gentoo penguin (Pygoscelis papua)",
          "Gentoo penguin (Pygoscelis papua)",
          "Gentoo penguin (Pygoscelis papua)",
          "Gentoo penguin (Pygoscelis papua)",
          "Gentoo penguin (Pygoscelis papua)",
          "Gentoo penguin (Pygoscelis papua)",
          "Gentoo penguin (Pygoscelis papua)",
          "Gentoo penguin (Pygoscelis papua)",
          "Gentoo penguin (Pygoscelis papua)",
          "Gentoo penguin (Pygoscelis papua)",
          "Gentoo penguin (Pygoscelis papua)",
          "Gentoo penguin (Pygoscelis papua)",
          "Gentoo penguin (Pygoscelis papua)",
          "Gentoo penguin (Pygoscelis papua)",
          "Gentoo penguin (Pygoscelis papua)",
          "Gentoo penguin (Pygoscelis papua)",
          "Gentoo penguin (Pygoscelis papua)",
          "Gentoo penguin (Pygoscelis papua)",
          "Gentoo penguin (Pygoscelis papua)",
          "Gentoo penguin (Pygoscelis papua)",
          "Gentoo penguin (Pygoscelis papua)",
          "Gentoo penguin (Pygoscelis papua)",
          "Gentoo penguin (Pygoscelis papua)",
          "Gentoo penguin (Pygoscelis papua)",
          "Gentoo penguin (Pygoscelis papua)",
          "Gentoo penguin (Pygoscelis papua)",
          "Gentoo penguin (Pygoscelis papua)",
          "Gentoo penguin (Pygoscelis papua)",
          "Gentoo penguin (Pygoscelis papua)",
          "Gentoo penguin (Pygoscelis papua)",
          "Gentoo penguin (Pygoscelis papua)",
          "Gentoo penguin (Pygoscelis papua)",
          "Gentoo penguin (Pygoscelis papua)",
          "Gentoo penguin (Pygoscelis papua)",
          "Gentoo penguin (Pygoscelis papua)",
          "Gentoo penguin (Pygoscelis papua)",
          "Gentoo penguin (Pygoscelis papua)",
          "Gentoo penguin (Pygoscelis papua)",
          "Gentoo penguin (Pygoscelis papua)",
          "Gentoo penguin (Pygoscelis papua)",
          "Gentoo penguin (Pygoscelis papua)",
          "Gentoo penguin (Pygoscelis papua)",
          "Gentoo penguin (Pygoscelis papua)",
          "Gentoo penguin (Pygoscelis papua)",
          "Gentoo penguin (Pygoscelis papua)",
          "Gentoo penguin (Pygoscelis papua)",
          "Gentoo penguin (Pygoscelis papua)",
          "Gentoo penguin (Pygoscelis papua)",
          "Gentoo penguin (Pygoscelis papua)",
          "Gentoo penguin (Pygoscelis papua)",
          "Gentoo penguin (Pygoscelis papua)",
          "Gentoo penguin (Pygoscelis papua)"
         ],
         "xaxis": "x",
         "y": [
          4500,
          5700,
          4450,
          5700,
          5400,
          4550,
          4800,
          5200,
          4400,
          5150,
          4650,
          5550,
          4650,
          5850,
          4200,
          5850,
          4150,
          6300,
          4800,
          5350,
          5700,
          5000,
          4400,
          5050,
          5000,
          5100,
          4100,
          5650,
          4600,
          5550,
          5250,
          4700,
          5050,
          6050,
          5150,
          5400,
          4950,
          5250,
          4350,
          5350,
          3950,
          5700,
          4300,
          4750,
          5550,
          4900,
          4200,
          5400,
          5100,
          5300,
          4850,
          5300,
          4400,
          5000,
          4900,
          5050,
          4300,
          5000,
          4450,
          5550,
          4200,
          5300,
          4400,
          5650,
          4700,
          5700,
          4650,
          5800,
          4700,
          5550,
          4750,
          5000,
          5100,
          5200,
          4700,
          5800,
          4600,
          6000,
          4750,
          5950,
          4625,
          5450,
          4725,
          5350,
          4750,
          5600,
          4600,
          5300,
          4875,
          5550,
          4950,
          5400,
          4750,
          5650,
          4850,
          5200,
          4925,
          4875,
          4625,
          5250,
          4850,
          5600,
          4975,
          5500,
          4725,
          5500,
          4700,
          5500,
          4575,
          5500,
          5000,
          5950,
          4650,
          5500,
          4375,
          5850,
          4875,
          6000,
          4925,
          4050,
          4850,
          5750,
          5200,
          5400
         ],
         "yaxis": "y"
        },
        {
         "box": {
          "visible": true
         },
         "line": {
          "color": "darkorange"
         },
         "meanline": {
          "visible": true
         },
         "points": "all",
         "type": "violin",
         "x": [
          "Adelie Penguin (Pygoscelis adeliae)",
          "Adelie Penguin (Pygoscelis adeliae)",
          "Adelie Penguin (Pygoscelis adeliae)",
          "Adelie Penguin (Pygoscelis adeliae)",
          "Adelie Penguin (Pygoscelis adeliae)",
          "Adelie Penguin (Pygoscelis adeliae)",
          "Adelie Penguin (Pygoscelis adeliae)",
          "Adelie Penguin (Pygoscelis adeliae)",
          "Adelie Penguin (Pygoscelis adeliae)",
          "Adelie Penguin (Pygoscelis adeliae)",
          "Adelie Penguin (Pygoscelis adeliae)",
          "Adelie Penguin (Pygoscelis adeliae)",
          "Adelie Penguin (Pygoscelis adeliae)",
          "Adelie Penguin (Pygoscelis adeliae)",
          "Adelie Penguin (Pygoscelis adeliae)",
          "Adelie Penguin (Pygoscelis adeliae)",
          "Adelie Penguin (Pygoscelis adeliae)",
          "Adelie Penguin (Pygoscelis adeliae)",
          "Adelie Penguin (Pygoscelis adeliae)",
          "Adelie Penguin (Pygoscelis adeliae)",
          "Adelie Penguin (Pygoscelis adeliae)",
          "Adelie Penguin (Pygoscelis adeliae)",
          "Adelie Penguin (Pygoscelis adeliae)",
          "Adelie Penguin (Pygoscelis adeliae)",
          "Adelie Penguin (Pygoscelis adeliae)",
          "Adelie Penguin (Pygoscelis adeliae)",
          "Adelie Penguin (Pygoscelis adeliae)",
          "Adelie Penguin (Pygoscelis adeliae)",
          "Adelie Penguin (Pygoscelis adeliae)",
          "Adelie Penguin (Pygoscelis adeliae)",
          "Adelie Penguin (Pygoscelis adeliae)",
          "Adelie Penguin (Pygoscelis adeliae)",
          "Adelie Penguin (Pygoscelis adeliae)",
          "Adelie Penguin (Pygoscelis adeliae)",
          "Adelie Penguin (Pygoscelis adeliae)",
          "Adelie Penguin (Pygoscelis adeliae)",
          "Adelie Penguin (Pygoscelis adeliae)",
          "Adelie Penguin (Pygoscelis adeliae)",
          "Adelie Penguin (Pygoscelis adeliae)",
          "Adelie Penguin (Pygoscelis adeliae)",
          "Adelie Penguin (Pygoscelis adeliae)",
          "Adelie Penguin (Pygoscelis adeliae)",
          "Adelie Penguin (Pygoscelis adeliae)",
          "Adelie Penguin (Pygoscelis adeliae)",
          "Adelie Penguin (Pygoscelis adeliae)",
          "Adelie Penguin (Pygoscelis adeliae)",
          "Adelie Penguin (Pygoscelis adeliae)",
          "Adelie Penguin (Pygoscelis adeliae)",
          "Adelie Penguin (Pygoscelis adeliae)",
          "Adelie Penguin (Pygoscelis adeliae)",
          "Adelie Penguin (Pygoscelis adeliae)",
          "Adelie Penguin (Pygoscelis adeliae)",
          "Adelie Penguin (Pygoscelis adeliae)",
          "Adelie Penguin (Pygoscelis adeliae)",
          "Adelie Penguin (Pygoscelis adeliae)",
          "Adelie Penguin (Pygoscelis adeliae)",
          "Adelie Penguin (Pygoscelis adeliae)",
          "Adelie Penguin (Pygoscelis adeliae)",
          "Adelie Penguin (Pygoscelis adeliae)",
          "Adelie Penguin (Pygoscelis adeliae)",
          "Adelie Penguin (Pygoscelis adeliae)",
          "Adelie Penguin (Pygoscelis adeliae)",
          "Adelie Penguin (Pygoscelis adeliae)",
          "Adelie Penguin (Pygoscelis adeliae)",
          "Adelie Penguin (Pygoscelis adeliae)",
          "Adelie Penguin (Pygoscelis adeliae)",
          "Adelie Penguin (Pygoscelis adeliae)",
          "Adelie Penguin (Pygoscelis adeliae)",
          "Adelie Penguin (Pygoscelis adeliae)",
          "Adelie Penguin (Pygoscelis adeliae)",
          "Adelie Penguin (Pygoscelis adeliae)",
          "Adelie Penguin (Pygoscelis adeliae)",
          "Adelie Penguin (Pygoscelis adeliae)",
          "Adelie Penguin (Pygoscelis adeliae)",
          "Adelie Penguin (Pygoscelis adeliae)",
          "Adelie Penguin (Pygoscelis adeliae)",
          "Adelie Penguin (Pygoscelis adeliae)",
          "Adelie Penguin (Pygoscelis adeliae)",
          "Adelie Penguin (Pygoscelis adeliae)",
          "Adelie Penguin (Pygoscelis adeliae)",
          "Adelie Penguin (Pygoscelis adeliae)",
          "Adelie Penguin (Pygoscelis adeliae)",
          "Adelie Penguin (Pygoscelis adeliae)",
          "Adelie Penguin (Pygoscelis adeliae)",
          "Adelie Penguin (Pygoscelis adeliae)",
          "Adelie Penguin (Pygoscelis adeliae)",
          "Adelie Penguin (Pygoscelis adeliae)",
          "Adelie Penguin (Pygoscelis adeliae)",
          "Adelie Penguin (Pygoscelis adeliae)",
          "Adelie Penguin (Pygoscelis adeliae)",
          "Adelie Penguin (Pygoscelis adeliae)",
          "Adelie Penguin (Pygoscelis adeliae)",
          "Adelie Penguin (Pygoscelis adeliae)",
          "Adelie Penguin (Pygoscelis adeliae)",
          "Adelie Penguin (Pygoscelis adeliae)",
          "Adelie Penguin (Pygoscelis adeliae)",
          "Adelie Penguin (Pygoscelis adeliae)",
          "Adelie Penguin (Pygoscelis adeliae)",
          "Adelie Penguin (Pygoscelis adeliae)",
          "Adelie Penguin (Pygoscelis adeliae)",
          "Adelie Penguin (Pygoscelis adeliae)",
          "Adelie Penguin (Pygoscelis adeliae)",
          "Adelie Penguin (Pygoscelis adeliae)",
          "Adelie Penguin (Pygoscelis adeliae)",
          "Adelie Penguin (Pygoscelis adeliae)",
          "Adelie Penguin (Pygoscelis adeliae)",
          "Adelie Penguin (Pygoscelis adeliae)",
          "Adelie Penguin (Pygoscelis adeliae)",
          "Adelie Penguin (Pygoscelis adeliae)",
          "Adelie Penguin (Pygoscelis adeliae)",
          "Adelie Penguin (Pygoscelis adeliae)",
          "Adelie Penguin (Pygoscelis adeliae)",
          "Adelie Penguin (Pygoscelis adeliae)",
          "Adelie Penguin (Pygoscelis adeliae)",
          "Adelie Penguin (Pygoscelis adeliae)",
          "Adelie Penguin (Pygoscelis adeliae)",
          "Adelie Penguin (Pygoscelis adeliae)",
          "Adelie Penguin (Pygoscelis adeliae)",
          "Adelie Penguin (Pygoscelis adeliae)",
          "Adelie Penguin (Pygoscelis adeliae)",
          "Adelie Penguin (Pygoscelis adeliae)",
          "Adelie Penguin (Pygoscelis adeliae)",
          "Adelie Penguin (Pygoscelis adeliae)",
          "Adelie Penguin (Pygoscelis adeliae)",
          "Adelie Penguin (Pygoscelis adeliae)",
          "Adelie Penguin (Pygoscelis adeliae)",
          "Adelie Penguin (Pygoscelis adeliae)",
          "Adelie Penguin (Pygoscelis adeliae)",
          "Adelie Penguin (Pygoscelis adeliae)",
          "Adelie Penguin (Pygoscelis adeliae)",
          "Adelie Penguin (Pygoscelis adeliae)",
          "Adelie Penguin (Pygoscelis adeliae)",
          "Adelie Penguin (Pygoscelis adeliae)",
          "Adelie Penguin (Pygoscelis adeliae)",
          "Adelie Penguin (Pygoscelis adeliae)",
          "Adelie Penguin (Pygoscelis adeliae)",
          "Adelie Penguin (Pygoscelis adeliae)",
          "Adelie Penguin (Pygoscelis adeliae)",
          "Adelie Penguin (Pygoscelis adeliae)",
          "Adelie Penguin (Pygoscelis adeliae)",
          "Adelie Penguin (Pygoscelis adeliae)",
          "Adelie Penguin (Pygoscelis adeliae)",
          "Adelie Penguin (Pygoscelis adeliae)",
          "Adelie Penguin (Pygoscelis adeliae)",
          "Adelie Penguin (Pygoscelis adeliae)",
          "Adelie Penguin (Pygoscelis adeliae)",
          "Adelie Penguin (Pygoscelis adeliae)",
          "Adelie Penguin (Pygoscelis adeliae)",
          "Adelie Penguin (Pygoscelis adeliae)",
          "Adelie Penguin (Pygoscelis adeliae)",
          "Adelie Penguin (Pygoscelis adeliae)",
          "Adelie Penguin (Pygoscelis adeliae)"
         ],
         "xaxis": "x2",
         "y": [
          181,
          186,
          195,
          197,
          193,
          190,
          181,
          195,
          193,
          190,
          186,
          180,
          182,
          191,
          198,
          185,
          195,
          197,
          184,
          194,
          174,
          180,
          189,
          185,
          180,
          187,
          183,
          187,
          172,
          180,
          178,
          178,
          188,
          184,
          195,
          196,
          190,
          180,
          181,
          184,
          182,
          195,
          186,
          196,
          185,
          190,
          182,
          179,
          190,
          191,
          186,
          188,
          190,
          200,
          187,
          191,
          186,
          193,
          181,
          194,
          185,
          195,
          185,
          192,
          184,
          192,
          195,
          188,
          190,
          198,
          190,
          190,
          196,
          197,
          190,
          195,
          191,
          184,
          187,
          195,
          189,
          196,
          187,
          193,
          191,
          194,
          190,
          189,
          189,
          190,
          202,
          205,
          185,
          186,
          187,
          208,
          190,
          196,
          178,
          192,
          192,
          203,
          183,
          190,
          193,
          184,
          199,
          190,
          181,
          197,
          198,
          191,
          193,
          197,
          191,
          196,
          188,
          199,
          189,
          189,
          187,
          198,
          176,
          202,
          186,
          199,
          191,
          195,
          191,
          210,
          190,
          197,
          193,
          199,
          187,
          190,
          191,
          200,
          185,
          193,
          193,
          187,
          188,
          190,
          192,
          185,
          190,
          184,
          195,
          193,
          187,
          201
         ],
         "yaxis": "y2"
        },
        {
         "box": {
          "visible": true
         },
         "line": {
          "color": "mediumorchid"
         },
         "meanline": {
          "visible": true
         },
         "points": "all",
         "type": "violin",
         "x": [
          "Chinstrap penguin (Pygoscelis antarctica)",
          "Chinstrap penguin (Pygoscelis antarctica)",
          "Chinstrap penguin (Pygoscelis antarctica)",
          "Chinstrap penguin (Pygoscelis antarctica)",
          "Chinstrap penguin (Pygoscelis antarctica)",
          "Chinstrap penguin (Pygoscelis antarctica)",
          "Chinstrap penguin (Pygoscelis antarctica)",
          "Chinstrap penguin (Pygoscelis antarctica)",
          "Chinstrap penguin (Pygoscelis antarctica)",
          "Chinstrap penguin (Pygoscelis antarctica)",
          "Chinstrap penguin (Pygoscelis antarctica)",
          "Chinstrap penguin (Pygoscelis antarctica)",
          "Chinstrap penguin (Pygoscelis antarctica)",
          "Chinstrap penguin (Pygoscelis antarctica)",
          "Chinstrap penguin (Pygoscelis antarctica)",
          "Chinstrap penguin (Pygoscelis antarctica)",
          "Chinstrap penguin (Pygoscelis antarctica)",
          "Chinstrap penguin (Pygoscelis antarctica)",
          "Chinstrap penguin (Pygoscelis antarctica)",
          "Chinstrap penguin (Pygoscelis antarctica)",
          "Chinstrap penguin (Pygoscelis antarctica)",
          "Chinstrap penguin (Pygoscelis antarctica)",
          "Chinstrap penguin (Pygoscelis antarctica)",
          "Chinstrap penguin (Pygoscelis antarctica)",
          "Chinstrap penguin (Pygoscelis antarctica)",
          "Chinstrap penguin (Pygoscelis antarctica)",
          "Chinstrap penguin (Pygoscelis antarctica)",
          "Chinstrap penguin (Pygoscelis antarctica)",
          "Chinstrap penguin (Pygoscelis antarctica)",
          "Chinstrap penguin (Pygoscelis antarctica)",
          "Chinstrap penguin (Pygoscelis antarctica)",
          "Chinstrap penguin (Pygoscelis antarctica)",
          "Chinstrap penguin (Pygoscelis antarctica)",
          "Chinstrap penguin (Pygoscelis antarctica)",
          "Chinstrap penguin (Pygoscelis antarctica)",
          "Chinstrap penguin (Pygoscelis antarctica)",
          "Chinstrap penguin (Pygoscelis antarctica)",
          "Chinstrap penguin (Pygoscelis antarctica)",
          "Chinstrap penguin (Pygoscelis antarctica)",
          "Chinstrap penguin (Pygoscelis antarctica)",
          "Chinstrap penguin (Pygoscelis antarctica)",
          "Chinstrap penguin (Pygoscelis antarctica)",
          "Chinstrap penguin (Pygoscelis antarctica)",
          "Chinstrap penguin (Pygoscelis antarctica)",
          "Chinstrap penguin (Pygoscelis antarctica)",
          "Chinstrap penguin (Pygoscelis antarctica)",
          "Chinstrap penguin (Pygoscelis antarctica)",
          "Chinstrap penguin (Pygoscelis antarctica)",
          "Chinstrap penguin (Pygoscelis antarctica)",
          "Chinstrap penguin (Pygoscelis antarctica)",
          "Chinstrap penguin (Pygoscelis antarctica)",
          "Chinstrap penguin (Pygoscelis antarctica)",
          "Chinstrap penguin (Pygoscelis antarctica)",
          "Chinstrap penguin (Pygoscelis antarctica)",
          "Chinstrap penguin (Pygoscelis antarctica)",
          "Chinstrap penguin (Pygoscelis antarctica)",
          "Chinstrap penguin (Pygoscelis antarctica)",
          "Chinstrap penguin (Pygoscelis antarctica)",
          "Chinstrap penguin (Pygoscelis antarctica)",
          "Chinstrap penguin (Pygoscelis antarctica)",
          "Chinstrap penguin (Pygoscelis antarctica)",
          "Chinstrap penguin (Pygoscelis antarctica)",
          "Chinstrap penguin (Pygoscelis antarctica)",
          "Chinstrap penguin (Pygoscelis antarctica)",
          "Chinstrap penguin (Pygoscelis antarctica)",
          "Chinstrap penguin (Pygoscelis antarctica)",
          "Chinstrap penguin (Pygoscelis antarctica)",
          "Chinstrap penguin (Pygoscelis antarctica)"
         ],
         "xaxis": "x2",
         "y": [
          192,
          196,
          193,
          188,
          197,
          198,
          178,
          197,
          195,
          198,
          193,
          194,
          185,
          201,
          190,
          201,
          197,
          181,
          190,
          195,
          181,
          191,
          187,
          193,
          195,
          197,
          200,
          200,
          191,
          205,
          187,
          201,
          187,
          203,
          195,
          199,
          195,
          210,
          192,
          205,
          210,
          187,
          196,
          196,
          196,
          201,
          190,
          212,
          187,
          198,
          199,
          201,
          193,
          203,
          187,
          197,
          191,
          203,
          202,
          194,
          206,
          189,
          195,
          207,
          202,
          193,
          210,
          198
         ],
         "yaxis": "y2"
        },
        {
         "box": {
          "visible": true
         },
         "line": {
          "color": "teal"
         },
         "meanline": {
          "visible": true
         },
         "points": "all",
         "type": "violin",
         "x": [
          "Gentoo penguin (Pygoscelis papua)",
          "Gentoo penguin (Pygoscelis papua)",
          "Gentoo penguin (Pygoscelis papua)",
          "Gentoo penguin (Pygoscelis papua)",
          "Gentoo penguin (Pygoscelis papua)",
          "Gentoo penguin (Pygoscelis papua)",
          "Gentoo penguin (Pygoscelis papua)",
          "Gentoo penguin (Pygoscelis papua)",
          "Gentoo penguin (Pygoscelis papua)",
          "Gentoo penguin (Pygoscelis papua)",
          "Gentoo penguin (Pygoscelis papua)",
          "Gentoo penguin (Pygoscelis papua)",
          "Gentoo penguin (Pygoscelis papua)",
          "Gentoo penguin (Pygoscelis papua)",
          "Gentoo penguin (Pygoscelis papua)",
          "Gentoo penguin (Pygoscelis papua)",
          "Gentoo penguin (Pygoscelis papua)",
          "Gentoo penguin (Pygoscelis papua)",
          "Gentoo penguin (Pygoscelis papua)",
          "Gentoo penguin (Pygoscelis papua)",
          "Gentoo penguin (Pygoscelis papua)",
          "Gentoo penguin (Pygoscelis papua)",
          "Gentoo penguin (Pygoscelis papua)",
          "Gentoo penguin (Pygoscelis papua)",
          "Gentoo penguin (Pygoscelis papua)",
          "Gentoo penguin (Pygoscelis papua)",
          "Gentoo penguin (Pygoscelis papua)",
          "Gentoo penguin (Pygoscelis papua)",
          "Gentoo penguin (Pygoscelis papua)",
          "Gentoo penguin (Pygoscelis papua)",
          "Gentoo penguin (Pygoscelis papua)",
          "Gentoo penguin (Pygoscelis papua)",
          "Gentoo penguin (Pygoscelis papua)",
          "Gentoo penguin (Pygoscelis papua)",
          "Gentoo penguin (Pygoscelis papua)",
          "Gentoo penguin (Pygoscelis papua)",
          "Gentoo penguin (Pygoscelis papua)",
          "Gentoo penguin (Pygoscelis papua)",
          "Gentoo penguin (Pygoscelis papua)",
          "Gentoo penguin (Pygoscelis papua)",
          "Gentoo penguin (Pygoscelis papua)",
          "Gentoo penguin (Pygoscelis papua)",
          "Gentoo penguin (Pygoscelis papua)",
          "Gentoo penguin (Pygoscelis papua)",
          "Gentoo penguin (Pygoscelis papua)",
          "Gentoo penguin (Pygoscelis papua)",
          "Gentoo penguin (Pygoscelis papua)",
          "Gentoo penguin (Pygoscelis papua)",
          "Gentoo penguin (Pygoscelis papua)",
          "Gentoo penguin (Pygoscelis papua)",
          "Gentoo penguin (Pygoscelis papua)",
          "Gentoo penguin (Pygoscelis papua)",
          "Gentoo penguin (Pygoscelis papua)",
          "Gentoo penguin (Pygoscelis papua)",
          "Gentoo penguin (Pygoscelis papua)",
          "Gentoo penguin (Pygoscelis papua)",
          "Gentoo penguin (Pygoscelis papua)",
          "Gentoo penguin (Pygoscelis papua)",
          "Gentoo penguin (Pygoscelis papua)",
          "Gentoo penguin (Pygoscelis papua)",
          "Gentoo penguin (Pygoscelis papua)",
          "Gentoo penguin (Pygoscelis papua)",
          "Gentoo penguin (Pygoscelis papua)",
          "Gentoo penguin (Pygoscelis papua)",
          "Gentoo penguin (Pygoscelis papua)",
          "Gentoo penguin (Pygoscelis papua)",
          "Gentoo penguin (Pygoscelis papua)",
          "Gentoo penguin (Pygoscelis papua)",
          "Gentoo penguin (Pygoscelis papua)",
          "Gentoo penguin (Pygoscelis papua)",
          "Gentoo penguin (Pygoscelis papua)",
          "Gentoo penguin (Pygoscelis papua)",
          "Gentoo penguin (Pygoscelis papua)",
          "Gentoo penguin (Pygoscelis papua)",
          "Gentoo penguin (Pygoscelis papua)",
          "Gentoo penguin (Pygoscelis papua)",
          "Gentoo penguin (Pygoscelis papua)",
          "Gentoo penguin (Pygoscelis papua)",
          "Gentoo penguin (Pygoscelis papua)",
          "Gentoo penguin (Pygoscelis papua)",
          "Gentoo penguin (Pygoscelis papua)",
          "Gentoo penguin (Pygoscelis papua)",
          "Gentoo penguin (Pygoscelis papua)",
          "Gentoo penguin (Pygoscelis papua)",
          "Gentoo penguin (Pygoscelis papua)",
          "Gentoo penguin (Pygoscelis papua)",
          "Gentoo penguin (Pygoscelis papua)",
          "Gentoo penguin (Pygoscelis papua)",
          "Gentoo penguin (Pygoscelis papua)",
          "Gentoo penguin (Pygoscelis papua)",
          "Gentoo penguin (Pygoscelis papua)",
          "Gentoo penguin (Pygoscelis papua)",
          "Gentoo penguin (Pygoscelis papua)",
          "Gentoo penguin (Pygoscelis papua)",
          "Gentoo penguin (Pygoscelis papua)",
          "Gentoo penguin (Pygoscelis papua)",
          "Gentoo penguin (Pygoscelis papua)",
          "Gentoo penguin (Pygoscelis papua)",
          "Gentoo penguin (Pygoscelis papua)",
          "Gentoo penguin (Pygoscelis papua)",
          "Gentoo penguin (Pygoscelis papua)",
          "Gentoo penguin (Pygoscelis papua)",
          "Gentoo penguin (Pygoscelis papua)",
          "Gentoo penguin (Pygoscelis papua)",
          "Gentoo penguin (Pygoscelis papua)",
          "Gentoo penguin (Pygoscelis papua)",
          "Gentoo penguin (Pygoscelis papua)",
          "Gentoo penguin (Pygoscelis papua)",
          "Gentoo penguin (Pygoscelis papua)",
          "Gentoo penguin (Pygoscelis papua)",
          "Gentoo penguin (Pygoscelis papua)",
          "Gentoo penguin (Pygoscelis papua)",
          "Gentoo penguin (Pygoscelis papua)",
          "Gentoo penguin (Pygoscelis papua)",
          "Gentoo penguin (Pygoscelis papua)",
          "Gentoo penguin (Pygoscelis papua)",
          "Gentoo penguin (Pygoscelis papua)",
          "Gentoo penguin (Pygoscelis papua)",
          "Gentoo penguin (Pygoscelis papua)",
          "Gentoo penguin (Pygoscelis papua)",
          "Gentoo penguin (Pygoscelis papua)",
          "Gentoo penguin (Pygoscelis papua)",
          "Gentoo penguin (Pygoscelis papua)",
          "Gentoo penguin (Pygoscelis papua)"
         ],
         "xaxis": "x2",
         "y": [
          211,
          230,
          210,
          218,
          215,
          210,
          211,
          219,
          209,
          215,
          214,
          216,
          214,
          213,
          210,
          217,
          210,
          221,
          209,
          222,
          218,
          215,
          213,
          215,
          215,
          215,
          216,
          215,
          210,
          220,
          222,
          209,
          207,
          230,
          220,
          220,
          213,
          219,
          208,
          208,
          208,
          225,
          210,
          216,
          222,
          217,
          210,
          225,
          213,
          215,
          210,
          220,
          210,
          225,
          217,
          220,
          208,
          220,
          208,
          224,
          208,
          221,
          214,
          231,
          219,
          230,
          214,
          229,
          220,
          223,
          216,
          221,
          221,
          217,
          216,
          230,
          209,
          220,
          215,
          223,
          212,
          221,
          212,
          224,
          212,
          228,
          218,
          218,
          212,
          230,
          218,
          228,
          212,
          224,
          214,
          226,
          216,
          222,
          203,
          225,
          219,
          228,
          215,
          228,
          216,
          215,
          210,
          219,
          208,
          209,
          216,
          229,
          213,
          230,
          217,
          230,
          217,
          222,
          214,
          197,
          215,
          222,
          212,
          213
         ],
         "yaxis": "y2"
        }
       ],
       "layout": {
        "annotations": [
         {
          "font": {
           "size": 16
          },
          "showarrow": false,
          "text": "Body Mass (g)",
          "x": 0.5,
          "xanchor": "center",
          "xref": "paper",
          "y": 1,
          "yanchor": "bottom",
          "yref": "paper"
         },
         {
          "font": {
           "size": 16
          },
          "showarrow": false,
          "text": "Flipper Length (mm)",
          "x": 0.5,
          "xanchor": "center",
          "xref": "paper",
          "y": 0.375,
          "yanchor": "bottom",
          "yref": "paper"
         }
        ],
        "height": 800,
        "showlegend": false,
        "template": {
         "data": {
          "bar": [
           {
            "error_x": {
             "color": "#2a3f5f"
            },
            "error_y": {
             "color": "#2a3f5f"
            },
            "marker": {
             "line": {
              "color": "#E5ECF6",
              "width": 0.5
             },
             "pattern": {
              "fillmode": "overlay",
              "size": 10,
              "solidity": 0.2
             }
            },
            "type": "bar"
           }
          ],
          "barpolar": [
           {
            "marker": {
             "line": {
              "color": "#E5ECF6",
              "width": 0.5
             },
             "pattern": {
              "fillmode": "overlay",
              "size": 10,
              "solidity": 0.2
             }
            },
            "type": "barpolar"
           }
          ],
          "carpet": [
           {
            "aaxis": {
             "endlinecolor": "#2a3f5f",
             "gridcolor": "white",
             "linecolor": "white",
             "minorgridcolor": "white",
             "startlinecolor": "#2a3f5f"
            },
            "baxis": {
             "endlinecolor": "#2a3f5f",
             "gridcolor": "white",
             "linecolor": "white",
             "minorgridcolor": "white",
             "startlinecolor": "#2a3f5f"
            },
            "type": "carpet"
           }
          ],
          "choropleth": [
           {
            "colorbar": {
             "outlinewidth": 0,
             "ticks": ""
            },
            "type": "choropleth"
           }
          ],
          "contour": [
           {
            "colorbar": {
             "outlinewidth": 0,
             "ticks": ""
            },
            "colorscale": [
             [
              0,
              "#0d0887"
             ],
             [
              0.1111111111111111,
              "#46039f"
             ],
             [
              0.2222222222222222,
              "#7201a8"
             ],
             [
              0.3333333333333333,
              "#9c179e"
             ],
             [
              0.4444444444444444,
              "#bd3786"
             ],
             [
              0.5555555555555556,
              "#d8576b"
             ],
             [
              0.6666666666666666,
              "#ed7953"
             ],
             [
              0.7777777777777778,
              "#fb9f3a"
             ],
             [
              0.8888888888888888,
              "#fdca26"
             ],
             [
              1,
              "#f0f921"
             ]
            ],
            "type": "contour"
           }
          ],
          "contourcarpet": [
           {
            "colorbar": {
             "outlinewidth": 0,
             "ticks": ""
            },
            "type": "contourcarpet"
           }
          ],
          "heatmap": [
           {
            "colorbar": {
             "outlinewidth": 0,
             "ticks": ""
            },
            "colorscale": [
             [
              0,
              "#0d0887"
             ],
             [
              0.1111111111111111,
              "#46039f"
             ],
             [
              0.2222222222222222,
              "#7201a8"
             ],
             [
              0.3333333333333333,
              "#9c179e"
             ],
             [
              0.4444444444444444,
              "#bd3786"
             ],
             [
              0.5555555555555556,
              "#d8576b"
             ],
             [
              0.6666666666666666,
              "#ed7953"
             ],
             [
              0.7777777777777778,
              "#fb9f3a"
             ],
             [
              0.8888888888888888,
              "#fdca26"
             ],
             [
              1,
              "#f0f921"
             ]
            ],
            "type": "heatmap"
           }
          ],
          "heatmapgl": [
           {
            "colorbar": {
             "outlinewidth": 0,
             "ticks": ""
            },
            "colorscale": [
             [
              0,
              "#0d0887"
             ],
             [
              0.1111111111111111,
              "#46039f"
             ],
             [
              0.2222222222222222,
              "#7201a8"
             ],
             [
              0.3333333333333333,
              "#9c179e"
             ],
             [
              0.4444444444444444,
              "#bd3786"
             ],
             [
              0.5555555555555556,
              "#d8576b"
             ],
             [
              0.6666666666666666,
              "#ed7953"
             ],
             [
              0.7777777777777778,
              "#fb9f3a"
             ],
             [
              0.8888888888888888,
              "#fdca26"
             ],
             [
              1,
              "#f0f921"
             ]
            ],
            "type": "heatmapgl"
           }
          ],
          "histogram": [
           {
            "marker": {
             "pattern": {
              "fillmode": "overlay",
              "size": 10,
              "solidity": 0.2
             }
            },
            "type": "histogram"
           }
          ],
          "histogram2d": [
           {
            "colorbar": {
             "outlinewidth": 0,
             "ticks": ""
            },
            "colorscale": [
             [
              0,
              "#0d0887"
             ],
             [
              0.1111111111111111,
              "#46039f"
             ],
             [
              0.2222222222222222,
              "#7201a8"
             ],
             [
              0.3333333333333333,
              "#9c179e"
             ],
             [
              0.4444444444444444,
              "#bd3786"
             ],
             [
              0.5555555555555556,
              "#d8576b"
             ],
             [
              0.6666666666666666,
              "#ed7953"
             ],
             [
              0.7777777777777778,
              "#fb9f3a"
             ],
             [
              0.8888888888888888,
              "#fdca26"
             ],
             [
              1,
              "#f0f921"
             ]
            ],
            "type": "histogram2d"
           }
          ],
          "histogram2dcontour": [
           {
            "colorbar": {
             "outlinewidth": 0,
             "ticks": ""
            },
            "colorscale": [
             [
              0,
              "#0d0887"
             ],
             [
              0.1111111111111111,
              "#46039f"
             ],
             [
              0.2222222222222222,
              "#7201a8"
             ],
             [
              0.3333333333333333,
              "#9c179e"
             ],
             [
              0.4444444444444444,
              "#bd3786"
             ],
             [
              0.5555555555555556,
              "#d8576b"
             ],
             [
              0.6666666666666666,
              "#ed7953"
             ],
             [
              0.7777777777777778,
              "#fb9f3a"
             ],
             [
              0.8888888888888888,
              "#fdca26"
             ],
             [
              1,
              "#f0f921"
             ]
            ],
            "type": "histogram2dcontour"
           }
          ],
          "mesh3d": [
           {
            "colorbar": {
             "outlinewidth": 0,
             "ticks": ""
            },
            "type": "mesh3d"
           }
          ],
          "parcoords": [
           {
            "line": {
             "colorbar": {
              "outlinewidth": 0,
              "ticks": ""
             }
            },
            "type": "parcoords"
           }
          ],
          "pie": [
           {
            "automargin": true,
            "type": "pie"
           }
          ],
          "scatter": [
           {
            "fillpattern": {
             "fillmode": "overlay",
             "size": 10,
             "solidity": 0.2
            },
            "type": "scatter"
           }
          ],
          "scatter3d": [
           {
            "line": {
             "colorbar": {
              "outlinewidth": 0,
              "ticks": ""
             }
            },
            "marker": {
             "colorbar": {
              "outlinewidth": 0,
              "ticks": ""
             }
            },
            "type": "scatter3d"
           }
          ],
          "scattercarpet": [
           {
            "marker": {
             "colorbar": {
              "outlinewidth": 0,
              "ticks": ""
             }
            },
            "type": "scattercarpet"
           }
          ],
          "scattergeo": [
           {
            "marker": {
             "colorbar": {
              "outlinewidth": 0,
              "ticks": ""
             }
            },
            "type": "scattergeo"
           }
          ],
          "scattergl": [
           {
            "marker": {
             "colorbar": {
              "outlinewidth": 0,
              "ticks": ""
             }
            },
            "type": "scattergl"
           }
          ],
          "scattermapbox": [
           {
            "marker": {
             "colorbar": {
              "outlinewidth": 0,
              "ticks": ""
             }
            },
            "type": "scattermapbox"
           }
          ],
          "scatterpolar": [
           {
            "marker": {
             "colorbar": {
              "outlinewidth": 0,
              "ticks": ""
             }
            },
            "type": "scatterpolar"
           }
          ],
          "scatterpolargl": [
           {
            "marker": {
             "colorbar": {
              "outlinewidth": 0,
              "ticks": ""
             }
            },
            "type": "scatterpolargl"
           }
          ],
          "scatterternary": [
           {
            "marker": {
             "colorbar": {
              "outlinewidth": 0,
              "ticks": ""
             }
            },
            "type": "scatterternary"
           }
          ],
          "surface": [
           {
            "colorbar": {
             "outlinewidth": 0,
             "ticks": ""
            },
            "colorscale": [
             [
              0,
              "#0d0887"
             ],
             [
              0.1111111111111111,
              "#46039f"
             ],
             [
              0.2222222222222222,
              "#7201a8"
             ],
             [
              0.3333333333333333,
              "#9c179e"
             ],
             [
              0.4444444444444444,
              "#bd3786"
             ],
             [
              0.5555555555555556,
              "#d8576b"
             ],
             [
              0.6666666666666666,
              "#ed7953"
             ],
             [
              0.7777777777777778,
              "#fb9f3a"
             ],
             [
              0.8888888888888888,
              "#fdca26"
             ],
             [
              1,
              "#f0f921"
             ]
            ],
            "type": "surface"
           }
          ],
          "table": [
           {
            "cells": {
             "fill": {
              "color": "#EBF0F8"
             },
             "line": {
              "color": "white"
             }
            },
            "header": {
             "fill": {
              "color": "#C8D4E3"
             },
             "line": {
              "color": "white"
             }
            },
            "type": "table"
           }
          ]
         },
         "layout": {
          "annotationdefaults": {
           "arrowcolor": "#2a3f5f",
           "arrowhead": 0,
           "arrowwidth": 1
          },
          "autotypenumbers": "strict",
          "coloraxis": {
           "colorbar": {
            "outlinewidth": 0,
            "ticks": ""
           }
          },
          "colorscale": {
           "diverging": [
            [
             0,
             "#8e0152"
            ],
            [
             0.1,
             "#c51b7d"
            ],
            [
             0.2,
             "#de77ae"
            ],
            [
             0.3,
             "#f1b6da"
            ],
            [
             0.4,
             "#fde0ef"
            ],
            [
             0.5,
             "#f7f7f7"
            ],
            [
             0.6,
             "#e6f5d0"
            ],
            [
             0.7,
             "#b8e186"
            ],
            [
             0.8,
             "#7fbc41"
            ],
            [
             0.9,
             "#4d9221"
            ],
            [
             1,
             "#276419"
            ]
           ],
           "sequential": [
            [
             0,
             "#0d0887"
            ],
            [
             0.1111111111111111,
             "#46039f"
            ],
            [
             0.2222222222222222,
             "#7201a8"
            ],
            [
             0.3333333333333333,
             "#9c179e"
            ],
            [
             0.4444444444444444,
             "#bd3786"
            ],
            [
             0.5555555555555556,
             "#d8576b"
            ],
            [
             0.6666666666666666,
             "#ed7953"
            ],
            [
             0.7777777777777778,
             "#fb9f3a"
            ],
            [
             0.8888888888888888,
             "#fdca26"
            ],
            [
             1,
             "#f0f921"
            ]
           ],
           "sequentialminus": [
            [
             0,
             "#0d0887"
            ],
            [
             0.1111111111111111,
             "#46039f"
            ],
            [
             0.2222222222222222,
             "#7201a8"
            ],
            [
             0.3333333333333333,
             "#9c179e"
            ],
            [
             0.4444444444444444,
             "#bd3786"
            ],
            [
             0.5555555555555556,
             "#d8576b"
            ],
            [
             0.6666666666666666,
             "#ed7953"
            ],
            [
             0.7777777777777778,
             "#fb9f3a"
            ],
            [
             0.8888888888888888,
             "#fdca26"
            ],
            [
             1,
             "#f0f921"
            ]
           ]
          },
          "colorway": [
           "#636efa",
           "#EF553B",
           "#00cc96",
           "#ab63fa",
           "#FFA15A",
           "#19d3f3",
           "#FF6692",
           "#B6E880",
           "#FF97FF",
           "#FECB52"
          ],
          "font": {
           "color": "#2a3f5f"
          },
          "geo": {
           "bgcolor": "white",
           "lakecolor": "white",
           "landcolor": "#E5ECF6",
           "showlakes": true,
           "showland": true,
           "subunitcolor": "white"
          },
          "hoverlabel": {
           "align": "left"
          },
          "hovermode": "closest",
          "mapbox": {
           "style": "light"
          },
          "paper_bgcolor": "white",
          "plot_bgcolor": "#E5ECF6",
          "polar": {
           "angularaxis": {
            "gridcolor": "white",
            "linecolor": "white",
            "ticks": ""
           },
           "bgcolor": "#E5ECF6",
           "radialaxis": {
            "gridcolor": "white",
            "linecolor": "white",
            "ticks": ""
           }
          },
          "scene": {
           "xaxis": {
            "backgroundcolor": "#E5ECF6",
            "gridcolor": "white",
            "gridwidth": 2,
            "linecolor": "white",
            "showbackground": true,
            "ticks": "",
            "zerolinecolor": "white"
           },
           "yaxis": {
            "backgroundcolor": "#E5ECF6",
            "gridcolor": "white",
            "gridwidth": 2,
            "linecolor": "white",
            "showbackground": true,
            "ticks": "",
            "zerolinecolor": "white"
           },
           "zaxis": {
            "backgroundcolor": "#E5ECF6",
            "gridcolor": "white",
            "gridwidth": 2,
            "linecolor": "white",
            "showbackground": true,
            "ticks": "",
            "zerolinecolor": "white"
           }
          },
          "shapedefaults": {
           "line": {
            "color": "#2a3f5f"
           }
          },
          "ternary": {
           "aaxis": {
            "gridcolor": "white",
            "linecolor": "white",
            "ticks": ""
           },
           "baxis": {
            "gridcolor": "white",
            "linecolor": "white",
            "ticks": ""
           },
           "bgcolor": "#E5ECF6",
           "caxis": {
            "gridcolor": "white",
            "linecolor": "white",
            "ticks": ""
           }
          },
          "title": {
           "x": 0.05
          },
          "xaxis": {
           "automargin": true,
           "gridcolor": "white",
           "linecolor": "white",
           "ticks": "",
           "title": {
            "standoff": 15
           },
           "zerolinecolor": "white",
           "zerolinewidth": 2
          },
          "yaxis": {
           "automargin": true,
           "gridcolor": "white",
           "linecolor": "white",
           "ticks": "",
           "title": {
            "standoff": 15
           },
           "zerolinecolor": "white",
           "zerolinewidth": 2
          }
         }
        },
        "title": {
         "text": "Violin Plots"
        },
        "xaxis": {
         "anchor": "y",
         "domain": [
          0,
          1
         ]
        },
        "xaxis2": {
         "anchor": "y2",
         "domain": [
          0,
          1
         ]
        },
        "yaxis": {
         "anchor": "x",
         "domain": [
          0.625,
          1
         ]
        },
        "yaxis2": {
         "anchor": "x2",
         "domain": [
          0,
          0.375
         ]
        }
       }
      }
     },
     "metadata": {},
     "output_type": "display_data"
    }
   ],
   "source": [
    "from plotly.subplots import make_subplots\n",
    "import plotly.graph_objects as go\n",
    "\n",
    "trace_bm = []\n",
    "color =['darkorange','mediumorchid','teal']\n",
    "for var,col in zip(df.Species.unique(),color):\n",
    "    trace = go.Violin(x = df['Species'][df['Species']==var], y =df['Body Mass (g)'][df['Species']==var],\n",
    "                    box_visible=True,\n",
    "                    meanline_visible=True,\n",
    "                    points='all',\n",
    "                    line_color=col,\n",
    "                    name=var)\n",
    "    trace_bm.append(trace)\n",
    "trace_flipper = []\n",
    "for var,col in zip(df.Species.unique(),color):\n",
    "    trace2 = go.Violin(x = df['Species'][df['Species']==var], y =df['Flipper Length (mm)'][df['Species']==var],\n",
    "             box_visible=True,\n",
    "             meanline_visible=True,\n",
    "             points='all',\n",
    "             line_color=col,\n",
    "        )\n",
    "    trace_flipper.append(trace2)\n",
    "fig = make_subplots(rows=2, cols=1, subplot_titles=(\"Body Mass (g)\",\"Flipper Length (mm)\")) \n",
    "for i in trace_bm:\n",
    "    fig.add_trace(i,row=1,col=1)\n",
    "for j in trace_flipper:    \n",
    "    fig.add_trace(j,row=2,col=1)\n",
    "fig.update_layout(showlegend = False, title = 'Violin Plots',height=800)\n",
    "fig.show()"
   ]
  },
  {
   "cell_type": "markdown",
   "metadata": {},
   "source": [
    "# 4. Correlations"
   ]
  },
  {
   "cell_type": "code",
   "execution_count": 539,
   "metadata": {},
   "outputs": [],
   "source": [
    "def correlate(x,y, column):\n",
    "    cor = x[column].corr(y[column])\n",
    "    return cor"
   ]
  },
  {
   "cell_type": "code",
   "execution_count": 543,
   "metadata": {},
   "outputs": [
    {
     "name": "stdout",
     "output_type": "stream",
     "text": [
      "nan\n"
     ]
    },
    {
     "data": {
      "text/html": [
       "<div>\n",
       "<style scoped>\n",
       "    .dataframe tbody tr th:only-of-type {\n",
       "        vertical-align: middle;\n",
       "    }\n",
       "\n",
       "    .dataframe tbody tr th {\n",
       "        vertical-align: top;\n",
       "    }\n",
       "\n",
       "    .dataframe thead th {\n",
       "        text-align: right;\n",
       "    }\n",
       "</style>\n",
       "<table border=\"1\" class=\"dataframe\">\n",
       "  <thead>\n",
       "    <tr style=\"text-align: right;\">\n",
       "      <th></th>\n",
       "      <th>Sample Number</th>\n",
       "      <th>Culmen Length (mm)</th>\n",
       "      <th>Culmen Depth (mm)</th>\n",
       "      <th>Flipper Length (mm)</th>\n",
       "      <th>Body Mass (g)</th>\n",
       "      <th>Delta 15 N (o/oo)</th>\n",
       "      <th>Delta 13 C (o/oo)</th>\n",
       "    </tr>\n",
       "  </thead>\n",
       "  <tbody>\n",
       "    <tr>\n",
       "      <th>0</th>\n",
       "      <td>1</td>\n",
       "      <td>39.10</td>\n",
       "      <td>18.7</td>\n",
       "      <td>181.0</td>\n",
       "      <td>3750.0</td>\n",
       "      <td>8.652405</td>\n",
       "      <td>-25.83352</td>\n",
       "    </tr>\n",
       "    <tr>\n",
       "      <th>1</th>\n",
       "      <td>2</td>\n",
       "      <td>39.50</td>\n",
       "      <td>17.4</td>\n",
       "      <td>186.0</td>\n",
       "      <td>3800.0</td>\n",
       "      <td>8.949560</td>\n",
       "      <td>-24.69454</td>\n",
       "    </tr>\n",
       "    <tr>\n",
       "      <th>2</th>\n",
       "      <td>3</td>\n",
       "      <td>40.30</td>\n",
       "      <td>18.0</td>\n",
       "      <td>195.0</td>\n",
       "      <td>3250.0</td>\n",
       "      <td>8.368210</td>\n",
       "      <td>-25.33302</td>\n",
       "    </tr>\n",
       "    <tr>\n",
       "      <th>3</th>\n",
       "      <td>4</td>\n",
       "      <td>44.45</td>\n",
       "      <td>17.3</td>\n",
       "      <td>197.0</td>\n",
       "      <td>4050.0</td>\n",
       "      <td>8.652405</td>\n",
       "      <td>-25.83352</td>\n",
       "    </tr>\n",
       "    <tr>\n",
       "      <th>4</th>\n",
       "      <td>5</td>\n",
       "      <td>36.70</td>\n",
       "      <td>19.3</td>\n",
       "      <td>193.0</td>\n",
       "      <td>3450.0</td>\n",
       "      <td>8.766510</td>\n",
       "      <td>-25.32426</td>\n",
       "    </tr>\n",
       "  </tbody>\n",
       "</table>\n",
       "</div>"
      ],
      "text/plain": [
       "   Sample Number  Culmen Length (mm)  Culmen Depth (mm)  Flipper Length (mm)  \\\n",
       "0              1               39.10               18.7                181.0   \n",
       "1              2               39.50               17.4                186.0   \n",
       "2              3               40.30               18.0                195.0   \n",
       "3              4               44.45               17.3                197.0   \n",
       "4              5               36.70               19.3                193.0   \n",
       "\n",
       "   Body Mass (g)  Delta 15 N (o/oo)  Delta 13 C (o/oo)  \n",
       "0         3750.0           8.652405          -25.83352  \n",
       "1         3800.0           8.949560          -24.69454  \n",
       "2         3250.0           8.368210          -25.33302  \n",
       "3         4050.0           8.652405          -25.83352  \n",
       "4         3450.0           8.766510          -25.32426  "
      ]
     },
     "execution_count": 543,
     "metadata": {},
     "output_type": "execute_result"
    }
   ],
   "source": [
    "import seaborn as sns \n",
    "import numpy as np\n",
    "\n",
    "groups = df.groupby('Species')\n",
    "\n",
    "adelie = df[df['Species'] == 'Adelie Penguin (Pygoscelis adeliae)'].select_dtypes([np.number])\n",
    "chinstrap = df[df['Species'] == 'Chinstrap penguin (Pygoscelis antarctica)'].select_dtypes([np.number])\n",
    "gentoo = df[df['Species'] == 'Gentoo penguin (Pygoscelis papua)'].select_dtypes([np.number])\n",
    "\n",
    "print(adelie['Flipper Length (mm)'].corr(chinstrap['Flipper Length (mm)']))\n",
    "adelie.head()"
   ]
  },
  {
   "cell_type": "markdown",
   "metadata": {},
   "source": [
    "# K-means Clustering"
   ]
  },
  {
   "cell_type": "markdown",
   "metadata": {},
   "source": [
    "### What is Kmeans Clustering?"
   ]
  },
  {
   "cell_type": "code",
   "execution_count": 125,
   "metadata": {},
   "outputs": [
    {
     "data": {
      "text/html": [
       "<div>\n",
       "<style scoped>\n",
       "    .dataframe tbody tr th:only-of-type {\n",
       "        vertical-align: middle;\n",
       "    }\n",
       "\n",
       "    .dataframe tbody tr th {\n",
       "        vertical-align: top;\n",
       "    }\n",
       "\n",
       "    .dataframe thead th {\n",
       "        text-align: right;\n",
       "    }\n",
       "</style>\n",
       "<table border=\"1\" class=\"dataframe\">\n",
       "  <thead>\n",
       "    <tr style=\"text-align: right;\">\n",
       "      <th></th>\n",
       "      <th>Sample Number</th>\n",
       "      <th>Culmen Length (mm)</th>\n",
       "      <th>Culmen Depth (mm)</th>\n",
       "      <th>Flipper Length (mm)</th>\n",
       "      <th>Body Mass (g)</th>\n",
       "      <th>Delta 15 N (o/oo)</th>\n",
       "      <th>Delta 13 C (o/oo)</th>\n",
       "      <th>studyName_PAL0708</th>\n",
       "      <th>studyName_PAL0809</th>\n",
       "      <th>studyName_PAL0910</th>\n",
       "      <th>...</th>\n",
       "      <th>Comments_Nest never observed with full clutch.</th>\n",
       "      <th>Comments_Nest never observed with full clutch. Not enough blood for isotopes.</th>\n",
       "      <th>Comments_No blood sample obtained for sexing.</th>\n",
       "      <th>Comments_No blood sample obtained.</th>\n",
       "      <th>Comments_No comment</th>\n",
       "      <th>Comments_Not enough blood for isotopes.</th>\n",
       "      <th>Comments_Sexing primers did not amplify. Not enough blood for isotopes.</th>\n",
       "      <th>Sex_FEMALE</th>\n",
       "      <th>Sex_MALE</th>\n",
       "      <th>Sex_Unknown</th>\n",
       "    </tr>\n",
       "  </thead>\n",
       "  <tbody>\n",
       "    <tr>\n",
       "      <th>0</th>\n",
       "      <td>1</td>\n",
       "      <td>39.10</td>\n",
       "      <td>18.7</td>\n",
       "      <td>181.0</td>\n",
       "      <td>3750.0</td>\n",
       "      <td>8.652405</td>\n",
       "      <td>-25.83352</td>\n",
       "      <td>1</td>\n",
       "      <td>0</td>\n",
       "      <td>0</td>\n",
       "      <td>...</td>\n",
       "      <td>0</td>\n",
       "      <td>0</td>\n",
       "      <td>0</td>\n",
       "      <td>0</td>\n",
       "      <td>0</td>\n",
       "      <td>1</td>\n",
       "      <td>0</td>\n",
       "      <td>0</td>\n",
       "      <td>1</td>\n",
       "      <td>0</td>\n",
       "    </tr>\n",
       "    <tr>\n",
       "      <th>1</th>\n",
       "      <td>2</td>\n",
       "      <td>39.50</td>\n",
       "      <td>17.4</td>\n",
       "      <td>186.0</td>\n",
       "      <td>3800.0</td>\n",
       "      <td>8.949560</td>\n",
       "      <td>-24.69454</td>\n",
       "      <td>1</td>\n",
       "      <td>0</td>\n",
       "      <td>0</td>\n",
       "      <td>...</td>\n",
       "      <td>0</td>\n",
       "      <td>0</td>\n",
       "      <td>0</td>\n",
       "      <td>0</td>\n",
       "      <td>1</td>\n",
       "      <td>0</td>\n",
       "      <td>0</td>\n",
       "      <td>1</td>\n",
       "      <td>0</td>\n",
       "      <td>0</td>\n",
       "    </tr>\n",
       "    <tr>\n",
       "      <th>2</th>\n",
       "      <td>3</td>\n",
       "      <td>40.30</td>\n",
       "      <td>18.0</td>\n",
       "      <td>195.0</td>\n",
       "      <td>3250.0</td>\n",
       "      <td>8.368210</td>\n",
       "      <td>-25.33302</td>\n",
       "      <td>1</td>\n",
       "      <td>0</td>\n",
       "      <td>0</td>\n",
       "      <td>...</td>\n",
       "      <td>0</td>\n",
       "      <td>0</td>\n",
       "      <td>0</td>\n",
       "      <td>0</td>\n",
       "      <td>1</td>\n",
       "      <td>0</td>\n",
       "      <td>0</td>\n",
       "      <td>1</td>\n",
       "      <td>0</td>\n",
       "      <td>0</td>\n",
       "    </tr>\n",
       "    <tr>\n",
       "      <th>3</th>\n",
       "      <td>4</td>\n",
       "      <td>44.45</td>\n",
       "      <td>17.3</td>\n",
       "      <td>197.0</td>\n",
       "      <td>4050.0</td>\n",
       "      <td>8.652405</td>\n",
       "      <td>-25.83352</td>\n",
       "      <td>1</td>\n",
       "      <td>0</td>\n",
       "      <td>0</td>\n",
       "      <td>...</td>\n",
       "      <td>0</td>\n",
       "      <td>0</td>\n",
       "      <td>0</td>\n",
       "      <td>0</td>\n",
       "      <td>0</td>\n",
       "      <td>0</td>\n",
       "      <td>0</td>\n",
       "      <td>0</td>\n",
       "      <td>0</td>\n",
       "      <td>1</td>\n",
       "    </tr>\n",
       "    <tr>\n",
       "      <th>4</th>\n",
       "      <td>5</td>\n",
       "      <td>36.70</td>\n",
       "      <td>19.3</td>\n",
       "      <td>193.0</td>\n",
       "      <td>3450.0</td>\n",
       "      <td>8.766510</td>\n",
       "      <td>-25.32426</td>\n",
       "      <td>1</td>\n",
       "      <td>0</td>\n",
       "      <td>0</td>\n",
       "      <td>...</td>\n",
       "      <td>0</td>\n",
       "      <td>0</td>\n",
       "      <td>0</td>\n",
       "      <td>0</td>\n",
       "      <td>1</td>\n",
       "      <td>0</td>\n",
       "      <td>0</td>\n",
       "      <td>1</td>\n",
       "      <td>0</td>\n",
       "      <td>0</td>\n",
       "    </tr>\n",
       "  </tbody>\n",
       "</table>\n",
       "<p>5 rows × 268 columns</p>\n",
       "</div>"
      ],
      "text/plain": [
       "   Sample Number  Culmen Length (mm)  Culmen Depth (mm)  Flipper Length (mm)  \\\n",
       "0              1               39.10               18.7                181.0   \n",
       "1              2               39.50               17.4                186.0   \n",
       "2              3               40.30               18.0                195.0   \n",
       "3              4               44.45               17.3                197.0   \n",
       "4              5               36.70               19.3                193.0   \n",
       "\n",
       "   Body Mass (g)  Delta 15 N (o/oo)  Delta 13 C (o/oo)  studyName_PAL0708  \\\n",
       "0         3750.0           8.652405          -25.83352                  1   \n",
       "1         3800.0           8.949560          -24.69454                  1   \n",
       "2         3250.0           8.368210          -25.33302                  1   \n",
       "3         4050.0           8.652405          -25.83352                  1   \n",
       "4         3450.0           8.766510          -25.32426                  1   \n",
       "\n",
       "   studyName_PAL0809  studyName_PAL0910  ...  \\\n",
       "0                  0                  0  ...   \n",
       "1                  0                  0  ...   \n",
       "2                  0                  0  ...   \n",
       "3                  0                  0  ...   \n",
       "4                  0                  0  ...   \n",
       "\n",
       "   Comments_Nest never observed with full clutch.  \\\n",
       "0                                               0   \n",
       "1                                               0   \n",
       "2                                               0   \n",
       "3                                               0   \n",
       "4                                               0   \n",
       "\n",
       "   Comments_Nest never observed with full clutch. Not enough blood for isotopes.  \\\n",
       "0                                                  0                               \n",
       "1                                                  0                               \n",
       "2                                                  0                               \n",
       "3                                                  0                               \n",
       "4                                                  0                               \n",
       "\n",
       "   Comments_No blood sample obtained for sexing.  \\\n",
       "0                                              0   \n",
       "1                                              0   \n",
       "2                                              0   \n",
       "3                                              0   \n",
       "4                                              0   \n",
       "\n",
       "   Comments_No blood sample obtained.  Comments_No comment  \\\n",
       "0                                   0                    0   \n",
       "1                                   0                    1   \n",
       "2                                   0                    1   \n",
       "3                                   0                    0   \n",
       "4                                   0                    1   \n",
       "\n",
       "   Comments_Not enough blood for isotopes.  \\\n",
       "0                                        1   \n",
       "1                                        0   \n",
       "2                                        0   \n",
       "3                                        0   \n",
       "4                                        0   \n",
       "\n",
       "   Comments_Sexing primers did not amplify. Not enough blood for isotopes.  \\\n",
       "0                                                  0                         \n",
       "1                                                  0                         \n",
       "2                                                  0                         \n",
       "3                                                  0                         \n",
       "4                                                  0                         \n",
       "\n",
       "   Sex_FEMALE  Sex_MALE  Sex_Unknown  \n",
       "0           0         1            0  \n",
       "1           1         0            0  \n",
       "2           1         0            0  \n",
       "3           0         0            1  \n",
       "4           1         0            0  \n",
       "\n",
       "[5 rows x 268 columns]"
      ]
     },
     "execution_count": 125,
     "metadata": {},
     "output_type": "execute_result"
    }
   ],
   "source": [
    "y = df['Species']\n",
    "x=df.loc[:, df.columns != 'Species']\n",
    "x = pd.get_dummies(x)\n",
    "x.head()"
   ]
  },
  {
   "cell_type": "code",
   "execution_count": 126,
   "metadata": {},
   "outputs": [
    {
     "data": {
      "text/html": [
       "<style>#sk-container-id-2 {color: black;background-color: white;}#sk-container-id-2 pre{padding: 0;}#sk-container-id-2 div.sk-toggleable {background-color: white;}#sk-container-id-2 label.sk-toggleable__label {cursor: pointer;display: block;width: 100%;margin-bottom: 0;padding: 0.3em;box-sizing: border-box;text-align: center;}#sk-container-id-2 label.sk-toggleable__label-arrow:before {content: \"▸\";float: left;margin-right: 0.25em;color: #696969;}#sk-container-id-2 label.sk-toggleable__label-arrow:hover:before {color: black;}#sk-container-id-2 div.sk-estimator:hover label.sk-toggleable__label-arrow:before {color: black;}#sk-container-id-2 div.sk-toggleable__content {max-height: 0;max-width: 0;overflow: hidden;text-align: left;background-color: #f0f8ff;}#sk-container-id-2 div.sk-toggleable__content pre {margin: 0.2em;color: black;border-radius: 0.25em;background-color: #f0f8ff;}#sk-container-id-2 input.sk-toggleable__control:checked~div.sk-toggleable__content {max-height: 200px;max-width: 100%;overflow: auto;}#sk-container-id-2 input.sk-toggleable__control:checked~label.sk-toggleable__label-arrow:before {content: \"▾\";}#sk-container-id-2 div.sk-estimator input.sk-toggleable__control:checked~label.sk-toggleable__label {background-color: #d4ebff;}#sk-container-id-2 div.sk-label input.sk-toggleable__control:checked~label.sk-toggleable__label {background-color: #d4ebff;}#sk-container-id-2 input.sk-hidden--visually {border: 0;clip: rect(1px 1px 1px 1px);clip: rect(1px, 1px, 1px, 1px);height: 1px;margin: -1px;overflow: hidden;padding: 0;position: absolute;width: 1px;}#sk-container-id-2 div.sk-estimator {font-family: monospace;background-color: #f0f8ff;border: 1px dotted black;border-radius: 0.25em;box-sizing: border-box;margin-bottom: 0.5em;}#sk-container-id-2 div.sk-estimator:hover {background-color: #d4ebff;}#sk-container-id-2 div.sk-parallel-item::after {content: \"\";width: 100%;border-bottom: 1px solid gray;flex-grow: 1;}#sk-container-id-2 div.sk-label:hover label.sk-toggleable__label {background-color: #d4ebff;}#sk-container-id-2 div.sk-serial::before {content: \"\";position: absolute;border-left: 1px solid gray;box-sizing: border-box;top: 0;bottom: 0;left: 50%;z-index: 0;}#sk-container-id-2 div.sk-serial {display: flex;flex-direction: column;align-items: center;background-color: white;padding-right: 0.2em;padding-left: 0.2em;position: relative;}#sk-container-id-2 div.sk-item {position: relative;z-index: 1;}#sk-container-id-2 div.sk-parallel {display: flex;align-items: stretch;justify-content: center;background-color: white;position: relative;}#sk-container-id-2 div.sk-item::before, #sk-container-id-2 div.sk-parallel-item::before {content: \"\";position: absolute;border-left: 1px solid gray;box-sizing: border-box;top: 0;bottom: 0;left: 50%;z-index: -1;}#sk-container-id-2 div.sk-parallel-item {display: flex;flex-direction: column;z-index: 1;position: relative;background-color: white;}#sk-container-id-2 div.sk-parallel-item:first-child::after {align-self: flex-end;width: 50%;}#sk-container-id-2 div.sk-parallel-item:last-child::after {align-self: flex-start;width: 50%;}#sk-container-id-2 div.sk-parallel-item:only-child::after {width: 0;}#sk-container-id-2 div.sk-dashed-wrapped {border: 1px dashed gray;margin: 0 0.4em 0.5em 0.4em;box-sizing: border-box;padding-bottom: 0.4em;background-color: white;}#sk-container-id-2 div.sk-label label {font-family: monospace;font-weight: bold;display: inline-block;line-height: 1.2em;}#sk-container-id-2 div.sk-label-container {text-align: center;}#sk-container-id-2 div.sk-container {/* jupyter's `normalize.less` sets `[hidden] { display: none; }` but bootstrap.min.css set `[hidden] { display: none !important; }` so we also need the `!important` here to be able to override the default hidden behavior on the sphinx rendered scikit-learn.org. See: https://github.com/scikit-learn/scikit-learn/issues/21755 */display: inline-block !important;position: relative;}#sk-container-id-2 div.sk-text-repr-fallback {display: none;}</style><div id=\"sk-container-id-2\" class=\"sk-top-container\"><div class=\"sk-text-repr-fallback\"><pre>KMeans(n_clusters=3)</pre><b>In a Jupyter environment, please rerun this cell to show the HTML representation or trust the notebook. <br />On GitHub, the HTML representation is unable to render, please try loading this page with nbviewer.org.</b></div><div class=\"sk-container\" hidden><div class=\"sk-item\"><div class=\"sk-estimator sk-toggleable\"><input class=\"sk-toggleable__control sk-hidden--visually\" id=\"sk-estimator-id-2\" type=\"checkbox\" checked><label for=\"sk-estimator-id-2\" class=\"sk-toggleable__label sk-toggleable__label-arrow\">KMeans</label><div class=\"sk-toggleable__content\"><pre>KMeans(n_clusters=3)</pre></div></div></div></div></div>"
      ],
      "text/plain": [
       "KMeans(n_clusters=3)"
      ]
     },
     "execution_count": 126,
     "metadata": {},
     "output_type": "execute_result"
    }
   ],
   "source": [
    "from sklearn.cluster import KMeans\n",
    "\n",
    "model = KMeans(n_clusters=3)\n",
    "model.fit(x)"
   ]
  },
  {
   "cell_type": "code",
   "execution_count": 129,
   "metadata": {},
   "outputs": [],
   "source": [
    "labels=model.predict(x)"
   ]
  },
  {
   "cell_type": "code",
   "execution_count": 130,
   "metadata": {},
   "outputs": [
    {
     "data": {
      "text/html": [
       "<div>\n",
       "<style scoped>\n",
       "    .dataframe tbody tr th:only-of-type {\n",
       "        vertical-align: middle;\n",
       "    }\n",
       "\n",
       "    .dataframe tbody tr th {\n",
       "        vertical-align: top;\n",
       "    }\n",
       "\n",
       "    .dataframe thead th {\n",
       "        text-align: right;\n",
       "    }\n",
       "</style>\n",
       "<table border=\"1\" class=\"dataframe\">\n",
       "  <thead>\n",
       "    <tr style=\"text-align: right;\">\n",
       "      <th>Species</th>\n",
       "      <th>Adelie Penguin (Pygoscelis adeliae)</th>\n",
       "      <th>Chinstrap penguin (Pygoscelis antarctica)</th>\n",
       "      <th>Gentoo penguin (Pygoscelis papua)</th>\n",
       "    </tr>\n",
       "    <tr>\n",
       "      <th>labels</th>\n",
       "      <th></th>\n",
       "      <th></th>\n",
       "      <th></th>\n",
       "    </tr>\n",
       "  </thead>\n",
       "  <tbody>\n",
       "    <tr>\n",
       "      <th>0</th>\n",
       "      <td>0</td>\n",
       "      <td>0</td>\n",
       "      <td>72</td>\n",
       "    </tr>\n",
       "    <tr>\n",
       "      <th>1</th>\n",
       "      <td>111</td>\n",
       "      <td>52</td>\n",
       "      <td>1</td>\n",
       "    </tr>\n",
       "    <tr>\n",
       "      <th>2</th>\n",
       "      <td>41</td>\n",
       "      <td>16</td>\n",
       "      <td>51</td>\n",
       "    </tr>\n",
       "  </tbody>\n",
       "</table>\n",
       "</div>"
      ],
      "text/plain": [
       "Species  Adelie Penguin (Pygoscelis adeliae)  \\\n",
       "labels                                         \n",
       "0                                          0   \n",
       "1                                        111   \n",
       "2                                         41   \n",
       "\n",
       "Species  Chinstrap penguin (Pygoscelis antarctica)  \\\n",
       "labels                                               \n",
       "0                                                0   \n",
       "1                                               52   \n",
       "2                                               16   \n",
       "\n",
       "Species  Gentoo penguin (Pygoscelis papua)  \n",
       "labels                                      \n",
       "0                                       72  \n",
       "1                                        1  \n",
       "2                                       51  "
      ]
     },
     "execution_count": 130,
     "metadata": {},
     "output_type": "execute_result"
    }
   ],
   "source": [
    "matrix = pd.DataFrame({'labels': labels, 'Species': y})\n",
    "ct = pd.crosstab(matrix['labels'], matrix['Species'])\n",
    "ct\n"
   ]
  }
 ],
 "metadata": {
  "kernelspec": {
   "display_name": "Python 3.10.4 64-bit",
   "language": "python",
   "name": "python3"
  },
  "language_info": {
   "codemirror_mode": {
    "name": "ipython",
    "version": 3
   },
   "file_extension": ".py",
   "mimetype": "text/x-python",
   "name": "python",
   "nbconvert_exporter": "python",
   "pygments_lexer": "ipython3",
   "version": "3.10.4"
  },
  "orig_nbformat": 4,
  "vscode": {
   "interpreter": {
    "hash": "916dbcbb3f70747c44a77c7bcd40155683ae19c65e1c03b4aa3499c5328201f1"
   }
  }
 },
 "nbformat": 4,
 "nbformat_minor": 2
}

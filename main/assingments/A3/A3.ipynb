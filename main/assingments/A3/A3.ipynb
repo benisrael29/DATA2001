{
 "cells": [
  {
   "cell_type": "markdown",
   "metadata": {},
   "source": [
    "# DATA2001 Assingment 3"
   ]
  },
  {
   "cell_type": "markdown",
   "metadata": {},
   "source": [
    "## Data Preparation"
   ]
  },
  {
   "cell_type": "code",
   "execution_count": null,
   "metadata": {},
   "outputs": [
    {
     "ename": "",
     "evalue": "",
     "output_type": "error",
     "traceback": [
      "\u001b[1;31mRunning cells with 'Python 3.8.5 64-bit' requires ipykernel package.\n",
      "\u001b[1;31mRun the following command to install 'ipykernel' into the Python environment. \n",
      "\u001b[1;31mCommand: '/Library/Frameworks/Python.framework/Versions/3.8/bin/python3 -m pip install ipykernel -U --user --force-reinstall'"
     ]
    }
   ],
   "source": [
    "import pandas as pd\n",
    "import numpy as np\n",
    "\n",
    "# Read the data\n",
    "df = pd.read_csv(\"amzn.us.csv\")\n",
    "df['Date'] = pd.to_datetime(df['Date'], format='%Y-%m-%d')\n",
    "\n",
    "# Display the first 5 rows\n",
    "df.head()"
   ]
  },
  {
   "cell_type": "code",
   "execution_count": null,
   "metadata": {},
   "outputs": [
    {
     "ename": "",
     "evalue": "",
     "output_type": "error",
     "traceback": [
      "\u001b[1;31mRunning cells with 'Python 3.8.5 64-bit' requires ipykernel package.\n",
      "\u001b[1;31mRun the following command to install 'ipykernel' into the Python environment. \n",
      "\u001b[1;31mCommand: '/Library/Frameworks/Python.framework/Versions/3.8/bin/python3 -m pip install ipykernel -U --user --force-reinstall'"
     ]
    }
   ],
   "source": [
    "print(type(df['Date'][2])) "
   ]
  },
  {
   "cell_type": "markdown",
   "metadata": {},
   "source": [
    "**Exogenous Data: VIX Index**\n",
    "\n",
    "\"Volatility Index, a popular measure of the stock market's expectation of volatility based on S&P 500 index options. It is calculated and disseminated on a real-time basis by the CBOE, and is often referred to as the fear index or fear gauge.\" Source: [Wikipedia](https://en.wikipedia.org/wiki/VIX)\n",
    "\n",
    "It is useful exogenous variable because it gives a broad sense of the state the world in relation to the market. It is highly correlated to news events that are expected to negativly effect markets. In this case it is presented as a 30-day expection of volatility given a weighted portfolio of european options on the S&P 500. Its sourced from  [Yahoo Finance](https://finance.yahoo.com/quote/%5EVIX?p=%5EVIX) for the relevant period. "
   ]
  },
  {
   "cell_type": "code",
   "execution_count": null,
   "metadata": {},
   "outputs": [
    {
     "ename": "",
     "evalue": "",
     "output_type": "error",
     "traceback": [
      "\u001b[1;31mRunning cells with 'Python 3.8.5 64-bit' requires ipykernel package.\n",
      "\u001b[1;31mRun the following command to install 'ipykernel' into the Python environment. \n",
      "\u001b[1;31mCommand: '/Library/Frameworks/Python.framework/Versions/3.8/bin/python3 -m pip install ipykernel -U --user --force-reinstall'"
     ]
    }
   ],
   "source": [
    "vix = pd.read_csv('VIX.csv')\n",
    "vix.head(5)"
   ]
  },
  {
   "cell_type": "code",
   "execution_count": null,
   "metadata": {},
   "outputs": [
    {
     "ename": "",
     "evalue": "",
     "output_type": "error",
     "traceback": [
      "\u001b[1;31mRunning cells with 'Python 3.8.5 64-bit' requires ipykernel package.\n",
      "\u001b[1;31mRun the following command to install 'ipykernel' into the Python environment. \n",
      "\u001b[1;31mCommand: '/Library/Frameworks/Python.framework/Versions/3.8/bin/python3 -m pip install ipykernel -U --user --force-reinstall'"
     ]
    }
   ],
   "source": [
    "#Dropping unneeded columns and keeping close for merge with amazon dataset\n",
    "vix=vix['Close']\n",
    "vix = vix.rename('VIXClose')\n",
    "df['VIX Close']= vix"
   ]
  },
  {
   "cell_type": "markdown",
   "metadata": {},
   "source": [
    "# Exploratory Analysis"
   ]
  },
  {
   "cell_type": "code",
   "execution_count": null,
   "metadata": {},
   "outputs": [
    {
     "ename": "",
     "evalue": "",
     "output_type": "error",
     "traceback": [
      "\u001b[1;31mRunning cells with 'Python 3.8.5 64-bit' requires ipykernel package.\n",
      "\u001b[1;31mRun the following command to install 'ipykernel' into the Python environment. \n",
      "\u001b[1;31mCommand: '/Library/Frameworks/Python.framework/Versions/3.8/bin/python3 -m pip install ipykernel -U --user --force-reinstall'"
     ]
    }
   ],
   "source": [
    "import seaborn as sns \n",
    "from datetime import datetime, date \n",
    "\n",
    "#plotting the data\n",
    "f, ax = plt.subplots(nrows=7, ncols=1, figsize=(15, 25))\n",
    "\n",
    "for i, column in enumerate(df.drop('Date', axis=1).columns):\n",
    "    sns.lineplot(x=df['Date'], y=df[column].fillna(method='ffill'), ax=ax[i], color='dodgerblue')\n",
    "    ax[i].set_title('{}'.format(column), fontsize=14)\n",
    "    ax[i].set_ylabel(ylabel=column, fontsize=14)\n",
    "    ax[i].set_xlabel('')\n",
    "                      \n",
    "    ax[i].set_xlim([date(1997, 5, 16), date(2017, 11, 9)])      "
   ]
  },
  {
   "cell_type": "markdown",
   "metadata": {},
   "source": [
    "Some comments on the patterns visible. "
   ]
  },
  {
   "cell_type": "markdown",
   "metadata": {},
   "source": [
    "# Decomposition "
   ]
  },
  {
   "cell_type": "code",
   "execution_count": null,
   "metadata": {},
   "outputs": [
    {
     "ename": "",
     "evalue": "",
     "output_type": "error",
     "traceback": [
      "\u001b[1;31mRunning cells with 'Python 3.8.5 64-bit' requires ipykernel package.\n",
      "\u001b[1;31mRun the following command to install 'ipykernel' into the Python environment. \n",
      "\u001b[1;31mCommand: '/Library/Frameworks/Python.framework/Versions/3.8/bin/python3 -m pip install ipykernel -U --user --force-reinstall'"
     ]
    }
   ],
   "source": [
    "# Split data into training and test sets\n",
    "train = df.iloc[:5081,:]\n",
    "test = df.iloc[5081:,:]"
   ]
  },
  {
   "cell_type": "markdown",
   "metadata": {},
   "source": [
    "### Isolating Trend"
   ]
  },
  {
   "cell_type": "code",
   "execution_count": null,
   "metadata": {},
   "outputs": [
    {
     "ename": "",
     "evalue": "",
     "output_type": "error",
     "traceback": [
      "\u001b[1;31mRunning cells with 'Python 3.8.5 64-bit' requires ipykernel package.\n",
      "\u001b[1;31mRun the following command to install 'ipykernel' into the Python environment. \n",
      "\u001b[1;31mCommand: '/Library/Frameworks/Python.framework/Versions/3.8/bin/python3 -m pip install ipykernel -U --user --force-reinstall'"
     ]
    }
   ],
   "source": [
    "# There are 5 observations per week\n",
    "train['MA-60'] = train['Volume'].rolling(60).mean()\n",
    "train['MA-120'] = train['Volume'].rolling(120).mean()\n",
    "\n",
    "train[['Volume','MA-60','MA-120']].plot(figsize=(24,6))"
   ]
  },
  {
   "cell_type": "markdown",
   "metadata": {},
   "source": [
    "The MA-120 appears to be too long. You can determine this by observings the effect big changes have on it and how it appears to 'lag' a little more then MA-60.\n"
   ]
  },
  {
   "cell_type": "markdown",
   "metadata": {},
   "source": [
    "### De-trending"
   ]
  },
  {
   "cell_type": "code",
   "execution_count": null,
   "metadata": {},
   "outputs": [
    {
     "ename": "",
     "evalue": "",
     "output_type": "error",
     "traceback": [
      "\u001b[1;31mRunning cells with 'Python 3.8.5 64-bit' requires ipykernel package.\n",
      "\u001b[1;31mRun the following command to install 'ipykernel' into the Python environment. \n",
      "\u001b[1;31mCommand: '/Library/Frameworks/Python.framework/Versions/3.8/bin/python3 -m pip install ipykernel -U --user --force-reinstall'"
     ]
    }
   ],
   "source": [
    "train['vol-detrended'] = train['Volume'] - train['MA-120']\n",
    "train['vol-detrended'].plot(figsize=(24,6))"
   ]
  },
  {
   "cell_type": "markdown",
   "metadata": {},
   "source": [
    "### Seasonality Component "
   ]
  },
  {
   "cell_type": "code",
   "execution_count": null,
   "metadata": {},
   "outputs": [
    {
     "ename": "",
     "evalue": "",
     "output_type": "error",
     "traceback": [
      "\u001b[1;31mRunning cells with 'Python 3.8.5 64-bit' requires ipykernel package.\n",
      "\u001b[1;31mRun the following command to install 'ipykernel' into the Python environment. \n",
      "\u001b[1;31mCommand: '/Library/Frameworks/Python.framework/Versions/3.8/bin/python3 -m pip install ipykernel -U --user --force-reinstall'"
     ]
    }
   ],
   "source": [
    "from statsmodels.tsa.seasonal import seasonal_decompose\n",
    "\n",
    "result = seasonal_decompose(train['Volume'], model='additive',period=10)\n",
    "\n",
    "train['vol-seasonal'] = result._seasonal\n",
    "result._seasonal[:100].plot()"
   ]
  },
  {
   "cell_type": "markdown",
   "metadata": {},
   "source": [
    "### Residual"
   ]
  },
  {
   "cell_type": "code",
   "execution_count": null,
   "metadata": {},
   "outputs": [
    {
     "ename": "",
     "evalue": "",
     "output_type": "error",
     "traceback": [
      "\u001b[1;31mRunning cells with 'Python 3.8.5 64-bit' requires ipykernel package.\n",
      "\u001b[1;31mRun the following command to install 'ipykernel' into the Python environment. \n",
      "\u001b[1;31mCommand: '/Library/Frameworks/Python.framework/Versions/3.8/bin/python3 -m pip install ipykernel -U --user --force-reinstall'"
     ]
    }
   ],
   "source": [
    "train['vol-residual'] = train['vol-detrended'] - train['vol-seasonal']\n",
    "train['vol-residual'].plot(figsize=(24,6))"
   ]
  },
  {
   "cell_type": "markdown",
   "metadata": {},
   "source": [
    "### Manual Decomposition Results\n"
   ]
  },
  {
   "cell_type": "code",
   "execution_count": null,
   "metadata": {},
   "outputs": [
    {
     "ename": "",
     "evalue": "",
     "output_type": "error",
     "traceback": [
      "\u001b[1;31mRunning cells with 'Python 3.8.5 64-bit' requires ipykernel package.\n",
      "\u001b[1;31mRun the following command to install 'ipykernel' into the Python environment. \n",
      "\u001b[1;31mCommand: '/Library/Frameworks/Python.framework/Versions/3.8/bin/python3 -m pip install ipykernel -U --user --force-reinstall'"
     ]
    }
   ],
   "source": [
    "import matplotlib.pyplot as plt\n",
    "fig, ax_str = plt.subplots(4)\n",
    "train['Volume'].plot(label='Original', ax=ax_str[0])\n",
    "train['MA-120'].plot(color='orange', label='MA-120 Trend', ax=ax_str[1])\n",
    "train['vol-seasonal'].plot(color='blue', label='Seasonal', ax=ax_str[2])\n",
    "train['vol-residual'].plot(color='green', label= 'Residual', ax=ax_str[3])\n",
    "fig.set_size_inches((16, 9))\n",
    "plt.legend()\n",
    "plt.show()"
   ]
  },
  {
   "cell_type": "markdown",
   "metadata": {},
   "source": [
    "### Automatic Decomposition  "
   ]
  },
  {
   "cell_type": "code",
   "execution_count": null,
   "metadata": {},
   "outputs": [
    {
     "ename": "",
     "evalue": "",
     "output_type": "error",
     "traceback": [
      "\u001b[1;31mRunning cells with 'Python 3.8.5 64-bit' requires ipykernel package.\n",
      "\u001b[1;31mRun the following command to install 'ipykernel' into the Python environment. \n",
      "\u001b[1;31mCommand: '/Library/Frameworks/Python.framework/Versions/3.8/bin/python3 -m pip install ipykernel -U --user --force-reinstall'"
     ]
    }
   ],
   "source": [
    "from statsmodels.tsa.seasonal import seasonal_decompose\n",
    "\n",
    "str_res = seasonal_decompose(train['Volume'],period = 30)\n",
    "fig = str_res.plot()\n",
    "fig.set_size_inches((16, 9))"
   ]
  },
  {
   "cell_type": "markdown",
   "metadata": {},
   "source": [
    "Some comments on the manual vs automatic. "
   ]
  },
  {
   "cell_type": "markdown",
   "metadata": {},
   "source": [
    "### Formate the data for models"
   ]
  },
  {
   "cell_type": "code",
   "execution_count": null,
   "metadata": {},
   "outputs": [
    {
     "ename": "",
     "evalue": "",
     "output_type": "error",
     "traceback": [
      "\u001b[1;31mRunning cells with 'Python 3.8.5 64-bit' requires ipykernel package.\n",
      "\u001b[1;31mRun the following command to install 'ipykernel' into the Python environment. \n",
      "\u001b[1;31mCommand: '/Library/Frameworks/Python.framework/Versions/3.8/bin/python3 -m pip install ipykernel -U --user --force-reinstall'"
     ]
    }
   ],
   "source": [
    "df.drop('OpenInt', axis=1) # OpenInt is a constant column\n",
    "\n",
    "#Overite the original dataframe with the automatic decomposition\n",
    "str_res = seasonal_decompose(df['Volume'],period = 30)\n",
    "\n",
    "data = str_res.observed.to_frame()\n",
    "data['seasonal'] = str_res.seasonal\n",
    "data['trend']=str_res.trend\n",
    "data['res']=str_res.resid\n",
    "data['obs']=str_res.observed\n",
    "\n",
    "train = data.iloc[:5081,:]\n",
    "test = data.iloc[5081:,:]"
   ]
  },
  {
   "cell_type": "markdown",
   "metadata": {},
   "source": [
    "# ARIMA Model"
   ]
  },
  {
   "cell_type": "markdown",
   "metadata": {},
   "source": [
    "### Stationarity?\n",
    "\n",
    "Data needs to be stationary for ARIMA to be accurate. This means that it is:\n",
    "- has a constant variance \n",
    "- patternless over time \n",
    "- roughly horizontal "
   ]
  },
  {
   "cell_type": "code",
   "execution_count": null,
   "metadata": {},
   "outputs": [
    {
     "ename": "",
     "evalue": "",
     "output_type": "error",
     "traceback": [
      "\u001b[1;31mRunning cells with 'Python 3.8.5 64-bit' requires ipykernel package.\n",
      "\u001b[1;31mRun the following command to install 'ipykernel' into the Python environment. \n",
      "\u001b[1;31mCommand: '/Library/Frameworks/Python.framework/Versions/3.8/bin/python3 -m pip install ipykernel -U --user --force-reinstall'"
     ]
    }
   ],
   "source": [
    "m_data =train['trend']\n",
    "m_data.plot(color='blue', figsize=(24,6))"
   ]
  },
  {
   "cell_type": "markdown",
   "metadata": {},
   "source": [
    "### Fit Model"
   ]
  },
  {
   "cell_type": "code",
   "execution_count": null,
   "metadata": {},
   "outputs": [
    {
     "ename": "",
     "evalue": "",
     "output_type": "error",
     "traceback": [
      "\u001b[1;31mRunning cells with 'Python 3.8.5 64-bit' requires ipykernel package.\n",
      "\u001b[1;31mRun the following command to install 'ipykernel' into the Python environment. \n",
      "\u001b[1;31mCommand: '/Library/Frameworks/Python.framework/Versions/3.8/bin/python3 -m pip install ipykernel -U --user --force-reinstall'"
     ]
    }
   ],
   "source": [
    "# Some tools \n",
    "\n",
    "from statsmodels.tsa.arima.model import ARIMA\n",
    "from statsmodels.graphics.tsaplots import plot_predict\n",
    "import statsmodels.api as sm"
   ]
  },
  {
   "cell_type": "markdown",
   "metadata": {},
   "source": [
    "#### Autocorrelations? "
   ]
  },
  {
   "cell_type": "code",
   "execution_count": null,
   "metadata": {},
   "outputs": [
    {
     "ename": "",
     "evalue": "",
     "output_type": "error",
     "traceback": [
      "\u001b[1;31mRunning cells with 'Python 3.8.5 64-bit' requires ipykernel package.\n",
      "\u001b[1;31mRun the following command to install 'ipykernel' into the Python environment. \n",
      "\u001b[1;31mCommand: '/Library/Frameworks/Python.framework/Versions/3.8/bin/python3 -m pip install ipykernel -U --user --force-reinstall'"
     ]
    }
   ],
   "source": [
    "m_data = m_data.dropna()\n",
    "fig = plt.figure(figsize=(12, 8))\n",
    "ax1 = fig.add_subplot(211)\n",
    "fig = sm.graphics.tsa.plot_acf(m_data, lags=30, ax=ax1)\n",
    "ax2 = fig.add_subplot(212)\n",
    "fig = sm.graphics.tsa.plot_pacf(m_data, lags=30, ax=ax2)"
   ]
  },
  {
   "cell_type": "markdown",
   "metadata": {},
   "source": [
    "### Fit Model"
   ]
  },
  {
   "cell_type": "code",
   "execution_count": null,
   "metadata": {},
   "outputs": [
    {
     "ename": "",
     "evalue": "",
     "output_type": "error",
     "traceback": [
      "\u001b[1;31mRunning cells with 'Python 3.8.5 64-bit' requires ipykernel package.\n",
      "\u001b[1;31mRun the following command to install 'ipykernel' into the Python environment. \n",
      "\u001b[1;31mCommand: '/Library/Frameworks/Python.framework/Versions/3.8/bin/python3 -m pip install ipykernel -U --user --force-reinstall'"
     ]
    }
   ],
   "source": [
    "arima_1_0_0 = ARIMA(train['trend'], order=(1, 0, 0)).fit()\n",
    "print(arima_1_0_0.summary())"
   ]
  },
  {
   "cell_type": "code",
   "execution_count": null,
   "metadata": {},
   "outputs": [
    {
     "ename": "",
     "evalue": "",
     "output_type": "error",
     "traceback": [
      "\u001b[1;31mRunning cells with 'Python 3.8.5 64-bit' requires ipykernel package.\n",
      "\u001b[1;31mRun the following command to install 'ipykernel' into the Python environment. \n",
      "\u001b[1;31mCommand: '/Library/Frameworks/Python.framework/Versions/3.8/bin/python3 -m pip install ipykernel -U --user --force-reinstall'"
     ]
    }
   ],
   "source": [
    "fig = plt.figure(figsize=(16, 9))\n",
    "fig = arima_1_0_0.plot_diagnostics(fig=fig, lags=8)"
   ]
  },
  {
   "cell_type": "code",
   "execution_count": null,
   "metadata": {},
   "outputs": [
    {
     "ename": "",
     "evalue": "",
     "output_type": "error",
     "traceback": [
      "\u001b[1;31mRunning cells with 'Python 3.8.5 64-bit' requires ipykernel package.\n",
      "\u001b[1;31mRun the following command to install 'ipykernel' into the Python environment. \n",
      "\u001b[1;31mCommand: '/Library/Frameworks/Python.framework/Versions/3.8/bin/python3 -m pip install ipykernel -U --user --force-reinstall'"
     ]
    }
   ],
   "source": [
    "arima_2_0_1 = ARIMA(train['trend'], order=(2, 0, 1)).fit()\n",
    "print(arima_2_0_1.summary())\n"
   ]
  },
  {
   "cell_type": "code",
   "execution_count": null,
   "metadata": {},
   "outputs": [
    {
     "ename": "",
     "evalue": "",
     "output_type": "error",
     "traceback": [
      "\u001b[1;31mRunning cells with 'Python 3.8.5 64-bit' requires ipykernel package.\n",
      "\u001b[1;31mRun the following command to install 'ipykernel' into the Python environment. \n",
      "\u001b[1;31mCommand: '/Library/Frameworks/Python.framework/Versions/3.8/bin/python3 -m pip install ipykernel -U --user --force-reinstall'"
     ]
    }
   ],
   "source": [
    "fig = plt.figure(figsize=(16, 9))\n",
    "fig = arima_2_0_1.plot_diagnostics(fig=fig, lags=8)"
   ]
  },
  {
   "cell_type": "markdown",
   "metadata": {},
   "source": [
    "Some comments about goodness of fit. "
   ]
  },
  {
   "cell_type": "markdown",
   "metadata": {},
   "source": [
    "### Forcast with ARIMA"
   ]
  },
  {
   "cell_type": "code",
   "execution_count": null,
   "metadata": {},
   "outputs": [
    {
     "ename": "",
     "evalue": "",
     "output_type": "error",
     "traceback": [
      "\u001b[1;31mRunning cells with 'Python 3.8.5 64-bit' requires ipykernel package.\n",
      "\u001b[1;31mRun the following command to install 'ipykernel' into the Python environment. \n",
      "\u001b[1;31mCommand: '/Library/Frameworks/Python.framework/Versions/3.8/bin/python3 -m pip install ipykernel -U --user --force-reinstall'"
     ]
    }
   ],
   "source": [
    "arima_fcst = arima_2_0_1.get_forecast(steps=11)\n",
    "arima_predictions = pd.DataFrame(arima_fcst.predicted_mean)\n",
    "arima_predictions.rename(columns={\"predicted_mean\": \"trend\"}, inplace=True)"
   ]
  },
  {
   "cell_type": "code",
   "execution_count": null,
   "metadata": {},
   "outputs": [
    {
     "ename": "",
     "evalue": "",
     "output_type": "error",
     "traceback": [
      "\u001b[1;31mRunning cells with 'Python 3.8.5 64-bit' requires ipykernel package.\n",
      "\u001b[1;31mRun the following command to install 'ipykernel' into the Python environment. \n",
      "\u001b[1;31mCommand: '/Library/Frameworks/Python.framework/Versions/3.8/bin/python3 -m pip install ipykernel -U --user --force-reinstall'"
     ]
    }
   ],
   "source": [
    "fig, ax_arima_fcst = plt.subplots(figsize=(24,6))\n",
    "train['trend'][5000:].plot(label='Original', ax=ax_arima_fcst)\n",
    "arima_predictions['trend'].plot(label=\"ARIMA(2,0,1) trend fcst\", ax=ax_arima_fcst)\n",
    "plt.legend()\n"
   ]
  },
  {
   "cell_type": "code",
   "execution_count": null,
   "metadata": {},
   "outputs": [
    {
     "ename": "",
     "evalue": "",
     "output_type": "error",
     "traceback": [
      "\u001b[1;31mRunning cells with 'Python 3.8.5 64-bit' requires ipykernel package.\n",
      "\u001b[1;31mRun the following command to install 'ipykernel' into the Python environment. \n",
      "\u001b[1;31mCommand: '/Library/Frameworks/Python.framework/Versions/3.8/bin/python3 -m pip install ipykernel -U --user --force-reinstall'"
     ]
    }
   ],
   "source": [
    "fig, ax_arima_fcst = plt.subplots(figsize=(24,6))\n",
    "train['trend'][5000:].plot(label='Original', ax=ax_arima_fcst)\n",
    "fig = plot_predict(arima_2_0_1, start = 5080, end= 5100, label='ARIMA(2,0,1) Forecast', ax=ax_arima_fcst)"
   ]
  },
  {
   "cell_type": "markdown",
   "metadata": {},
   "source": [
    "# Pure Forecaster"
   ]
  },
  {
   "cell_type": "markdown",
   "metadata": {},
   "source": [
    "A pure forcaster is one that is univariate ie the model takes time and volume exclusivly. This is in comparrison to univariate models which may consider exogenous variables. "
   ]
  },
  {
   "cell_type": "code",
<<<<<<< HEAD
   "execution_count": 761,
=======
   "execution_count": null,
>>>>>>> 4bd7be3 (Changes)
   "metadata": {},
   "outputs": [
    {
     "ename": "",
     "evalue": "",
     "output_type": "error",
     "traceback": [
      "\u001b[1;31mRunning cells with 'Python 3.8.5 64-bit' requires ipykernel package.\n",
      "\u001b[1;31mRun the following command to install 'ipykernel' into the Python environment. \n",
      "\u001b[1;31mCommand: '/Library/Frameworks/Python.framework/Versions/3.8/bin/python3 -m pip install ipykernel -U --user --force-reinstall'"
     ]
    }
   ],
   "source": [
<<<<<<< HEAD
    "#Create train set\n",
    "X_train = np.array(range(0,len(train)))\n",
    "y_train = train['Volume']\n",
=======
    "from sklearn.preprocessing import MinMaxScaler\n",
    "from keras.models import Sequential\n",
    "from keras.layers import Dense, LSTM, Dropout"
   ]
  },
  {
   "cell_type": "code",
   "execution_count": null,
   "metadata": {},
   "outputs": [
    {
     "ename": "",
     "evalue": "",
     "output_type": "error",
     "traceback": [
      "\u001b[1;31mRunning cells with 'Python 3.8.5 64-bit' requires ipykernel package.\n",
      "\u001b[1;31mRun the following command to install 'ipykernel' into the Python environment. \n",
      "\u001b[1;31mCommand: '/Library/Frameworks/Python.framework/Versions/3.8/bin/python3 -m pip install ipykernel -U --user --force-reinstall'"
     ]
    }
   ],
   "source": [
    "train"
   ]
  },
  {
   "cell_type": "code",
   "execution_count": null,
   "metadata": {},
   "outputs": [
    {
     "ename": "",
     "evalue": "",
     "output_type": "error",
     "traceback": [
      "\u001b[1;31mRunning cells with 'Python 3.8.5 64-bit' requires ipykernel package.\n",
      "\u001b[1;31mRun the following command to install 'ipykernel' into the Python environment. \n",
      "\u001b[1;31mCommand: '/Library/Frameworks/Python.framework/Versions/3.8/bin/python3 -m pip install ipykernel -U --user --force-reinstall'"
     ]
    }
   ],
   "source": [
    "scaler = MinMaxScaler(feature_range=(0, 1))\n",
    "train_scaled = scaler.fit_transform(train)\n",
    "test_scaled = scaler.fit_transform(test)\n"
   ]
  },
  {
   "cell_type": "code",
   "execution_count": null,
   "metadata": {},
   "outputs": [
    {
     "ename": "",
     "evalue": "",
     "output_type": "error",
     "traceback": [
      "\u001b[1;31mRunning cells with 'Python 3.8.5 64-bit' requires ipykernel package.\n",
      "\u001b[1;31mRun the following command to install 'ipykernel' into the Python environment. \n",
      "\u001b[1;31mCommand: '/Library/Frameworks/Python.framework/Versions/3.8/bin/python3 -m pip install ipykernel -U --user --force-reinstall'"
     ]
    }
   ],
   "source": [
    "#training data \n",
    "y_train = train_scaled[:, 0]\n",
    "X_train = train_scaled[:, 1:]\n",
>>>>>>> 4bd7be3 (Changes)
    "\n",
    "# Create test set\n",
    "X_test = np.array(range(len(train),len(train)+len(test)))\n",
    "y_test = test['Volume']"
   ]
  },
  {
   "cell_type": "code",
<<<<<<< HEAD
   "execution_count": 758,
=======
   "execution_count": null,
>>>>>>> 4bd7be3 (Changes)
   "metadata": {},
   "outputs": [
    {
     "ename": "",
     "evalue": "",
     "output_type": "error",
     "traceback": [
      "\u001b[1;31mRunning cells with 'Python 3.8.5 64-bit' requires ipykernel package.\n",
      "\u001b[1;31mRun the following command to install 'ipykernel' into the Python environment. \n",
      "\u001b[1;31mCommand: '/Library/Frameworks/Python.framework/Versions/3.8/bin/python3 -m pip install ipykernel -U --user --force-reinstall'"
     ]
    }
   ],
   "source": [
    "from tensorflow import keras"
   ]
  },
  {
   "cell_type": "code",
<<<<<<< HEAD
   "execution_count": 764,
   "metadata": {},
   "outputs": [],
   "source": [
    "# Create model that will forcast the trend\n",
    "def create_model(X_train):\n",
    "    model = keras.Sequential()\n",
    "    model.add(keras.layers.Dense(1, input_shape=(1,)))\n",
    "    model.add(keras.layers.Dense(1))\n",
    "    model.compile(optimizer='adam', loss='mse')\n",
    "    return model\n",
    "\n",
    "#train model\n",
    "model = create_model(X_train)\n",
    "\n"
   ]
  },
  {
   "cell_type": "code",
   "execution_count": 766,
   "metadata": {},
   "outputs": [
    {
     "name": "stdout",
     "output_type": "stream",
     "text": [
      "Epoch 1/100\n",
      "159/159 [==============================] - 0s 2ms/step - loss: 114634119970816.0000\n",
      "Epoch 2/100\n",
      "159/159 [==============================] - 0s 2ms/step - loss: 114502594985984.0000\n",
      "Epoch 3/100\n",
      "159/159 [==============================] - 0s 1ms/step - loss: 114369912373248.0000\n",
      "Epoch 4/100\n",
      "159/159 [==============================] - 0s 2ms/step - loss: 114236424454144.0000\n",
      "Epoch 5/100\n",
      "159/159 [==============================] - 0s 1ms/step - loss: 114101829238784.0000\n",
      "Epoch 6/100\n",
      "159/159 [==============================] - 0s 2ms/step - loss: 113966470660096.0000\n",
      "Epoch 7/100\n",
      "159/159 [==============================] - 0s 2ms/step - loss: 113829962842112.0000\n",
      "Epoch 8/100\n",
      "159/159 [==============================] - 0s 2ms/step - loss: 113692557443072.0000\n",
      "Epoch 9/100\n",
      "159/159 [==============================] - 0s 2ms/step - loss: 113554380292096.0000\n",
      "Epoch 10/100\n",
      "159/159 [==============================] - 0s 1ms/step - loss: 113415230062592.0000\n",
      "Epoch 11/100\n",
      "159/159 [==============================] - 0s 2ms/step - loss: 113275333246976.0000\n",
      "Epoch 12/100\n",
      "159/159 [==============================] - 0s 1ms/step - loss: 113134496907264.0000\n",
      "Epoch 13/100\n",
      "159/159 [==============================] - 0s 2ms/step - loss: 112992821706752.0000\n",
      "Epoch 14/100\n",
      "159/159 [==============================] - 0s 2ms/step - loss: 112850274091008.0000\n",
      "Epoch 15/100\n",
      "159/159 [==============================] - 0s 1ms/step - loss: 112706904391680.0000\n",
      "Epoch 16/100\n",
      "159/159 [==============================] - 0s 1ms/step - loss: 112562679054336.0000\n",
      "Epoch 17/100\n",
      "159/159 [==============================] - 0s 1ms/step - loss: 112417824571392.0000\n",
      "Epoch 18/100\n",
      "159/159 [==============================] - 0s 2ms/step - loss: 112272223502336.0000\n",
      "Epoch 19/100\n",
      "159/159 [==============================] - 0s 2ms/step - loss: 112125859069952.0000\n",
      "Epoch 20/100\n",
      "159/159 [==============================] - 0s 2ms/step - loss: 111978882269184.0000\n",
      "Epoch 21/100\n",
      "159/159 [==============================] - 0s 2ms/step - loss: 111831301488640.0000\n",
      "Epoch 22/100\n",
      "159/159 [==============================] - 0s 1ms/step - loss: 111682965733376.0000\n",
      "Epoch 23/100\n",
      "159/159 [==============================] - 0s 2ms/step - loss: 111533900169216.0000\n",
      "Epoch 24/100\n",
      "159/159 [==============================] - 0s 2ms/step - loss: 111384004132864.0000\n",
      "Epoch 25/100\n",
      "159/159 [==============================] - 0s 1ms/step - loss: 111233512505344.0000\n",
      "Epoch 26/100\n",
      "159/159 [==============================] - 0s 2ms/step - loss: 111082601447424.0000\n",
      "Epoch 27/100\n",
      "159/159 [==============================] - 0s 2ms/step - loss: 110930994135040.0000\n",
      "Epoch 28/100\n",
      "159/159 [==============================] - 0s 3ms/step - loss: 110778858340352.0000\n",
      "Epoch 29/100\n",
      "159/159 [==============================] - 0s 2ms/step - loss: 110626085011456.0000\n",
      "Epoch 30/100\n",
      "159/159 [==============================] - 0s 2ms/step - loss: 110472858697728.0000\n",
      "Epoch 31/100\n",
      "159/159 [==============================] - 0s 2ms/step - loss: 110319036792832.0000\n",
      "Epoch 32/100\n",
      "159/159 [==============================] - 0s 2ms/step - loss: 110164787068928.0000\n",
      "Epoch 33/100\n",
      "159/159 [==============================] - 0s 2ms/step - loss: 110010117914624.0000\n",
      "Epoch 34/100\n",
      "159/159 [==============================] - 0s 2ms/step - loss: 109854760894464.0000\n",
      "Epoch 35/100\n",
      "159/159 [==============================] - 0s 1ms/step - loss: 109699219324928.0000\n",
      "Epoch 36/100\n",
      "159/159 [==============================] - 0s 2ms/step - loss: 109543207993344.0000\n",
      "Epoch 37/100\n",
      "159/159 [==============================] - 0s 2ms/step - loss: 109386810785792.0000\n",
      "Epoch 38/100\n",
      "159/159 [==============================] - 0s 2ms/step - loss: 109229801209856.0000\n",
      "Epoch 39/100\n",
      "159/159 [==============================] - 0s 2ms/step - loss: 109072447700992.0000\n",
      "Epoch 40/100\n",
      "159/159 [==============================] - 0s 2ms/step - loss: 108914666373120.0000\n",
      "Epoch 41/100\n",
      "159/159 [==============================] - 0s 2ms/step - loss: 108756624998400.0000\n",
      "Epoch 42/100\n",
      "159/159 [==============================] - 0s 2ms/step - loss: 108598206136320.0000\n",
      "Epoch 43/100\n",
      "159/159 [==============================] - 0s 2ms/step - loss: 108439485284352.0000\n",
      "Epoch 44/100\n",
      "159/159 [==============================] - 0s 2ms/step - loss: 108280630214656.0000\n",
      "Epoch 45/100\n",
      "159/159 [==============================] - 0s 1ms/step - loss: 108121464766464.0000\n",
      "Epoch 46/100\n",
      "159/159 [==============================] - 0s 2ms/step - loss: 107961921830912.0000\n",
      "Epoch 47/100\n",
      "159/159 [==============================] - 0s 2ms/step - loss: 107802345340928.0000\n",
      "Epoch 48/100\n",
      "159/159 [==============================] - 0s 2ms/step - loss: 107642533969920.0000\n",
      "Epoch 49/100\n",
      "159/159 [==============================] - 0s 2ms/step - loss: 107482521272320.0000\n",
      "Epoch 50/100\n",
      "159/159 [==============================] - 0s 2ms/step - loss: 107322298859520.0000\n",
      "Epoch 51/100\n",
      "159/159 [==============================] - 0s 2ms/step - loss: 107162051280896.0000\n",
      "Epoch 52/100\n",
      "159/159 [==============================] - 0s 2ms/step - loss: 107001577209856.0000\n",
      "Epoch 53/100\n",
      "159/159 [==============================] - 0s 1ms/step - loss: 106840960532480.0000\n",
      "Epoch 54/100\n",
      "159/159 [==============================] - 0s 2ms/step - loss: 106680461295616.0000\n",
      "Epoch 55/100\n",
      "159/159 [==============================] - 0s 1ms/step - loss: 106519509073920.0000\n",
      "Epoch 56/100\n",
      "159/159 [==============================] - 0s 2ms/step - loss: 106358405857280.0000\n",
      "Epoch 57/100\n",
      "159/159 [==============================] - 0s 2ms/step - loss: 106197361360896.0000\n",
      "Epoch 58/100\n",
      "159/159 [==============================] - 0s 1ms/step - loss: 106036434305024.0000\n",
      "Epoch 59/100\n",
      "159/159 [==============================] - 0s 1ms/step - loss: 105875683409920.0000\n",
      "Epoch 60/100\n",
      "159/159 [==============================] - 0s 2ms/step - loss: 105715125452800.0000\n",
      "Epoch 61/100\n",
      "159/159 [==============================] - 0s 1ms/step - loss: 105554391334912.0000\n",
      "Epoch 62/100\n",
      "159/159 [==============================] - 0s 2ms/step - loss: 105393707548672.0000\n",
      "Epoch 63/100\n",
      "159/159 [==============================] - 0s 2ms/step - loss: 105233048928256.0000\n",
      "Epoch 64/100\n",
      "159/159 [==============================] - 0s 2ms/step - loss: 105072381919232.0000\n",
      "Epoch 65/100\n",
      "159/159 [==============================] - 0s 1ms/step - loss: 104911882682368.0000\n",
      "Epoch 66/100\n",
      "159/159 [==============================] - 0s 2ms/step - loss: 104751291170816.0000\n",
      "Epoch 67/100\n",
      "159/159 [==============================] - 0s 1ms/step - loss: 104590984871936.0000\n",
      "Epoch 68/100\n",
      "159/159 [==============================] - 0s 2ms/step - loss: 104431022505984.0000\n",
      "Epoch 69/100\n",
      "159/159 [==============================] - 0s 2ms/step - loss: 104271303409664.0000\n",
      "Epoch 70/100\n",
      "159/159 [==============================] - 0s 2ms/step - loss: 104111861137408.0000\n",
      "Epoch 71/100\n",
      "159/159 [==============================] - 0s 2ms/step - loss: 103952595025920.0000\n",
      "Epoch 72/100\n",
      "159/159 [==============================] - 0s 2ms/step - loss: 103793647681536.0000\n",
      "Epoch 73/100\n",
      "159/159 [==============================] - 0s 2ms/step - loss: 103634901663744.0000\n",
      "Epoch 74/100\n",
      "159/159 [==============================] - 0s 2ms/step - loss: 103476449247232.0000\n",
      "Epoch 75/100\n",
      "159/159 [==============================] - 0s 2ms/step - loss: 103318449815552.0000\n",
      "Epoch 76/100\n",
      "159/159 [==============================] - 0s 2ms/step - loss: 103160601378816.0000\n",
      "Epoch 77/100\n",
      "159/159 [==============================] - 0s 2ms/step - loss: 103003298201600.0000\n",
      "Epoch 78/100\n",
      "159/159 [==============================] - 0s 2ms/step - loss: 102846867439616.0000\n",
      "Epoch 79/100\n",
      "159/159 [==============================] - 0s 2ms/step - loss: 102690965159936.0000\n",
      "Epoch 80/100\n",
      "159/159 [==============================] - 0s 2ms/step - loss: 102535306149888.0000\n",
      "Epoch 81/100\n",
      "159/159 [==============================] - 0s 2ms/step - loss: 102379806523392.0000\n",
      "Epoch 82/100\n",
      "159/159 [==============================] - 0s 1ms/step - loss: 102224936042496.0000\n",
      "Epoch 83/100\n",
      "159/159 [==============================] - 0s 2ms/step - loss: 102070510157824.0000\n",
      "Epoch 84/100\n",
      "159/159 [==============================] - 0s 1ms/step - loss: 101916512092160.0000\n",
      "Epoch 85/100\n",
      "159/159 [==============================] - 0s 2ms/step - loss: 101763059286016.0000\n",
      "Epoch 86/100\n",
      "159/159 [==============================] - 0s 1ms/step - loss: 101610252402688.0000\n",
      "Epoch 87/100\n",
      "159/159 [==============================] - 0s 1ms/step - loss: 101458057887744.0000\n",
      "Epoch 88/100\n",
      "159/159 [==============================] - 0s 1ms/step - loss: 101306568015872.0000\n",
      "Epoch 89/100\n",
      "159/159 [==============================] - 0s 2ms/step - loss: 101155665346560.0000\n",
      "Epoch 90/100\n",
      "159/159 [==============================] - 0s 2ms/step - loss: 101005274382336.0000\n",
      "Epoch 91/100\n",
      "159/159 [==============================] - 0s 2ms/step - loss: 100855487397888.0000\n",
      "Epoch 92/100\n",
      "159/159 [==============================] - 0s 2ms/step - loss: 100706732212224.0000\n",
      "Epoch 93/100\n",
      "159/159 [==============================] - 0s 1ms/step - loss: 100558639726592.0000\n",
      "Epoch 94/100\n",
      "159/159 [==============================] - 0s 1ms/step - loss: 100411092500480.0000\n",
      "Epoch 95/100\n",
      "159/159 [==============================] - 0s 2ms/step - loss: 100264249917440.0000\n",
      "Epoch 96/100\n",
      "159/159 [==============================] - 0s 2ms/step - loss: 100118321692672.0000\n",
      "Epoch 97/100\n",
      "159/159 [==============================] - 0s 1ms/step - loss: 99973223940096.0000\n",
      "Epoch 98/100\n",
      "159/159 [==============================] - 0s 2ms/step - loss: 99828772110336.0000\n",
      "Epoch 99/100\n",
      "159/159 [==============================] - 0s 2ms/step - loss: 99685654069248.0000\n",
      "Epoch 100/100\n",
      "159/159 [==============================] - 0s 2ms/step - loss: 99543274225664.0000\n"
     ]
    }
   ],
   "source": [
    "history = model.fit(X_train, y_train, epochs=100, verbose=1)"
   ]
  },
  {
   "cell_type": "code",
   "execution_count": 778,
   "metadata": {},
   "outputs": [
    {
     "name": "stdout",
     "output_type": "stream",
     "text": [
      "3/3 [==============================] - 0s 2ms/step\n"
     ]
    },
    {
     "data": {
      "text/plain": [
       "numpy.ndarray"
      ]
     },
     "execution_count": 778,
     "metadata": {},
     "output_type": "execute_result"
=======
   "execution_count": null,
   "metadata": {},
   "outputs": [
    {
     "ename": "",
     "evalue": "",
     "output_type": "error",
     "traceback": [
      "\u001b[1;31mRunning cells with 'Python 3.8.5 64-bit' requires ipykernel package.\n",
      "\u001b[1;31mRun the following command to install 'ipykernel' into the Python environment. \n",
      "\u001b[1;31mCommand: '/Library/Frameworks/Python.framework/Versions/3.8/bin/python3 -m pip install ipykernel -U --user --force-reinstall'"
     ]
>>>>>>> 4bd7be3 (Changes)
    }
   ],
   "source": [
    "predictions = model.predict(X_test)\n",
    "result = [pd.Series(predictions[:,0], index=test.index), pd.Series(y_test, index=test.index)]\n",
    "data = pd.DataFrame\n"
   ]
  },
  {
   "cell_type": "code",
<<<<<<< HEAD
   "execution_count": 775,
   "metadata": {},
   "outputs": [
    {
     "ename": "KeyError",
     "evalue": "'Volume'",
     "output_type": "error",
     "traceback": [
      "\u001b[0;31m---------------------------------------------------------------------------\u001b[0m",
      "\u001b[0;31mKeyError\u001b[0m                                  Traceback (most recent call last)",
      "\u001b[1;32m/home/ben/Documents/d/University/DATA2001/DATA2001/main/assingments/A3/A3.ipynb Cell 53\u001b[0m in \u001b[0;36m<cell line: 8>\u001b[0;34m()\u001b[0m\n\u001b[1;32m      <a href='vscode-notebook-cell:/home/ben/Documents/d/University/DATA2001/DATA2001/main/assingments/A3/A3.ipynb#Y236sZmlsZQ%3D%3D?line=4'>5</a>\u001b[0m     plt\u001b[39m.\u001b[39mlegend()\n\u001b[1;32m      <a href='vscode-notebook-cell:/home/ben/Documents/d/University/DATA2001/DATA2001/main/assingments/A3/A3.ipynb#Y236sZmlsZQ%3D%3D?line=5'>6</a>\u001b[0m     plt\u001b[39m.\u001b[39mshow()\n\u001b[0;32m----> <a href='vscode-notebook-cell:/home/ben/Documents/d/University/DATA2001/DATA2001/main/assingments/A3/A3.ipynb#Y236sZmlsZQ%3D%3D?line=7'>8</a>\u001b[0m graph_predictions(y_test)\n",
      "\u001b[1;32m/home/ben/Documents/d/University/DATA2001/DATA2001/main/assingments/A3/A3.ipynb Cell 53\u001b[0m in \u001b[0;36mgraph_predictions\u001b[0;34m(y_test)\u001b[0m\n\u001b[1;32m      <a href='vscode-notebook-cell:/home/ben/Documents/d/University/DATA2001/DATA2001/main/assingments/A3/A3.ipynb#Y236sZmlsZQ%3D%3D?line=0'>1</a>\u001b[0m \u001b[39mdef\u001b[39;00m \u001b[39mgraph_predictions\u001b[39m(y_test):\n\u001b[1;32m      <a href='vscode-notebook-cell:/home/ben/Documents/d/University/DATA2001/DATA2001/main/assingments/A3/A3.ipynb#Y236sZmlsZQ%3D%3D?line=1'>2</a>\u001b[0m     fig, ax \u001b[39m=\u001b[39m plt\u001b[39m.\u001b[39msubplots(figsize\u001b[39m=\u001b[39m(\u001b[39m24\u001b[39m,\u001b[39m6\u001b[39m))\n\u001b[0;32m----> <a href='vscode-notebook-cell:/home/ben/Documents/d/University/DATA2001/DATA2001/main/assingments/A3/A3.ipynb#Y236sZmlsZQ%3D%3D?line=2'>3</a>\u001b[0m     y_test[\u001b[39m'\u001b[39;49m\u001b[39mVolume\u001b[39;49m\u001b[39m'\u001b[39;49m]\u001b[39m.\u001b[39mplot(label\u001b[39m=\u001b[39m\u001b[39m'\u001b[39m\u001b[39mOriginal\u001b[39m\u001b[39m'\u001b[39m, ax\u001b[39m=\u001b[39max)\n\u001b[1;32m      <a href='vscode-notebook-cell:/home/ben/Documents/d/University/DATA2001/DATA2001/main/assingments/A3/A3.ipynb#Y236sZmlsZQ%3D%3D?line=3'>4</a>\u001b[0m     y_test[\u001b[39m'\u001b[39m\u001b[39mpredictions\u001b[39m\u001b[39m'\u001b[39m]\u001b[39m.\u001b[39mplot(label\u001b[39m=\u001b[39m\u001b[39m'\u001b[39m\u001b[39mPredictions\u001b[39m\u001b[39m'\u001b[39m, ax\u001b[39m=\u001b[39max)\n\u001b[1;32m      <a href='vscode-notebook-cell:/home/ben/Documents/d/University/DATA2001/DATA2001/main/assingments/A3/A3.ipynb#Y236sZmlsZQ%3D%3D?line=4'>5</a>\u001b[0m     plt\u001b[39m.\u001b[39mlegend()\n",
      "File \u001b[0;32m~/.local/lib/python3.10/site-packages/pandas/core/series.py:958\u001b[0m, in \u001b[0;36mSeries.__getitem__\u001b[0;34m(self, key)\u001b[0m\n\u001b[1;32m    955\u001b[0m     \u001b[39mreturn\u001b[39;00m \u001b[39mself\u001b[39m\u001b[39m.\u001b[39m_values[key]\n\u001b[1;32m    957\u001b[0m \u001b[39melif\u001b[39;00m key_is_scalar:\n\u001b[0;32m--> 958\u001b[0m     \u001b[39mreturn\u001b[39;00m \u001b[39mself\u001b[39;49m\u001b[39m.\u001b[39;49m_get_value(key)\n\u001b[1;32m    960\u001b[0m \u001b[39mif\u001b[39;00m is_hashable(key):\n\u001b[1;32m    961\u001b[0m     \u001b[39m# Otherwise index.get_value will raise InvalidIndexError\u001b[39;00m\n\u001b[1;32m    962\u001b[0m     \u001b[39mtry\u001b[39;00m:\n\u001b[1;32m    963\u001b[0m         \u001b[39m# For labels that don't resolve as scalars like tuples and frozensets\u001b[39;00m\n",
      "File \u001b[0;32m~/.local/lib/python3.10/site-packages/pandas/core/series.py:1069\u001b[0m, in \u001b[0;36mSeries._get_value\u001b[0;34m(self, label, takeable)\u001b[0m\n\u001b[1;32m   1066\u001b[0m     \u001b[39mreturn\u001b[39;00m \u001b[39mself\u001b[39m\u001b[39m.\u001b[39m_values[label]\n\u001b[1;32m   1068\u001b[0m \u001b[39m# Similar to Index.get_value, but we do not fall back to positional\u001b[39;00m\n\u001b[0;32m-> 1069\u001b[0m loc \u001b[39m=\u001b[39m \u001b[39mself\u001b[39;49m\u001b[39m.\u001b[39;49mindex\u001b[39m.\u001b[39;49mget_loc(label)\n\u001b[1;32m   1070\u001b[0m \u001b[39mreturn\u001b[39;00m \u001b[39mself\u001b[39m\u001b[39m.\u001b[39mindex\u001b[39m.\u001b[39m_get_values_for_loc(\u001b[39mself\u001b[39m, loc, label)\n",
      "File \u001b[0;32m~/.local/lib/python3.10/site-packages/pandas/core/indexes/range.py:389\u001b[0m, in \u001b[0;36mRangeIndex.get_loc\u001b[0;34m(self, key, method, tolerance)\u001b[0m\n\u001b[1;32m    387\u001b[0m             \u001b[39mraise\u001b[39;00m \u001b[39mKeyError\u001b[39;00m(key) \u001b[39mfrom\u001b[39;00m \u001b[39merr\u001b[39;00m\n\u001b[1;32m    388\u001b[0m     \u001b[39mself\u001b[39m\u001b[39m.\u001b[39m_check_indexing_error(key)\n\u001b[0;32m--> 389\u001b[0m     \u001b[39mraise\u001b[39;00m \u001b[39mKeyError\u001b[39;00m(key)\n\u001b[1;32m    390\u001b[0m \u001b[39mreturn\u001b[39;00m \u001b[39msuper\u001b[39m()\u001b[39m.\u001b[39mget_loc(key, method\u001b[39m=\u001b[39mmethod, tolerance\u001b[39m=\u001b[39mtolerance)\n",
      "\u001b[0;31mKeyError\u001b[0m: 'Volume'"
     ]
    },
    {
     "data": {
      "image/png": "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",
      "text/plain": [
       "<Figure size 2400x600 with 1 Axes>"
      ]
     },
     "metadata": {},
     "output_type": "display_data"
=======
   "execution_count": null,
   "metadata": {},
   "outputs": [
    {
     "ename": "",
     "evalue": "",
     "output_type": "error",
     "traceback": [
      "\u001b[1;31mRunning cells with 'Python 3.8.5 64-bit' requires ipykernel package.\n",
      "\u001b[1;31mRun the following command to install 'ipykernel' into the Python environment. \n",
      "\u001b[1;31mCommand: '/Library/Frameworks/Python.framework/Versions/3.8/bin/python3 -m pip install ipykernel -U --user --force-reinstall'"
     ]
    }
   ],
   "source": [
    "# Predict\n",
    "y_pred = model.predict(X_test)"
   ]
  },
  {
   "cell_type": "code",
   "execution_count": null,
   "metadata": {},
   "outputs": [
    {
     "ename": "",
     "evalue": "",
     "output_type": "error",
     "traceback": [
      "\u001b[1;31mRunning cells with 'Python 3.8.5 64-bit' requires ipykernel package.\n",
      "\u001b[1;31mRun the following command to install 'ipykernel' into the Python environment. \n",
      "\u001b[1;31mCommand: '/Library/Frameworks/Python.framework/Versions/3.8/bin/python3 -m pip install ipykernel -U --user --force-reinstall'"
     ]
>>>>>>> 4bd7be3 (Changes)
    }
   ],
   "source": [
    "def graph_predictions(y_test):\n",
    "    fig, ax = plt.subplots(figsize=(24,6))\n",
    "    y_test['Volume'].plot(label='Original', ax=ax)\n",
    "    y_test['predictions'].plot(label='Predictions', ax=ax)\n",
    "    plt.legend()\n",
    "    plt.show()\n",
    "\n",
    "graph_predictions(y_test)"
   ]
  },
  {
   "cell_type": "code",
   "execution_count": null,
   "metadata": {},
   "outputs": [],
   "source": []
  }
 ],
 "metadata": {
  "kernelspec": {
   "display_name": "Python 3.8.5 64-bit",
   "language": "python",
   "name": "python3"
  },
  "language_info": {
   "codemirror_mode": {
    "name": "ipython",
    "version": 3
   },
   "file_extension": ".py",
   "mimetype": "text/x-python",
   "name": "python",
   "nbconvert_exporter": "python",
   "pygments_lexer": "ipython3",
   "version": "3.8.5"
  },
  "orig_nbformat": 4,
  "vscode": {
   "interpreter": {
    "hash": "082e9a3bcad0a290d0001e938aa60b99250c6c2ef33a923c00b70f9826caf4b7"
   }
  }
 },
 "nbformat": 4,
 "nbformat_minor": 2
}
